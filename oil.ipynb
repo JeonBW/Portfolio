{
 "cells": [
  {
   "cell_type": "code",
   "execution_count": null,
   "metadata": {},
   "outputs": [],
   "source": []
  },
  {
   "cell_type": "code",
   "execution_count": 1,
   "metadata": {},
   "outputs": [],
   "source": [
    "from selenium import webdriver"
   ]
  },
  {
   "cell_type": "code",
   "execution_count": 2,
   "metadata": {
    "scrolled": true
   },
   "outputs": [],
   "source": [
    "driver = webdriver.Chrome(\"C:/p/chromedriver\")\n",
    "driver.get(\"https://www.opinet.co.kr/searRgSelect.do\")"
   ]
  },
  {
   "cell_type": "code",
   "execution_count": 4,
   "metadata": {},
   "outputs": [
    {
     "data": {
      "text/plain": [
       "['서울특별시',\n",
       " '부산광역시',\n",
       " '대구광역시',\n",
       " '인천광역시',\n",
       " '광주광역시',\n",
       " '대전광역시',\n",
       " '울산광역시',\n",
       " '세종특별자치시',\n",
       " '경기도',\n",
       " '강원도',\n",
       " '충청북도',\n",
       " '충청남도',\n",
       " '전라북도',\n",
       " '전라남도',\n",
       " '경상북도',\n",
       " '경상남도',\n",
       " '제주특별자치도']"
      ]
     },
     "execution_count": 4,
     "metadata": {},
     "output_type": "execute_result"
    }
   ],
   "source": [
    "# 시 목록 가져오기 \n",
    "si_list_raw = driver.find_element_by_xpath(\"\"\"//*[@id=\"SIDO_NM0\"]\"\"\")\n",
    "si_list = si_list_raw.find_elements_by_tag_name(\"option\")   #여러개를  가져올때는 elements를 사용\n",
    "si_names = [option.get_attribute(\"value\") for option in si_list]\n",
    "si_names.remove(\"\") #공백은 삭제\n",
    "si_names"
   ]
  },
  {
   "cell_type": "code",
   "execution_count": 5,
   "metadata": {},
   "outputs": [],
   "source": [
    "elemnet = driver.find_element_by_id(\"SIDO_NM0\")\n",
    "elemnet.send_keys(si_names[0])"
   ]
  },
  {
   "cell_type": "code",
   "execution_count": 7,
   "metadata": {},
   "outputs": [
    {
     "data": {
      "text/plain": [
       "['강남구',\n",
       " '강동구',\n",
       " '강북구',\n",
       " '강서구',\n",
       " '관악구',\n",
       " '광진구',\n",
       " '구로구',\n",
       " '금천구',\n",
       " '노원구',\n",
       " '도봉구',\n",
       " '동대문구',\n",
       " '동작구',\n",
       " '마포구',\n",
       " '서대문구',\n",
       " '서초구',\n",
       " '성동구',\n",
       " '성북구',\n",
       " '송파구',\n",
       " '양천구',\n",
       " '영등포구',\n",
       " '용산구',\n",
       " '은평구',\n",
       " '종로구',\n",
       " '중구',\n",
       " '중랑구']"
      ]
     },
     "execution_count": 7,
     "metadata": {},
     "output_type": "execute_result"
    }
   ],
   "source": [
    "# 구 목록 가져오기\n",
    "gu_list_raw=driver.find_element_by_xpath(\"\"\"//*[@id=\"SIGUNGU_NM0\"]\"\"\")\n",
    "gu_list = gu_list_raw.find_elements_by_tag_name(\"option\")\n",
    "gu_names = [option.get_attribute(\"value\") for option in gu_list]\n",
    "gu_names.remove(\"\")\n",
    "gu_names"
   ]
  },
  {
   "cell_type": "code",
   "execution_count": 47,
   "metadata": {},
   "outputs": [],
   "source": [
    "elemnet = driver.find_element_by_id(\"SIGUNGU_NM0\")\n",
    "elemnet.send_keys(gu_names[2])"
   ]
  },
  {
   "cell_type": "code",
   "execution_count": null,
   "metadata": {},
   "outputs": [],
   "source": [
    "xp = \"\"\"//*[@id=\"searRgSelect\"]/span\"\"\"\n",
    "driver.find_element_by_xpath(xp).click()"
   ]
  },
  {
   "cell_type": "code",
   "execution_count": null,
   "metadata": {},
   "outputs": [],
   "source": [
    "xp = \"\"\"//*[@id=\"glopopd_excel\"]/span\"\"\"\n",
    "driver.find_element_by_xpath(xp).click()"
   ]
  },
  {
   "cell_type": "code",
   "execution_count": 8,
   "metadata": {
    "scrolled": true
   },
   "outputs": [
    {
     "name": "stderr",
     "output_type": "stream",
     "text": [
      "<ipython-input-8-248e7b420061>:4: TqdmDeprecationWarning: This function will be removed in tqdm==5.0.0\n",
      "Please use `tqdm.notebook.tqdm` instead of `tqdm.tqdm_notebook`\n",
      "  for gu in tqdm_notebook(gu_names):\n"
     ]
    },
    {
     "data": {
      "application/vnd.jupyter.widget-view+json": {
       "model_id": "fb9b7fa3a5954fee9df259691572bbd0",
       "version_major": 2,
       "version_minor": 0
      },
      "text/plain": [
       "HBox(children=(FloatProgress(value=0.0, max=25.0), HTML(value='')))"
      ]
     },
     "metadata": {},
     "output_type": "display_data"
    },
    {
     "name": "stdout",
     "output_type": "stream",
     "text": [
      "\n"
     ]
    },
    {
     "ename": "NoSuchWindowException",
     "evalue": "Message: no such window: target window already closed\nfrom unknown error: web view not found\n  (Session info: chrome=92.0.4515.131)\n",
     "output_type": "error",
     "traceback": [
      "\u001b[1;31m---------------------------------------------------------------------------\u001b[0m",
      "\u001b[1;31mNoSuchWindowException\u001b[0m                     Traceback (most recent call last)",
      "\u001b[1;32m<ipython-input-8-248e7b420061>\u001b[0m in \u001b[0;36m<module>\u001b[1;34m\u001b[0m\n\u001b[0;32m      9\u001b[0m \u001b[1;33m\u001b[0m\u001b[0m\n\u001b[0;32m     10\u001b[0m     \u001b[0mxp\u001b[0m \u001b[1;33m=\u001b[0m \u001b[1;34m\"\"\"//*[@id=\"searRgSelect\"]/span\"\"\"\u001b[0m\u001b[1;33m\u001b[0m\u001b[1;33m\u001b[0m\u001b[0m\n\u001b[1;32m---> 11\u001b[1;33m     \u001b[0mdriver\u001b[0m\u001b[1;33m.\u001b[0m\u001b[0mfind_element_by_xpath\u001b[0m\u001b[1;33m(\u001b[0m\u001b[0mxp\u001b[0m\u001b[1;33m)\u001b[0m\u001b[1;33m.\u001b[0m\u001b[0mclick\u001b[0m\u001b[1;33m(\u001b[0m\u001b[1;33m)\u001b[0m\u001b[1;33m\u001b[0m\u001b[1;33m\u001b[0m\u001b[0m\n\u001b[0m\u001b[0;32m     12\u001b[0m \u001b[1;33m\u001b[0m\u001b[0m\n\u001b[0;32m     13\u001b[0m     \u001b[0mtime\u001b[0m\u001b[1;33m.\u001b[0m\u001b[0msleep\u001b[0m\u001b[1;33m(\u001b[0m\u001b[1;36m1\u001b[0m\u001b[1;33m)\u001b[0m\u001b[1;33m\u001b[0m\u001b[1;33m\u001b[0m\u001b[0m\n",
      "\u001b[1;32m~\\anaconda3\\lib\\site-packages\\selenium\\webdriver\\remote\\webdriver.py\u001b[0m in \u001b[0;36mfind_element_by_xpath\u001b[1;34m(self, xpath)\u001b[0m\n\u001b[0;32m    392\u001b[0m             \u001b[0melement\u001b[0m \u001b[1;33m=\u001b[0m \u001b[0mdriver\u001b[0m\u001b[1;33m.\u001b[0m\u001b[0mfind_element_by_xpath\u001b[0m\u001b[1;33m(\u001b[0m\u001b[1;34m'//div/td[1]'\u001b[0m\u001b[1;33m)\u001b[0m\u001b[1;33m\u001b[0m\u001b[1;33m\u001b[0m\u001b[0m\n\u001b[0;32m    393\u001b[0m         \"\"\"\n\u001b[1;32m--> 394\u001b[1;33m         \u001b[1;32mreturn\u001b[0m \u001b[0mself\u001b[0m\u001b[1;33m.\u001b[0m\u001b[0mfind_element\u001b[0m\u001b[1;33m(\u001b[0m\u001b[0mby\u001b[0m\u001b[1;33m=\u001b[0m\u001b[0mBy\u001b[0m\u001b[1;33m.\u001b[0m\u001b[0mXPATH\u001b[0m\u001b[1;33m,\u001b[0m \u001b[0mvalue\u001b[0m\u001b[1;33m=\u001b[0m\u001b[0mxpath\u001b[0m\u001b[1;33m)\u001b[0m\u001b[1;33m\u001b[0m\u001b[1;33m\u001b[0m\u001b[0m\n\u001b[0m\u001b[0;32m    395\u001b[0m \u001b[1;33m\u001b[0m\u001b[0m\n\u001b[0;32m    396\u001b[0m     \u001b[1;32mdef\u001b[0m \u001b[0mfind_elements_by_xpath\u001b[0m\u001b[1;33m(\u001b[0m\u001b[0mself\u001b[0m\u001b[1;33m,\u001b[0m \u001b[0mxpath\u001b[0m\u001b[1;33m)\u001b[0m\u001b[1;33m:\u001b[0m\u001b[1;33m\u001b[0m\u001b[1;33m\u001b[0m\u001b[0m\n",
      "\u001b[1;32m~\\anaconda3\\lib\\site-packages\\selenium\\webdriver\\remote\\webdriver.py\u001b[0m in \u001b[0;36mfind_element\u001b[1;34m(self, by, value)\u001b[0m\n\u001b[0;32m    974\u001b[0m                 \u001b[0mby\u001b[0m \u001b[1;33m=\u001b[0m \u001b[0mBy\u001b[0m\u001b[1;33m.\u001b[0m\u001b[0mCSS_SELECTOR\u001b[0m\u001b[1;33m\u001b[0m\u001b[1;33m\u001b[0m\u001b[0m\n\u001b[0;32m    975\u001b[0m                 \u001b[0mvalue\u001b[0m \u001b[1;33m=\u001b[0m \u001b[1;34m'[name=\"%s\"]'\u001b[0m \u001b[1;33m%\u001b[0m \u001b[0mvalue\u001b[0m\u001b[1;33m\u001b[0m\u001b[1;33m\u001b[0m\u001b[0m\n\u001b[1;32m--> 976\u001b[1;33m         return self.execute(Command.FIND_ELEMENT, {\n\u001b[0m\u001b[0;32m    977\u001b[0m             \u001b[1;34m'using'\u001b[0m\u001b[1;33m:\u001b[0m \u001b[0mby\u001b[0m\u001b[1;33m,\u001b[0m\u001b[1;33m\u001b[0m\u001b[1;33m\u001b[0m\u001b[0m\n\u001b[0;32m    978\u001b[0m             'value': value})['value']\n",
      "\u001b[1;32m~\\anaconda3\\lib\\site-packages\\selenium\\webdriver\\remote\\webdriver.py\u001b[0m in \u001b[0;36mexecute\u001b[1;34m(self, driver_command, params)\u001b[0m\n\u001b[0;32m    319\u001b[0m         \u001b[0mresponse\u001b[0m \u001b[1;33m=\u001b[0m \u001b[0mself\u001b[0m\u001b[1;33m.\u001b[0m\u001b[0mcommand_executor\u001b[0m\u001b[1;33m.\u001b[0m\u001b[0mexecute\u001b[0m\u001b[1;33m(\u001b[0m\u001b[0mdriver_command\u001b[0m\u001b[1;33m,\u001b[0m \u001b[0mparams\u001b[0m\u001b[1;33m)\u001b[0m\u001b[1;33m\u001b[0m\u001b[1;33m\u001b[0m\u001b[0m\n\u001b[0;32m    320\u001b[0m         \u001b[1;32mif\u001b[0m \u001b[0mresponse\u001b[0m\u001b[1;33m:\u001b[0m\u001b[1;33m\u001b[0m\u001b[1;33m\u001b[0m\u001b[0m\n\u001b[1;32m--> 321\u001b[1;33m             \u001b[0mself\u001b[0m\u001b[1;33m.\u001b[0m\u001b[0merror_handler\u001b[0m\u001b[1;33m.\u001b[0m\u001b[0mcheck_response\u001b[0m\u001b[1;33m(\u001b[0m\u001b[0mresponse\u001b[0m\u001b[1;33m)\u001b[0m\u001b[1;33m\u001b[0m\u001b[1;33m\u001b[0m\u001b[0m\n\u001b[0m\u001b[0;32m    322\u001b[0m             response['value'] = self._unwrap_value(\n\u001b[0;32m    323\u001b[0m                 response.get('value', None))\n",
      "\u001b[1;32m~\\anaconda3\\lib\\site-packages\\selenium\\webdriver\\remote\\errorhandler.py\u001b[0m in \u001b[0;36mcheck_response\u001b[1;34m(self, response)\u001b[0m\n\u001b[0;32m    240\u001b[0m                 \u001b[0malert_text\u001b[0m \u001b[1;33m=\u001b[0m \u001b[0mvalue\u001b[0m\u001b[1;33m[\u001b[0m\u001b[1;34m'alert'\u001b[0m\u001b[1;33m]\u001b[0m\u001b[1;33m.\u001b[0m\u001b[0mget\u001b[0m\u001b[1;33m(\u001b[0m\u001b[1;34m'text'\u001b[0m\u001b[1;33m)\u001b[0m\u001b[1;33m\u001b[0m\u001b[1;33m\u001b[0m\u001b[0m\n\u001b[0;32m    241\u001b[0m             \u001b[1;32mraise\u001b[0m \u001b[0mexception_class\u001b[0m\u001b[1;33m(\u001b[0m\u001b[0mmessage\u001b[0m\u001b[1;33m,\u001b[0m \u001b[0mscreen\u001b[0m\u001b[1;33m,\u001b[0m \u001b[0mstacktrace\u001b[0m\u001b[1;33m,\u001b[0m \u001b[0malert_text\u001b[0m\u001b[1;33m)\u001b[0m\u001b[1;33m\u001b[0m\u001b[1;33m\u001b[0m\u001b[0m\n\u001b[1;32m--> 242\u001b[1;33m         \u001b[1;32mraise\u001b[0m \u001b[0mexception_class\u001b[0m\u001b[1;33m(\u001b[0m\u001b[0mmessage\u001b[0m\u001b[1;33m,\u001b[0m \u001b[0mscreen\u001b[0m\u001b[1;33m,\u001b[0m \u001b[0mstacktrace\u001b[0m\u001b[1;33m)\u001b[0m\u001b[1;33m\u001b[0m\u001b[1;33m\u001b[0m\u001b[0m\n\u001b[0m\u001b[0;32m    243\u001b[0m \u001b[1;33m\u001b[0m\u001b[0m\n\u001b[0;32m    244\u001b[0m     \u001b[1;32mdef\u001b[0m \u001b[0m_value_or_default\u001b[0m\u001b[1;33m(\u001b[0m\u001b[0mself\u001b[0m\u001b[1;33m,\u001b[0m \u001b[0mobj\u001b[0m\u001b[1;33m,\u001b[0m \u001b[0mkey\u001b[0m\u001b[1;33m,\u001b[0m \u001b[0mdefault\u001b[0m\u001b[1;33m)\u001b[0m\u001b[1;33m:\u001b[0m\u001b[1;33m\u001b[0m\u001b[1;33m\u001b[0m\u001b[0m\n",
      "\u001b[1;31mNoSuchWindowException\u001b[0m: Message: no such window: target window already closed\nfrom unknown error: web view not found\n  (Session info: chrome=92.0.4515.131)\n"
     ]
    }
   ],
   "source": [
    "from tqdm import tqdm_notebook\n",
    "import time\n",
    "\n",
    "for gu in tqdm_notebook(gu_names):\n",
    "    elemnet = driver.find_element_by_id(\"SIGUNGU_NM0\")\n",
    "    elemnet.send_keys(gu)\n",
    "    \n",
    "    time.sleep(1)\n",
    "    \n",
    "    xp = \"\"\"//*[@id=\"searRgSelect\"]/span\"\"\"\n",
    "    driver.find_element_by_xpath(xp).click()\n",
    "    \n",
    "    time.sleep(1)\n",
    "    \n",
    "    xp = \"\"\"//*[@id=\"glopopd_excel\"]/span\"\"\"\n",
    "    driver.find_element_by_xpath(xp).click()\n",
    "\n",
    "    time.sleep(1)"
   ]
  },
  {
   "cell_type": "code",
   "execution_count": 50,
   "metadata": {},
   "outputs": [],
   "source": [
    "elemnet = driver.find_element_by_id(\"SIDO_NM0\")\n",
    "elemnet.send_keys(si_names[1])"
   ]
  },
  {
   "cell_type": "code",
   "execution_count": 51,
   "metadata": {},
   "outputs": [
    {
     "name": "stderr",
     "output_type": "stream",
     "text": [
      "<ipython-input-51-39cbf66b6342>:6: TqdmDeprecationWarning: This function will be removed in tqdm==5.0.0\n",
      "Please use `tqdm.notebook.tqdm` instead of `tqdm.tqdm_notebook`\n",
      "  for gu in tqdm_notebook(gu_names):\n"
     ]
    },
    {
     "data": {
      "application/vnd.jupyter.widget-view+json": {
       "model_id": "b2d7a7874ff34cc2a623f39b7b79625e",
       "version_major": 2,
       "version_minor": 0
      },
      "text/plain": [
       "HBox(children=(FloatProgress(value=0.0, max=16.0), HTML(value='')))"
      ]
     },
     "metadata": {},
     "output_type": "display_data"
    },
    {
     "name": "stdout",
     "output_type": "stream",
     "text": [
      "\n"
     ]
    }
   ],
   "source": [
    "gu_list_raw=driver.find_element_by_xpath(\"\"\"//*[@id=\"SIGUNGU_NM0\"]\"\"\")\n",
    "gu_list = gu_list_raw.find_elements_by_tag_name(\"option\")\n",
    "gu_names = [option.get_attribute(\"value\") for option in gu_list]\n",
    "gu_names.remove(\"\")\n",
    "\n",
    "for gu in tqdm_notebook(gu_names):\n",
    "    elemnet = driver.find_element_by_id(\"SIGUNGU_NM0\")\n",
    "    elemnet.send_keys(gu)\n",
    "    \n",
    "    time.sleep(1)\n",
    "    \n",
    "    xp = \"\"\"//*[@id=\"searRgSelect\"]/span\"\"\"\n",
    "    driver.find_element_by_xpath(xp).click()\n",
    "    \n",
    "    time.sleep(1)\n",
    "    \n",
    "    xp = \"\"\"//*[@id=\"glopopd_excel\"]/span\"\"\"\n",
    "    driver.find_element_by_xpath(xp).click()\n",
    "\n",
    "    time.sleep(1)"
   ]
  },
  {
   "cell_type": "code",
   "execution_count": 55,
   "metadata": {},
   "outputs": [],
   "source": [
    "elemnet = driver.find_element_by_id(\"SIDO_NM0\")\n",
    "elemnet.send_keys(si_names[2])"
   ]
  },
  {
   "cell_type": "code",
   "execution_count": 56,
   "metadata": {},
   "outputs": [
    {
     "name": "stderr",
     "output_type": "stream",
     "text": [
      "<ipython-input-56-39cbf66b6342>:6: TqdmDeprecationWarning: This function will be removed in tqdm==5.0.0\n",
      "Please use `tqdm.notebook.tqdm` instead of `tqdm.tqdm_notebook`\n",
      "  for gu in tqdm_notebook(gu_names):\n"
     ]
    },
    {
     "data": {
      "application/vnd.jupyter.widget-view+json": {
       "model_id": "8209e75448b9445ba46f6110bbea8195",
       "version_major": 2,
       "version_minor": 0
      },
      "text/plain": [
       "HBox(children=(FloatProgress(value=0.0, max=8.0), HTML(value='')))"
      ]
     },
     "metadata": {},
     "output_type": "display_data"
    },
    {
     "name": "stdout",
     "output_type": "stream",
     "text": [
      "\n"
     ]
    }
   ],
   "source": [
    "gu_list_raw=driver.find_element_by_xpath(\"\"\"//*[@id=\"SIGUNGU_NM0\"]\"\"\")\n",
    "gu_list = gu_list_raw.find_elements_by_tag_name(\"option\")\n",
    "gu_names = [option.get_attribute(\"value\") for option in gu_list]\n",
    "gu_names.remove(\"\")\n",
    "\n",
    "for gu in tqdm_notebook(gu_names):\n",
    "    elemnet = driver.find_element_by_id(\"SIGUNGU_NM0\")\n",
    "    elemnet.send_keys(gu)\n",
    "    \n",
    "    time.sleep(1)\n",
    "    \n",
    "    xp = \"\"\"//*[@id=\"searRgSelect\"]/span\"\"\"\n",
    "    driver.find_element_by_xpath(xp).click()\n",
    "    \n",
    "    time.sleep(1)\n",
    "    \n",
    "    xp = \"\"\"//*[@id=\"glopopd_excel\"]/span\"\"\"\n",
    "    driver.find_element_by_xpath(xp).click()\n",
    "\n",
    "    time.sleep(1)"
   ]
  },
  {
   "cell_type": "code",
   "execution_count": 57,
   "metadata": {},
   "outputs": [],
   "source": [
    "elemnet = driver.find_element_by_id(\"SIDO_NM0\")\n",
    "elemnet.send_keys(si_names[3])"
   ]
  },
  {
   "cell_type": "code",
   "execution_count": 58,
   "metadata": {},
   "outputs": [
    {
     "name": "stderr",
     "output_type": "stream",
     "text": [
      "<ipython-input-58-39cbf66b6342>:6: TqdmDeprecationWarning: This function will be removed in tqdm==5.0.0\n",
      "Please use `tqdm.notebook.tqdm` instead of `tqdm.tqdm_notebook`\n",
      "  for gu in tqdm_notebook(gu_names):\n"
     ]
    },
    {
     "data": {
      "application/vnd.jupyter.widget-view+json": {
       "model_id": "64b8e66f2cf64d788b4cafe4adc09c64",
       "version_major": 2,
       "version_minor": 0
      },
      "text/plain": [
       "HBox(children=(FloatProgress(value=0.0, max=10.0), HTML(value='')))"
      ]
     },
     "metadata": {},
     "output_type": "display_data"
    },
    {
     "name": "stdout",
     "output_type": "stream",
     "text": [
      "\n"
     ]
    }
   ],
   "source": [
    "gu_list_raw=driver.find_element_by_xpath(\"\"\"//*[@id=\"SIGUNGU_NM0\"]\"\"\")\n",
    "gu_list = gu_list_raw.find_elements_by_tag_name(\"option\")\n",
    "gu_names = [option.get_attribute(\"value\") for option in gu_list]\n",
    "gu_names.remove(\"\")\n",
    "\n",
    "for gu in tqdm_notebook(gu_names):\n",
    "    elemnet = driver.find_element_by_id(\"SIGUNGU_NM0\")\n",
    "    elemnet.send_keys(gu)\n",
    "    \n",
    "    time.sleep(1)\n",
    "    \n",
    "    xp = \"\"\"//*[@id=\"searRgSelect\"]/span\"\"\"\n",
    "    driver.find_element_by_xpath(xp).click()\n",
    "    \n",
    "    time.sleep(1)\n",
    "    \n",
    "    xp = \"\"\"//*[@id=\"glopopd_excel\"]/span\"\"\"\n",
    "    driver.find_element_by_xpath(xp).click()\n",
    "\n",
    "    time.sleep(1)"
   ]
  },
  {
   "cell_type": "code",
   "execution_count": 59,
   "metadata": {},
   "outputs": [],
   "source": [
    "elemnet = driver.find_element_by_id(\"SIDO_NM0\")\n",
    "elemnet.send_keys(si_names[4])"
   ]
  },
  {
   "cell_type": "code",
   "execution_count": 60,
   "metadata": {},
   "outputs": [
    {
     "name": "stderr",
     "output_type": "stream",
     "text": [
      "<ipython-input-60-39cbf66b6342>:6: TqdmDeprecationWarning: This function will be removed in tqdm==5.0.0\n",
      "Please use `tqdm.notebook.tqdm` instead of `tqdm.tqdm_notebook`\n",
      "  for gu in tqdm_notebook(gu_names):\n"
     ]
    },
    {
     "data": {
      "application/vnd.jupyter.widget-view+json": {
       "model_id": "e534e5cb551042cfa8eb8f913dca030a",
       "version_major": 2,
       "version_minor": 0
      },
      "text/plain": [
       "HBox(children=(FloatProgress(value=0.0, max=5.0), HTML(value='')))"
      ]
     },
     "metadata": {},
     "output_type": "display_data"
    },
    {
     "name": "stdout",
     "output_type": "stream",
     "text": [
      "\n"
     ]
    }
   ],
   "source": [
    "gu_list_raw=driver.find_element_by_xpath(\"\"\"//*[@id=\"SIGUNGU_NM0\"]\"\"\")\n",
    "gu_list = gu_list_raw.find_elements_by_tag_name(\"option\")\n",
    "gu_names = [option.get_attribute(\"value\") for option in gu_list]\n",
    "gu_names.remove(\"\")\n",
    "\n",
    "for gu in tqdm_notebook(gu_names):\n",
    "    elemnet = driver.find_element_by_id(\"SIGUNGU_NM0\")\n",
    "    elemnet.send_keys(gu)\n",
    "    \n",
    "    time.sleep(1)\n",
    "    \n",
    "    xp = \"\"\"//*[@id=\"searRgSelect\"]/span\"\"\"\n",
    "    driver.find_element_by_xpath(xp).click()\n",
    "    \n",
    "    time.sleep(1)\n",
    "    \n",
    "    xp = \"\"\"//*[@id=\"glopopd_excel\"]/span\"\"\"\n",
    "    driver.find_element_by_xpath(xp).click()\n",
    "\n",
    "    time.sleep(1)"
   ]
  },
  {
   "cell_type": "code",
   "execution_count": 61,
   "metadata": {},
   "outputs": [],
   "source": [
    "elemnet = driver.find_element_by_id(\"SIDO_NM0\")\n",
    "elemnet.send_keys(si_names[5])"
   ]
  },
  {
   "cell_type": "code",
   "execution_count": 62,
   "metadata": {},
   "outputs": [
    {
     "name": "stderr",
     "output_type": "stream",
     "text": [
      "<ipython-input-62-39cbf66b6342>:6: TqdmDeprecationWarning: This function will be removed in tqdm==5.0.0\n",
      "Please use `tqdm.notebook.tqdm` instead of `tqdm.tqdm_notebook`\n",
      "  for gu in tqdm_notebook(gu_names):\n"
     ]
    },
    {
     "data": {
      "application/vnd.jupyter.widget-view+json": {
       "model_id": "81101cca157e4168a7b1943136a79819",
       "version_major": 2,
       "version_minor": 0
      },
      "text/plain": [
       "HBox(children=(FloatProgress(value=0.0, max=5.0), HTML(value='')))"
      ]
     },
     "metadata": {},
     "output_type": "display_data"
    },
    {
     "name": "stdout",
     "output_type": "stream",
     "text": [
      "\n"
     ]
    }
   ],
   "source": [
    "gu_list_raw=driver.find_element_by_xpath(\"\"\"//*[@id=\"SIGUNGU_NM0\"]\"\"\")\n",
    "gu_list = gu_list_raw.find_elements_by_tag_name(\"option\")\n",
    "gu_names = [option.get_attribute(\"value\") for option in gu_list]\n",
    "gu_names.remove(\"\")\n",
    "\n",
    "for gu in tqdm_notebook(gu_names):\n",
    "    elemnet = driver.find_element_by_id(\"SIGUNGU_NM0\")\n",
    "    elemnet.send_keys(gu)\n",
    "    \n",
    "    time.sleep(1)\n",
    "    \n",
    "    xp = \"\"\"//*[@id=\"searRgSelect\"]/span\"\"\"\n",
    "    driver.find_element_by_xpath(xp).click()\n",
    "    \n",
    "    time.sleep(1)\n",
    "    \n",
    "    xp = \"\"\"//*[@id=\"glopopd_excel\"]/span\"\"\"\n",
    "    driver.find_element_by_xpath(xp).click()\n",
    "\n",
    "    time.sleep(1)"
   ]
  },
  {
   "cell_type": "code",
   "execution_count": 63,
   "metadata": {},
   "outputs": [],
   "source": [
    "elemnet = driver.find_element_by_id(\"SIDO_NM0\")\n",
    "elemnet.send_keys(si_names[6])"
   ]
  },
  {
   "cell_type": "code",
   "execution_count": 64,
   "metadata": {},
   "outputs": [
    {
     "name": "stderr",
     "output_type": "stream",
     "text": [
      "<ipython-input-64-39cbf66b6342>:6: TqdmDeprecationWarning: This function will be removed in tqdm==5.0.0\n",
      "Please use `tqdm.notebook.tqdm` instead of `tqdm.tqdm_notebook`\n",
      "  for gu in tqdm_notebook(gu_names):\n"
     ]
    },
    {
     "data": {
      "application/vnd.jupyter.widget-view+json": {
       "model_id": "4827b7aaa42141428d31fdf2dbe4b45f",
       "version_major": 2,
       "version_minor": 0
      },
      "text/plain": [
       "HBox(children=(FloatProgress(value=0.0, max=5.0), HTML(value='')))"
      ]
     },
     "metadata": {},
     "output_type": "display_data"
    },
    {
     "name": "stdout",
     "output_type": "stream",
     "text": [
      "\n"
     ]
    }
   ],
   "source": [
    "gu_list_raw=driver.find_element_by_xpath(\"\"\"//*[@id=\"SIGUNGU_NM0\"]\"\"\")\n",
    "gu_list = gu_list_raw.find_elements_by_tag_name(\"option\")\n",
    "gu_names = [option.get_attribute(\"value\") for option in gu_list]\n",
    "gu_names.remove(\"\")\n",
    "\n",
    "for gu in tqdm_notebook(gu_names):\n",
    "    elemnet = driver.find_element_by_id(\"SIGUNGU_NM0\")\n",
    "    elemnet.send_keys(gu)\n",
    "    \n",
    "    time.sleep(1)\n",
    "    \n",
    "    xp = \"\"\"//*[@id=\"searRgSelect\"]/span\"\"\"\n",
    "    driver.find_element_by_xpath(xp).click()\n",
    "    \n",
    "    time.sleep(1)\n",
    "    \n",
    "    xp = \"\"\"//*[@id=\"glopopd_excel\"]/span\"\"\"\n",
    "    driver.find_element_by_xpath(xp).click()\n",
    "\n",
    "    time.sleep(1)"
   ]
  },
  {
   "cell_type": "code",
   "execution_count": 65,
   "metadata": {},
   "outputs": [],
   "source": [
    "elemnet = driver.find_element_by_id(\"SIDO_NM0\")\n",
    "elemnet.send_keys(si_names[7])"
   ]
  },
  {
   "cell_type": "code",
   "execution_count": 66,
   "metadata": {},
   "outputs": [
    {
     "name": "stderr",
     "output_type": "stream",
     "text": [
      "<ipython-input-66-39cbf66b6342>:6: TqdmDeprecationWarning: This function will be removed in tqdm==5.0.0\n",
      "Please use `tqdm.notebook.tqdm` instead of `tqdm.tqdm_notebook`\n",
      "  for gu in tqdm_notebook(gu_names):\n"
     ]
    },
    {
     "data": {
      "application/vnd.jupyter.widget-view+json": {
       "model_id": "ef49247aca8f4ee88727d339188a58fa",
       "version_major": 2,
       "version_minor": 0
      },
      "text/plain": [
       "HBox(children=(FloatProgress(value=0.0, max=1.0), HTML(value='')))"
      ]
     },
     "metadata": {},
     "output_type": "display_data"
    },
    {
     "name": "stdout",
     "output_type": "stream",
     "text": [
      "\n"
     ]
    }
   ],
   "source": [
    "gu_list_raw=driver.find_element_by_xpath(\"\"\"//*[@id=\"SIGUNGU_NM0\"]\"\"\")\n",
    "gu_list = gu_list_raw.find_elements_by_tag_name(\"option\")\n",
    "gu_names = [option.get_attribute(\"value\") for option in gu_list]\n",
    "gu_names.remove(\"\")\n",
    "\n",
    "for gu in tqdm_notebook(gu_names):\n",
    "    elemnet = driver.find_element_by_id(\"SIGUNGU_NM0\")\n",
    "    elemnet.send_keys(gu)\n",
    "    \n",
    "    time.sleep(1)\n",
    "    \n",
    "    xp = \"\"\"//*[@id=\"searRgSelect\"]/span\"\"\"\n",
    "    driver.find_element_by_xpath(xp).click()\n",
    "    \n",
    "    time.sleep(1)\n",
    "    \n",
    "    xp = \"\"\"//*[@id=\"glopopd_excel\"]/span\"\"\"\n",
    "    driver.find_element_by_xpath(xp).click()\n",
    "\n",
    "    time.sleep(1)"
   ]
  },
  {
   "cell_type": "code",
   "execution_count": 67,
   "metadata": {},
   "outputs": [],
   "source": [
    "elemnet = driver.find_element_by_id(\"SIDO_NM0\")\n",
    "elemnet.send_keys(si_names[8])"
   ]
  },
  {
   "cell_type": "code",
   "execution_count": 68,
   "metadata": {
    "scrolled": true
   },
   "outputs": [
    {
     "name": "stderr",
     "output_type": "stream",
     "text": [
      "<ipython-input-68-39cbf66b6342>:6: TqdmDeprecationWarning: This function will be removed in tqdm==5.0.0\n",
      "Please use `tqdm.notebook.tqdm` instead of `tqdm.tqdm_notebook`\n",
      "  for gu in tqdm_notebook(gu_names):\n"
     ]
    },
    {
     "data": {
      "application/vnd.jupyter.widget-view+json": {
       "model_id": "d5867a0434304f498f0b957a8b926178",
       "version_major": 2,
       "version_minor": 0
      },
      "text/plain": [
       "HBox(children=(FloatProgress(value=0.0, max=48.0), HTML(value='')))"
      ]
     },
     "metadata": {},
     "output_type": "display_data"
    },
    {
     "name": "stdout",
     "output_type": "stream",
     "text": [
      "\n"
     ]
    }
   ],
   "source": [
    "gu_list_raw=driver.find_element_by_xpath(\"\"\"//*[@id=\"SIGUNGU_NM0\"]\"\"\")\n",
    "gu_list = gu_list_raw.find_elements_by_tag_name(\"option\")\n",
    "gu_names = [option.get_attribute(\"value\") for option in gu_list]\n",
    "gu_names.remove(\"\")\n",
    "\n",
    "for gu in tqdm_notebook(gu_names):\n",
    "    elemnet = driver.find_element_by_id(\"SIGUNGU_NM0\")\n",
    "    elemnet.send_keys(gu)\n",
    "    \n",
    "    time.sleep(1)\n",
    "    \n",
    "    xp = \"\"\"//*[@id=\"searRgSelect\"]/span\"\"\"\n",
    "    driver.find_element_by_xpath(xp).click()\n",
    "    \n",
    "    time.sleep(1)\n",
    "    \n",
    "    xp = \"\"\"//*[@id=\"glopopd_excel\"]/span\"\"\"\n",
    "    driver.find_element_by_xpath(xp).click()\n",
    "\n",
    "    time.sleep(1)"
   ]
  },
  {
   "cell_type": "code",
   "execution_count": 69,
   "metadata": {},
   "outputs": [],
   "source": [
    "elemnet = driver.find_element_by_id(\"SIDO_NM0\")\n",
    "elemnet.send_keys(si_names[9])"
   ]
  },
  {
   "cell_type": "code",
   "execution_count": 70,
   "metadata": {},
   "outputs": [
    {
     "name": "stderr",
     "output_type": "stream",
     "text": [
      "<ipython-input-70-39cbf66b6342>:6: TqdmDeprecationWarning: This function will be removed in tqdm==5.0.0\n",
      "Please use `tqdm.notebook.tqdm` instead of `tqdm.tqdm_notebook`\n",
      "  for gu in tqdm_notebook(gu_names):\n"
     ]
    },
    {
     "data": {
      "application/vnd.jupyter.widget-view+json": {
       "model_id": "10505c97473d406db85fa160de7e9259",
       "version_major": 2,
       "version_minor": 0
      },
      "text/plain": [
       "HBox(children=(FloatProgress(value=0.0, max=18.0), HTML(value='')))"
      ]
     },
     "metadata": {},
     "output_type": "display_data"
    },
    {
     "name": "stdout",
     "output_type": "stream",
     "text": [
      "\n"
     ]
    }
   ],
   "source": [
    "gu_list_raw=driver.find_element_by_xpath(\"\"\"//*[@id=\"SIGUNGU_NM0\"]\"\"\")\n",
    "gu_list = gu_list_raw.find_elements_by_tag_name(\"option\")\n",
    "gu_names = [option.get_attribute(\"value\") for option in gu_list]\n",
    "gu_names.remove(\"\")\n",
    "\n",
    "for gu in tqdm_notebook(gu_names):\n",
    "    elemnet = driver.find_element_by_id(\"SIGUNGU_NM0\")\n",
    "    elemnet.send_keys(gu)\n",
    "    \n",
    "    time.sleep(1)\n",
    "    \n",
    "    xp = \"\"\"//*[@id=\"searRgSelect\"]/span\"\"\"\n",
    "    driver.find_element_by_xpath(xp).click()\n",
    "    \n",
    "    time.sleep(1)\n",
    "    \n",
    "    xp = \"\"\"//*[@id=\"glopopd_excel\"]/span\"\"\"\n",
    "    driver.find_element_by_xpath(xp).click()\n",
    "\n",
    "    time.sleep(1)"
   ]
  },
  {
   "cell_type": "code",
   "execution_count": 75,
   "metadata": {},
   "outputs": [],
   "source": [
    "elemnet = driver.find_element_by_id(\"SIDO_NM0\")\n",
    "elemnet.send_keys(si_names[10])"
   ]
  },
  {
   "cell_type": "code",
   "execution_count": 76,
   "metadata": {},
   "outputs": [
    {
     "name": "stderr",
     "output_type": "stream",
     "text": [
      "<ipython-input-76-39cbf66b6342>:6: TqdmDeprecationWarning: This function will be removed in tqdm==5.0.0\n",
      "Please use `tqdm.notebook.tqdm` instead of `tqdm.tqdm_notebook`\n",
      "  for gu in tqdm_notebook(gu_names):\n"
     ]
    },
    {
     "data": {
      "application/vnd.jupyter.widget-view+json": {
       "model_id": "a3fba57b2a8841be88089fe18849071b",
       "version_major": 2,
       "version_minor": 0
      },
      "text/plain": [
       "HBox(children=(FloatProgress(value=0.0, max=15.0), HTML(value='')))"
      ]
     },
     "metadata": {},
     "output_type": "display_data"
    },
    {
     "name": "stdout",
     "output_type": "stream",
     "text": [
      "\n"
     ]
    }
   ],
   "source": [
    "gu_list_raw=driver.find_element_by_xpath(\"\"\"//*[@id=\"SIGUNGU_NM0\"]\"\"\")\n",
    "gu_list = gu_list_raw.find_elements_by_tag_name(\"option\")\n",
    "gu_names = [option.get_attribute(\"value\") for option in gu_list]\n",
    "gu_names.remove(\"\")\n",
    "\n",
    "for gu in tqdm_notebook(gu_names):\n",
    "    elemnet = driver.find_element_by_id(\"SIGUNGU_NM0\")\n",
    "    elemnet.send_keys(gu)\n",
    "    \n",
    "    time.sleep(1)\n",
    "    \n",
    "    xp = \"\"\"//*[@id=\"searRgSelect\"]/span\"\"\"\n",
    "    driver.find_element_by_xpath(xp).click()\n",
    "    \n",
    "    time.sleep(1)\n",
    "    \n",
    "    xp = \"\"\"//*[@id=\"glopopd_excel\"]/span\"\"\"\n",
    "    driver.find_element_by_xpath(xp).click()\n",
    "\n",
    "    time.sleep(1)"
   ]
  },
  {
   "cell_type": "code",
   "execution_count": 77,
   "metadata": {},
   "outputs": [],
   "source": [
    "elemnet = driver.find_element_by_id(\"SIDO_NM0\")\n",
    "elemnet.send_keys(si_names[11])"
   ]
  },
  {
   "cell_type": "code",
   "execution_count": 78,
   "metadata": {},
   "outputs": [
    {
     "name": "stderr",
     "output_type": "stream",
     "text": [
      "<ipython-input-78-39cbf66b6342>:6: TqdmDeprecationWarning: This function will be removed in tqdm==5.0.0\n",
      "Please use `tqdm.notebook.tqdm` instead of `tqdm.tqdm_notebook`\n",
      "  for gu in tqdm_notebook(gu_names):\n"
     ]
    },
    {
     "data": {
      "application/vnd.jupyter.widget-view+json": {
       "model_id": "05ed39dbd6844862bacfb735b5ef1bbd",
       "version_major": 2,
       "version_minor": 0
      },
      "text/plain": [
       "HBox(children=(FloatProgress(value=0.0, max=17.0), HTML(value='')))"
      ]
     },
     "metadata": {},
     "output_type": "display_data"
    },
    {
     "name": "stdout",
     "output_type": "stream",
     "text": [
      "\n"
     ]
    }
   ],
   "source": [
    "gu_list_raw=driver.find_element_by_xpath(\"\"\"//*[@id=\"SIGUNGU_NM0\"]\"\"\")\n",
    "gu_list = gu_list_raw.find_elements_by_tag_name(\"option\")\n",
    "gu_names = [option.get_attribute(\"value\") for option in gu_list]\n",
    "gu_names.remove(\"\")\n",
    "\n",
    "for gu in tqdm_notebook(gu_names):\n",
    "    elemnet = driver.find_element_by_id(\"SIGUNGU_NM0\")\n",
    "    elemnet.send_keys(gu)\n",
    "    \n",
    "    time.sleep(1)\n",
    "    \n",
    "    xp = \"\"\"//*[@id=\"searRgSelect\"]/span\"\"\"\n",
    "    driver.find_element_by_xpath(xp).click()\n",
    "    \n",
    "    time.sleep(1)\n",
    "    \n",
    "    xp = \"\"\"//*[@id=\"glopopd_excel\"]/span\"\"\"\n",
    "    driver.find_element_by_xpath(xp).click()\n",
    "\n",
    "    time.sleep(1)"
   ]
  },
  {
   "cell_type": "code",
   "execution_count": 79,
   "metadata": {},
   "outputs": [],
   "source": [
    "elemnet = driver.find_element_by_id(\"SIDO_NM0\")\n",
    "elemnet.send_keys(si_names[12])"
   ]
  },
  {
   "cell_type": "code",
   "execution_count": 80,
   "metadata": {},
   "outputs": [
    {
     "name": "stderr",
     "output_type": "stream",
     "text": [
      "<ipython-input-80-39cbf66b6342>:6: TqdmDeprecationWarning: This function will be removed in tqdm==5.0.0\n",
      "Please use `tqdm.notebook.tqdm` instead of `tqdm.tqdm_notebook`\n",
      "  for gu in tqdm_notebook(gu_names):\n"
     ]
    },
    {
     "data": {
      "application/vnd.jupyter.widget-view+json": {
       "model_id": "d351f3ebddff4ea6a7a8147b8d39d82a",
       "version_major": 2,
       "version_minor": 0
      },
      "text/plain": [
       "HBox(children=(FloatProgress(value=0.0, max=16.0), HTML(value='')))"
      ]
     },
     "metadata": {},
     "output_type": "display_data"
    },
    {
     "name": "stdout",
     "output_type": "stream",
     "text": [
      "\n"
     ]
    }
   ],
   "source": [
    "gu_list_raw=driver.find_element_by_xpath(\"\"\"//*[@id=\"SIGUNGU_NM0\"]\"\"\")\n",
    "gu_list = gu_list_raw.find_elements_by_tag_name(\"option\")\n",
    "gu_names = [option.get_attribute(\"value\") for option in gu_list]\n",
    "gu_names.remove(\"\")\n",
    "\n",
    "for gu in tqdm_notebook(gu_names):\n",
    "    elemnet = driver.find_element_by_id(\"SIGUNGU_NM0\")\n",
    "    elemnet.send_keys(gu)\n",
    "    \n",
    "    time.sleep(1)\n",
    "    \n",
    "    xp = \"\"\"//*[@id=\"searRgSelect\"]/span\"\"\"\n",
    "    driver.find_element_by_xpath(xp).click()\n",
    "    \n",
    "    time.sleep(1)\n",
    "    \n",
    "    xp = \"\"\"//*[@id=\"glopopd_excel\"]/span\"\"\"\n",
    "    driver.find_element_by_xpath(xp).click()\n",
    "\n",
    "    time.sleep(1)"
   ]
  },
  {
   "cell_type": "code",
   "execution_count": 81,
   "metadata": {},
   "outputs": [],
   "source": [
    "elemnet = driver.find_element_by_id(\"SIDO_NM0\")\n",
    "elemnet.send_keys(si_names[13])"
   ]
  },
  {
   "cell_type": "code",
   "execution_count": 82,
   "metadata": {},
   "outputs": [
    {
     "name": "stderr",
     "output_type": "stream",
     "text": [
      "<ipython-input-82-39cbf66b6342>:6: TqdmDeprecationWarning: This function will be removed in tqdm==5.0.0\n",
      "Please use `tqdm.notebook.tqdm` instead of `tqdm.tqdm_notebook`\n",
      "  for gu in tqdm_notebook(gu_names):\n"
     ]
    },
    {
     "data": {
      "application/vnd.jupyter.widget-view+json": {
       "model_id": "f8b8c4595f1f4939bc851bde8e830abd",
       "version_major": 2,
       "version_minor": 0
      },
      "text/plain": [
       "HBox(children=(FloatProgress(value=0.0, max=22.0), HTML(value='')))"
      ]
     },
     "metadata": {},
     "output_type": "display_data"
    },
    {
     "name": "stdout",
     "output_type": "stream",
     "text": [
      "\n"
     ]
    }
   ],
   "source": [
    "gu_list_raw=driver.find_element_by_xpath(\"\"\"//*[@id=\"SIGUNGU_NM0\"]\"\"\")\n",
    "gu_list = gu_list_raw.find_elements_by_tag_name(\"option\")\n",
    "gu_names = [option.get_attribute(\"value\") for option in gu_list]\n",
    "gu_names.remove(\"\")\n",
    "\n",
    "for gu in tqdm_notebook(gu_names):\n",
    "    elemnet = driver.find_element_by_id(\"SIGUNGU_NM0\")\n",
    "    elemnet.send_keys(gu)\n",
    "    \n",
    "    time.sleep(1)\n",
    "    \n",
    "    xp = \"\"\"//*[@id=\"searRgSelect\"]/span\"\"\"\n",
    "    driver.find_element_by_xpath(xp).click()\n",
    "    \n",
    "    time.sleep(1)\n",
    "    \n",
    "    xp = \"\"\"//*[@id=\"glopopd_excel\"]/span\"\"\"\n",
    "    driver.find_element_by_xpath(xp).click()\n",
    "\n",
    "    time.sleep(1)"
   ]
  },
  {
   "cell_type": "code",
   "execution_count": 83,
   "metadata": {},
   "outputs": [],
   "source": [
    "elemnet = driver.find_element_by_id(\"SIDO_NM0\")\n",
    "elemnet.send_keys(si_names[14])"
   ]
  },
  {
   "cell_type": "code",
   "execution_count": 84,
   "metadata": {},
   "outputs": [
    {
     "name": "stderr",
     "output_type": "stream",
     "text": [
      "<ipython-input-84-39cbf66b6342>:6: TqdmDeprecationWarning: This function will be removed in tqdm==5.0.0\n",
      "Please use `tqdm.notebook.tqdm` instead of `tqdm.tqdm_notebook`\n",
      "  for gu in tqdm_notebook(gu_names):\n"
     ]
    },
    {
     "data": {
      "application/vnd.jupyter.widget-view+json": {
       "model_id": "30861806745c4cb9a535d36c8d4df3a8",
       "version_major": 2,
       "version_minor": 0
      },
      "text/plain": [
       "HBox(children=(FloatProgress(value=0.0, max=25.0), HTML(value='')))"
      ]
     },
     "metadata": {},
     "output_type": "display_data"
    },
    {
     "name": "stdout",
     "output_type": "stream",
     "text": [
      "\n"
     ]
    }
   ],
   "source": [
    "gu_list_raw=driver.find_element_by_xpath(\"\"\"//*[@id=\"SIGUNGU_NM0\"]\"\"\")\n",
    "gu_list = gu_list_raw.find_elements_by_tag_name(\"option\")\n",
    "gu_names = [option.get_attribute(\"value\") for option in gu_list]\n",
    "gu_names.remove(\"\")\n",
    "\n",
    "for gu in tqdm_notebook(gu_names):\n",
    "    elemnet = driver.find_element_by_id(\"SIGUNGU_NM0\")\n",
    "    elemnet.send_keys(gu)\n",
    "    \n",
    "    time.sleep(1)\n",
    "    \n",
    "    xp = \"\"\"//*[@id=\"searRgSelect\"]/span\"\"\"\n",
    "    driver.find_element_by_xpath(xp).click()\n",
    "    \n",
    "    time.sleep(1)\n",
    "    \n",
    "    xp = \"\"\"//*[@id=\"glopopd_excel\"]/span\"\"\"\n",
    "    driver.find_element_by_xpath(xp).click()\n",
    "\n",
    "    time.sleep(1)"
   ]
  },
  {
   "cell_type": "code",
   "execution_count": 89,
   "metadata": {},
   "outputs": [],
   "source": [
    "elemnet = driver.find_element_by_id(\"SIDO_NM0\")\n",
    "elemnet.send_keys(si_names[15])"
   ]
  },
  {
   "cell_type": "code",
   "execution_count": 90,
   "metadata": {
    "scrolled": true
   },
   "outputs": [
    {
     "name": "stderr",
     "output_type": "stream",
     "text": [
      "<ipython-input-90-39cbf66b6342>:6: TqdmDeprecationWarning: This function will be removed in tqdm==5.0.0\n",
      "Please use `tqdm.notebook.tqdm` instead of `tqdm.tqdm_notebook`\n",
      "  for gu in tqdm_notebook(gu_names):\n"
     ]
    },
    {
     "data": {
      "application/vnd.jupyter.widget-view+json": {
       "model_id": "20705fc9f5824d719d150b259f30d17a",
       "version_major": 2,
       "version_minor": 0
      },
      "text/plain": [
       "HBox(children=(FloatProgress(value=0.0, max=23.0), HTML(value='')))"
      ]
     },
     "metadata": {},
     "output_type": "display_data"
    },
    {
     "name": "stdout",
     "output_type": "stream",
     "text": [
      "\n"
     ]
    }
   ],
   "source": [
    "gu_list_raw=driver.find_element_by_xpath(\"\"\"//*[@id=\"SIGUNGU_NM0\"]\"\"\")\n",
    "gu_list = gu_list_raw.find_elements_by_tag_name(\"option\")\n",
    "gu_names = [option.get_attribute(\"value\") for option in gu_list]\n",
    "gu_names.remove(\"\")\n",
    "\n",
    "for gu in tqdm_notebook(gu_names):\n",
    "    elemnet = driver.find_element_by_id(\"SIGUNGU_NM0\")\n",
    "    elemnet.send_keys(gu)\n",
    "    \n",
    "    time.sleep(1)\n",
    "    \n",
    "    xp = \"\"\"//*[@id=\"searRgSelect\"]/span\"\"\"\n",
    "    driver.find_element_by_xpath(xp).click()\n",
    "    \n",
    "    time.sleep(1)\n",
    "    \n",
    "    xp = \"\"\"//*[@id=\"glopopd_excel\"]/span\"\"\"\n",
    "    driver.find_element_by_xpath(xp).click()\n",
    "\n",
    "    time.sleep(1)"
   ]
  },
  {
   "cell_type": "code",
   "execution_count": 91,
   "metadata": {},
   "outputs": [],
   "source": [
    "elemnet = driver.find_element_by_id(\"SIDO_NM0\")\n",
    "elemnet.send_keys(si_names[16])"
   ]
  },
  {
   "cell_type": "code",
   "execution_count": 92,
   "metadata": {},
   "outputs": [
    {
     "name": "stderr",
     "output_type": "stream",
     "text": [
      "<ipython-input-92-39cbf66b6342>:6: TqdmDeprecationWarning: This function will be removed in tqdm==5.0.0\n",
      "Please use `tqdm.notebook.tqdm` instead of `tqdm.tqdm_notebook`\n",
      "  for gu in tqdm_notebook(gu_names):\n"
     ]
    },
    {
     "data": {
      "application/vnd.jupyter.widget-view+json": {
       "model_id": "066dbc84efde4537a4cdc645dcdb04d0",
       "version_major": 2,
       "version_minor": 0
      },
      "text/plain": [
       "HBox(children=(FloatProgress(value=0.0, max=2.0), HTML(value='')))"
      ]
     },
     "metadata": {},
     "output_type": "display_data"
    },
    {
     "name": "stdout",
     "output_type": "stream",
     "text": [
      "\n"
     ]
    }
   ],
   "source": [
    "gu_list_raw=driver.find_element_by_xpath(\"\"\"//*[@id=\"SIGUNGU_NM0\"]\"\"\")\n",
    "gu_list = gu_list_raw.find_elements_by_tag_name(\"option\")\n",
    "gu_names = [option.get_attribute(\"value\") for option in gu_list]\n",
    "gu_names.remove(\"\")\n",
    "\n",
    "for gu in tqdm_notebook(gu_names):\n",
    "    elemnet = driver.find_element_by_id(\"SIGUNGU_NM0\")\n",
    "    elemnet.send_keys(gu)\n",
    "    \n",
    "    time.sleep(1)\n",
    "    \n",
    "    xp = \"\"\"//*[@id=\"searRgSelect\"]/span\"\"\"\n",
    "    driver.find_element_by_xpath(xp).click()\n",
    "    \n",
    "    time.sleep(1)\n",
    "    \n",
    "    xp = \"\"\"//*[@id=\"glopopd_excel\"]/span\"\"\"\n",
    "    driver.find_element_by_xpath(xp).click()\n",
    "\n",
    "    time.sleep(1)"
   ]
  },
  {
   "cell_type": "code",
   "execution_count": 93,
   "metadata": {},
   "outputs": [],
   "source": [
    "from glob import glob\n",
    "\n",
    "#station_files = glob(\"data/oil/*.*\") #모든 파일 불러오기 (확장명, 파일명 상관없이)\n",
    "#station_files = glob(\"data/oil/*.xls\") #엑셀파일만 불러오기\n",
    "station_files = glob(\"C:/Users/Master/Downloads/지역*.xls\") #지역으로 시작하는 엑셀파일 \n",
    "station_files  #파일 데이터를 가져온것이 아니라 파일 이름만 가져온 것 \n",
    "\n",
    "tmp_raw=[]\n",
    "for fname in station_files:                      \n",
    "    tmp = pd.read_excel(fname, header=2)\n",
    "    tmp_raw.append(tmp)"
   ]
  },
  {
   "cell_type": "code",
   "execution_count": 95,
   "metadata": {},
   "outputs": [
    {
     "name": "stdout",
     "output_type": "stream",
     "text": [
      "<class 'pandas.core.frame.DataFrame'>\n",
      "Int64Index: 13016 entries, 0 to 37\n",
      "Data columns (total 10 columns):\n",
      " #   Column  Non-Null Count  Dtype \n",
      "---  ------  --------------  ----- \n",
      " 0   지역      13016 non-null  object\n",
      " 1   상호      13016 non-null  object\n",
      " 2   주소      13016 non-null  object\n",
      " 3   상표      13016 non-null  object\n",
      " 4   전화번호    13016 non-null  object\n",
      " 5   셀프여부    13016 non-null  object\n",
      " 6   고급휘발유   13016 non-null  object\n",
      " 7   휘발유     13016 non-null  object\n",
      " 8   경유      13016 non-null  object\n",
      " 9   실내등유    13016 non-null  object\n",
      "dtypes: object(10)\n",
      "memory usage: 1.1+ MB\n"
     ]
    }
   ],
   "source": [
    "station_raw = pd.concat(tmp_raw)\n",
    "station_raw\n",
    "station_raw.info()"
   ]
  },
  {
   "cell_type": "code",
   "execution_count": 96,
   "metadata": {
    "scrolled": true
   },
   "outputs": [
    {
     "data": {
      "text/html": [
       "<div>\n",
       "<style scoped>\n",
       "    .dataframe tbody tr th:only-of-type {\n",
       "        vertical-align: middle;\n",
       "    }\n",
       "\n",
       "    .dataframe tbody tr th {\n",
       "        vertical-align: top;\n",
       "    }\n",
       "\n",
       "    .dataframe thead th {\n",
       "        text-align: right;\n",
       "    }\n",
       "</style>\n",
       "<table border=\"1\" class=\"dataframe\">\n",
       "  <thead>\n",
       "    <tr style=\"text-align: right;\">\n",
       "      <th></th>\n",
       "      <th>Oil_store</th>\n",
       "      <th>주소</th>\n",
       "      <th>가격</th>\n",
       "      <th>셀프</th>\n",
       "      <th>상표</th>\n",
       "    </tr>\n",
       "  </thead>\n",
       "  <tbody>\n",
       "    <tr>\n",
       "      <th>0</th>\n",
       "      <td>재건에너지 재정제2주유소 고속셀프지점</td>\n",
       "      <td>서울특별시 강동구  천호대로 1246 (둔촌제2동)</td>\n",
       "      <td>1639</td>\n",
       "      <td>Y</td>\n",
       "      <td>현대오일뱅크</td>\n",
       "    </tr>\n",
       "    <tr>\n",
       "      <th>1</th>\n",
       "      <td>현대오일뱅크㈜직영 명일셀프주유소</td>\n",
       "      <td>서울 강동구 고덕로 168 (명일동)</td>\n",
       "      <td>1688</td>\n",
       "      <td>Y</td>\n",
       "      <td>현대오일뱅크</td>\n",
       "    </tr>\n",
       "    <tr>\n",
       "      <th>2</th>\n",
       "      <td>구천면주유소</td>\n",
       "      <td>서울 강동구 구천면로 357 (암사동)</td>\n",
       "      <td>1693</td>\n",
       "      <td>N</td>\n",
       "      <td>현대오일뱅크</td>\n",
       "    </tr>\n",
       "    <tr>\n",
       "      <th>3</th>\n",
       "      <td>지에스칼텍스㈜ 동서울주유소</td>\n",
       "      <td>서울 강동구 천호대로 1456 (상일동)</td>\n",
       "      <td>1697</td>\n",
       "      <td>Y</td>\n",
       "      <td>GS칼텍스</td>\n",
       "    </tr>\n",
       "    <tr>\n",
       "      <th>4</th>\n",
       "      <td>방아다리주유소</td>\n",
       "      <td>서울 강동구 동남로 811 (명일동)</td>\n",
       "      <td>1720</td>\n",
       "      <td>Y</td>\n",
       "      <td>SK에너지</td>\n",
       "    </tr>\n",
       "  </tbody>\n",
       "</table>\n",
       "</div>"
      ],
      "text/plain": [
       "              Oil_store                            주소    가격 셀프      상표\n",
       "0  재건에너지 재정제2주유소 고속셀프지점  서울특별시 강동구  천호대로 1246 (둔촌제2동)  1639  Y  현대오일뱅크\n",
       "1     현대오일뱅크㈜직영 명일셀프주유소          서울 강동구 고덕로 168 (명일동)  1688  Y  현대오일뱅크\n",
       "2                구천면주유소         서울 강동구 구천면로 357 (암사동)  1693  N  현대오일뱅크\n",
       "3        지에스칼텍스㈜ 동서울주유소        서울 강동구 천호대로 1456 (상일동)  1697  Y   GS칼텍스\n",
       "4               방아다리주유소          서울 강동구 동남로 811 (명일동)  1720  Y   SK에너지"
      ]
     },
     "execution_count": 96,
     "metadata": {},
     "output_type": "execute_result"
    }
   ],
   "source": [
    "stations = pd.DataFrame({\"Oil_store\":station_raw[\"상호\"],\n",
    "             \"주소\":station_raw[\"주소\"],\n",
    "            \"가격\":station_raw[\"휘발유\"],\n",
    "            \"셀프\":station_raw[\"셀프여부\"],\n",
    "            \"상표\":station_raw[\"상표\"]})\n",
    "stations.head()"
   ]
  },
  {
   "cell_type": "code",
   "execution_count": 154,
   "metadata": {},
   "outputs": [],
   "source": [
    "stations.to_csv(\"oil.csv\", index=False)"
   ]
  },
  {
   "cell_type": "code",
   "execution_count": 151,
   "metadata": {},
   "outputs": [
    {
     "data": {
      "text/html": [
       "<div>\n",
       "<style scoped>\n",
       "    .dataframe tbody tr th:only-of-type {\n",
       "        vertical-align: middle;\n",
       "    }\n",
       "\n",
       "    .dataframe tbody tr th {\n",
       "        vertical-align: top;\n",
       "    }\n",
       "\n",
       "    .dataframe thead th {\n",
       "        text-align: right;\n",
       "    }\n",
       "</style>\n",
       "<table border=\"1\" class=\"dataframe\">\n",
       "  <thead>\n",
       "    <tr style=\"text-align: right;\">\n",
       "      <th></th>\n",
       "      <th>Oil_store</th>\n",
       "      <th>주소</th>\n",
       "      <th>가격</th>\n",
       "      <th>셀프</th>\n",
       "      <th>상표</th>\n",
       "      <th>구</th>\n",
       "      <th>시</th>\n",
       "    </tr>\n",
       "  </thead>\n",
       "  <tbody>\n",
       "    <tr>\n",
       "      <th>37</th>\n",
       "      <td>삼성주유소</td>\n",
       "      <td>서울 강남구 삼성로 521 (삼성동)</td>\n",
       "      <td>-</td>\n",
       "      <td>N</td>\n",
       "      <td>SK에너지</td>\n",
       "      <td>강남구</td>\n",
       "      <td>서울</td>\n",
       "    </tr>\n",
       "  </tbody>\n",
       "</table>\n",
       "</div>"
      ],
      "text/plain": [
       "   Oil_store                    주소 가격 셀프     상표    구   시\n",
       "37     삼성주유소  서울 강남구 삼성로 521 (삼성동)  -  N  SK에너지  강남구  서울"
      ]
     },
     "execution_count": 151,
     "metadata": {},
     "output_type": "execute_result"
    }
   ],
   "source": []
  },
  {
   "cell_type": "code",
   "execution_count": 138,
   "metadata": {},
   "outputs": [
    {
     "ename": "ValueError",
     "evalue": "The truth value of a Series is ambiguous. Use a.empty, a.bool(), a.item(), a.any() or a.all().",
     "output_type": "error",
     "traceback": [
      "\u001b[1;31m---------------------------------------------------------------------------\u001b[0m",
      "\u001b[1;31mValueError\u001b[0m                                Traceback (most recent call last)",
      "\u001b[1;32m<ipython-input-138-868c014d7d77>\u001b[0m in \u001b[0;36m<module>\u001b[1;34m\u001b[0m\n\u001b[0;32m      1\u001b[0m \u001b[1;32mfor\u001b[0m \u001b[0mi\u001b[0m \u001b[1;32min\u001b[0m \u001b[0mrange\u001b[0m\u001b[1;33m(\u001b[0m\u001b[1;36m0\u001b[0m\u001b[1;33m,\u001b[0m \u001b[0mlen\u001b[0m\u001b[1;33m(\u001b[0m\u001b[0mstations\u001b[0m\u001b[1;33m[\u001b[0m\u001b[1;34m\"시\"\u001b[0m\u001b[1;33m]\u001b[0m\u001b[1;33m)\u001b[0m\u001b[1;33m)\u001b[0m\u001b[1;33m:\u001b[0m\u001b[1;33m\u001b[0m\u001b[1;33m\u001b[0m\u001b[0m\n\u001b[1;32m----> 2\u001b[1;33m     \u001b[1;32mif\u001b[0m \u001b[0mstations\u001b[0m\u001b[1;33m[\u001b[0m\u001b[1;34m\"시\"\u001b[0m\u001b[1;33m]\u001b[0m\u001b[1;33m[\u001b[0m\u001b[0mi\u001b[0m\u001b[1;33m]\u001b[0m \u001b[1;33m==\u001b[0m \u001b[1;34m\"서울특별시\"\u001b[0m\u001b[1;33m:\u001b[0m\u001b[1;33m\u001b[0m\u001b[1;33m\u001b[0m\u001b[0m\n\u001b[0m\u001b[0;32m      3\u001b[0m         \u001b[0mstations\u001b[0m\u001b[1;33m[\u001b[0m\u001b[1;34m\"시\"\u001b[0m\u001b[1;33m]\u001b[0m\u001b[1;33m[\u001b[0m\u001b[0mi\u001b[0m\u001b[1;33m]\u001b[0m \u001b[1;33m==\u001b[0m\u001b[1;34m\"서울\"\u001b[0m\u001b[1;33m\u001b[0m\u001b[1;33m\u001b[0m\u001b[0m\n\u001b[0;32m      4\u001b[0m \u001b[0mstations\u001b[0m\u001b[1;33m[\u001b[0m\u001b[1;34m\"시\"\u001b[0m\u001b[1;33m]\u001b[0m\u001b[1;33m.\u001b[0m\u001b[0munique\u001b[0m\u001b[1;33m(\u001b[0m\u001b[1;33m)\u001b[0m\u001b[1;33m\u001b[0m\u001b[1;33m\u001b[0m\u001b[0m\n",
      "\u001b[1;32m~\\anaconda3\\lib\\site-packages\\pandas\\core\\generic.py\u001b[0m in \u001b[0;36m__nonzero__\u001b[1;34m(self)\u001b[0m\n\u001b[0;32m   1476\u001b[0m \u001b[1;33m\u001b[0m\u001b[0m\n\u001b[0;32m   1477\u001b[0m     \u001b[1;32mdef\u001b[0m \u001b[0m__nonzero__\u001b[0m\u001b[1;33m(\u001b[0m\u001b[0mself\u001b[0m\u001b[1;33m)\u001b[0m\u001b[1;33m:\u001b[0m\u001b[1;33m\u001b[0m\u001b[1;33m\u001b[0m\u001b[0m\n\u001b[1;32m-> 1478\u001b[1;33m         raise ValueError(\n\u001b[0m\u001b[0;32m   1479\u001b[0m             \u001b[1;34mf\"The truth value of a {type(self).__name__} is ambiguous. \"\u001b[0m\u001b[1;33m\u001b[0m\u001b[1;33m\u001b[0m\u001b[0m\n\u001b[0;32m   1480\u001b[0m             \u001b[1;34m\"Use a.empty, a.bool(), a.item(), a.any() or a.all().\"\u001b[0m\u001b[1;33m\u001b[0m\u001b[1;33m\u001b[0m\u001b[0m\n",
      "\u001b[1;31mValueError\u001b[0m: The truth value of a Series is ambiguous. Use a.empty, a.bool(), a.item(), a.any() or a.all()."
     ]
    }
   ],
   "source": []
  },
  {
   "cell_type": "code",
   "execution_count": 120,
   "metadata": {},
   "outputs": [
    {
     "ename": "SyntaxError",
     "evalue": "invalid syntax (<ipython-input-120-f3e4dd256214>, line 2)",
     "output_type": "error",
     "traceback": [
      "\u001b[1;36m  File \u001b[1;32m\"<ipython-input-120-f3e4dd256214>\"\u001b[1;36m, line \u001b[1;32m2\u001b[0m\n\u001b[1;33m    if stations[\"시\"][i][,-1] == \"시\":\u001b[0m\n\u001b[1;37m                        ^\u001b[0m\n\u001b[1;31mSyntaxError\u001b[0m\u001b[1;31m:\u001b[0m invalid syntax\n"
     ]
    }
   ],
   "source": [
    "="
   ]
  },
  {
   "cell_type": "code",
   "execution_count": null,
   "metadata": {},
   "outputs": [],
   "source": []
  }
 ],
 "metadata": {
  "kernelspec": {
   "display_name": "Python 3",
   "language": "python",
   "name": "python3"
  },
  "language_info": {
   "codemirror_mode": {
    "name": "ipython",
    "version": 3
   },
   "file_extension": ".py",
   "mimetype": "text/x-python",
   "name": "python",
   "nbconvert_exporter": "python",
   "pygments_lexer": "ipython3",
   "version": "3.8.3"
  }
 },
 "nbformat": 4,
 "nbformat_minor": 4
}
