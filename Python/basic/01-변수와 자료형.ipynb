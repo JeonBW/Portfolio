{
 "cells": [
  {
   "cell_type": "markdown",
   "metadata": {},
   "source": [
    "# 변수의 특징\n",
    "\n",
    "### 1. 묵시적 선언\n",
    "### 2. 동적 바인딩\n",
    "### 3. immutable"
   ]
  },
  {
   "cell_type": "code",
   "execution_count": 8,
   "metadata": {},
   "outputs": [
    {
     "name": "stdout",
     "output_type": "stream",
     "text": [
      "10\n",
      "3.14\n",
      "가나다\n"
     ]
    }
   ],
   "source": [
    "# 주석\n",
    "\n",
    "a = 10\n",
    "print(a)\n",
    "\n",
    "a = 3.14\n",
    "print(a)\n",
    "\n",
    "a = \"가나다\"\n",
    "print(a)"
   ]
  },
  {
   "cell_type": "markdown",
   "metadata": {},
   "source": [
    "# 2. Data Type\n",
    "\n",
    "* 종류\n",
    "    1. 기본 자료형(단일)\n",
    "        * int   (정수형)\n",
    "        * float (실수형)\n",
    "        * str   (문자열)\n",
    "        * bool  (참, 거짓)\n",
    "        * complex  (복소수)\n",
    "        * function \n",
    "        \n",
    "        \n",
    "    2. 집합 자료형\n",
    "        * list\n",
    "        * tuple\n",
    "        * dict\n",
    "        * set\n",
    "        \n",
    "        \n",
    "* 수정 가능성에 따른 분류\n",
    "    - 수정 불가능 : int, float, str, bool, tuple(집합 자료형 중에서 유일하게 수정 불가능)\n",
    "    - 수정 가능 : list, dict, set\n",
    "        "
   ]
  },
  {
   "cell_type": "markdown",
   "metadata": {},
   "source": [
    "---\n",
    "### 1. str(문자열 자료형)"
   ]
  },
  {
   "cell_type": "code",
   "execution_count": 1,
   "metadata": {},
   "outputs": [
    {
     "name": "stdout",
     "output_type": "stream",
     "text": [
      "안녕하세요, \n",
      "저는 홍길동입니다. \n",
      "안녕히계세요\n"
     ]
    }
   ],
   "source": [
    "a = 10\n",
    "type(a)\n",
    "\n",
    "a = '10'\n",
    "type(a)\n",
    "\n",
    "a = \"\"\"안녕하세요, \n",
    "저는 홍길동입니다. \n",
    "안녕히계세요\"\"\"\n",
    "print(a)"
   ]
  },
  {
   "cell_type": "code",
   "execution_count": 20,
   "metadata": {
    "scrolled": true
   },
   "outputs": [
    {
     "name": "stdout",
     "output_type": "stream",
     "text": [
      "이것은 파이썬 입니다. \n",
      "\n",
      "\n",
      "열심히 공부합시다.\n",
      "현재 시간은 \t\t\t9시 입니다.\n",
      "\\t는 탭키의 역할입니다.\n",
      "\"\\t는 탭키의 역할입니다.\"\n"
     ]
    }
   ],
   "source": [
    "# 특수 문자(제어 문자) : \\문자 \\(escape 문자)\n",
    "a = \"이것은 파이썬 입니다. \\n\\n\\n열심히 공부합시다.\"\n",
    "print(a)\n",
    "\n",
    "b = \"현재 시간은 \\t\\t\\t9시 입니다.\"\n",
    "print(b)\n",
    "\n",
    "# \\t는 탭키의 역할입니다. \n",
    "print(\"\\\\t는 탭키의 역할입니다.\")\n",
    "\n",
    "# \"\\t는 탭키의 역할입니다.\"\n",
    "print(\"\\\"\\\\t는 탭키의 역할입니다.\\\"\")\n"
   ]
  },
  {
   "cell_type": "code",
   "execution_count": 25,
   "metadata": {
    "scrolled": true
   },
   "outputs": [
    {
     "name": "stdout",
     "output_type": "stream",
     "text": [
      "10 + 2 - 3 + 5 + 6 * 7\n",
      "56\n"
     ]
    }
   ],
   "source": [
    "# \\의 또 다른 기능 : 줄 바꿈\n",
    "a = \"10 + 2 - 3 + 5 \\\n",
    "+ 6 * 7\"\n",
    "print(a)\n",
    "\n",
    "b = 10 + 2 - 3 + 5 \\\n",
    "+ 6 * 7\n",
    "print(b)"
   ]
  },
  {
   "cell_type": "code",
   "execution_count": 4,
   "metadata": {},
   "outputs": [
    {
     "name": "stdout",
     "output_type": "stream",
     "text": [
      "('python', 'is fun', ' and great')\n",
      "pythonis fun and great\n"
     ]
    }
   ],
   "source": [
    "# 문자열 연결하기\n",
    "a = \"python\"\n",
    "b = \"is fun\"\n",
    "c = \" and great\"\n",
    "\n",
    "str1 = a, b, c\n",
    "print(str1)\n",
    "\n",
    "str2 = a + b + c\n",
    "print(str2)\n",
    "\n"
   ]
  },
  {
   "cell_type": "code",
   "execution_count": 30,
   "metadata": {
    "scrolled": false
   },
   "outputs": [
    {
     "name": "stdout",
     "output_type": "stream",
     "text": [
      "pythonpythonpython\n"
     ]
    }
   ],
   "source": [
    "# 문자열 곱하기\n",
    "print(a*3)"
   ]
  },
  {
   "cell_type": "code",
   "execution_count": 33,
   "metadata": {},
   "outputs": [
    {
     "name": "stdout",
     "output_type": "stream",
     "text": [
      "3\n",
      "22\n"
     ]
    }
   ],
   "source": [
    "# 문자열의 길이\n",
    "print(len(str1))\n",
    "print(len(str2))"
   ]
  },
  {
   "cell_type": "code",
   "execution_count": 37,
   "metadata": {},
   "outputs": [
    {
     "data": {
      "text/plain": [
       "'o'"
      ]
     },
     "execution_count": 37,
     "metadata": {},
     "output_type": "execute_result"
    }
   ],
   "source": [
    "# Indexing : [인덱스 번호] 0부터 시작, 공백도 포함\n",
    "a = \"Life is too short, You need python\"\n",
    "a[3]\n",
    "a[10]\n",
    "a[-1]\n",
    "a[-2]"
   ]
  },
  {
   "cell_type": "code",
   "execution_count": 45,
   "metadata": {
    "scrolled": false
   },
   "outputs": [
    {
     "name": "stdout",
     "output_type": "stream",
     "text": [
      "Life\n",
      "Life i\n",
      "Life i\n",
      "s too short, You need python\n",
      "Life is too short, You need python\n",
      "You need\n",
      "ho\n"
     ]
    }
   ],
   "source": [
    "# slicing : [시작위치 : 끝위치] 원하는 부분만 추출, \n",
    "print(a[0:4])\n",
    "print(a[0:6])\n",
    "print(a[:6])\n",
    "print(a[6:])\n",
    "print(a[:])\n",
    "print(a[19:-7])\n",
    "print(a[-3:-1])"
   ]
  },
  {
   "cell_type": "code",
   "execution_count": 46,
   "metadata": {
    "scrolled": true
   },
   "outputs": [
    {
     "ename": "TypeError",
     "evalue": "'str' object does not support item assignment",
     "output_type": "error",
     "traceback": [
      "\u001b[1;31m---------------------------------------------------------------------------\u001b[0m",
      "\u001b[1;31mTypeError\u001b[0m                                 Traceback (most recent call last)",
      "\u001b[1;32m<ipython-input-46-fba114542ea5>\u001b[0m in \u001b[0;36m<module>\u001b[1;34m\u001b[0m\n\u001b[0;32m      1\u001b[0m \u001b[0ma\u001b[0m \u001b[1;33m=\u001b[0m \u001b[1;34m\"pithon\"\u001b[0m\u001b[1;33m\u001b[0m\u001b[1;33m\u001b[0m\u001b[0m\n\u001b[1;32m----> 2\u001b[1;33m \u001b[0ma\u001b[0m\u001b[1;33m[\u001b[0m\u001b[1;36m1\u001b[0m\u001b[1;33m]\u001b[0m \u001b[1;33m=\u001b[0m \u001b[1;34m\"y\"\u001b[0m\u001b[1;33m\u001b[0m\u001b[1;33m\u001b[0m\u001b[0m\n\u001b[0m",
      "\u001b[1;31mTypeError\u001b[0m: 'str' object does not support item assignment"
     ]
    }
   ],
   "source": [
    "# 수정 불가\n",
    "a = \"pithon\"\n",
    "a[1] = \"y\""
   ]
  },
  {
   "cell_type": "code",
   "execution_count": 52,
   "metadata": {},
   "outputs": [
    {
     "name": "stdout",
     "output_type": "stream",
     "text": [
      "Life is too short, You need python\n",
      "Lf stosot o edpto\n",
      "nohtyp deen uoY ,trohs oot si efiL\n",
      "\n",
      "si efi\n",
      "Life i\n"
     ]
    }
   ],
   "source": [
    "# step : [시작위치 : 끝위치 : 스텝(간격)] 시작위치 > 끝위치 (스텝이  음수일때)\n",
    "a = \"Life is too short, You need python\"\n",
    "print(a[::1])\n",
    "print(a[::2])\n",
    "print(a[::-1])\n",
    "print(a[0:6:-1])\n",
    "print(a[6:0:-1])\n",
    "print(a[0:6:1])"
   ]
  },
  {
   "cell_type": "code",
   "execution_count": 73,
   "metadata": {},
   "outputs": [
    {
     "name": "stdout",
     "output_type": "stream",
     "text": [
      "23\n",
      "3\n",
      "---------------------------------------\n",
      "a,b,c,d,e,f,g\n",
      "---------------------------------------\n",
      "['홍길동', ' 홍경래', ' 홍장군', ' 임경업', ' 신돌석']\n",
      "---------------------------------------\n",
      "1 21 -1\n",
      "---------------------------------------\n",
      "python    \n",
      "       python\n",
      "python\n",
      "python\n",
      "---------------------------------------\n",
      "Hello, Python!\n",
      "일이삼사오육칠팔구\n",
      "1이3사5육칠팔구\n"
     ]
    }
   ],
   "source": [
    "# 문자열 관련 함수\n",
    "\n",
    "#count()                                         \n",
    "str1 = \"홍길동, 홍경래, 홍장군, 임경업, 신돌석\"\n",
    "print(len(str1))\n",
    "print(str1.count(\"홍\"))\n",
    "print(\"---------------------------------------\")\n",
    "\n",
    "#join()\n",
    "str1 = \"abcdefg\"\n",
    "str2 = \",\"\n",
    "str3 = str2.join(str1)\n",
    "print(str3)\n",
    "print(\"---------------------------------------\")\n",
    "\n",
    "# split()\n",
    "str1 = \"홍길동, 홍경래, 홍장군, 임경업, 신돌석\"\n",
    "print(str1.split(\",\"))\n",
    "print(\"---------------------------------------\")\n",
    "\n",
    "# find(), index()\n",
    "print(str1.find(\"길\"),str1.find(\"돌\"),str1.find(\"별\"))\n",
    "#print(str1.index(\"길\"),str1.index(\"돌\"),str1.index(\"별\"))\n",
    "print(\"---------------------------------------\")\n",
    "\n",
    "#lstrip(),rstrip(),strip() \n",
    "str1 = \"       python    \"\n",
    "print(str1.lstrip())\n",
    "print(str1.rstrip())\n",
    "print(str1.strip())\n",
    "\n",
    "str2 = \",.python\"\n",
    "print(str2.lstrip(\",.\"))\n",
    "print(\"---------------------------------------\")\n",
    "\n",
    "#replace(),   /  maketranse(),translate() - 1:1로 찾아서 바꿔준다\n",
    "str1 = \"Hello, World!\"\n",
    "print(str1.replace(\"World\",\"Python\"))\n",
    "\n",
    "str2 = \"일이삼사오육칠팔구\"\n",
    "print(str2.replace(\"일삼오\",\"135\"))\n",
    "print(str2.translate(str.maketrans(\"일삼오\",\"135\")))"
   ]
  },
  {
   "cell_type": "code",
   "execution_count": 102,
   "metadata": {
    "scrolled": true
   },
   "outputs": [
    {
     "name": "stdout",
     "output_type": "stream",
     "text": [
      "현재 온도는 18도 입니다.\n",
      "현재 온도는 18도 입니다.\n",
      "합의 결과 : 3 + 5 = 8 입니다.\n",
      "합의 결과 : 3 + 5 = 8 입니다.\n",
      "나눗셈의 결과 : 3 / 5 = 0.600000 입니다.\n",
      "나눗셈의 결과 : 3 / 5 = 0.60 입니다.\n",
      "       나눗셈의 결과 : 3 / 5 = 0.60 입니다.\n",
      "나눗셈       의 결과 : 3 / 5 = 0.60 입니다.\n",
      "------------------------------------------------\n",
      "나눗셈의 결과 : 3 / 5 = 0.6 입니다.\n",
      "나눗셈의 결과 : 3 / 5 = 0.6 입니다.\n",
      "나눗셈의 결과 : 5 / 3 = 1.6666666666666667입니다.\n",
      "나눗셈의 결과 : 3 / 5 = 0.6입니다.\n",
      "나눗셈의 결과 : 3 / 5 = 0.6입니다.\n",
      "나눗셈의 결과 : 5 / 3 =  1.67입니다.\n",
      "나눗셈       의 결과 : 5 / 3 =  1.67입니다.\n",
      "       나눗셈의 결과 : 5 / 3 =  1.67입니다.\n",
      "   나눗셈    의 결과 : 5 / 3 =  1.67입니다.\n",
      "***나눗셈****의 결과 : 5 / 3 =  1.67입니다.\n"
     ]
    }
   ],
   "source": [
    "# 문자열 포맷팅 : %, format() / 변화되는 데이터를 능동적으로 처리\n",
    "print(\"현재 온도는 18도 입니다.\")\n",
    "print(\"현재 온도는 %d도 입니다.\"% 18)\n",
    "\n",
    "print(\"합의 결과 : 3 + 5 = 8 입니다.\")\n",
    "print(\"합의 결과 : %d + %d = %d 입니다.\" %(3, 5, (3+5)))\n",
    "print(\"%s의 결과 : %d %c %d = %f 입니다.\" %(\"나눗셈\", 3, \"/\", 5, (3/5)))\n",
    "print(\"%s의 결과 : %d %c %d = %0.2f 입니다.\" %(\"나눗셈\", 3, \"/\", 5, (3/5)))\n",
    "print(\"%10s의 결과 : %d %c %d = %0.2f 입니다.\" %(\"나눗셈\", 3, \"/\", 5, (3/5)))\n",
    "print(\"%-10s의 결과 : %d %c %d = %0.2f 입니다.\" %(\"나눗셈\", 3, \"/\", 5, (3/5)))\n",
    "print(\"------------------------------------------------\")\n",
    "\n",
    "print(\"나눗셈의 결과 : 3 / 5 = 0.6 입니다.\")\n",
    "print(\"나눗셈의 결과 : {} / {} = {} 입니다.\".format(3, 5, (3/5)))\n",
    "print(\"나눗셈의 결과 : {1} / {0} = {2}입니다.\".format(3, 5, (5/3)))\n",
    "print(\"{}의 결과 : {} / {} = {}입니다.\".format(\"나눗셈\", 3, 5, (3/5)))\n",
    "print(\"{title}의 결과 : {} / {} = {}입니다.\".format(3, 5, (3/5), title=\"나눗셈\"))\n",
    "print(\"{3}의 결과 : {1} / {0} = {2:5.2f}입니다.\".format(3, 5, (5/3), \"나눗셈\"))\n",
    "print(\"{3:<10}의 결과 : {1} / {0} = {2:5.2f}입니다.\".format(3, 5, (5/3), \"나눗셈\"))\n",
    "print(\"{3:>10}의 결과 : {1} / {0} = {2:5.2f}입니다.\".format(3, 5, (5/3), \"나눗셈\"))\n",
    "print(\"{3:^10}의 결과 : {1} / {0} = {2:5.2f}입니다.\".format(3, 5, (5/3), \"나눗셈\"))\n",
    "print(\"{3:*^10}의 결과 : {1} / {0} = {2:5.2f}입니다.\".format(3, 5, (5/3), \"나눗셈\"))"
   ]
  },
  {
   "cell_type": "code",
   "execution_count": 104,
   "metadata": {},
   "outputs": [
    {
     "name": "stdout",
     "output_type": "stream",
     "text": [
      "15\n"
     ]
    }
   ],
   "source": [
    "str1=\"You need python\"\n",
    "print(len(str1))\n"
   ]
  },
  {
   "cell_type": "code",
   "execution_count": 105,
   "metadata": {},
   "outputs": [
    {
     "data": {
      "text/plain": [
       "'!!!python!!!'"
      ]
     },
     "execution_count": 105,
     "metadata": {},
     "output_type": "execute_result"
    }
   ],
   "source": [
    "\"{0:!^12}\".format('python')"
   ]
  },
  {
   "cell_type": "markdown",
   "metadata": {},
   "source": [
    "-----\n",
    "### 2. list\n",
    "           \n",
    "* `[ ]`  사용 (여러개의 데이터를 대괄호로 묶어서 사용)\n",
    "* 정의 : 임의의 객체(하나의 데이터)를 순차적으로 저장하는 집합적 자료형\n",
    "* 인덱스 사용\n",
    "* ***변경이 가능하다.***"
   ]
  },
  {
   "cell_type": "code",
   "execution_count": 10,
   "metadata": {},
   "outputs": [
    {
     "name": "stdout",
     "output_type": "stream",
     "text": [
      "<class 'int'> <class 'list'>\n",
      "10 [10, 11, 12]\n",
      "10 11 12\n",
      "['james', 180, 3.14, True]\n"
     ]
    }
   ],
   "source": [
    "# a = 10\n",
    "# b = 11\n",
    "# c = 12\n",
    "\n",
    "a, b, c = 10, 11, 12\n",
    "\n",
    "list1 = [10, 11, 12]\n",
    "\n",
    "print(type(a), type(list1))\n",
    "print(a, list1)\n",
    "print(list1[0], list1[1], list1[2])\n",
    "\n",
    "list2 = [\"james\", 178, 3.14, True] \n",
    "list2[1] = 180\n",
    "print(list2)\n",
    "\n"
   ]
  },
  {
   "cell_type": "code",
   "execution_count": 15,
   "metadata": {},
   "outputs": [
    {
     "name": "stdout",
     "output_type": "stream",
     "text": [
      "[1, 2, 3, '가', 3.14, ['a', 'b', 'c']]\n",
      "['a', 'b', 'c']\n",
      "b\n",
      "b\n",
      "c\n"
     ]
    }
   ],
   "source": [
    "#### indexing\n",
    "a = [1, 2, 3, \"가\", 3.14, [\"a\", \"b\", \"c\"]]\n",
    "print(a)\n",
    "print(a[5])\n",
    "print(a[5][1])\n",
    "print(a[-1][1])\n",
    "print(a[5][-1])\n"
   ]
  },
  {
   "cell_type": "code",
   "execution_count": 17,
   "metadata": {},
   "outputs": [
    {
     "name": "stdout",
     "output_type": "stream",
     "text": [
      "[10, 2, 3, 4, 5]\n",
      "[10, 2, 3, 4, 5]\n",
      "----------------------\n",
      "[1, 2, 3, 4, 5]\n",
      "[10, 2, 3, 4, 5]\n"
     ]
    }
   ],
   "source": [
    "### 복사(얕은 복사, 깊은 복사) 108p\n",
    "\n",
    "a = [1, 2, 3, 4, 5]\n",
    "b = a\n",
    "b[0] = 10\n",
    "print(a)\n",
    "print(b)\n",
    "\n",
    "print(\"----------------------\")\n",
    "\n",
    "a = [1, 2, 3, 4, 5]\n",
    "b = a[:]\n",
    "b[0] = 10\n",
    "print(a)\n",
    "print(b)"
   ]
  },
  {
   "cell_type": "code",
   "execution_count": 36,
   "metadata": {},
   "outputs": [
    {
     "name": "stdout",
     "output_type": "stream",
     "text": [
      "<class 'list'>\n",
      "-----------------------\n",
      "10 <class 'int'>\n",
      "10 <class 'str'>\n",
      "-----------------------\n",
      "[0, 1, 2, 3]\n",
      "[0, 1, 2, 3, 4, 5, 6, 7, 8, 9]\n",
      "[5, 6, 7, 8, 9, 10, 11]\n",
      "[5, 7, 9, 11]\n",
      "[-4, -3, -2, -1, 0, 1, 2, 3, 4, 5, 6, 7, 8, 9, 10, 11]\n",
      "[10, 9, 8, 7, 6, 5, 4, 3, 2, 1]\n"
     ]
    }
   ],
   "source": [
    "#### list 생성\n",
    "a = []\n",
    "a = list()\n",
    "a = [1, 2, 3]\n",
    "print(type(a))\n",
    "\n",
    "print(\"-----------------------\")\n",
    "\n",
    "#자신만의 공간\n",
    "\n",
    "a = int()     #공간\n",
    "a = float()\n",
    "a = str()  \n",
    "a = bool()  \n",
    "\n",
    "a = int(\"10\")\n",
    "print(a,type(a))  #형식변환에도 사용\n",
    "\n",
    "b = str(a)\n",
    "print(b,type(b))\n",
    "\n",
    "print(\"-----------------------\")\n",
    "\n",
    "a = list([0, 1, 2, 3])\n",
    "print(a)\n",
    "\n",
    "a = list(range(10))\n",
    "print(a)\n",
    "\n",
    "a = list(range(5, 12))\n",
    "print(a)\n",
    "\n",
    "a = list(range(5, 12, 2))\n",
    "print(a)\n",
    "\n",
    "a = list(range(-4, 12, 1))\n",
    "print(a)\n",
    "\n",
    "a = list(range(10, 0, -1))\n",
    "print(a)"
   ]
  },
  {
   "cell_type": "code",
   "execution_count": 42,
   "metadata": {},
   "outputs": [
    {
     "name": "stdout",
     "output_type": "stream",
     "text": [
      "[1, 2, 3, 4, 5, 6]\n",
      "[1, 2, 3, 1, 2, 3, 1, 2, 3]\n",
      "2~ hi\n"
     ]
    }
   ],
   "source": [
    "#### 연산기능\n",
    "\n",
    "a = [1, 2, 3]\n",
    "b = [4, 5, 6]\n",
    "\n",
    "print(a + b)\n",
    "print(a * 3)\n",
    "print(str(a[1]) + \"~ hi\")  #형식이 다르기 때문에 오류 / str를 사용하여 문자열로 변환 \n"
   ]
  },
  {
   "cell_type": "code",
   "execution_count": 50,
   "metadata": {
    "scrolled": false
   },
   "outputs": [
    {
     "name": "stdout",
     "output_type": "stream",
     "text": [
      "[1, 2, 3]\n",
      "[0, 1, 2, 3]\n",
      "[0, 1, 2, 3, 4]\n",
      "[0, 1, 2, 3, 4, 5]\n",
      "[0, 1, 2, 3, 4, 5, 6, 7, 8]\n",
      "[0, 1, 2, 3, 4, 5, 6, 7, 8, [9, 10, 11]]\n"
     ]
    }
   ],
   "source": [
    "#### 추가 하기 : insert(), append(), extend() / insert는 내가 원하는 위치 / append, extend는 맨 뒤에\n",
    "\n",
    "\n",
    "a = [1, 2, 3]\n",
    "print(a)\n",
    "a.insert(0, 0)\n",
    "print(a)\n",
    "\n",
    "a.append(4)\n",
    "print(a)\n",
    "\n",
    "#extend는 한 개 이상 []사용\n",
    "a.extend([5])\n",
    "print(a)\n",
    "\n",
    "a.extend([6, 7, 8])\n",
    "print(a)\n",
    "\n",
    "a.append([9, 10, 11])\n",
    "print(a)"
   ]
  },
  {
   "cell_type": "code",
   "execution_count": 59,
   "metadata": {},
   "outputs": [
    {
     "name": "stdout",
     "output_type": "stream",
     "text": [
      "[1, 2, 3, 4]\n",
      "[1, 4, 3, 2]\n",
      "[1, 2, 3, 4]\n",
      "[4, 3, 2, 1]\n"
     ]
    }
   ],
   "source": [
    "### 정렬\n",
    "a = [1, 4, 3, 2]\n",
    "#a.sort()\n",
    "#print(a)\n",
    "print(sorted(a)) # 별도 다른 공간에 저장(원본 영향 X)\n",
    "print(a)\n",
    "\n",
    "a.sort()\n",
    "print(a)\n",
    "a.reverse()\n",
    "print(a)"
   ]
  },
  {
   "cell_type": "code",
   "execution_count": 72,
   "metadata": {},
   "outputs": [
    {
     "name": "stdout",
     "output_type": "stream",
     "text": [
      "[1, 1, 2, 3]\n",
      "[1, 2, 1, 2, 3]\n",
      "[1, 2, 1, 2]\n",
      "[1, 2] 3\n",
      "[1] 2\n"
     ]
    }
   ],
   "source": [
    "### 제거\n",
    "a = [1, 2, 3, 1, 2, 3]\n",
    "a[1:3] = []\n",
    "print(a)\n",
    "\n",
    "#값을 찾아서 삭제\n",
    "a = [1, 2, 3, 1, 2, 3]\n",
    "a.remove(3)\n",
    "print(a)\n",
    "\n",
    "#위치를 찾아서 삭제\n",
    "del a[4]\n",
    "print(a)\n",
    "\n",
    "del a    \n",
    "#print(a)\n",
    "\n",
    "#맨 끝에만 삭제\n",
    "a = [1, 2, 3]\n",
    "b = a.pop()\n",
    "print(a, b)\n",
    "b = a.pop()\n",
    "print(a, b)\n"
   ]
  },
  {
   "cell_type": "code",
   "execution_count": 75,
   "metadata": {},
   "outputs": [
    {
     "name": "stdout",
     "output_type": "stream",
     "text": [
      "True\n",
      "False\n"
     ]
    }
   ],
   "source": [
    "### 검색기능\n",
    "a = [1, 2, 3, 4, 5]\n",
    "\n",
    "print(2 in a)\n",
    "print(20 in a)"
   ]
  },
  {
   "cell_type": "markdown",
   "metadata": {},
   "source": [
    "---\n",
    "\n",
    "### 3. tuple\n",
    "* ( ) 사용\n",
    "* **수정할 수 없다.**(변경불가) -> 안전하게 보관 할 때\n",
    "\n",
    "\n"
   ]
  },
  {
   "cell_type": "code",
   "execution_count": 88,
   "metadata": {},
   "outputs": [
    {
     "name": "stdout",
     "output_type": "stream",
     "text": [
      "('a', 'b', 'c', 'd')\n",
      "<class 'tuple'>\n",
      "4\n",
      "1\n",
      "1\n"
     ]
    }
   ],
   "source": [
    "a = ('a', 'b', 'c', 'd')\n",
    "print(a)\n",
    "print(type(a))\n",
    "print(len(a))\n",
    "print(a.count('c'))\n",
    "print(a.index('b'))"
   ]
  },
  {
   "cell_type": "code",
   "execution_count": 92,
   "metadata": {},
   "outputs": [
    {
     "name": "stdout",
     "output_type": "stream",
     "text": [
      "['a', 10, 'c', 'd']\n",
      "<class 'tuple'>\n",
      "('a', 10, 'c', 'd')\n"
     ]
    }
   ],
   "source": [
    "#a[1] = 10\n",
    "\n",
    "b = list(a)\n",
    "b[1] = 10\n",
    "print(b)\n",
    "c = tuple(b)\n",
    "print(type(c))\n",
    "print(c)"
   ]
  },
  {
   "cell_type": "code",
   "execution_count": 94,
   "metadata": {},
   "outputs": [
    {
     "name": "stdout",
     "output_type": "stream",
     "text": [
      "(10, 20, 30)\n",
      "10 20 30\n"
     ]
    }
   ],
   "source": [
    "# packing과 unpacking\n",
    "a = 10, 20, 30\n",
    "print(a)            #여러개의 데이터를 튜플로 포장 -> packing (데이터를 안전하게 보관하기 위해서)\n",
    "\n",
    "a1, a2, a3 = a      #unpacking\n",
    "print(a1, a2, a3)\n",
    "\n"
   ]
  },
  {
   "cell_type": "markdown",
   "metadata": {},
   "source": [
    "---\n",
    "### 4. dict (dictionary)  \n",
    "\n",
    "* 순서가 없다. (인덱스를 쓸 수 없다.) \n",
    "* {키 : 값} \n",
    "* 키를 이용해서 값을 조회 (데이터를 빠르고 쉽게 찾기 위해)\n"
   ]
  },
  {
   "cell_type": "code",
   "execution_count": 96,
   "metadata": {},
   "outputs": [
    {
     "name": "stdout",
     "output_type": "stream",
     "text": [
      "{'name': '홍길동', 'phone': '111-1111', 'age': 25}\n",
      "<class 'dict'>\n"
     ]
    }
   ],
   "source": [
    "a = {\"name\":\"홍길동\", \"phone\" : \"111-1111\", \"age\":25}\n",
    "print(a)\n",
    "print(type(a))\n"
   ]
  },
  {
   "cell_type": "code",
   "execution_count": 99,
   "metadata": {},
   "outputs": [
    {
     "name": "stdout",
     "output_type": "stream",
     "text": [
      "홍길동 111-1111 25\n",
      "홍길동 111-1111 25\n"
     ]
    }
   ],
   "source": [
    "print(a[\"name\"],a[\"phone\"],a[\"age\"])\n",
    "print(a.get(\"name\"),a.get(\"phone\"),a.get(\"age\"))"
   ]
  },
  {
   "cell_type": "code",
   "execution_count": 103,
   "metadata": {},
   "outputs": [
    {
     "name": "stdout",
     "output_type": "stream",
     "text": [
      "dict_keys(['name', 'phone', 'age'])\n",
      "dict_values(['홍길동', '111-1111', 25])\n",
      "dict_items([('name', '홍길동'), ('phone', '111-1111'), ('age', 25)])\n"
     ]
    }
   ],
   "source": [
    "print(a.keys())    #리스트로 묶어서 튜플로                       \n",
    "print(a.values())  #리스트로 묶어서 튜플로\n",
    "print(a.items())   #튜플로 묶어서 리스트로"
   ]
  },
  {
   "cell_type": "code",
   "execution_count": 109,
   "metadata": {},
   "outputs": [
    {
     "name": "stdout",
     "output_type": "stream",
     "text": [
      "<class 'dict_items'>\n",
      "<class 'list'>\n",
      "[('name', '홍길동'), ('phone', '111-1111'), ('age', 25)]\n",
      "('name', '홍길동')\n"
     ]
    }
   ],
   "source": [
    "b = a.items()\n",
    "print(type(b))\n",
    "\n",
    "c = list(b)\n",
    "print(type(c))\n",
    "print(c)\n",
    "print(c[0])"
   ]
  },
  {
   "cell_type": "code",
   "execution_count": 110,
   "metadata": {},
   "outputs": [
    {
     "name": "stdout",
     "output_type": "stream",
     "text": [
      "{'name': '임꺽정', 'phone': '111-1111', 'age': 25}\n"
     ]
    }
   ],
   "source": [
    "#수정\n",
    "a[\"name\"] = \"임꺽정\"\n",
    "print(a)"
   ]
  },
  {
   "cell_type": "code",
   "execution_count": 122,
   "metadata": {},
   "outputs": [
    {
     "name": "stdout",
     "output_type": "stream",
     "text": [
      "{'hobby': ['낚시', '여행']}\n"
     ]
    }
   ],
   "source": [
    "#추가\n",
    "a[\"hobby\"] = [\"낚시\", \"여행\"]\n",
    "print(a)"
   ]
  },
  {
   "cell_type": "code",
   "execution_count": 120,
   "metadata": {},
   "outputs": [
    {
     "name": "stdout",
     "output_type": "stream",
     "text": [
      "{'name': '임꺽정', 'phone': '111-1111', 'age': 25, 'hobby': ['낚시', '여행']}\n",
      "{}\n"
     ]
    }
   ],
   "source": [
    "a[\"hobby\"] = [\"낚시\", \"여행\"]\n",
    "print(a)\n",
    "a.clear()\n",
    "print(a)\n",
    "#del a[\"hobby\"]"
   ]
  },
  {
   "cell_type": "markdown",
   "metadata": {},
   "source": [
    "---\n",
    "### 5. set\n",
    "\n",
    "* { } 사용\n",
    "* 순서가 없다.(인덱스를 사용할 수 없다.)\n",
    "* 중복 불가(자연스럽게 중복된걸 빼준다.)"
   ]
  },
  {
   "cell_type": "code",
   "execution_count": 126,
   "metadata": {
    "scrolled": false
   },
   "outputs": [
    {
     "name": "stdout",
     "output_type": "stream",
     "text": [
      "{1, 2, 3}\n",
      "3\n",
      "1\n"
     ]
    }
   ],
   "source": [
    "a = {1, 2, 3, 1}\n",
    "print(a)\n",
    "print(len(a))\n",
    "\n",
    "#print(a[0])\n",
    "b = list(a)\n",
    "print(b[0])\n",
    "\n"
   ]
  },
  {
   "cell_type": "code",
   "execution_count": 130,
   "metadata": {},
   "outputs": [
    {
     "name": "stdout",
     "output_type": "stream",
     "text": [
      "{1, 2, 3, 4, 5, 6, 7, 8, 9}\n",
      "{4, 5, 6}\n",
      "{1, 2, 3}\n",
      "{8, 9, 7}\n"
     ]
    }
   ],
   "source": [
    "s1 = {1, 2, 3, 4, 5, 6}\n",
    "s2 = {4 ,5, 6, 7, 8, 9}\n",
    "\n",
    "#합집합\n",
    "print(s1.union(s2))\n",
    "\n",
    "#교집합\n",
    "print(s1.intersection(s2))\n",
    "\n",
    "#차집합\n",
    "print(s1.difference(s2))\n",
    "print(s2.difference(s1))"
   ]
  },
  {
   "cell_type": "code",
   "execution_count": 137,
   "metadata": {
    "scrolled": true
   },
   "outputs": [
    {
     "name": "stdout",
     "output_type": "stream",
     "text": [
      "{1, 2, 3, 4, 5, 6, 7, 8}\n",
      "{1, 2, 3, 4, 5, 6, 7, 9, 8}\n",
      "{1, 2, 3, 4, 5, 6, 7, 8}\n",
      "{1, 2, 3, 4, 5, 6, 7}\n"
     ]
    }
   ],
   "source": [
    "#### 관련함수\n",
    "\n",
    "#여러개 추가\n",
    "s1.update({7,8})\n",
    "print(s1)\n",
    "\n",
    "#한개 추가\n",
    "s1.add(9)\n",
    "print(s1)\n",
    "\n",
    "#삭제\n",
    "s1.remove(9)\n",
    "print(s1)\n",
    "s1.discard(8)\n",
    "print(s1)\n",
    "\n",
    "#s1.remove(10) -> 오류가 생긴다.\n",
    "#s1.discard(10) "
   ]
  },
  {
   "cell_type": "code",
   "execution_count": 138,
   "metadata": {},
   "outputs": [
    {
     "name": "stdout",
     "output_type": "stream",
     "text": [
      "{1, 2, 3, 4}\n",
      "[1, 2, 3, 4]\n"
     ]
    }
   ],
   "source": [
    "a = [1, 2, 3, 4, 4, 2]\n",
    "b = set(a)\n",
    "print(b)\n",
    "b=list(b)\n",
    "print(b)"
   ]
  },
  {
   "cell_type": "markdown",
   "metadata": {},
   "source": [
    "## 3. Operator(연산자)\n",
    "\n",
    "    1) 산술 연산자\n",
    "        *, /, +, -, %(나머지만 가져올 때) //(몫만 가져올 때) **(거듭제곱)\n",
    "        \n",
    "    2) 비교 연산자\n",
    "        >, <, >=,<=, ==, !=(같지 않다) \n",
    "        \n",
    "    3) 논리 연산자(단락 회로)\n",
    "        and(모두가 참일 때), or, not(단항연산자, 토글연산자)\n",
    "        \n",
    "        x  y   xandy    xory     notx       x ^ y(서로 배타적일때만 참) \n",
    "        -------------------------------------------\n",
    "        T  T     T       T         F          F\n",
    "        T  F     F       T         F          T\n",
    "        F  T     F       T         T          T\n",
    "        F  F     F       F         T          F\n",
    "    \n",
    "     4) 대입 연산자\n",
    "         =(오른쪽에 있는 값을 왼쪽에 대입해라)\n",
    "         +=, -=, *=, /= \n",
    "          \n",
    " **연산자는 괄호를 잘 묶어서 사용할 것**\n",
    " \n",
    "   ====================================================\n",
    "   \n",
    "     5) 포함 여부 연산자\n",
    "         in, not in\n",
    "         \n",
    "     6) 비트(2진수) 연산자 <-진법 변환\n",
    "         &(and) |(or) ^(xor,배타적인 or연산자) ~ >> <<\n",
    "         ^(xor,배타적인 or연산자) 서로 배타적일 때만 참, 암호화 복호화에 매력적\n",
    "         \n",
    "         \n",
    " "
   ]
  },
  {
   "cell_type": "code",
   "execution_count": 140,
   "metadata": {},
   "outputs": [
    {
     "name": "stdout",
     "output_type": "stream",
     "text": [
      "3\n",
      "9\n"
     ]
    }
   ],
   "source": [
    "#### 대입연산자\n",
    "\n",
    "a = 1\n",
    "a = 5\n",
    "a = 3\n",
    "print(a)\n",
    "\n",
    "b = 1\n",
    "b += 5     # b = b + 5 \n",
    "b += 3     # b = b + 3   \n",
    "print(b)"
   ]
  },
  {
   "cell_type": "code",
   "execution_count": 4,
   "metadata": {
    "scrolled": true
   },
   "outputs": [
    {
     "name": "stdout",
     "output_type": "stream",
     "text": [
      "False\n",
      "False\n",
      "6\n",
      "4\n"
     ]
    }
   ],
   "source": [
    "#### 비트 연산자\n",
    "\n",
    "print(12<5 and 6>3) #and연산자는 \n",
    "print(12<5 & 6>3)  \n",
    "# 보통은 비트연산자의 성능이 좋다\n",
    "\n",
    "\n",
    "print(12 and 6)  #뒤에 있는 의미 없는 숫자\n",
    "print(12 & 6)    # \n",
    "print()"
   ]
  },
  {
   "cell_type": "code",
   "execution_count": 12,
   "metadata": {},
   "outputs": [
    {
     "name": "stdout",
     "output_type": "stream",
     "text": [
      "암호화 : 35402823\n",
      "복호화 : 648723\n"
     ]
    }
   ],
   "source": [
    "password = 648723\n",
    "key = 34984532\n",
    "\n",
    "encode = password ^ key\n",
    "print(\"암호화 :\", encode)\n",
    "\n",
    "decode = encode ^ key\n",
    "print(\"복호화 :\", decode)"
   ]
  },
  {
   "cell_type": "code",
   "execution_count": 2,
   "metadata": {},
   "outputs": [
    {
     "ename": "TypeError",
     "evalue": "unsupported operand type(s) for +: 'int' and 'str'",
     "output_type": "error",
     "traceback": [
      "\u001b[1;31m---------------------------------------------------------------------------\u001b[0m",
      "\u001b[1;31mTypeError\u001b[0m                                 Traceback (most recent call last)",
      "\u001b[1;32m<ipython-input-2-c84277a96b3e>\u001b[0m in \u001b[0;36m<module>\u001b[1;34m\u001b[0m\n\u001b[1;32m----> 1\u001b[1;33m \u001b[1;36m1\u001b[0m\u001b[1;33m+\u001b[0m\u001b[1;34m\"야구\"\u001b[0m\u001b[1;33m\u001b[0m\u001b[1;33m\u001b[0m\u001b[0m\n\u001b[0m",
      "\u001b[1;31mTypeError\u001b[0m: unsupported operand type(s) for +: 'int' and 'str'"
     ]
    }
   ],
   "source": [
    "1+\"야구"
   ]
  },
  {
   "cell_type": "code",
   "execution_count": 7,
   "metadata": {},
   "outputs": [
    {
     "name": "stdout",
     "output_type": "stream",
     "text": [
      "friend5\n"
     ]
    }
   ],
   "source": [
    "print(\"friend\"+ \"5\")"
   ]
  },
  {
   "cell_type": "code",
   "execution_count": null,
   "metadata": {},
   "outputs": [],
   "source": []
  }
 ],
 "metadata": {
  "kernelspec": {
   "display_name": "Python 3",
   "language": "python",
   "name": "python3"
  },
  "language_info": {
   "codemirror_mode": {
    "name": "ipython",
    "version": 3
   },
   "file_extension": ".py",
   "mimetype": "text/x-python",
   "name": "python",
   "nbconvert_exporter": "python",
   "pygments_lexer": "ipython3",
   "version": "3.8.3"
  }
 },
 "nbformat": 4,
 "nbformat_minor": 4
}
