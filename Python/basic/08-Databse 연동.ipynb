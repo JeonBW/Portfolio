{
 "cells": [
  {
   "cell_type": "markdown",
   "metadata": {},
   "source": [
    "### 파이썬과 MYSQL 활용\n",
    "- 서로 연결해서 쓰기위해서 중간에 모듈이 필요하다.\n",
    "1. 파이썬과 MySQL을 연결하는 모듈 : mysqlclient, PyMySQL\n",
    "    pip install mysqlclient\n",
    "    pip install PyMySQL\n"
   ]
  },
  {
   "cell_type": "code",
   "execution_count": 4,
   "metadata": {},
   "outputs": [
    {
     "name": "stdout",
     "output_type": "stream",
     "text": [
      "Requirement already satisfied: mysqlclient in c:\\users\\master\\anaconda3\\lib\\site-packages (2.0.1)\n",
      "Requirement already satisfied: PyMySQL in c:\\users\\master\\anaconda3\\lib\\site-packages (0.10.1)\n"
     ]
    }
   ],
   "source": [
    "\n"
   ]
  },
  {
   "cell_type": "code",
   "execution_count": 26,
   "metadata": {},
   "outputs": [
    {
     "name": "stdout",
     "output_type": "stream",
     "text": [
      "<_mysql.connection open to '127.0.0.1' at 0000026FA9FEC460>\n"
     ]
    }
   ],
   "source": [
    "# mysqlclient 모듈을 사용\n",
    "import MySQLdb\n",
    "\n",
    "conn = MySQLdb.connect(host=\"127.0.0.1\", user=\"root\", password=\"1111\", database=\"world\")\n",
    "print(conn)\n",
    "conn.close()\n"
   ]
  },
  {
   "cell_type": "code",
   "execution_count": 20,
   "metadata": {},
   "outputs": [],
   "source": [
    "config={\"host\":\"127.0.0.1\",\"user\":\"root\",\"password\":\"1111\",\"database\":\"world\"}"
   ]
  },
  {
   "cell_type": "code",
   "execution_count": 21,
   "metadata": {},
   "outputs": [
    {
     "name": "stdout",
     "output_type": "stream",
     "text": [
      "<_mysql.connection open to '127.0.0.1' at 0000026FA68140A0>\n"
     ]
    }
   ],
   "source": [
    "conn=MySQLdb.connect(**config)\n",
    "print(conn)\n",
    "conn.close()"
   ]
  },
  {
   "cell_type": "code",
   "execution_count": 31,
   "metadata": {},
   "outputs": [
    {
     "name": "stdout",
     "output_type": "stream",
     "text": [
      "1 Kabul AFG Kabol 1780000\n",
      "2 Qandahar AFG Qandahar 237500\n",
      "3 Herat AFG Herat 186800\n",
      "4 Mazar-e-Sharif AFG Balkh 127800\n",
      "5 Amsterdam NLD Noord-Holland 731200\n",
      "6 Rotterdam NLD Zuid-Holland 593321\n",
      "7 Haag NLD Zuid-Holland 440900\n",
      "8 Utrecht NLD Utrecht 234323\n",
      "9 Eindhoven NLD Noord-Brabant 201843\n",
      "10 Tilburg NLD Noord-Brabant 193238\n"
     ]
    }
   ],
   "source": [
    "#SELECT\n",
    "conn = MySQLdb.connect(**config)\n",
    "\n",
    "sql =\"select * from city limit 10\"\n",
    "#cursor()DB로 실어나르고 전달하고 실행하고 결과값을 가져오는 모든 중간과정을 하는 객체\n",
    "cursor = conn.cursor()\n",
    "cursor.execute(sql)\n",
    "\n",
    "#print(cursor)\n",
    "#반복문을 돌려서 확인 \n",
    "#for data in cursor:               #기본적으로 튜플로 묶어서 가져온다.\n",
    "    #print(data)\n",
    "    #print(\"%d %s %s %s %d\"%data)  #튜플에 있는것을 자동으로 풀어주는것 : 언패킹\n",
    " \n",
    "for a,b,c,d,e in cursor:\n",
    "    print(a,b,c,d,e)\n",
    "conn.close()\n",
    "    "
   ]
  },
  {
   "cell_type": "code",
   "execution_count": 39,
   "metadata": {},
   "outputs": [],
   "source": [
    "#insert\n",
    "conn = MySQLdb.connect(**config)\n",
    "sql = \"create table if not exists tbltest(empno int,ename varchar(10),sal int,job varchar(10),mgr int,deptno int, hiredate  datetime)\"                              \n",
    "                                    #파이썬에서도 DB테이블을 만들 수 있다.\n",
    "                                    #if not exists : 테이블이 존재하지 않을 때에만 새로 만들기 위해\n",
    "cur=conn.cursor()\n",
    "cur.execute(sql)\n",
    "\n",
    "sql = \"insert into tbltest(empno, ename, sal) values(1,'scoot',4000)\"\n",
    "cur.execute(sql)        #DML은 commit을 반드시 불러와야 일이 마무리된다.\n",
    "conn.commit()\n",
    "\n",
    "\n",
    "\n",
    "conn.close()"
   ]
  },
  {
   "cell_type": "code",
   "execution_count": 46,
   "metadata": {},
   "outputs": [],
   "source": [
    "# 다른곳으로부터 불러왔을 때\n",
    "conn = MySQLdb.connect(**config)\n",
    "cur=conn.cursor()\n",
    "\n",
    "empno=2\n",
    "ename='miller'\n",
    "sal= 1300\n",
    "\n",
    "sql = \"insert into tbltest(empno, ename, sal) values(\"+str(empno) + \", '\"+ename +\"', \"+ str(sal) +\")\"\n",
    "#파이썬에서 결격사유가 없어야 하기 때문에 str로 \n",
    "#sql 에서는 ''로 묶지 않으면 숫자로 자동 변환된다.\n",
    "#print(sql)\n",
    "\n",
    "cur.execute(sql)\n",
    "conn.commit()\n",
    "\n",
    "conn.close()"
   ]
  },
  {
   "cell_type": "code",
   "execution_count": 47,
   "metadata": {},
   "outputs": [],
   "source": [
    "conn = MySQLdb.connect(**config)\n",
    "cur=conn.cursor()\n",
    "\n",
    "empno=3\n",
    "ename='tom'\n",
    "sal= 2000\n",
    "sql = \"insert into tbltest(empno, ename, sal) values(%s, %s, %s)\"\n",
    "sql_data=(str(empno), str(ename), str(sal))\n",
    "\n",
    "cur.execute(sql, sql_data)    \n",
    "conn.commit()\n",
    "conn.close()"
   ]
  },
  {
   "cell_type": "code",
   "execution_count": null,
   "metadata": {},
   "outputs": [],
   "source": []
  },
  {
   "cell_type": "code",
   "execution_count": 48,
   "metadata": {},
   "outputs": [],
   "source": [
    "#예외처리등을 꼼꼼하게 작성해야한다.(오류가나면 close가 안될 수 있다.)\n",
    "#반드시 닫아줄 수 있게 finally 실행 할 수 있도록\n",
    "\n",
    "conn = MySQLdb.connect(**config)\n",
    "cur=conn.cursor()\n",
    "try:\n",
    "    empno=3\n",
    "    ename='tom'\n",
    "    sal= 2000\n",
    "    sql = \"insert into tbltest(empno, ename, sal) values(%s, %s, %s)\"\n",
    "    sql_data=(str(empno), str(ename), str(sal))\n",
    "\n",
    "    cur.execute(sql, sql_data)    \n",
    "    conn.commit()\n",
    "finally :    \n",
    "    conn.close()"
   ]
  },
  {
   "cell_type": "code",
   "execution_count": 51,
   "metadata": {},
   "outputs": [],
   "source": [
    "#데이터를 여러개 입력하기\n",
    "conn = MySQLdb.connect(**config)\n",
    "cur=conn.cursor()\n",
    "\n",
    "for i in range(10):\n",
    "    sql = \"insert into tbltest(empno, ename, sal) values('5', 'jane', 1000)\"     \n",
    "    cur.execute(sql)    \n",
    "    conn.commit()\n",
    "    \n",
    "conn.close()"
   ]
  },
  {
   "cell_type": "code",
   "execution_count": 58,
   "metadata": {},
   "outputs": [
    {
     "name": "stdout",
     "output_type": "stream",
     "text": [
      "1 scoot 4000\n",
      "1 scoot 4000\n",
      "2 miller 1300\n",
      "3 tom 2000\n",
      "(3, 'tom', 2000, None, None, None, None)\n"
     ]
    }
   ],
   "source": [
    "#curser 객체의 fetchall(), fetchmany()원하는 만큼, fetchone()하나만\n",
    "#데이터를 몇개를 가져올 것인가 \n",
    "conn = MySQLdb.connect(**config)\n",
    "cur=conn.cursor()\n",
    "\n",
    "try:\n",
    "    cur.execute(\"select * from tbltest\")\n",
    "    \n",
    "    #for i in cur.fetchall():          #fetchall은 default값이라 생략가능하다.\n",
    "        #print(i)\n",
    "    many = cur.fetchmany(4)            #fetchmany 원하는 만큼만 \n",
    "    for i in many:\n",
    "        print(i)\n",
    "        \n",
    "    one = cur.fetchone()\n",
    "    print(one)\n",
    "    \n",
    "finally :    \n",
    "    conn.close()\n"
   ]
  },
  {
   "cell_type": "code",
   "execution_count": 61,
   "metadata": {},
   "outputs": [
    {
     "name": "stdout",
     "output_type": "stream",
     "text": [
      "1 scoot 4000\n",
      "1 scoot 4000\n",
      "2 miller 1300\n",
      "3 tom 2000\n",
      "3 tom 2000\n",
      "5 jane 1000\n",
      "5 jane 1000\n",
      "5 jane 1000\n",
      "5 jane 1000\n",
      "5 jane 1000\n",
      "5 jane 1000\n",
      "5 jane 1000\n",
      "5 jane 1000\n",
      "5 jane 1000\n",
      "5 jane 1000\n"
     ]
    }
   ],
   "source": [
    "#DictCursor dict 형식으로 쓸 수 있는 커서\n",
    "\n",
    "conn = MySQLdb.connect(**config)\n",
    "cur=conn.cursor(MySQLdb.cursors.DictCursor)\n",
    "\n",
    "try:\n",
    "    cur.execute(\"select * from tbltest\")\n",
    "    \n",
    "    for i in cur.fetchall():          \n",
    "        #print(i[0],i[1],i[2])\n",
    "        print(i[\"empno\"],i[\"ename\"],i[\"sal\"])\n",
    "    \n",
    "finally :    \n",
    "    conn.close()"
   ]
  },
  {
   "cell_type": "code",
   "execution_count": null,
   "metadata": {},
   "outputs": [],
   "source": [
    "#파일 그대로 DB에다가 저장하는 방법\n",
    "#CSV 파일을 DB에 저장\n",
    "\"\"\"\n",
    "CREATE TABLE IF NOT EXISTS suppliers(\n",
    "    Supplier_Name    varchar(20),\n",
    "    Invoice_Number   varchar(20),\n",
    "    Part_Number      varchar(20),\n",
    "    Cost             float,\n",
    "    Purchase_Date    date\n",
    ");\n",
    "\"\"\"\n",
    "\n",
    "\n"
   ]
  },
  {
   "cell_type": "code",
   "execution_count": 72,
   "metadata": {
    "scrolled": true
   },
   "outputs": [],
   "source": [
    "#csv 파일 불러오기\n",
    "#그냥 open 으로 불러오면 ,로 다 분리해야한다.\n",
    "#csv 모듈을 사용하면 ,로 구분해서 데이터를 분리해온다.\n",
    "import csv\n",
    "from datetime import datetime\n",
    "\n",
    "file = csv.reader(open(\"C:\\p/input.csv\"))\n",
    "#print(file)\n",
    "\n",
    "header = next(file)           #현재 한줄 읽어오고 다음 줄로 포인트를 옮기는 함수 next \n",
    "#print(header)                 #첫번째 줄은 필드명이기때문에 next로 포인트를 한 줄 내린다.\n",
    "\n",
    "#a = next(file)                 #next를 쓸 때마다 다음줄 다음줄 다음줄.....\n",
    "#print(a)\n",
    "\n",
    "conn = MySQLdb.connect(**config)\n",
    "cur=conn.cursor()\n",
    "\n",
    "try:\n",
    "    cur.execute(\"delete from suppliers\")  #기존에 데이터는 지우고\n",
    "    conn.commit()\n",
    "    for row in file:    #next로 호출해서 그 다음줄 부터 데이터갯수만큼 \n",
    "        #print(row)       #반목문 안에서는 next가 자동 적용\n",
    "        #cur.execute(\"insert into suppliers values(%s, %s, %s, %s, %s)\", row)\n",
    "        \n",
    "        data = []\n",
    "        for col in range(len(header)):              #열의 개수만큼 반복\n",
    "            if col == 4:\n",
    "                tmp = datetime.strptime(row[col], '%Y-%m-%d')\n",
    "                data.append(tmp)\n",
    "            else:\n",
    "                data.append(row[col])\n",
    "        cur.execute(\"insert into suppliers values(%s, %s, %s, %s, %s)\", data)\n",
    "    conn.commit()\n",
    "    \n",
    "finally:\n",
    "    conn.close()"
   ]
  },
  {
   "cell_type": "code",
   "execution_count": 78,
   "metadata": {},
   "outputs": [],
   "source": [
    "#DB에 있는 데이터를 csv파일로 저장하는 방법\n",
    "\n",
    "conn = MySQLdb.connect(**config)\n",
    "cur=conn.cursor()\n",
    "\n",
    "try:\n",
    "    cur.execute(\"select * from suppliers where cost > 500000\")\n",
    "    \n",
    "    file = csv.writer(open(\"C:\\p/output.csv\", 'w'), delimiter=\",\") #저장할때는 writer\n",
    "    #delimiter =\",\" ,로 구분해서 저장하곘다 csv로 저장하겠다. csv로 저장할때는 기본(생략가능)\n",
    "    \n",
    "    header = [\"SupplierName\", \"Invoice Number\", \"Part Number\", \"Cost\", \"Purchase Date\"]\n",
    "    file.writerow(header) #한행씩 저장\n",
    "    \n",
    "    for row in cur:\n",
    "        file.writerow(row)\n",
    "finally:\n",
    "    conn.close()"
   ]
  },
  {
   "cell_type": "markdown",
   "metadata": {},
   "source": [
    "## CRUD\n",
    "- DB의 가장 기본 기능 \n",
    "- 만들고 업데이트하고 삭제하고...."
   ]
  },
  {
   "cell_type": "code",
   "execution_count": null,
   "metadata": {},
   "outputs": [],
   "source": []
  },
  {
   "cell_type": "markdown",
   "metadata": {},
   "source": [
    "##\n",
    "import MySQLdb\n",
    "\n",
    "conn = MySQLdb.connect(host=\"127.0.0.1\", user=\"root\", password=\"1111\", database=\"testdb\")\n",
    "print(conn)\n",
    "conn.close()    <- 항상 닫아줘서 쓸데없는 퍼포먼스를 줄인다.\n",
    "\n",
    "-----------------------------------------------------------------------------\n",
    "config={\"host\":\"127.0.0.1\",\"user\":\"root\",\"password\":\"1111\",\"database\":\"testdb\"}\n",
    "conn=MySQLdb.connect(**config)\n",
    "print(conn)\n",
    "conn.close()\n",
    "\n",
    "- 파이썬에서 DB 연결"
   ]
  },
  {
   "cell_type": "markdown",
   "metadata": {},
   "source": [
    "##\n",
    "import pymysql\n",
    "\n",
    "conn = pymysql.connect(host=\"127.0.0.1\", user=\"root\", password=\"1111\", database=\"testdb\")\n",
    "print(conn)\n",
    "conn.close()    <- 항상 닫아줘서 쓸데없는 퍼포먼스를 줄인다.\n",
    "- 파이썬에서 DB 연결"
   ]
  },
  {
   "cell_type": "code",
   "execution_count": null,
   "metadata": {},
   "outputs": [],
   "source": [
    "# pymysql 모듈을 사용\n",
    "import pymysql"
   ]
  },
  {
   "cell_type": "code",
   "execution_count": null,
   "metadata": {},
   "outputs": [],
   "source": []
  },
  {
   "cell_type": "markdown",
   "metadata": {},
   "source": [
    "----\n",
    "## 파이썬과 SQLite\n",
    "\n",
    "- 가벼우면서도 안정성을 인정받았고 여러기기와의 호환성도 좋다.(스마트폰에서는 필수로 깔려 있음)\n",
    "\n",
    "1. 로컬 DB로 사용할 수 있는 DBMS의 종류\n",
    "    - ACCESS\n",
    "    - SQLite\n",
    "    - Microsoft SQL Sever Compact Edition\n",
    "    - Firebird Embedded Server\n",
    "    - H2\n",
    "    - HSQL\n",
    "    - Apache Derby\n",
    "    ......\n",
    "\n",
    "2. SQLite의 특징\n",
    "    - 파일 기반의 DBMS, 저메모리, 빠른 처리속도(파일을 아무것에나 저장해서 다른곳에서 불러올 수 있다.)\n",
    "    - 오픈 소스(무료)이고 코드까지 공개되어 수정해서 쓸 수 있다.\n",
    "    - 별도의 DB서버가 없ㄷ어도 쉽고 편리하게 사용할 수 있는 Embeded SQl DB엔진\n",
    "    - 안드로이드, 아이폰 등의 스마트폰에 기본 내장된 DB\n",
    "    - 파이썬에도 내장 (파이썬으로 쓸때에는 별도로 다운로드 받을 필요없다.\n",
    "    - 표준 SQL 지원\n",
    "    ------------------------------------\n",
    "    - 컬럼을 삭제하거나 변경하는 것 등이 제한\n",
    "    - Left Outer Join만 지원(Right, Full 은 지원하지 않는다.)\n",
    "    - View를 읽기전용(조회용)만 제공\n",
    "    \n",
    "    \n",
    "3. 공식 사이트\n",
    "    http://sqlite.org\n",
    "    \n",
    "    \n",
    "4. 클라이언트 툴\n",
    "    http://www.sqliteexpert.com\n",
    "    f5 전체실행\n",
    "    쉬프트f5 한줄씩실행\n",
    "    컨트롤f5 선택블럭 실행\n",
    "    DDL탭은 어떻게 작성되었는지 보여주는 탭\n",
    "    date('now') 현재 날짜"
   ]
  },
  {
   "cell_type": "code",
   "execution_count": 1,
   "metadata": {},
   "outputs": [],
   "source": [
    "import sqlite3\n"
   ]
  },
  {
   "cell_type": "code",
   "execution_count": 15,
   "metadata": {},
   "outputs": [
    {
     "name": "stdout",
     "output_type": "stream",
     "text": [
      "2.6.0\n",
      "3.32.3\n"
     ]
    }
   ],
   "source": [
    "print(sqlite3.version)                #모듈의 버전\n",
    "print(sqlite3.sqlite_version)        #sqlite의 DB 버전"
   ]
  },
  {
   "cell_type": "code",
   "execution_count": 24,
   "metadata": {},
   "outputs": [
    {
     "name": "stdout",
     "output_type": "stream",
     "text": [
      "<sqlite3.Connection object at 0x000001CD2FEB3030>\n",
      "<sqlite3.Cursor object at 0x000001CD2FEAB9D0>\n"
     ]
    }
   ],
   "source": [
    "#DB 불러오기\n",
    "conn = sqlite3.connect(\"sqlitetest.db\")\n",
    "print(conn)\n",
    "\n",
    "cur = conn.cursor()\n",
    "print(cur)\n",
    "\n",
    "cur.close()\n",
    "conn.close()"
   ]
  },
  {
   "cell_type": "code",
   "execution_count": 25,
   "metadata": {},
   "outputs": [
    {
     "name": "stdout",
     "output_type": "stream",
     "text": [
      "('최주현', '하늘과 땅')\n",
      "('최주현', '바다')\n",
      "('유은정', '바다')\n",
      "('박성우', '문')\n",
      "('최주현', '문')\n",
      "('박성우', '천국')\n",
      "('최지은', '천국')\n",
      "('최주현', '천국')\n",
      "('박성우', '고슴도치')\n",
      "('서금동', '나')\n"
     ]
    }
   ],
   "source": [
    "#select(조회)\n",
    "conn = sqlite3.connect(\"sqlitetest.db\")\n",
    "cur = conn.cursor()\n",
    "cur.execute(\"select * from tblbook\")\n",
    "for row in cur.fetchall():\n",
    "    print(row)\n",
    "    \n",
    "cur.close()\n",
    "conn.close()"
   ]
  },
  {
   "cell_type": "code",
   "execution_count": 26,
   "metadata": {},
   "outputs": [
    {
     "name": "stdout",
     "output_type": "stream",
     "text": [
      "(1, '홍길동', '2020-12-25')\n",
      "(2, '임꺽정', '2020-11-20')\n"
     ]
    }
   ],
   "source": [
    "\"\"\"\n",
    "mysqllite.db에 테이블 생성\n",
    "create table tblMember(\n",
    "id int,\n",
    "name varchar(10),\n",
    "regdate datetime\n",
    ");\n",
    "\n",
    "insert into tblMember(id, name, regdate) values(1, '홍길동', '2020-12-25');\n",
    "insert into tblMember(id, name, regdate) values(2, '임꺽정', date('now'));\n",
    "\n",
    "\"\"\"\n",
    "\n",
    "conn = sqlite3.connect(\"mysqlite.db\")\n",
    "cur = conn.cursor()\n",
    "cur.execute(\"select * from tblMember\")\n",
    "for row in cur.fetchall():\n",
    "    print(row)\n",
    "    \n",
    "cur.close()\n",
    "conn.close()\n"
   ]
  },
  {
   "cell_type": "code",
   "execution_count": 34,
   "metadata": {},
   "outputs": [
    {
     "name": "stdout",
     "output_type": "stream",
     "text": [
      "<sqlite3.Connection object at 0x000001CD2FEB3210>\n",
      "(1, '홍길동')\n",
      "(1, '홍길동')\n"
     ]
    }
   ],
   "source": [
    "#파이썬에서 db생성하기\n",
    "#불러오고자 하는 Db가 없으면 자동으로 생성된다.\n",
    "conn = sqlite3.connect(\"auto.db\")\n",
    "print(conn)\n",
    "cur = conn.cursor()\n",
    "\n",
    "cur.execute(\"create table if not exists tblmember(id  int, name  varchar(10))\")\n",
    "conn.commit()\n",
    "\n",
    "cur.execute(\"insert into tblmember values(1,'홍길동')\")\n",
    "conn.commit()\n",
    "\n",
    "cur.execute(\"select*from tblmember\")\n",
    "for row in cur.fetchall():\n",
    "    print(row)\n",
    "    \n",
    "cur.close()\n",
    "conn.close()"
   ]
  },
  {
   "cell_type": "code",
   "execution_count": 17,
   "metadata": {
    "scrolled": true
   },
   "outputs": [
    {
     "name": "stdout",
     "output_type": "stream",
     "text": [
      "('table', 'suppliers', 'suppliers', 2, 'CREATE TABLE suppliers(\\r\\n    Supplier_Name     varchar(20),\\r\\n    Invoice_Number    varchar(20),\\r\\n    Part_Number       varchar(20),\\r\\n    Cost              float,\\r\\n    Purchase_Date     date\\r\\n)')\n",
      "('table', 'tblBook', 'tblBook', 3, 'CREATE TABLE tblBook(\\r\\nauthor\\tvarchar(20),\\r\\ntitle\\tvarchar(20)\\r\\n)')\n",
      "<_csv.reader object at 0x000002DCA0919100>\n",
      "['Supplier Name', 'Invoice Number', 'Part Number', 'Cost', 'Purchase Date']\n",
      "['A', '001-1001', '2341', '500000', '2014-01-20']\n",
      "['A', '001-1002', '2341', '500000', '2014-01-20']\n",
      "['A', '001-1003', '5467', '750000', '2014-01-20']\n",
      "['A', '001-1004', '5467', '750000', '2014-01-20']\n",
      "['B', '001-1005', '7009', '250000', '2018-01-30']\n",
      "['B', '001-1006', '7009', '250000', '2018-01-30']\n",
      "['B', '001-1007', '6650', '125000', '2017-02-03']\n",
      "['B', '001-1008', '6650', '125000', '2017-02-03']\n",
      "['C', '001-1009', '3321', '615000', '2017-02-03']\n",
      "['C', '001-1010', '3321', '615000', '2017-02-10']\n",
      "['C', '001-1011', '3321', '615000', '2017-02-17']\n",
      "['C', '001-1012', '3321', '615000', '2017-02-24']\n"
     ]
    }
   ],
   "source": [
    "# CSV파일을 읽어서 DB에 저장하기 (SQLite)\n",
    "import csv \n",
    "conn = sqlite3.connect(\"sqlitetest.db\")\n",
    "cur = conn.cursor()\n",
    "\n",
    "tables = cur.execute(\"select * from sqlite_master where type='table'\") #sqlite_master : 시스템 테이블 (환경설정등의 정보를 담고 있는)\n",
    "for i in tables:\n",
    "    print(i)\n",
    "\n",
    "file = csv.reader(open(\"C:/p/input.csv\",\"r\"),delimiter=\",\")   #delimiter는 기본적으로 ,로불러오기 떄문에 ,로 분리할때는 생략 가능\n",
    "print(file)\n",
    "\n",
    "header = next(file)\n",
    "print(header)\n",
    "\n",
    "for row in file:\n",
    "    print(row)\n",
    "    cur.execute(\"insert into suppliers values(?, ?, ?, ?, ?)\",row)\n",
    "    \n",
    "conn.commit()\n",
    "cur.close()\n",
    "conn.close()"
   ]
  },
  {
   "cell_type": "code",
   "execution_count": 18,
   "metadata": {},
   "outputs": [
    {
     "name": "stdout",
     "output_type": "stream",
     "text": [
      "('A', '001-1001', '2341', 500000.0, '2014-01-20')\n",
      "('A', '001-1002', '2341', 500000.0, '2014-01-20')\n",
      "('A', '001-1003', '5467', 750000.0, '2014-01-20')\n",
      "('A', '001-1004', '5467', 750000.0, '2014-01-20')\n",
      "('B', '001-1005', '7009', 250000.0, '2018-01-30')\n"
     ]
    }
   ],
   "source": [
    "#select로 확인\n",
    "conn = sqlite3.connect(\"sqlitetest.db\")\n",
    "cur = conn.cursor()\n",
    "\n",
    "cur.execute(\"select * from suppliers\")\n",
    "\n",
    "for row in cur.fetchmany(5):\n",
    "    print(row)\n",
    "\n",
    "cur.close()\n",
    "conn.close()"
   ]
  },
  {
   "cell_type": "code",
   "execution_count": 34,
   "metadata": {},
   "outputs": [
    {
     "name": "stdout",
     "output_type": "stream",
     "text": [
      "('tom', '010-111-1111')\n",
      "('Johnson', '010-222-2222')\n",
      "('jane', '010-333-333')\n",
      "('jerry', '010-444-4444')\n",
      "('marry', '010-555-5555')\n"
     ]
    }
   ],
   "source": [
    "#메모리DB\n",
    "#데이터를 메모리에서 처리\n",
    "conn = sqlite3.connect(\":memory:\")   #메모리자체에 DB를 만드는 (메모리안에는 하나의 DB만 만들어진다, 파일로 만들어지는 것이 아니다.)\n",
    "#print(conn)\n",
    "cur = conn.cursor()\n",
    "cur.execute(\"create table phonebook(name text, phone text);\")\n",
    "cur.execute(\"insert into phonebook values(?, ?);\", (\"tom\", '010-111-1111'))         #commit를 안함 / 파일로 저장하는 것이 아니기때문에 트랜잭션을 안함\n",
    "\n",
    "# 입력 데이터 인자를 변수명으로 처리\n",
    "sql = \"insert into phonebook values(:vName, :vPhone)\"                # : 변수를 표시하기위해 찍는다    \n",
    "cur.execute(sql, {\"vPhone\":\"010-222-2222\", \"vName\":\"Johnson\"})       # 값을 넣을때는 : 를 찍지 않는다.\n",
    "\n",
    "#원래는 insert는 동시에 불가(그래서 반복문을 돌려서 사용)\n",
    "#여러 개의 데이터를 한번에 입력 \n",
    "datalist=(('jane','010-333-333'),('jerry','010-444-4444'),('marry','010-555-5555'))  #튜플로 묶어줌\n",
    "cur.executemany(\"insert into phonebook values(?, ?);\", datalist)  #datalist 개수에 맞춰 반복을 돌려줌\n",
    "\n",
    "\n",
    "\n",
    "cur.execute(\"select * from phonebook\")\n",
    "for row in cur:\n",
    "    print(row)\n",
    "    \n",
    "#메모리에 그대로 두고 닫으면 사라진다. 따라서 파일로 따로 저장해야한다.\n",
    "#작업한 내용을 script로 저장\n",
    "f = open(\"dump.sql\",\"w\") #확장자는 sql(표준Sql로 작성된 것은 .sql로 저장)\n",
    "for line in conn.iterdump(): #iterdump연결하고나서 했던 활동들을 한줄씩 불러오는 함수\n",
    "    f.write(\"{}\\n\".format(line))\n",
    "\n",
    "f.close()\n",
    "conn.close()"
   ]
  },
  {
   "cell_type": "code",
   "execution_count": 36,
   "metadata": {},
   "outputs": [],
   "source": [
    "# 스크립트 불러오기\n",
    "conn = sqlite3.connect(\"sqlitetest.db\")\n",
    "cur = conn.cursor()\n",
    "\n",
    "file = open(\"dump.sql\",\"r\")\n",
    "script=file.read()\n",
    "#print(script)\n",
    "\n",
    "cur.executescript(script)#전체 명령어를 한번에 실행\n",
    "conn.close()"
   ]
  },
  {
   "cell_type": "markdown",
   "metadata": {},
   "source": [
    "---\n",
    "### MongoDB 와 연동\n",
    "\n",
    "- pip install pymongo\n"
   ]
  },
  {
   "cell_type": "code",
   "execution_count": 1,
   "metadata": {},
   "outputs": [],
   "source": [
    "#import pymongo\n",
    "from pymongo import MongoClient"
   ]
  },
  {
   "cell_type": "markdown",
   "metadata": {},
   "source": [
    "### 1. 서버와 연결"
   ]
  },
  {
   "cell_type": "code",
   "execution_count": 8,
   "metadata": {},
   "outputs": [
    {
     "name": "stdout",
     "output_type": "stream",
     "text": [
      "MongoClient(host=['127.0.0.1:27017'], document_class=dict, tz_aware=False, connect=True)\n"
     ]
    }
   ],
   "source": [
    "#conn = pymongo.MongoClient(\"127.0.0.1\", 27017)  #(IP주소, 포트번호)\n",
    "#conn = MongoClient(\"127.0.0.1\", 27017)\n",
    "conn = MongoClient(\"mongodb://127.0.0.1:27017\")\n",
    "print(conn)\n",
    "conn.close()"
   ]
  },
  {
   "cell_type": "markdown",
   "metadata": {},
   "source": [
    "### 2. DB 연결"
   ]
  },
  {
   "cell_type": "code",
   "execution_count": 12,
   "metadata": {},
   "outputs": [
    {
     "name": "stdout",
     "output_type": "stream",
     "text": [
      "Database(MongoClient(host=['127.0.0.1:27017'], document_class=dict, tz_aware=False, connect=True), 'test')\n"
     ]
    }
   ],
   "source": [
    "conn = MongoClient(\"mongodb://127.0.0.1:27017\")\n",
    "#dbname = conn.test\n",
    "#dbname = conn.test2\n",
    "#dbname = conn[\"test\"]\n",
    "dbname = conn.get_database(\"test\")\n",
    "print(dbname)\n",
    "conn.close()"
   ]
  },
  {
   "cell_type": "markdown",
   "metadata": {},
   "source": [
    "### 3. Collection 과 연결"
   ]
  },
  {
   "cell_type": "code",
   "execution_count": 7,
   "metadata": {},
   "outputs": [
    {
     "name": "stdout",
     "output_type": "stream",
     "text": [
      "Collection(Database(MongoClient(host=['127.0.0.1:27017'], document_class=dict, tz_aware=False, connect=True), 'test'), 'articles')\n"
     ]
    }
   ],
   "source": [
    "conn = MongoClient(\"mongodb://127.0.0.1:27017\")\n",
    "dbname = conn.get_database(\"test\")\n",
    "\n",
    "#collect = dbname.articles   #dbname.컬렉션명(존재하면)\n",
    "#collect = dbname[\"articles\"]\n",
    "collect = dbname.get_collection(\"articles\")\n",
    "print(collect)\n",
    "conn.close()"
   ]
  },
  {
   "cell_type": "markdown",
   "metadata": {},
   "source": [
    "### 4. 데이터 입력(1개)"
   ]
  },
  {
   "cell_type": "code",
   "execution_count": 19,
   "metadata": {
    "scrolled": false
   },
   "outputs": [
    {
     "name": "stdout",
     "output_type": "stream",
     "text": [
      "5fbf061a25142f259efbd2bd\n",
      "8\n",
      "{'_id': ObjectId('5fbded3f58939d7f7b559006'), 'name': 'Abet', 'age': 20.0, 'score': 10.0}\n",
      "{'_id': ObjectId('5fbded3f58939d7f7b559007'), 'name': 'Betty', 'age': 20.0, 'score': 10.0}\n",
      "{'_id': ObjectId('5fbded3f58939d7f7b559008'), 'name': 'Charlie', 'age': 23.0, 'skills': ['mongodb', 'nodejs']}\n",
      "{'_id': ObjectId('5fbded3f58939d7f7b559009'), 'name': 'David', 'age': 23.0, 'score': 20.0}\n",
      "{'_id': ObjectId('5fbdf4c915b84709681b9858'), 'name': 'Elly', 'age': 17.0, 'score': 10.0}\n",
      "{'_id': ObjectId('5fbf005825142f259efbd2b9'), 'author': 'Mike', 'text': 'my first blog post!', 'tag': ['mongdb', 'python']}\n",
      "{'_id': ObjectId('5fbf025b25142f259efbd2bb'), 'author': 'Tom', 'text': 'my first blog post!', 'tag': ['mongdb', 'python']}\n",
      "{'_id': ObjectId('5fbf061a25142f259efbd2bd'), 'author': 'Tom', 'Text': 'my first blog post!', 'tag': ['mongdb', 'python']}\n"
     ]
    }
   ],
   "source": [
    "conn = MongoClient(\"mongodb://127.0.0.1:27017\")\n",
    "dbname = conn.get_database(\"test\")\n",
    "collect = dbname.get_collection(\"people\")\n",
    "\n",
    "\n",
    "\n",
    "\n",
    "\n",
    "#data={\"author\":\"Mike\", \"text\":\"my first blog post!\", \"tag\":[\"mongdb\",\"python\"]}\n",
    "#collect.insert_one(data) #데이터가 하나가 입력\n",
    "\n",
    "# 입력하면서 ID가져오기\n",
    "data={\"author\":\"Tom\", \"text\":\"my first blog post!\", \"tag\":[\"mongdb\",\"python\"]}\n",
    "post_id=collect.insert_one(data).inserted_id\n",
    "print(post_id)\n",
    "\n",
    "print(collect.count_documents({})) #데이터가 몇개 들어가있는지 확인\n",
    "\n",
    "for i in collect.find():\n",
    "    print(i)\n",
    "\n",
    "conn.close()"
   ]
  },
  {
   "cell_type": "markdown",
   "metadata": {},
   "source": [
    "### 5. 데이터 입력하기 (여러 개)"
   ]
  },
  {
   "cell_type": "code",
   "execution_count": 21,
   "metadata": {},
   "outputs": [
    {
     "name": "stdout",
     "output_type": "stream",
     "text": [
      "8\n",
      "18\n"
     ]
    }
   ],
   "source": [
    "conn = MongoClient(\"mongodb://127.0.0.1:27017\")\n",
    "dbname = conn.get_database(\"test\")\n",
    "collect = dbname.get_collection(\"people\")\n",
    "\n",
    "print(collect.count_documents({}))\n",
    "\n",
    "collect.insert_many([{\"number\":i} for i in range(10)]) #list 컴플레이션\n",
    "print(collect.count_documents({}))\n",
    "conn.close()"
   ]
  },
  {
   "cell_type": "code",
   "execution_count": 23,
   "metadata": {},
   "outputs": [
    {
     "name": "stdout",
     "output_type": "stream",
     "text": [
      "[{'number': 0}, {'number': 1}, {'number': 2}, {'number': 3}, {'number': 4}, {'number': 5}, {'number': 6}, {'number': 7}, {'number': 8}, {'number': 9}]\n"
     ]
    }
   ],
   "source": [
    "datas = []\n",
    "for i in range(10):\n",
    "    data={\"number\":i}\n",
    "    datas.append(data)\n",
    "print(datas)"
   ]
  },
  {
   "cell_type": "code",
   "execution_count": 25,
   "metadata": {},
   "outputs": [
    {
     "name": "stdout",
     "output_type": "stream",
     "text": [
      "{'_id': ObjectId('5fbded3f58939d7f7b559006'), 'name': 'Abet', 'age': 20.0, 'score': 10.0}\n",
      "{'_id': ObjectId('5fbded3f58939d7f7b559007'), 'name': 'Betty', 'age': 20.0, 'score': 10.0}\n",
      "{'_id': ObjectId('5fbded3f58939d7f7b559008'), 'name': 'Charlie', 'age': 23.0, 'skills': ['mongodb', 'nodejs']}\n",
      "{'_id': ObjectId('5fbded3f58939d7f7b559009'), 'name': 'David', 'age': 23.0, 'score': 20.0}\n",
      "{'_id': ObjectId('5fbdf4c915b84709681b9858'), 'name': 'Elly', 'age': 17.0, 'score': 10.0}\n",
      "{'_id': ObjectId('5fbf005825142f259efbd2b9'), 'author': 'Mike', 'text': 'my first blog post!', 'tag': ['mongdb', 'python']}\n",
      "{'_id': ObjectId('5fbf025b25142f259efbd2bb'), 'author': 'Tom', 'text': 'my first blog post!', 'tag': ['mongdb', 'python']}\n",
      "{'_id': ObjectId('5fbf061a25142f259efbd2bd'), 'author': 'Tom', 'Text': 'my first blog post!', 'tag': ['mongdb', 'python']}\n",
      "{'_id': ObjectId('5fbf06fb25142f259efbd2c0'), 'number': 0}\n",
      "{'_id': ObjectId('5fbf06fb25142f259efbd2c1'), 'number': 1}\n",
      "{'_id': ObjectId('5fbf06fb25142f259efbd2c2'), 'number': 2}\n",
      "{'_id': ObjectId('5fbf06fb25142f259efbd2c3'), 'number': 3}\n",
      "{'_id': ObjectId('5fbf06fb25142f259efbd2c4'), 'number': 4}\n",
      "{'_id': ObjectId('5fbf06fb25142f259efbd2c5'), 'number': 5}\n",
      "{'_id': ObjectId('5fbf06fb25142f259efbd2c6'), 'number': 6}\n",
      "{'_id': ObjectId('5fbf06fb25142f259efbd2c7'), 'number': 7}\n",
      "{'_id': ObjectId('5fbf06fb25142f259efbd2c8'), 'number': 8}\n",
      "{'_id': ObjectId('5fbf06fb25142f259efbd2c9'), 'number': 9}\n",
      "{'_id': ObjectId('5fbf086c25142f259efbd2cb'), 'name': 'aron', 'age': 20}\n",
      "{'_id': ObjectId('5fbf086c25142f259efbd2cc'), 'name': 'tom', 'age': 21}\n",
      "{'_id': ObjectId('5fbf086c25142f259efbd2cd'), 'name': 'jane', 'age': 22}\n",
      "{'_id': ObjectId('5fbf086c25142f259efbd2ce'), 'name': 'jerry', 'age': 23}\n",
      "{'_id': ObjectId('5fbf087a25142f259efbd2d0'), 'name': 'aron', 'age': 20}\n",
      "{'_id': ObjectId('5fbf087a25142f259efbd2d1'), 'name': 'tom', 'age': 21}\n",
      "{'_id': ObjectId('5fbf087a25142f259efbd2d2'), 'name': 'jane', 'age': 22}\n",
      "{'_id': ObjectId('5fbf087a25142f259efbd2d3'), 'name': 'jerry', 'age': 23}\n"
     ]
    }
   ],
   "source": [
    "conn = MongoClient(\"mongodb://127.0.0.1:27017\")\n",
    "dbname = conn.get_database(\"test\")\n",
    "collect = dbname.get_collection(\"people\")\n",
    "\n",
    "data = list()\n",
    "data.append({\"name\":\"aron\", \"age\":20})\n",
    "data.append({\"name\":\"tom\", \"age\":21})\n",
    "data.append({\"name\":\"jane\", \"age\":22})\n",
    "data.append({\"name\":\"jerry\", \"age\":23})\n",
    "\n",
    "collect.insert_many(data)\n",
    "\n",
    "    \n",
    "conn.close()"
   ]
  },
  {
   "cell_type": "markdown",
   "metadata": {},
   "source": [
    "### 6. 데이터 조회하기"
   ]
  },
  {
   "cell_type": "code",
   "execution_count": 40,
   "metadata": {},
   "outputs": [
    {
     "name": "stdout",
     "output_type": "stream",
     "text": [
      "{'_id': ObjectId('5fbded3f58939d7f7b559008'), 'name': 'Charlie', 'age': 23.0, 'skills': ['mongodb', 'nodejs']}\n"
     ]
    }
   ],
   "source": [
    "conn = MongoClient(\"mongodb://127.0.0.1:27017\")\n",
    "dbname = conn.get_database(\"test\")\n",
    "collect = dbname.get_collection(\"people\")\n",
    "\n",
    "#전체 조회\n",
    "#for i in collect.find():\n",
    "    #print(i)\n",
    "    \n",
    "#원하는 것만 조회 (find는 모듈에있는 함수라는 것이다. 주의!)\n",
    "#for i in collect.find({\"age\" : 20}):\n",
    "    #print(i)\n",
    "    \n",
    "#나이가 23세이상인 document 조회    \n",
    "#for i in collect.find({\"age\" : {\"$gte\" : 23}}):\n",
    "   # print(i)\n",
    "    \n",
    "#데이터를 딱 하나만 가져올 때 (여러명일때 첫번째 데이터만 가져온다/ 조건 추가 가능)\n",
    "#print(collect.find_one())\n",
    "print(collect.find_one({\"age\":23}))\n",
    "\n",
    "conn.close()"
   ]
  },
  {
   "cell_type": "markdown",
   "metadata": {},
   "source": [
    "### 7. 데이터 수정"
   ]
  },
  {
   "cell_type": "code",
   "execution_count": 44,
   "metadata": {},
   "outputs": [
    {
     "name": "stdout",
     "output_type": "stream",
     "text": [
      "{'_id': ObjectId('5fbf025b25142f259efbd2bb'), 'author': 'Tom', 'text': 'my second blog post!', 'tag': ['mongdb', 'python']}\n"
     ]
    }
   ],
   "source": [
    "conn = MongoClient(\"mongodb://127.0.0.1:27017\")\n",
    "dbname = conn.get_database(\"test\")\n",
    "collect = dbname.get_collection(\"people\")\n",
    "\n",
    "collect.update_one({\"author\":\"Tom\"},{\"$set\":{\"text\":\"my second blog post!\"}})\n",
    "print(collect.find_one({\"author\":\"Tom\"}))\n",
    "\n",
    "collect.\n",
    "\n",
    "conn.close()"
   ]
  },
  {
   "cell_type": "code",
   "execution_count": null,
   "metadata": {},
   "outputs": [],
   "source": []
  },
  {
   "cell_type": "code",
   "execution_count": null,
   "metadata": {},
   "outputs": [],
   "source": []
  },
  {
   "cell_type": "code",
   "execution_count": null,
   "metadata": {},
   "outputs": [],
   "source": []
  }
 ],
 "metadata": {
  "kernelspec": {
   "display_name": "Python 3",
   "language": "python",
   "name": "python3"
  },
  "language_info": {
   "codemirror_mode": {
    "name": "ipython",
    "version": 3
   },
   "file_extension": ".py",
   "mimetype": "text/x-python",
   "name": "python",
   "nbconvert_exporter": "python",
   "pygments_lexer": "ipython3",
   "version": "3.8.3"
  }
 },
 "nbformat": 4,
 "nbformat_minor": 4
}
