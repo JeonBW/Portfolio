{
 "cells": [
  {
   "cell_type": "markdown",
   "metadata": {},
   "source": [
    "# 글자  크기\n",
    "## 글자 크기\n",
    "### 글자 크기\n",
    "#### 글자 크기\n",
    "\n",
    "글자크기\n",
    "=========\n",
    "\n",
    "글자크기\n",
    "------------\n",
    "\n"
   ]
  },
  {
   "cell_type": "markdown",
   "metadata": {},
   "source": [
    "---\n",
    "\n",
    "> 첫 번째 들여쓰기 입니다.\n",
    ">    > 두 번째 들여쓰기\n",
    "\n",
    "> 1\n",
    ">    >2"
   ]
  },
  {
   "cell_type": "markdown",
   "metadata": {},
   "source": [
    "---\n",
    "\n",
    "과일의 종류\n",
    "1. 사과\n",
    "2. 배\n",
    "3. 포도\n",
    "\n",
    "\n",
    "좋아하는 색상(*,+,-)\n",
    "* 빨강\n",
    "* 노랑\n",
    "* 파랑\n",
    "+ 초록\n",
    "- 검정\n",
    "\n",
    "\n",
    "지역\n",
    "* 서울\n",
    "    + 강남구\n",
    "    + 강북구\n",
    "* 경기\n",
    "    - 의정부\n",
    "    - 양주\n",
    "    \n"
   ]
  },
  {
   "cell_type": "markdown",
   "metadata": {},
   "source": [
    "[네이버](https://www.naver.com)\n",
    "<br>[다음](https://www.daum.net)"
   ]
  },
  {
   "cell_type": "markdown",
   "metadata": {},
   "source": [
    "오늘은 **파이선**을 배운다.\n",
    "<br> 내일은 ~~database~~를 배운다."
   ]
  },
  {
   "cell_type": "markdown",
   "metadata": {},
   "source": [
    "내가 붙인 이미지:\n",
    "![이미지](images/abc.jpg)"
   ]
  },
  {
   "cell_type": "code",
   "execution_count": null,
   "metadata": {},
   "outputs": [],
   "source": []
  }
 ],
 "metadata": {
  "kernelspec": {
   "display_name": "Python 3",
   "language": "python",
   "name": "python3"
  },
  "language_info": {
   "codemirror_mode": {
    "name": "ipython",
    "version": 3
   },
   "file_extension": ".py",
   "mimetype": "text/x-python",
   "name": "python",
   "nbconvert_exporter": "python",
   "pygments_lexer": "ipython3",
   "version": "3.8.3"
  }
 },
 "nbformat": 4,
 "nbformat_minor": 4
}
