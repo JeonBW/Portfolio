{
 "cells": [
  {
   "cell_type": "markdown",
   "metadata": {},
   "source": [
    "* 파이썬 - 함수형 언어 \n",
    "\n",
    "### 1. 함수의 정의 \n",
    "    - 일정한 작업을 수행하는 코드 블럭(묶음)\n",
    "    \n",
    "### 2. 함수의 장점\n",
    "    - 반복적인 코드를 없애주어 전체 코드의 길이를 짧게 만들어준다.\n",
    "    - 프로그램의 유지 보수를 쉽게 만들어준다.\n",
    "\n",
    "### 3. 함수의 구현\n",
    "    def 함수이름(...) :\n",
    "        코드 정의\n",
    "        ...\n",
    "        [return...]    #생략가능\n",
    "        \n",
    "### 4. 함수의 호출방식\n",
    "    1) 인자(인수)가 없는 방식 (건너갈 때 빈손으로 가는 경우)       - jump\n",
    "    2) 인자가 있는 방식       (건너갈 때 빈손으로 가지 않는 경우)  - jump\n",
    "    3) 반환값(return 값)이 있는 방식      -return\n",
    "        retrun의 두 가지 기능\n",
    "            - 값을 반환 (값은 1개만 반환 가능)\n",
    "            - 함수의 강제종료 \n",
    "            \n",
    "### 5. 함수의 설계 \n",
    "    1) 재사용성\n",
    "    2) 단일 기능 (함수는 반드시 한 가지 기능으로 설계해야한다.)\n",
    "    \n",
    "### 6. 함수의 종류\n",
    "    1) 사용자 정의 함수\n",
    "    2) 내장 함수(built-in)\n",
    "    3) 외장 함수\n",
    "    "
   ]
  },
  {
   "cell_type": "code",
   "execution_count": null,
   "metadata": {},
   "outputs": [],
   "source": [
    "### 인자가 없는 방식\n",
    "def line():\n",
    "    print(\"******************************************\")"
   ]
  },
  {
   "cell_type": "code",
   "execution_count": 4,
   "metadata": {
    "scrolled": true
   },
   "outputs": [
    {
     "name": "stdout",
     "output_type": "stream",
     "text": [
      "******************************************\n",
      "             친구 관리 프로그램           \n",
      "******************************************\n",
      "1. 친구 리스트 출력\n",
      "2. 친구 추가\n",
      "3. 종료\n",
      "******************************************\n"
     ]
    }
   ],
   "source": [
    "line()            #함수를 호출한다. 현재위치에서 다른 곳의 메모리로 건너가서 일을 실행하고 다시 돌아온다. <- 인터럽트\n",
    "print(\"             친구 관리 프로그램           \")\n",
    "line()\n",
    "print(\"1. 친구 리스트 출력\")\n",
    "print(\"2. 친구 추가\")\n",
    "print(\"3. 종료\")\n",
    "line()\n",
    "\n"
   ]
  },
  {
   "cell_type": "code",
   "execution_count": 6,
   "metadata": {},
   "outputs": [],
   "source": [
    "def line():\n",
    "    for v in range(40):\n",
    "        print(\"*\", end=\"\")\n",
    "    print()"
   ]
  },
  {
   "cell_type": "code",
   "execution_count": 7,
   "metadata": {
    "scrolled": true
   },
   "outputs": [
    {
     "name": "stdout",
     "output_type": "stream",
     "text": [
      "****************************************\n",
      "             친구 관리 프로그램           \n",
      "****************************************\n",
      "1. 친구 리스트 출력\n",
      "2. 친구 추가\n",
      "3. 종료\n",
      "****************************************\n"
     ]
    }
   ],
   "source": [
    "line()            \n",
    "print(\"             친구 관리 프로그램           \")\n",
    "line()\n",
    "print(\"1. 친구 리스트 출력\")\n",
    "print(\"2. 친구 추가\")\n",
    "print(\"3. 종료\")\n",
    "line()\n"
   ]
  },
  {
   "cell_type": "code",
   "execution_count": 10,
   "metadata": {},
   "outputs": [
    {
     "name": "stdout",
     "output_type": "stream",
     "text": [
      "***********************************\n",
      "             친구 관리 프로그램           \n",
      "********************\n",
      "1. 친구 리스트 출력\n",
      "2. 친구 추가\n",
      "3. 종료\n",
      "*******************************************************\n"
     ]
    }
   ],
   "source": [
    "### 인자가 있는 방식\n",
    "def line(cnt):     #실인자를 받아주는 변수 : 매개변수(parameter)\n",
    "    for v in range(cnt):\n",
    "        print(\"*\", end=\"\")\n",
    "    print()\n",
    "    \n",
    "line(35)             # 함수호출 할 때 전해지는 값 : 실인자(argument)\n",
    "print(\"             친구 관리 프로그램           \")\n",
    "line(20)\n",
    "print(\"1. 친구 리스트 출력\")\n",
    "print(\"2. 친구 추가\")\n",
    "print(\"3. 종료\")\n",
    "line(55)\n",
    "\n",
    "#함수를 호출할 때에는 함수의 생김새와 똑같은 모양으로 호출해야한다. "
   ]
  },
  {
   "cell_type": "code",
   "execution_count": 11,
   "metadata": {},
   "outputs": [
    {
     "name": "stdout",
     "output_type": "stream",
     "text": [
      "***********************************\n",
      "             친구 관리 프로그램           \n",
      "--------------------\n",
      "1. 친구 리스트 출력\n",
      "2. 친구 추가\n",
      "3. 종료\n",
      "=======================================================\n"
     ]
    }
   ],
   "source": [
    "def line(cnt, type):                      #매개 변수가 2개이면 실인자도 반드시 2개여야한다\n",
    "    for v in range(cnt):\n",
    "        print(type, end=\"\")\n",
    "    print()\n",
    "    \n",
    "line(35, '*')        \n",
    "print(\"             친구 관리 프로그램           \")\n",
    "line(20, '-')\n",
    "print(\"1. 친구 리스트 출력\")\n",
    "print(\"2. 친구 추가\")\n",
    "print(\"3. 종료\")\n",
    "line(55, '=')\n"
   ]
  },
  {
   "cell_type": "code",
   "execution_count": 14,
   "metadata": {},
   "outputs": [
    {
     "name": "stdout",
     "output_type": "stream",
     "text": [
      "두 수의 교환\n",
      "결과 : 5  10\n",
      "결과 : 5  10\n"
     ]
    }
   ],
   "source": [
    "###반환값이 있는 방식\n",
    "\n",
    "def swap(num1, num2):\n",
    "    num3 = num1\n",
    "    num1 = num2\n",
    "    num2 = num3\n",
    "print(\"결과 :\", num1,\"\",num2)\n",
    "\n",
    "swap(num1, num2)\n",
    "\n",
    "#########################################\n",
    "\n",
    "\n",
    "num1, num2 = 10, 5                        #SWAP 알고리즘 : 두 수를 바꿔치기위해서는 공간이 하나 더 필요하다.\n",
    "                                                           #c=a -> a=b -> b=c \n",
    "print(\"두 수의 교환\")\n",
    "num3 = num1\n",
    "num1 = num2\n",
    "num2 = num3\n",
    "print(\"결과 :\", num1,\"\",num2)\n",
    "\n",
    "####################################\n",
    "\n"
   ]
  },
  {
   "cell_type": "code",
   "execution_count": 23,
   "metadata": {},
   "outputs": [
    {
     "name": "stdout",
     "output_type": "stream",
     "text": [
      "두 수의 교환\n",
      "결과 : 5  10\n"
     ]
    }
   ],
   "source": [
    "def swap(num1, num2):\n",
    "    num3 = num1\n",
    "    num1 = num2\n",
    "    num2 = num3\n",
    "\n",
    "    return num1, num2\n",
    "\n",
    "    print(\"이 문장이 보이는가?\")        #리턴 밑에 있는 것은 실행 X\n",
    "#########################################\n",
    "\n",
    "\n",
    "num1, num2 = 10, 5                        \n",
    "                                                       \n",
    "print(\"두 수의 교환\")\n",
    "n1, n2 = swap(num1, num2)                  #결과값을 받을 변수 n1, n2\n",
    "\n",
    "print(\"결과 :\", n1,\"\",n2)                  #튜플로 하나로 묶어서 반환\n",
    "####################################\n",
    "#또 사용할 것이 아니라면\n",
    "#print(\"결과 :\", swap(num1, num2))\n"
   ]
  },
  {
   "cell_type": "code",
   "execution_count": 27,
   "metadata": {},
   "outputs": [
    {
     "name": "stdout",
     "output_type": "stream",
     "text": [
      "두 수의 교환\n",
      "결과 : 5  10\n"
     ]
    }
   ],
   "source": [
    "#파이썬에서만 가능\n",
    "def swap(num1, num2):\n",
    "    #num3 = num1\n",
    "    #num1 = num2\n",
    "    #num2 = num3\n",
    "    num1, num2 = num2, num1\n",
    "\n",
    "    return num1, num2\n",
    "\n",
    "num1, num2 = 10, 5                        \n",
    "                                                       \n",
    "print(\"두 수의 교환\")\n",
    "n1, n2 = swap(num1, num2)                  \n",
    "\n",
    "print(\"결과 :\", n1,\"\",n2)  "
   ]
  },
  {
   "cell_type": "code",
   "execution_count": 24,
   "metadata": {},
   "outputs": [],
   "source": [
    "#제어문에서 했던 예제들을 함수화 시키기"
   ]
  },
  {
   "cell_type": "code",
   "execution_count": null,
   "metadata": {},
   "outputs": [],
   "source": [
    "\"\"\"\n",
    "전자 계산기 프로그램을 반복문을 이용하여 업그레이드\n",
    "끝나는 조건은 연산자에 X를 입력하면 종료\n",
    "\n",
    "\"\"\"\n"
   ]
  },
  {
   "cell_type": "code",
   "execution_count": null,
   "metadata": {},
   "outputs": [],
   "source": [
    "while True:\n",
    "    op = input(\"연산자 : \")\n",
    "    \n",
    "    if op == 'x': break\n",
    "        \n",
    "    num1 = int(input(\"숫자1 : \"))\n",
    "    num2 = int(input(\"숫자2 : \"))\n",
    "    \n",
    "    if op == \"+\":\n",
    "        result = num1 + num2\n",
    "    elif op == \"-\":\n",
    "        result = num1 - num2\n",
    "    elif op == \"*\":\n",
    "        result = num1 * num2\n",
    "    else:\n",
    "        result = num1 / num2\n",
    "\n",
    "    print(\"\\n결과 : {} {} {} = {}\".format(num1, op, num2, result))"
   ]
  },
  {
   "cell_type": "code",
   "execution_count": null,
   "metadata": {},
   "outputs": [],
   "source": [
    "\"\"\"\n",
    "가위바위보게임을 반복문을 이용하여 업그레이드\n",
    "(끝나는 조건은 X 나 Q를 입력하면 종료)\n",
    "끝날때 결과에 몇승 몇패인지 출력\n",
    "\"\"\""
   ]
  },
  {
   "cell_type": "code",
   "execution_count": null,
   "metadata": {},
   "outputs": [],
   "source": [
    "import random\n",
    "select = input(\"가위, 바위, 보 중에서 하나를 선택 : \")\n",
    "c = random.randint(1, 3)\n",
    "print(c) \n",
    "\n",
    "\n",
    "if select == \"가위\":\n",
    "    if c == 1:\n",
    "        print(\"결과는 사용자가 비겼습니다.\")\n",
    "    elif c == 2:\n",
    "        print(\"결과는 사용자가 졌습니다.\")\n",
    "    elif c == 3:\n",
    "        print(\"결과는 사용자가 이겼습니다.\")\n",
    "elif select == \"바위\":\n",
    "    if c == 1:\n",
    "        print(\"결과는 사용자가 이겼습니다.\")\n",
    "    elif c == 2:\n",
    "        print(\"결과는 사용자가 비겼습니다.\")\n",
    "    elif c == 3 :\n",
    "        print(\"결과는 사용자가 졌습니다.\")\n",
    "elif select == \"보\":\n",
    "    if c == 1:\n",
    "        print(\"결과는 사용자가 졌습니다.\")\n",
    "    elif c == 2:\n",
    "        print(\"결과는 사용자가 이겼습니다.\")\n",
    "    elif c == 3 :\n",
    "        print(\"결과는 사용자가 비겼습니다.\")\n"
   ]
  },
  {
   "cell_type": "code",
   "execution_count": null,
   "metadata": {},
   "outputs": [],
   "source": [
    "\n",
    "\n",
    "while a == \"+\" or \"-\" or \"*\" or \"/\":\n",
    "    a = input(\"연산자 :\")\n",
    "    b = input(\"숫자1 :\")\n",
    "    c = input(\"숫자2 :\")\n",
    "    if a == \"+\" :\n",
    "        print(\"결과: \", int(b)+int(c))\n",
    "    elif a == \"-\":\n",
    "        print(\"결과: \", int(b)-int(c))\n",
    "    elif a == \"*\" :\n",
    "        print(\"결과: \", int(b)*int(c))\n",
    "    elif a == \"/\" :\n",
    "        print(\"결과: \", int(b)/int(c))\n",
    "    elif a == \"X\" :\n",
    "        print(\"종료\")\n",
    "        break\n",
    "        "
   ]
  },
  {
   "cell_type": "code",
   "execution_count": null,
   "metadata": {},
   "outputs": [],
   "source": [
    "\"\"\"\n",
    "숫자를 입력받아 짝수의 합과 홀수의 합을 구하시오(0을 입력하면 종료)\n",
    "2\n",
    "3\n",
    "1\n",
    "6\n",
    "0\n",
    "짝수의 합은 ? 홀수의 합 ?\n",
    "\"\"\""
   ]
  },
  {
   "cell_type": "code",
   "execution_count": null,
   "metadata": {},
   "outputs": [],
   "source": [
    "\"\"\"\n",
    "숫자맞추기 게임\n",
    "1부터 100사이의 숫자를 맞추시오\n",
    "숫자 입력 : 50\n",
    "결과 : 낮음!(너무,조금)\n",
    "    \n",
    "숫자입력 : 75\n",
    "결과 ; 낮음!\n",
    "\n",
    "숫자입력 : 90\n",
    "결과 : 높음\n",
    "    \n",
    "숫자입력:89\n",
    "정답입니다! 시도횟수 출력\n",
    "\"\"\""
   ]
  },
  {
   "cell_type": "code",
   "execution_count": null,
   "metadata": {},
   "outputs": [],
   "source": [
    "import random\n",
    "t=0\n",
    "number = random.randint(1, 100)\n",
    "print(\"1부터 100사이의 숫자를 맞추시오\")\n",
    "\n",
    "while t<=100:\n",
    "    a = int(input(\"숫자 입력 :\"))\n",
    "    t += 1\n",
    "    if number< a :\n",
    "        print(\"너무 큽니다.\")\n",
    "    elif number> a:\n",
    "        print(\"너무 작습니다.\")\n",
    "    elif number== a:\n",
    "        print(\"정답입니다. 시도횟수 :\",t)\n",
    "        break"
   ]
  },
  {
   "cell_type": "code",
   "execution_count": null,
   "metadata": {},
   "outputs": [],
   "source": [
    "\"\"\"\n",
    "친구 관리 프로그램\n",
    "====================\n",
    "\n",
    "1.친구 리스트 출력\n",
    "2.친구 추가\n",
    "3.친구 삭제\n",
    "4.이름 변경\n",
    "9.종료\n",
    "메뉴를 선택 : 2 (엔터)\n",
    "이름을 입력 : 홍길동 (엔터)\n",
    "-----------------------\n",
    "1.친구 리스트 출력\n",
    "2.친구 추가\n",
    "3.친구 삭제\n",
    "4.이름 변경\n",
    "9.종료\n",
    "메뉴를 선택 : 2 (엔터)\n",
    "이름을 입력 : 임꺽정 (엔터)\n",
    "-----------------------\n",
    "1.친구 리스트 출력\n",
    "2.친구 추가\n",
    "3.친구 삭제\n",
    "4.이름 변경\n",
    "9.종료\n",
    "메뉴를 선택 : 1 (엔터)\n",
    "[\"홍길동\", \"임꺽정\"]\n",
    "----------------------\n",
    "1.친구 리스트 출력\n",
    "2.친구 추가\n",
    "3.친구 삭제\n",
    "4.이름 변경\n",
    "9.종료\n",
    "메뉴를 선택 : 4 (엔터)\n",
    "변경할 이름 선택 : 홍길동 (엔터)\n",
    "변경하고 싶은 이름 입력 : 홍길순 (엔터)\n",
    "-------------------------------\n",
    "1.친구 리스트 출력\n",
    "2.친구 추가\n",
    "3.친구 삭제\n",
    "4.이름 변경\n",
    "9.종료\n",
    "메뉴를 선택 : 1 (엔터)\n",
    "[\"홍길순\", \"임꺽정\"]\n",
    "-------------------------------\n",
    "1.친구 리스트 출력\n",
    "2.친구 추가\n",
    "3.친구 삭제\n",
    "4.이름 변경\n",
    "9.종료\n",
    "메뉴를 선택 : 3 (엔터)\n",
    "삭제할 이름 입력 : 홍길순\n",
    "------------------------------\n",
    "\"\"\"\n"
   ]
  },
  {
   "cell_type": "markdown",
   "metadata": {},
   "source": [
    "---\n",
    "### 7. 파이썬에서 함수를 지원하기 위한 문법\n"
   ]
  },
  {
   "cell_type": "code",
   "execution_count": 33,
   "metadata": {},
   "outputs": [
    {
     "name": "stdout",
     "output_type": "stream",
     "text": [
      "전국 대표\n",
      "홍길동 지역 대표\n",
      "지역 대표\n"
     ]
    }
   ],
   "source": [
    "# 변수의 유효(생존) 범위 : 지역 변수, 전역 변수\n",
    "\n",
    "player = \"전국 대표\"                # player는 페이지 내 모두 사용 가능한 전역 변수\n",
    "\n",
    "def funcSoccer():\n",
    "    global player                    #global : 전역변수를 가져와 쓸 수 있게 해주는 키워드\n",
    "    \n",
    "    name = \"홍길동\"                  #name은 함수안에서만 사용가능한 지역변수 \n",
    "    player=\"지역 대표\"               \n",
    "    print(name, player)              #전역변수 player와 지역변수 player는 다른 변수 (같은 메모리공간에 있지 않음)\n",
    "    \n",
    "############################################# \n",
    "\n",
    "#print(name)                                                                 \n",
    "print(player)                                              \n",
    "\n",
    "funcSoccer()                                        \n",
    "print(player)    \n",
    "\n"
   ]
  },
  {
   "cell_type": "code",
   "execution_count": 55,
   "metadata": {
    "scrolled": true
   },
   "outputs": [
    {
     "name": "stdout",
     "output_type": "stream",
     "text": [
      "********************\n",
      "******************************\n",
      "******************************\n",
      "안녕하세요 홍길동님\n",
      "반드시 이름을 입력해야하 합니다.\n",
      "안녕하세요 홍길동에 사는 서울님... 당신의 나이는 20세 입니다.\n",
      "안녕하세요 서울에 사는 임경업님... 당신의 나이는 30세 입니다.\n",
      "안녕하세요 서울에 사는 신돌석님... 당신의 나이는 35세 입니다.\n",
      "안녕하세요 경기도에 사는 강감찬님... 당신의 나이는 45세 입니다.\n"
     ]
    }
   ],
   "source": [
    "# default 인수\n",
    "def line(cnt=30):                   #매개변수에 기본값 지정\n",
    "    for v in range(cnt):\n",
    "        print(\"*\", end=\"\")\n",
    "    print()\n",
    "    \n",
    "def hello(name=None):                  #None = Null 값이 없다.\n",
    "    if name == None:\n",
    "        print(\"반드시 이름을 입력해야하 합니다.\")\n",
    "        return          \n",
    "    \n",
    "    print(\"안녕하세요 %s님\"% name)\n",
    "    \n",
    "    \n",
    "def hello2(name, age=30, addr=\"서울\"):      #매개변수가 여러개일때 기본값을 줄 때는 끝에서부터 채워나가야 한다.\n",
    "    print(\"안녕하세요 {}에 사는 {}님... 당신의 나이는 {}세 입니다.\". format(addr, name, age))\n",
    "#########################################################\n",
    "\n",
    "line(20)\n",
    "line(30)\n",
    "line()\n",
    "hello(\"홍길동\")\n",
    "hello()\n",
    "\n",
    "hello2('서울', 20, \"홍길동\")\n",
    "#hello2(30, \"임꺽정\")\n",
    "hello2(\"임경업\")\n",
    "hello2(age=35, name=\"신돌석\")         #순서가 다른 경우직접 매개변수를 지정해야 한다. \n",
    "hello2(\"강감찬\", addr=\"경기도\", age=45)  #순서가 같은 경우 따로 지정하지 않아도 된다."
   ]
  },
  {
   "cell_type": "code",
   "execution_count": 70,
   "metadata": {},
   "outputs": [
    {
     "name": "stdout",
     "output_type": "stream",
     "text": [
      "('홍길동',)\n",
      "<class 'tuple'>\n",
      "홍길동\n",
      "('홍길동', '임꺽정')\n",
      "<class 'tuple'>\n",
      "홍길동\n",
      "('홍길동', '임꺽정', '신돌석')\n",
      "<class 'tuple'>\n",
      "홍길동\n",
      "[1, 2] [3, 4] [5, 6]\n",
      "([1, 2], [3, 4], [5, 6])\n",
      "[1, 2] [3, 4] [5, 6]\n",
      "65 165 홍길동\n",
      "{}\n",
      "75 175 임꺽정\n",
      "{'age': 30, 'addr': '서울', 'blood': 'A'}\n"
     ]
    }
   ],
   "source": [
    "#####가변 인수\n",
    "# * : 곱셈, 가변인수(packing) 튜플로 처리, unpacking\n",
    "# ** : 거듭제곱, 가변인수(dict)\n",
    "\n",
    "\n",
    "def greeting(*name):           #몇 개를 전달할지 모를 때 매개변수 앞에  *입력\n",
    "    print(name)\n",
    "    print(type(name))\n",
    "    print(name[0])\n",
    "    \n",
    "def info(weight, height, name, **other):\n",
    "    print(weight, height, name)\n",
    "    print(other)\n",
    "##################################\n",
    "\n",
    "greeting(\"홍길동\")\n",
    "greeting(\"홍길동\", \"임꺽정\")\n",
    "greeting(\"홍길동\", \"임꺽정\", \"신돌석\")\n",
    "\n",
    "# unpacking\n",
    "a, b, c = ([1, 2], [3, 4], [5, 6])\n",
    "print(a, b, c)\n",
    "\n",
    "d = ([1, 2], [3, 4], [5, 6])   \n",
    "print(d)\n",
    "\n",
    "d = ([1, 2], [3, 4], [5, 6])\n",
    "print(*d)                               #unpacking\n",
    "\n",
    "#dict\n",
    "info(65, 165, \"홍길동\")\n",
    "info(75, 175, \"임꺽정\", age=30, addr=\"서울\", blood=\"A\")"
   ]
  },
  {
   "cell_type": "markdown",
   "metadata": {},
   "source": [
    "---\n",
    "### 8. 내장 함수\n"
   ]
  },
  {
   "cell_type": "code",
   "execution_count": 6,
   "metadata": {},
   "outputs": [
    {
     "name": "stdout",
     "output_type": "stream",
     "text": [
      "True\n",
      "False\n",
      "False\n",
      "True\n",
      "False\n",
      "True\n",
      "True\n",
      "True\n",
      "True\n",
      "True\n"
     ]
    }
   ],
   "source": [
    "#-------------------\n",
    "#all(), any() : and, or 연산자를 간단하게 쓸 수 있게 해주는 함수 (0이나 빈 값은 False로 처리)\n",
    "#-------------------\n",
    "#and\n",
    "print(all([1,2,3,-1,-2]))\n",
    "print(all([1,2,3,0,-2]))     #0은 False 나머지는 True \n",
    "print(all([1,2,3,\"\",-2]))    #빈 값도 False\n",
    "print(all([1,2,3,\" \",-2]))   #공백도 하나의 값으로 처리\n",
    "print(all([1,2,3,None,-2]))   #None 비어있는 값이므로 False\n",
    "\n",
    "#or\n",
    "print(any([1,2,3,-1,-2]))\n",
    "print(any([1,2,3,0,-2]))     \n",
    "print(any([1,2,3,\"\",-2]))    \n",
    "print(any([1,2,3,\" \",-2]))   \n",
    "print(any([1,2,3,None,-2]))   \n"
   ]
  },
  {
   "cell_type": "code",
   "execution_count": 16,
   "metadata": {},
   "outputs": [
    {
     "name": "stdout",
     "output_type": "stream",
     "text": [
      "홍길동\n",
      "임꺽정\n",
      "Tom\n",
      "jerry\n",
      "(0, '홍길동')\n",
      "(1, '임꺽정')\n",
      "(2, 'Tom')\n",
      "(3, 'jerry')\n",
      "0 홍길동\n",
      "1 임꺽정\n",
      "2 Tom\n",
      "3 jerry\n",
      "100 홍길동\n",
      "101 임꺽정\n",
      "102 Tom\n",
      "103 jerry\n"
     ]
    }
   ],
   "source": [
    "#-----------------------------\n",
    "#enumerate(iterator) : 순서가 있는 자료형을 입력받아 인덱스 값을 포함해서 리턴해주는 함수 \n",
    "#-----------------------------\n",
    "\n",
    "for i in [\"홍길동\", \"임꺽정\", \"Tom\", \"jerry\"]:\n",
    "    print(i)\n",
    "\n",
    "for i in enumerate([\"홍길동\", \"임꺽정\", \"Tom\", \"jerry\"]):\n",
    "    print(i)\n",
    "for a, i in enumerate([\"홍길동\", \"임꺽정\", \"Tom\", \"jerry\"]):\n",
    "    print(a, i)\n",
    "for a, i in enumerate([\"홍길동\", \"임꺽정\", \"Tom\", \"jerry\"], start=100):\n",
    "    print(a, i)"
   ]
  },
  {
   "cell_type": "code",
   "execution_count": 25,
   "metadata": {},
   "outputs": [
    {
     "name": "stdout",
     "output_type": "stream",
     "text": [
      "3+4\n",
      "7\n",
      "34\n",
      "7\n",
      "수식 입력 :333\n",
      "333\n",
      "(2, 1)\n",
      "(2, 1)\n"
     ]
    }
   ],
   "source": [
    "#------------------------------------\n",
    "#eval(expression) : 표현식을 파이썬에서 실행가능하게 만들어주는 역할\n",
    "#------------------------------------\n",
    "\n",
    "print(\"3+4\")\n",
    "print(eval(\"3+4\"))\n",
    "print(\"3\"+\"4\")\n",
    "print(eval(\"3\")+eval(\"4\"))\n",
    "\n",
    "expr = input(\"수식 입력 :\")\n",
    "print(eval(expr))\n",
    "\n",
    "print(divmod(9,4)) #divmod 몫과 나머지를 구해주는 함수\n",
    "print(eval(\"divmod(9,4)\"))"
   ]
  },
  {
   "cell_type": "code",
   "execution_count": 36,
   "metadata": {},
   "outputs": [
    {
     "name": "stdout",
     "output_type": "stream",
     "text": [
      "12\n",
      "[12, 22, 32, 42, 52]\n",
      "<map object at 0x000001C9E200EBE0>\n",
      "12\n",
      "22\n",
      "32\n",
      "42\n",
      "52\n",
      "[12, 22, 32, 42, 52]\n"
     ]
    }
   ],
   "source": [
    "#------------------------------------------\n",
    "#map(function, iterable)  #집합의 각 요소가 함수에 의해 수행된 결과를 묶어서 리턴\n",
    "                          #함수를 호출해서 관련데이터를 묶어주는 것   (함수의 주소, )\n",
    "#------------------------------------------\n",
    "\n",
    "def calc(x):\n",
    "    return x+2\n",
    "##########################\n",
    "\n",
    "a = calc(10)\n",
    "print(a)\n",
    "\n",
    "data = [10, 20, 30, 40, 50]\n",
    "\n",
    "result = []\n",
    "for v in data:\n",
    "    temp = calc(v)\n",
    "    result.append(temp)\n",
    "print(result)\n",
    "\n",
    "#map()로 처리 \n",
    "print(map(calc, data))             \n",
    "for v in map(calc, data):\n",
    "    print(v)\n",
    "print(list(map(calc,data)))"
   ]
  },
  {
   "cell_type": "code",
   "execution_count": 45,
   "metadata": {},
   "outputs": [
    {
     "name": "stdout",
     "output_type": "stream",
     "text": [
      "<zip object at 0x000001C9E20228C0>\n",
      "('a1', 'b1', 'c1')\n",
      "('a2', 'b2', 'c2')\n",
      "('a3', 'b3', 'c3')\n",
      "[('a1', 'b1', 'c1'), ('a2', 'b2', 'c2'), ('a3', 'b3', 'c3')]\n",
      "0 a1 b1 c1\n",
      "1 a2 b2 c2\n",
      "2 a3 b3 c3\n"
     ]
    }
   ],
   "source": [
    "#-------------------------------------\n",
    "#zip(iterable) : 동일한 갯수로 이루어진 자료형을 묶어주는 역할    \n",
    "#-------------------------------------\n",
    "\n",
    "a = [\"a1\", \"a2\", \"a3\"]\n",
    "b = [\"b1\", \"b2\", \"b3\"]    \n",
    "c = [\"c1\", \"c2\", \"c3\"] \n",
    "\n",
    "print(zip(a, b, c))\n",
    "for v in zip(a,b,c):\n",
    "    print(v)\n",
    "print(list(zip(a,b,c)))\n",
    "\n",
    "for i,(v1, v2, v3) in enumerate(zip(a,b,c)):\n",
    "    print(i, v1, v2, v3)"
   ]
  },
  {
   "cell_type": "markdown",
   "metadata": {},
   "source": [
    "---\n",
    "### 9. 외장함수"
   ]
  },
  {
   "cell_type": "code",
   "execution_count": 49,
   "metadata": {
    "scrolled": true
   },
   "outputs": [
    {
     "name": "stdout",
     "output_type": "stream",
     "text": [
      "['C:\\\\j\\\\pythonwork\\\\basic', 'C:\\\\Users\\\\acorn\\\\anaconda3\\\\python38.zip', 'C:\\\\Users\\\\acorn\\\\anaconda3\\\\DLLs', 'C:\\\\Users\\\\acorn\\\\anaconda3\\\\lib', 'C:\\\\Users\\\\acorn\\\\anaconda3', '', 'C:\\\\Users\\\\acorn\\\\anaconda3\\\\lib\\\\site-packages', 'C:\\\\Users\\\\acorn\\\\anaconda3\\\\lib\\\\site-packages\\\\win32', 'C:\\\\Users\\\\acorn\\\\anaconda3\\\\lib\\\\site-packages\\\\win32\\\\lib', 'C:\\\\Users\\\\acorn\\\\anaconda3\\\\lib\\\\site-packages\\\\Pythonwin', 'C:\\\\Users\\\\acorn\\\\anaconda3\\\\lib\\\\site-packages\\\\IPython\\\\extensions', 'C:\\\\Users\\\\acorn\\\\.ipython']\n",
      "win32\n",
      "3.8.3 (default, Jul  2 2020, 17:30:36) [MSC v.1916 64 bit (AMD64)]\n",
      "['__breakpointhook__', '__displayhook__', '__doc__', '__excepthook__', '__interactivehook__', '__loader__', '__name__', '__package__', '__spec__', '__stderr__', '__stdin__', '__stdout__', '__unraisablehook__', '_base_executable', '_clear_type_cache', '_current_frames', '_debugmallocstats', '_enablelegacywindowsfsencoding', '_framework', '_getframe', '_git', '_home', '_xoptions', 'addaudithook', 'api_version', 'argv', 'audit', 'base_exec_prefix', 'base_prefix', 'breakpointhook', 'builtin_module_names', 'byteorder', 'call_tracing', 'callstats', 'copyright', 'displayhook', 'dllhandle', 'dont_write_bytecode', 'exc_info', 'excepthook', 'exec_prefix', 'executable', 'exit', 'flags', 'float_info', 'float_repr_style', 'get_asyncgen_hooks', 'get_coroutine_origin_tracking_depth', 'getallocatedblocks', 'getcheckinterval', 'getdefaultencoding', 'getfilesystemencodeerrors', 'getfilesystemencoding', 'getprofile', 'getrecursionlimit', 'getrefcount', 'getsizeof', 'getswitchinterval', 'gettrace', 'getwindowsversion', 'hash_info', 'hexversion', 'implementation', 'int_info', 'intern', 'is_finalizing', 'last_traceback', 'last_type', 'last_value', 'maxsize', 'maxunicode', 'meta_path', 'modules', 'path', 'path_hooks', 'path_importer_cache', 'platform', 'prefix', 'ps1', 'ps2', 'ps3', 'pycache_prefix', 'set_asyncgen_hooks', 'set_coroutine_origin_tracking_depth', 'setcheckinterval', 'setprofile', 'setrecursionlimit', 'setswitchinterval', 'settrace', 'stderr', 'stdin', 'stdout', 'thread_info', 'unraisablehook', 'version', 'version_info', 'warnoptions', 'winver']\n"
     ]
    }
   ],
   "source": [
    "import sys  #sys는 함수X 모듈O 함수를 묶어놓은 파일\n",
    "\n",
    "print(sys.path) #path에 걸려있는 것 확인\n",
    "print(sys.platform) #운영체제\n",
    "print(sys.version) #파이선 버전\n",
    "print(dir(sys)) #sys 목록\n"
   ]
  },
  {
   "cell_type": "code",
   "execution_count": 52,
   "metadata": {},
   "outputs": [
    {
     "name": "stdout",
     "output_type": "stream",
     "text": [
      "['DirEntry', 'F_OK', 'MutableMapping', 'O_APPEND', 'O_BINARY', 'O_CREAT', 'O_EXCL', 'O_NOINHERIT', 'O_RANDOM', 'O_RDONLY', 'O_RDWR', 'O_SEQUENTIAL', 'O_SHORT_LIVED', 'O_TEMPORARY', 'O_TEXT', 'O_TRUNC', 'O_WRONLY', 'P_DETACH', 'P_NOWAIT', 'P_NOWAITO', 'P_OVERLAY', 'P_WAIT', 'PathLike', 'R_OK', 'SEEK_CUR', 'SEEK_END', 'SEEK_SET', 'TMP_MAX', 'W_OK', 'X_OK', '_AddedDllDirectory', '_Environ', '__all__', '__builtins__', '__cached__', '__doc__', '__file__', '__loader__', '__name__', '__package__', '__spec__', '_check_methods', '_execvpe', '_exists', '_exit', '_fspath', '_get_exports_list', '_putenv', '_unsetenv', '_wrap_close', 'abc', 'abort', 'access', 'add_dll_directory', 'altsep', 'chdir', 'chmod', 'close', 'closerange', 'cpu_count', 'curdir', 'defpath', 'device_encoding', 'devnull', 'dup', 'dup2', 'environ', 'error', 'execl', 'execle', 'execlp', 'execlpe', 'execv', 'execve', 'execvp', 'execvpe', 'extsep', 'fdopen', 'fsdecode', 'fsencode', 'fspath', 'fstat', 'fsync', 'ftruncate', 'get_exec_path', 'get_handle_inheritable', 'get_inheritable', 'get_terminal_size', 'getcwd', 'getcwdb', 'getenv', 'getlogin', 'getpid', 'getppid', 'isatty', 'kill', 'linesep', 'link', 'listdir', 'lseek', 'lstat', 'makedirs', 'mkdir', 'name', 'open', 'pardir', 'path', 'pathsep', 'pipe', 'popen', 'putenv', 'read', 'readlink', 'remove', 'removedirs', 'rename', 'renames', 'replace', 'rmdir', 'scandir', 'sep', 'set_handle_inheritable', 'set_inheritable', 'spawnl', 'spawnle', 'spawnv', 'spawnve', 'st', 'startfile', 'stat', 'stat_result', 'statvfs_result', 'strerror', 'supports_bytes_environ', 'supports_dir_fd', 'supports_effective_ids', 'supports_fd', 'supports_follow_symlinks', 'symlink', 'sys', 'system', 'terminal_size', 'times', 'times_result', 'truncate', 'umask', 'uname_result', 'unlink', 'urandom', 'utime', 'waitpid', 'walk', 'write']\n",
      "C:\\j\\pythonwork\\basic\n"
     ]
    }
   ],
   "source": [
    "import os\n",
    "\n",
    "print(dir(os))\n",
    "print(os.getcwd())  #작업하고 있는 현재 위치\n",
    "print()"
   ]
  },
  {
   "cell_type": "code",
   "execution_count": 56,
   "metadata": {},
   "outputs": [
    {
     "name": "stdout",
     "output_type": "stream",
     "text": [
      "30\n",
      "몸무게: 78\n",
      "키: 178\n",
      "기타: {'name': '홍길동', 'age': '30', 'addr': '서울시 강남구'}\n",
      "파이썬 주식회사\n"
     ]
    }
   ],
   "source": [
    "import mymodule\n",
    "\n",
    "print(mymodule.sum(10,20))\n",
    "mymodule.info(78, 178, name=\"홍길동\", age=\"30\", addr=\"서울시 강남구\")\n",
    "print(mymodule.company)"
   ]
  },
  {
   "cell_type": "code",
   "execution_count": 81,
   "metadata": {},
   "outputs": [
    {
     "name": "stdout",
     "output_type": "stream",
     "text": [
      "['MAXYEAR', 'MINYEAR', '__builtins__', '__cached__', '__doc__', '__file__', '__loader__', '__name__', '__package__', '__spec__', 'date', 'datetime', 'datetime_CAPI', 'sys', 'time', 'timedelta', 'timezone', 'tzinfo']\n",
      "2020-11-03 , 2020 , 11 , 3\n",
      "2020-11-03 12:00:52.791944\n",
      "-1 day, 0:00:00\n",
      "어제 :2020-11-02\n",
      "2020-11-03 04:00:52.791944\n",
      "11/03/2020\n",
      "2020-11-03 12:00:52\n",
      "<class 'datetime.datetime'>\n",
      "<class 'str'>\n",
      "<class 'str'>\n",
      "<class 'datetime.datetime'>\n"
     ]
    }
   ],
   "source": [
    "import datetime\n",
    "print(dir(datetime))\n",
    "\n",
    "#현재 날짜   .(접근연산자) \n",
    "today = datetime.date.today()\n",
    "print(today, \",\",today.year,\",\",today.month,\",\",today.day)\n",
    "\n",
    "#현재 시간\n",
    "ctime = datetime.datetime.today()\n",
    "print(ctime)\n",
    "\n",
    "#날짜와 시간을 계산 \n",
    "mydays = datetime.timedelta(days=-1)\n",
    "print(mydays)\n",
    "print(\"어제 :{}\".format(today + mydays))\n",
    "\n",
    "myhours = datetime.timedelta(hours = -8)\n",
    "print(ctime + myhours)\n",
    "\n",
    "# 날짜의 형식 지정 \n",
    "print(today.strftime(\"%m/%d/%Y\"))\n",
    "print(ctime.strftime(\"%Y-%m-%d %H:%M:%S\"))\n",
    "\n",
    "# 날짜의 형식 변환 (날짜를 문자열로 : strftime(), 문자열을 날짜로 : strptime())\n",
    "print(type(ctime))\n",
    "d= ctime.strftime(\"%Y-%m-%d %H:%M:%S\")\n",
    "print(type(d))\n",
    "\n",
    "strDate = \"2020-11-03 11:56:50\"\n",
    "print(type(strDate))\n",
    "d = datetime.datetime.strptime(strDate,\"%Y-%m-%d %H:%M:%S\")\n",
    "print(type(d))"
   ]
  },
  {
   "cell_type": "markdown",
   "metadata": {},
   "source": [
    "---\n",
    "    ### 10. 명령행 인자(Commdand Line Argument)   \n",
    "    Cmdtest.py 프로그램 실행할때 입력되는 값들 "
   ]
  },
  {
   "cell_type": "markdown",
   "metadata": {},
   "source": [
    "### 11.재귀함수(Recursive Function)\n",
    "    - 반복문을 쓰는 것과 비슷\n",
    "    - 알고리즘을 테스트 할 때 사용\n",
    "        \n",
    "    내가 나를 호출하면서 반복을 도는 함수"
   ]
  },
  {
   "cell_type": "code",
   "execution_count": 86,
   "metadata": {},
   "outputs": [
    {
     "name": "stdout",
     "output_type": "stream",
     "text": [
      "5\n",
      "4\n",
      "3\n",
      "2\n",
      "1\n",
      "완료\n"
     ]
    }
   ],
   "source": [
    "def countDown(n):                 \n",
    "    if n == 0:\n",
    "        print(\"완료\")\n",
    "        return\n",
    "    else:\n",
    "        print(n)\n",
    "        countDown(n-1)\n",
    "###############################\n",
    "\n",
    "#countDown(5)\n",
    "\n",
    "#for i in range(5,-1,-1):\n",
    "#    countDown(i)\n",
    "\n",
    "countDown(5)"
   ]
  },
  {
   "cell_type": "code",
   "execution_count": 93,
   "metadata": {
    "scrolled": false
   },
   "outputs": [
    {
     "name": "stdout",
     "output_type": "stream",
     "text": [
      "5\n",
      "4\n",
      "3\n",
      "2\n",
      "1\n",
      "5\n",
      "4\n",
      "3\n",
      "2\n",
      "완료\n"
     ]
    },
    {
     "data": {
      "text/plain": [
       "120"
      ]
     },
     "execution_count": 93,
     "metadata": {},
     "output_type": "execute_result"
    }
   ],
   "source": [
    "#일반적인 반복문\n",
    "def fact1(n):\n",
    "    count = 1\n",
    "    \n",
    "    while n>0:\n",
    "        print(n)\n",
    "        count=count*4\n",
    "        n=n-1\n",
    "        \n",
    "    return count\n",
    "fact1(5)\n",
    "##################################\n",
    "def fact2(n):\n",
    "    if n == 1:\n",
    "        print(\"완료\")\n",
    "        return  1\n",
    "\n",
    "    print(n)\n",
    "    return n*fact2(n-1)\n",
    "\n",
    "fact2(5)"
   ]
  },
  {
   "cell_type": "markdown",
   "metadata": {},
   "source": [
    "----\n",
    "### 12. 파일 처리\n",
    "    API : 함수들의 모임\n",
    "1) open(파일명(경로포함),모드): 보조기억장치에 있는 데이터를 주기억장치에 올려놓는 함수\n",
    "    -mode : r, w, a, rb, wb, ab\n",
    "2) close(): 주기억장치에 있는 파일을 다시 해제시키는 함수\n",
    "3) 파일을 읽어 올 때 : readline(), readlines(), read()\n",
    "4) 저장 : write()"
   ]
  },
  {
   "cell_type": "code",
   "execution_count": 103,
   "metadata": {},
   "outputs": [
    {
     "name": "stdout",
     "output_type": "stream",
     "text": [
      "<_io.TextIOWrapper name='mymodule.py' mode='r' encoding='cp949'>\n",
      "# mymodule.py(현재 작업위치에 저장)\n",
      "\n",
      "<class 'str'>\n",
      "def sum(num1, num2):\n",
      "\n",
      "\thap = num1 + num2\n",
      "\n",
      "\treturn hap\n",
      "\n",
      "\n",
      "\n",
      "def info(weight, height, **other):\n",
      "\n",
      "\tprint(\"몸무게:\", weight)\n",
      "\n"
     ]
    }
   ],
   "source": [
    "f = open(\"mymodule.py\", \"r\")\n",
    "print(f)                                        \n",
    "\n",
    "#한줄씩 \n",
    "print(f.readline())         #cp949 오류시 ansi로 변환\n",
    "print(type(f.readline()))\n",
    "print(f.readline())\n",
    "print(f.readline()) \n",
    "print(f.readline())\n",
    "print(f.readline())\n",
    "print(f.readline())\n",
    "print(f.readline())\n",
    "\n",
    "\n",
    "f.close()"
   ]
  },
  {
   "cell_type": "code",
   "execution_count": 7,
   "metadata": {},
   "outputs": [
    {
     "name": "stdout",
     "output_type": "stream",
     "text": [
      "<_io.TextIOWrapper name='data/filetest1.txt' mode='r' encoding='cp949'>\n",
      "abcd\n",
      "\n",
      "efgh\n",
      "\n",
      "ijkl\n",
      "\n",
      "mnop\n",
      "\n",
      "qrst\n",
      "\n",
      "uvwx\n",
      "\n",
      "yz12\n",
      "\n",
      "3456\n",
      "\n",
      "7890\n",
      "\n",
      "가나다라\n",
      "\n",
      "마바사아\n",
      "\n",
      "자차카타\n",
      "\n",
      "파하\n"
     ]
    }
   ],
   "source": [
    "f = open(\"data/filetest1.txt\",\"r\")\n",
    "#f = open(\"C:\\\\j\\\\pythonwork\\\\basic\\\\data\\\\filetest1.txt\", \"r\")\n",
    "#f= open(\".\\\\data\\\\filetest1.txt\", \"r\")\n",
    "print(f)\n",
    "\n",
    "while True:\n",
    "    line = f.readline()\n",
    "    if not line:     #(If line == None)\n",
    "        break\n",
    "    print(line)\n",
    "f.close()\n",
    "    "
   ]
  },
  {
   "cell_type": "code",
   "execution_count": 13,
   "metadata": {},
   "outputs": [
    {
     "name": "stdout",
     "output_type": "stream",
     "text": [
      "['abcd\\n', 'efgh\\n', 'ijkl\\n', 'mnop\\n', 'qrst\\n', 'uvwx\\n', 'yz12\\n', '3456\\n', '7890\\n', '가나다라\\n', '마바사아\\n', '자차카타\\n', '파하']\n",
      "<class 'list'>\n",
      "abcd\n",
      "efgh\n",
      "ijkl\n",
      "mnop\n",
      "qrst\n",
      "uvwx\n",
      "yz12\n",
      "3456\n",
      "7890\n",
      "가나다라\n",
      "마바사아\n",
      "자차카타\n",
      "파하"
     ]
    }
   ],
   "source": [
    "#readlines 전체 데이터를 하나의 리스트로 묶어서 가져온다.\n",
    "f = open(\"data/filetest1.txt\",\"r\")\n",
    "lines =f.readlines()\n",
    "print(lines)  \n",
    "print(type(lines))\n",
    "f.close()\n",
    "\n",
    "for i in lines:\n",
    "    print(i, end=\"\")"
   ]
  },
  {
   "cell_type": "code",
   "execution_count": 22,
   "metadata": {},
   "outputs": [
    {
     "name": "stdout",
     "output_type": "stream",
     "text": [
      "abcd\n",
      "efgh\n",
      "ijkl\n",
      "mnop\n",
      "qrst\n",
      "uvwx\n",
      "yz12\n",
      "3456\n",
      "7890\n",
      "가나다라\n",
      "마바사아\n",
      "자차카타\n",
      "파하\n",
      "<class 'str'>\n",
      "-----------------------------------------\n",
      "1 : abcd\n",
      "2 : efgh\n",
      "3 : ijkl\n",
      "4 : mnop\n",
      "5 : qrst\n",
      "6 : uvwx\n",
      "7 : yz12\n",
      "8 : 3456\n",
      "9 : 7890\n",
      "10 : 가나다라\n",
      "11 : 마바사아\n",
      "12 : 자차카타\n",
      "13 : 파하\n",
      "-----------------------------------------\n",
      "1 : abcd\n",
      "2 : efgh\n",
      "3 : ijkl\n",
      "4 : mnop\n",
      "5 : qrst\n",
      "6 : uvwx\n",
      "7 : yz12\n",
      "8 : 3456\n",
      "9 : 7890\n",
      "10 : 가나다라\n",
      "11 : 마바사아\n",
      "12 : 자차카타\n",
      "13 : 파하\n"
     ]
    }
   ],
   "source": [
    "#read 데이터를 하나의 문자열로 묶어서 가져온다.\n",
    "f = open(\"data/filetest1.txt\",\"r\")\n",
    "data=f.read()\n",
    "print(data)\n",
    "print(type(data))\n",
    "print(\"-----------------------------------------\")\n",
    "sdata=data.split(\"\\n\")\n",
    "count = 1\n",
    "for line in sdata:\n",
    "    print(count, \":\",line)\n",
    "    count += 1\n",
    "print(\"-----------------------------------------\")\n",
    "sdata=data.split(\"\\n\")\n",
    "for ix, line in enumerate(sdata):\n",
    "    print(ix+1, \":\", line)\n",
    "f.close()"
   ]
  },
  {
   "cell_type": "code",
   "execution_count": 23,
   "metadata": {},
   "outputs": [],
   "source": [
    "#저장\n",
    "f = open(\"data\\\\filetest2.txt\",\"w\")\n",
    "\n",
    "f.write(\"이름 : 홍길동,\")\n",
    "f.write(\"전화 : 010-111-1111,\")\n",
    "f.write(\"주소 : 서울시 강남구\\n\")\n",
    "f.write(\"이름 : 임꺽정,\")\n",
    "f.write(\"전화 : 010-222-2222,\")\n",
    "f.write(\"주소 : 서울시 강북구\\n\")\n",
    "f.close()"
   ]
  },
  {
   "cell_type": "code",
   "execution_count": 24,
   "metadata": {},
   "outputs": [],
   "source": [
    "f = open(\"data\\\\filetest2.txt\",\"a\") #기존 파일에 추가하려면 w 대신 a (w는 덮어쓰기)\n",
    "f.write(\"이름 : 신돌석, \")\n",
    "f.write(\"전화 : 010-333-3333, \")\n",
    "f.write(\"주소 : 서울시 강동구\\n\")\n",
    "f.close()"
   ]
  },
  {
   "cell_type": "code",
   "execution_count": 28,
   "metadata": {},
   "outputs": [],
   "source": [
    "#저장할때 가장 유용한 방법 csv\n",
    "#CSV 형식으로 데이터 저장\n",
    "#nums = {1,2,3,4,5,6,7,8,9}\n",
    "#f = open(\"data\\\\filetest3.csv\", \"w\")\n",
    "#f.write(str(nums)) #리스트 그대로 저장됨\n",
    "#f.close()"
   ]
  },
  {
   "cell_type": "code",
   "execution_count": 23,
   "metadata": {},
   "outputs": [],
   "source": [
    "nums = [1, 2, 3, 4, 5, 6, 7, 8, 9]\n",
    "f = open(\"data\\\\filetest3.csv\", \"w\")\n",
    "\n",
    "count = len(nums)\n",
    "for i in range(count):\n",
    "    if i < count-1 :\n",
    "        f.write(str(nums[i])+\", \")\n",
    "    else:\n",
    "        f.write(str(nums[i]))\n",
    "                \n",
    "f.close()"
   ]
  },
  {
   "cell_type": "code",
   "execution_count": 2,
   "metadata": {
    "scrolled": true
   },
   "outputs": [
    {
     "ename": "ValueError",
     "evalue": "I/O operation on closed file.",
     "output_type": "error",
     "traceback": [
      "\u001b[1;31m---------------------------------------------------------------------------\u001b[0m",
      "\u001b[1;31mValueError\u001b[0m                                Traceback (most recent call last)",
      "\u001b[1;32m<ipython-input-2-4e5bbe934cfe>\u001b[0m in \u001b[0;36m<module>\u001b[1;34m\u001b[0m\n\u001b[0;32m      4\u001b[0m \u001b[1;32mfor\u001b[0m \u001b[0mi\u001b[0m \u001b[1;32min\u001b[0m \u001b[0mrange\u001b[0m\u001b[1;33m(\u001b[0m\u001b[0mcount\u001b[0m\u001b[1;33m)\u001b[0m\u001b[1;33m:\u001b[0m\u001b[1;33m\u001b[0m\u001b[1;33m\u001b[0m\u001b[0m\n\u001b[0;32m      5\u001b[0m     \u001b[1;32mif\u001b[0m \u001b[0mi\u001b[0m \u001b[1;33m<\u001b[0m \u001b[0mcount\u001b[0m\u001b[1;33m-\u001b[0m\u001b[1;36m1\u001b[0m \u001b[1;33m:\u001b[0m\u001b[1;33m\u001b[0m\u001b[1;33m\u001b[0m\u001b[0m\n\u001b[1;32m----> 6\u001b[1;33m         \u001b[0mf\u001b[0m\u001b[1;33m.\u001b[0m\u001b[0mwrite\u001b[0m\u001b[1;33m(\u001b[0m\u001b[0mstr\u001b[0m\u001b[1;33m(\u001b[0m\u001b[0mnums\u001b[0m\u001b[1;33m[\u001b[0m\u001b[0mi\u001b[0m\u001b[1;33m]\u001b[0m\u001b[1;33m)\u001b[0m \u001b[1;33m+\u001b[0m \u001b[1;34m\", \"\u001b[0m \u001b[1;33m)\u001b[0m\u001b[1;33m\u001b[0m\u001b[1;33m\u001b[0m\u001b[0m\n\u001b[0m\u001b[0;32m      7\u001b[0m     \u001b[1;32melse\u001b[0m\u001b[1;33m:\u001b[0m\u001b[1;33m\u001b[0m\u001b[1;33m\u001b[0m\u001b[0m\n\u001b[0;32m      8\u001b[0m         \u001b[0mf\u001b[0m\u001b[1;33m.\u001b[0m\u001b[0mwrite\u001b[0m\u001b[1;33m(\u001b[0m\u001b[0mstr\u001b[0m\u001b[1;33m(\u001b[0m\u001b[0mnums\u001b[0m\u001b[1;33m[\u001b[0m\u001b[0mi\u001b[0m\u001b[1;33m]\u001b[0m\u001b[1;33m)\u001b[0m\u001b[1;33m)\u001b[0m\u001b[1;33m\u001b[0m\u001b[1;33m\u001b[0m\u001b[0m\n",
      "\u001b[1;31mValueError\u001b[0m: I/O operation on closed file."
     ]
    }
   ],
   "source": [
    "nums = [1, 2, 3, 4, 5, 6, 7, 8, 9]\n",
    "with open(\"data\\\\filetest3.csv\", \"w\") as f :    #굳이 클로즈 안해도 괜찮다.\n",
    "    count = len(nums)\n",
    "for i in range(count):\n",
    "    if i < count-1 :\n",
    "        f.write(str(nums[i]) + \", \" )\n",
    "    else:\n",
    "        f.write(str(nums[i]))"
   ]
  },
  {
   "cell_type": "code",
   "execution_count": 30,
   "metadata": {},
   "outputs": [
    {
     "name": "stdout",
     "output_type": "stream",
     "text": [
      "파일 포인터 : 0\n",
      "파일 포인터 : 6\n",
      "파일 포인터 : 0\n",
      "파일 포인터 : 8\n",
      "gh\n",
      "\n"
     ]
    }
   ],
   "source": [
    "#임의 접근 (예외적으로) : seek(이동할 위치, 기존 위치), tell()\n",
    "#기준 위치 : 0(default, 파일의 시작 위치, 1(파일의 현재위치), 2 (파일의 끝 위치)\n",
    "with open(\"data\\\\filetest1.txt\", \"r\") as f :\n",
    "    print(\"파일 포인터 : %d\"%f.tell())\n",
    "    \n",
    "    f.readline()\n",
    "    print(\"파일 포인터 : %d\"%f.tell())\n",
    "    \n",
    "    f.seek(0, 0) #기존위치가 0은 다시 처음으로 돌아가겠다.\n",
    "    print(\"파일 포인터 : %d\"%f.tell())\n",
    "    \n",
    "    f.seek(8, 0)\n",
    "    print(\"파일 포인터 : %d\"%f.tell())\n",
    "    print(f.readline())\n",
    "    \n"
   ]
  },
  {
   "cell_type": "code",
   "execution_count": 33,
   "metadata": {},
   "outputs": [
    {
     "name": "stdout",
     "output_type": "stream",
     "text": [
      "['00-markdown.ipynb', '01-변수와 자료형.ipynb', '02-제어문.ipynb', '03-함수.ipynb', 'Untitled.ipynb', 'Untitled1.ipynb', '문제 풀이.ipynb', '연습문제.ipynb']\n"
     ]
    }
   ],
   "source": [
    "# 동시에 여러개의 파일을 읽어오는 방법 : glob\n",
    "\n",
    "import glob\n",
    "#files = glob.glob(\"*\") # * 경로에 있는 모든 파일(폴더포함) 다 가져온다\n",
    "#files = glob.glob(\"*.*\") # *.* 파일들만 가져온다\n",
    "files = glob.glob(\"*.ipynb\") # *.ipynb ipynb 파일만 가져온다\n",
    "print(files) "
   ]
  },
  {
   "cell_type": "code",
   "execution_count": null,
   "metadata": {},
   "outputs": [],
   "source": []
  },
  {
   "cell_type": "code",
   "execution_count": null,
   "metadata": {},
   "outputs": [],
   "source": []
  },
  {
   "cell_type": "code",
   "execution_count": null,
   "metadata": {},
   "outputs": [],
   "source": []
  },
  {
   "cell_type": "code",
   "execution_count": null,
   "metadata": {},
   "outputs": [],
   "source": []
  },
  {
   "cell_type": "code",
   "execution_count": null,
   "metadata": {},
   "outputs": [],
   "source": []
  },
  {
   "cell_type": "code",
   "execution_count": null,
   "metadata": {},
   "outputs": [],
   "source": []
  }
 ],
 "metadata": {
  "kernelspec": {
   "display_name": "Python 3",
   "language": "python",
   "name": "python3"
  },
  "language_info": {
   "codemirror_mode": {
    "name": "ipython",
    "version": 3
   },
   "file_extension": ".py",
   "mimetype": "text/x-python",
   "name": "python",
   "nbconvert_exporter": "python",
   "pygments_lexer": "ipython3",
   "version": "3.8.3"
  }
 },
 "nbformat": 4,
 "nbformat_minor": 4
}
