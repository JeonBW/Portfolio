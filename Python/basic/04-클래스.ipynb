{
 "cells": [
  {
   "cell_type": "markdown",
   "metadata": {},
   "source": [
    "### 1. 특징\n",
    " - 비슷한 기능을 하는 것 끼리 묶어주는\n",
    "1) 묶음 (block)  - 변수, 함수\n",
    "    - 여러 개의 함수를 묶어서 좀 더 큰 단위의 모듈로 관리를 해줄 수 있게 하는 것\n",
    "    - 변수 : 멤버 변수, 속성 \n",
    "    - 함수 : 멤버 함수, 메서드\n",
    "2) 설계도 (추상화) 클래스는 실제로 존재하지 않는 -> 객체(object), 인스턴스 구체화된\n",
    "   - 객체 : 실제 메모리의 공간 (heap에 만들어진다) \n",
    "   - 스택 : 임시공간(임시로 데이터를 넣어다가 뺐다가)\n",
    "   - heap : 한번 저장되면 프로그램이 종료될 때까지 남아있는 \n",
    "\n",
    "3) 사용자 정의 자료형 : 직접 사용자가 자료형을 만들 수 있다.\n",
    "    \n",
    "\n",
    "4)  객체의 조건\n",
    "    - 상속성(inheritance) : 재사용성을 극대화시킨 것(1줄만 선언해서 관련코드를 복사할 수 있다.)\n",
    "    - 다형성(polymorphism) : 하나를 가지고 여러가지를 기능을 사용할 수 있게 \n",
    "    - 캡슐화(encapsulation) : 쉽게 포장해서 내부 복잡한 코드를 사용자들이 신경쓰지 않게  \n",
    "                              + 함부로 건드리지 못하게 보안성(파이썬에서는 없음)\n",
    "5) 객체 설계 5원칙 : SOLID 원칙\n",
    "    \n",
    "    \n",
    "### 2. 클래스 작성방법\n",
    "\n",
    "    class 이름:\n",
    "        변수\n",
    "        함수\n",
    "        \n",
    "        \n",
    "    또는\n",
    "    class 이름(...):\n",
    "        변수\n",
    "        함수"
   ]
  },
  {
   "cell_type": "code",
   "execution_count": 8,
   "metadata": {},
   "outputs": [
    {
     "name": "stdout",
     "output_type": "stream",
     "text": [
      "10\n",
      "Test 클래스 :  10\n"
     ]
    }
   ],
   "source": [
    "class Test:\n",
    "    a = 10\n",
    "    \n",
    "    def show(self):            #class에 있는 함수에는 무조건 self가 있어야한다.\n",
    "        print(\"Test 클래스 : \", self.a)\n",
    "###########################################################\n",
    "\n",
    "#print(Test().a) #클래스를 실체화 시키는 문법 / .을 이용하면 객체로 접근할 수 있다.\n",
    "#Test().show()   \n",
    "ob1 = Test()     # ob1 주소를 저장하고 있는 참조변수\n",
    "print(ob1.a)     #주소를 저장해야 새로운 메모리를 계속 생성하지 않는다.\n",
    "ob1.show()       "
   ]
  },
  {
   "cell_type": "code",
   "execution_count": 10,
   "metadata": {},
   "outputs": [
    {
     "name": "stdout",
     "output_type": "stream",
     "text": [
      "<class 'int'>\n",
      "<class '__main__.Test'>\n"
     ]
    }
   ],
   "source": [
    "a = 10 \n",
    "print(type(a))\n",
    "print(type(ob1)) #원하는 자료형으로 쓸 수 있다.\n"
   ]
  },
  {
   "cell_type": "code",
   "execution_count": 15,
   "metadata": {},
   "outputs": [
    {
     "name": "stdout",
     "output_type": "stream",
     "text": [
      "국적 : 한국\n",
      "이름 : 홍길동\n",
      "나이 : 20\n",
      "신장 : 170\n",
      "취미 : ['독서', '여행']\n",
      "\n",
      "-----------------------\n",
      "국적 : 프랑스\n",
      "이름 : 임꺽정\n",
      "나이 : 30\n",
      "신장 : 160\n",
      "취미 : ['게임', '축구', '낚시']\n",
      "\n",
      "-----------------------\n",
      "국적 : 일본\n",
      "이름 : 임경업\n",
      "나이 : 25\n",
      "신장 : 165\n",
      "취미 : ['낚시']\n",
      "\n",
      "-----------------------\n"
     ]
    }
   ],
   "source": [
    "# 사용자 정의 자료형\n",
    "# 국적,, 이름, 나이 , 신장, 취미\n",
    "class Person:              #관례적으로 class는 첫글자를 대문자, 함수는 소문자\n",
    "    nation = \"한국\"\n",
    "    name = str()\n",
    "    age = int()\n",
    "    height = float()\n",
    "    hobby = []\n",
    "    \n",
    "    def show(self):\n",
    "        print(\"국적 :\", self.nation)\n",
    "        print(\"이름 :\", self.name)\n",
    "        print(\"나이 :\", self.age)\n",
    "        print(\"신장 :\", self.height)\n",
    "        print(\"취미 :\", self.hobby)\n",
    "        print(\"\\n-----------------------\")\n",
    "\n",
    "################################################\n",
    "\n",
    "p1 = Person()    \n",
    "p2 = Person()\n",
    "p3 = Person()\n",
    "p1.nation = \"한국\"\n",
    "p1.name = \"홍길동\"\n",
    "p1.age=20\n",
    "p1.height=170\n",
    "p1.hobby=[\"독서\",\"여행\"]\n",
    "p2.nation = \"프랑스\"\n",
    "p2.name = \"임꺽정\"\n",
    "p2.age=30\n",
    "p2.height=160\n",
    "p2.hobby=[\"게임\",\"축구\",\"낚시\"]\n",
    "p3.nation = \"일본\"\n",
    "p3.name = \"임경업\"\n",
    "p3.age=25\n",
    "p3.height=165\n",
    "p3.hobby=[\"낚시\"]\n",
    "data = [p1, p2, p3]\n",
    "\n",
    "for i in range(len(data)):\n",
    "    data[i].show()"
   ]
  },
  {
   "cell_type": "markdown",
   "metadata": {},
   "source": [
    "---\n",
    "### 3. 클래스 작성 문법\n",
    "\n",
    "1) self \n",
    "    - 현재 사용중인 객체의 주소를 저장하고 있는 참조 변수 (파이썬에서 미리 만들어 놓은 변수)\n",
    "    - read only (읽기전용변수)\n",
    "   \n",
    "2) 생성자와 소멸자                     (클래스 안에서 가장 중요한 것은 함수)\n",
    "    - 메서드\n",
    "    - 객체를 생성하는 용도\n",
    "    - 객체를 처음 만들 때 호출되고 단 한번만 호출되는 메서드(일회용)\n",
    "    - 초기화 \n",
    "    \n",
    "3) static\n",
    "    - 동일한 공간을 모든 객체들이 공동으로 사용\n",
    "    - 클래스 변수\n",
    "    \n",
    "4) 원래 설계된 멤버변수 외에 객체별로 멤버변수를 추가할 수 있다.\n",
    "\n",
    "5) _, __ 가 가지는 의미 (변수이름 지울때 자주 이용)\n",
    "    _ : 기본 인터프리터(명령 프롬프트)에서 사용할 때 (최근에 사용한 값을 저장하고 불러오는 기능)\n",
    "        값을 무시할 때 사용 \n",
    "   _,__ : 변수명과 함께 사용(접근 권한을 위해서) \n",
    "          \n",
    "        \n",
    "   "
   ]
  },
  {
   "cell_type": "code",
   "execution_count": 52,
   "metadata": {},
   "outputs": [],
   "source": [
    "##### self\n",
    "\n",
    "class Test:\n",
    "    #a = int()\n",
    "    #b = float()\n",
    "    #c= str()\n",
    "    \n",
    "    def show(self):                     #self \n",
    "        print(self.a, self.b, self.c)    #변수를 선언하지 않아도 된다.(선언하는 것이 좋다.)\n",
    "        print(\"show : \", id(self))\n",
    "        \n",
    "    def setValue(self, x, y, z):\n",
    "        #검증\n",
    "        self.a = x\n",
    "        self.b = y\n",
    "        self.c = z\n",
    "        \n",
    "        "
   ]
  },
  {
   "cell_type": "code",
   "execution_count": 53,
   "metadata": {},
   "outputs": [
    {
     "name": "stdout",
     "output_type": "stream",
     "text": [
      "10 3.14 홍길동\n",
      "show :  2430505561344\n"
     ]
    },
    {
     "data": {
      "text/plain": [
       "2430505561344"
      ]
     },
     "execution_count": 53,
     "metadata": {},
     "output_type": "execute_result"
    }
   ],
   "source": [
    "t1 = Test()\n",
    "t2 = Test()\n",
    "t3 = Test()\n",
    "\n",
    "#t1.a = 10 \n",
    "#t1.b = 3.14\n",
    "#t1.c =\"홍길동\"\n",
    "t1.setValue(10, 3.14, \"홍길동\")\n",
    "t1.show()             #객체가 갖고 있는 주소값이 항상 적용되도록 self를사용\n",
    "\n",
    "id(t1)"
   ]
  },
  {
   "cell_type": "code",
   "execution_count": null,
   "metadata": {},
   "outputs": [],
   "source": [
    "#직접 값을 넣는게 바람직하지 않은 이유\n",
    "#변수이름을 다 알아야 한다.\n",
    "#값에 대해서 올바른 값인지 판단할 순간이 없다."
   ]
  },
  {
   "cell_type": "code",
   "execution_count": 56,
   "metadata": {},
   "outputs": [],
   "source": [
    "##### 생성자\n",
    "\n",
    "class Test:\n",
    "    a = int()\n",
    "    b = str()\n",
    "    \n",
    "    def __init__(self):\n",
    "        print(\"생성자 호출됨\")\n",
    "        self.a = 10\n",
    "        self.b = \"홍길동\"\n",
    "    \n",
    "    def setValue(self, a, b):\n",
    "        self.a=a\n",
    "        self.b=b"
   ]
  },
  {
   "cell_type": "code",
   "execution_count": 58,
   "metadata": {},
   "outputs": [
    {
     "name": "stdout",
     "output_type": "stream",
     "text": [
      "생성자 호출됨\n",
      "10 홍길동\n"
     ]
    }
   ],
   "source": [
    "ob1 = Test() #init=Test\n",
    "#ob1.a = 10\n",
    "#ob1.b = \"홍길동\"\n",
    "#ob1.setValue(10,\"홍길동\")\n",
    "print(ob1.a, ob1.b)"
   ]
  },
  {
   "cell_type": "code",
   "execution_count": 250,
   "metadata": {},
   "outputs": [],
   "source": [
    "class Test:\n",
    "    a = int()\n",
    "    b = str()\n",
    "    \n",
    "    def __init__(self, a=0, b=None):         #default 인수 활용\n",
    "        print(\"생성자 호출됨\")\n",
    "        self.a = 10\n",
    "        self.b = \"홍길동\"\n",
    "    def __del__(self):                  #객체가 소멸될 때 자동으로 호출되는 메서드\n",
    "        print(\"소멸자 호출\")\n",
    "\n",
    "class Test2:\n",
    "    pass\n"
   ]
  },
  {
   "cell_type": "code",
   "execution_count": 251,
   "metadata": {},
   "outputs": [
    {
     "name": "stdout",
     "output_type": "stream",
     "text": [
      "생성자 호출됨\n",
      "소멸자 호출\n",
      "생성자 호출됨\n",
      "소멸자 호출\n",
      "생성자 호출됨\n",
      "소멸자 호출\n",
      "생성자 호출됨\n",
      "소멸자 호출\n",
      "<class '__main__.Test'>\n",
      "<class '__main__.Test2'>\n",
      "True\n",
      "False\n",
      "True\n"
     ]
    }
   ],
   "source": [
    "ob1 = Test(10, \"홍길동\")\n",
    "ob2 = Test()\n",
    "ob3 = Test(100)\n",
    "ob4 = Test(\"임꺽정\")\n",
    "\n",
    "ob5= Test2()\n",
    "print(type(ob1))\n",
    "print(type(ob5)) \n",
    "\n",
    "print(isinstance(ob1, Test))         #구분하기 위한 함수(isinstance)\n",
    "print(isinstance(ob5, Test))\n",
    "print(isinstance(ob5, Test2))"
   ]
  },
  {
   "cell_type": "code",
   "execution_count": 109,
   "metadata": {},
   "outputs": [],
   "source": [
    "##### static  (하나만 만들어지는 메서드)\n",
    "\n",
    "class Person:             \n",
    "    nation = str()\n",
    "    name = str()\n",
    "    age = int()\n",
    "    height = float()\n",
    "    hobby = []\n",
    "    telephone= []\n",
    "    \n",
    "    def show(self):\n",
    "        print(\"국적 :\", self.nation)\n",
    "        print(\"이름 :\", self.name)\n",
    "        print(\"나이 :\", self.age)\n",
    "        print(\"신장 :\", self.height)\n",
    "        print(\"취미 :\", self.hobby)\n",
    "        print(\"전화번호 :\", Person.telephone) # class 이름으로 적용하면 하나만 사용 가능\n",
    "        print(\"\\n-----------------------\")\n",
    "    \n",
    "    @staticmethod  #Decoration (기존 기능에 +)\n",
    "    def tel(n):    #static은 self가 가질수가 없다. static은 하나만\n",
    "        print(\"대표 전화번호 :\", n)\n",
    "        Person.telephone = n "
   ]
  },
  {
   "cell_type": "code",
   "execution_count": 108,
   "metadata": {},
   "outputs": [],
   "source": [
    "Person.nation= \"한국\""
   ]
  },
  {
   "cell_type": "code",
   "execution_count": 107,
   "metadata": {},
   "outputs": [
    {
     "name": "stdout",
     "output_type": "stream",
     "text": [
      " \n",
      " 프랑스\n"
     ]
    }
   ],
   "source": [
    "p1 = Person()\n",
    "p2 = Person()\n",
    "print(p1.nation, p2.nation)\n",
    "\n",
    "p2.nation = \"프랑스\"\n",
    "print(p1.nation, p2.nation)"
   ]
  },
  {
   "cell_type": "code",
   "execution_count": 111,
   "metadata": {},
   "outputs": [
    {
     "name": "stdout",
     "output_type": "stream",
     "text": [
      "대표 전화번호 : 02-111-1111\n",
      "대표 전화번호 : 02-222-2222\n",
      "대표 전화번호 : 02-333-3333\n"
     ]
    }
   ],
   "source": [
    "Person.tel(\"02-111-1111\")\n",
    "p1.tel(\"02-222-2222\") \n",
    "p2.tel(\"02-333-3333\")\n"
   ]
  },
  {
   "cell_type": "code",
   "execution_count": 113,
   "metadata": {},
   "outputs": [
    {
     "name": "stdout",
     "output_type": "stream",
     "text": [
      "대표 전화번호 : 02-111-1111\n",
      "국적 : \n",
      "이름 : \n",
      "나이 : 0\n",
      "신장 : 0.0\n",
      "취미 : []\n",
      "전화번호 : 02-111-1111\n",
      "\n",
      "-----------------------\n",
      "국적 : \n",
      "이름 : \n",
      "나이 : 0\n",
      "신장 : 0.0\n",
      "취미 : []\n",
      "전화번호 : 02-111-1111\n",
      "\n",
      "-----------------------\n"
     ]
    }
   ],
   "source": [
    "Person.tel(\"02-111-1111\")\n",
    "\n",
    "p1=Person()\n",
    "p2=Person()\n",
    "p1.show()\n",
    "p2.show()\n"
   ]
  },
  {
   "cell_type": "code",
   "execution_count": 133,
   "metadata": {},
   "outputs": [
    {
     "name": "stdout",
     "output_type": "stream",
     "text": [
      "객체의 수 : 3\n",
      "객체의 수 : 3\n"
     ]
    }
   ],
   "source": [
    "class Counter:\n",
    "    m_cnt = 0\n",
    "    \n",
    "    def __init__(self): #객체가 몇개 생성되었는지 확인\n",
    "        Counter.m_cnt +=1          #self.m_cnt (X)\n",
    "        \n",
    "    @staticmethod       \n",
    "    def printCount():\n",
    "        print(\"객체의 수 :\", Counter.m_cnt)\n",
    "        \n",
    "        \n",
    "############################################################\n",
    "a, b, c = Counter(), Counter(), Counter()\n",
    "a.printCount() \n",
    "\n",
    "Counter.printCount()"
   ]
  },
  {
   "cell_type": "code",
   "execution_count": 137,
   "metadata": {},
   "outputs": [
    {
     "name": "stdout",
     "output_type": "stream",
     "text": [
      "객체의 수 : 3\n",
      "객체의 수 : 3\n"
     ]
    }
   ],
   "source": [
    "class Counter:\n",
    "    m_cnt = 0\n",
    "    \n",
    "    def __init__(self):\n",
    "        Counter.m_cnt +=1         \n",
    "        \n",
    "    @staticmethod       #변수를 쓸 때 클래스이름 \n",
    "    def printCount():\n",
    "        print(\"객체의 수 :\", Counter.m_cnt)\n",
    "    \n",
    "    @classmethod        #현재 클래스에 주소를 매개변수로 전달받음\n",
    "    def printCount2(c):\n",
    "        print(\"객체의 수 :\", c.m_cnt)\n",
    "            \n",
    "############################################################\n",
    "a, b, c = Counter(), Counter(), Counter()\n",
    "a.printCount2() \n",
    "\n",
    "Counter.printCount2()  \n"
   ]
  },
  {
   "cell_type": "code",
   "execution_count": 141,
   "metadata": {},
   "outputs": [
    {
     "name": "stdout",
     "output_type": "stream",
     "text": [
      "객체의 수 : 3\n",
      "객체의 수 : 3\n"
     ]
    }
   ],
   "source": [
    "###decoration을 사용하지 않을 경우\n",
    "class Counter:\n",
    "    m_cnt = 0\n",
    "    \n",
    "    def __init__(self):\n",
    "        Counter.m_cnt +=1         \n",
    "             \n",
    "    def printCount():\n",
    "        print(\"객체의 수 :\", Counter.m_cnt)\n",
    "          \n",
    "    def printCount2(c):\n",
    "        print(\"객체의 수 :\", c.m_cnt)\n",
    "        \n",
    "    s1 = staticmethod(printCount)          #staticmethod, calssmethod 파이썬 내 내장함수\n",
    "    s2 = classmethod(printCount2)        \n",
    "############################################################\n",
    "a, b, c = Counter(), Counter(), Counter()\n",
    "a.s1()                    #함수이름 바꿔써야 한다.\n",
    "\n",
    "Counter.s2()  \n"
   ]
  },
  {
   "cell_type": "code",
   "execution_count": 46,
   "metadata": {},
   "outputs": [],
   "source": [
    "\"\"\"\n",
    "e1 = Employee(1111,\"홍길동\",\"1000000\",[\"여행\", \"낚시\", \"운동\"])   \n",
    "e1.display()\n",
    "결과 : \n",
    "사번 : 1111\n",
    "이름 : 홍길동\n",
    "급여: 10000000\n",
    "취미 : 여행, 낚시, 운동\n",
    "\n",
    "e2 = employee(1112, \"임꺽정\", \"1000000\", [\"자전거\", \"볼링\"])\n",
    "e3 = employee(1113, \"신돌석\", \"1400000\", [\"독서\"])\n",
    "\n",
    "total = Employee.getCount  \n",
    "print(\"총 인원수 :\", total)\n",
    "\n",
    "e3.setSalary(2000000)\n",
    "e3.appendHobby([\"피아노\",[\"드론\"]])\n",
    "e3. display()\n",
    "결과 : \n",
    "    사번 : 1113\n",
    "    이름 : 신돌석\n",
    "    급여 : 20000000\n",
    "    취미 : 독서, 피아노, 드론\n",
    "\"\"\"\n",
    "class Person:\n",
    "    num = int()\n",
    "    name = str()\n",
    "    salary = int()\n",
    "    hobby = []\n",
    "\n",
    "    \n",
    "    def display(self):                   \n",
    "        print(\"사번 :\", self.num)\n",
    "        print(\"이름 :\", self.name)\n",
    "        print(\"급여 :\", self.salary)\n",
    "        print(\"취미 :\", self.hobby)\n",
    "        print(\"\\n-----------------------\")\n",
    "\n",
    "    \n",
    "        \n"
   ]
  },
  {
   "cell_type": "code",
   "execution_count": 52,
   "metadata": {
    "scrolled": true
   },
   "outputs": [
    {
     "ename": "SyntaxError",
     "evalue": "invalid syntax (<ipython-input-52-72afce31dd05>, line 19)",
     "output_type": "error",
     "traceback": [
      "\u001b[1;36m  File \u001b[1;32m\"<ipython-input-52-72afce31dd05>\"\u001b[1;36m, line \u001b[1;32m19\u001b[0m\n\u001b[1;33m    p3.hobby=append.[\"피아노\",\"드론\"]\u001b[0m\n\u001b[1;37m                    ^\u001b[0m\n\u001b[1;31mSyntaxError\u001b[0m\u001b[1;31m:\u001b[0m invalid syntax\n"
     ]
    }
   ],
   "source": [
    "p1=Person()\n",
    "p2=Person()\n",
    "p3=Person()\n",
    "p1.num = 1111\n",
    "p1.name = \"홍길동\"\n",
    "p1.salary=1000000\n",
    "p1.hobby=[\"낚시\",\"여행\",\"운동\"]\n",
    "p2.num = 1112\n",
    "p2.name = \"임꺽정\"\n",
    "p2.salary=1000000\n",
    "p2.hobby=[\"자전거\",\"볼링\"]\n",
    "p3.num = 1113\n",
    "p3.name = \"신돌석\"\n",
    "p3.salary=1400000\n",
    "p3.hobby=[\"독서\"]\n",
    "data=[p1,p2,p3]\n",
    "\n",
    "for i in range(len(data)):\n",
    "    data[i].display()\n",
    "\n",
    "print(\"사원의 수 :\",len(data))\n",
    "p3.salary = 2000000\n",
    "\n",
    "p3.display()"
   ]
  },
  {
   "cell_type": "code",
   "execution_count": null,
   "metadata": {},
   "outputs": [],
   "source": []
  },
  {
   "cell_type": "code",
   "execution_count": 327,
   "metadata": {},
   "outputs": [],
   "source": []
  },
  {
   "cell_type": "code",
   "execution_count": 328,
   "metadata": {},
   "outputs": [
    {
     "name": "stdout",
     "output_type": "stream",
     "text": [
      "사번 : 1111\n",
      "이름 : 홍길동\n",
      "급여 : 1000000\n",
      "취미 : ['낚시', '여행', '운동']\n",
      "\n",
      "-----------------------\n",
      "사번 : 1112\n",
      "이름 : 임꺽정\n",
      "급여 : 1000000\n",
      "취미 : ['자전거', '볼링']\n",
      "\n",
      "-----------------------\n",
      "사번 : 1113\n",
      "이름 : 신돌석\n",
      "급여 : 1400000\n",
      "취미 : ['독서']\n",
      "\n",
      "-----------------------\n",
      "총 인원 수 : 0\n"
     ]
    }
   ],
   "source": []
  },
  {
   "cell_type": "code",
   "execution_count": 208,
   "metadata": {},
   "outputs": [
    {
     "name": "stdout",
     "output_type": "stream",
     "text": [
      "0\n",
      "0\n",
      "20\n"
     ]
    }
   ],
   "source": [
    "# 4) 원래 설계된 멤버변수 외에 객체별로 멤버변수를 추가할 수 있다.\n",
    "\n",
    "class Test:\n",
    "    a=0\n",
    "    \n",
    "    def display(self):\n",
    "        print(self.a)\n",
    "        \n",
    "###################################\n",
    "\n",
    "ob1 = Test()\n",
    "ob1.display()\n",
    "\n",
    "ob2 = Test()\n",
    "ob2.display()\n",
    "\n",
    "ob2.b = 20\n",
    "print(ob2.b)"
   ]
  },
  {
   "cell_type": "code",
   "execution_count": 221,
   "metadata": {},
   "outputs": [
    {
     "name": "stdout",
     "output_type": "stream",
     "text": [
      "10 30\n",
      "10 40\n"
     ]
    }
   ],
   "source": [
    "# _를 사용하여 값을 무시\n",
    "\n",
    "_, b, c = (10, 20, 30)\n",
    "b, _, c= (10,20,30)\n",
    "print(b,c)\n",
    "\n",
    "a, _, _, _, _,f =(10,20,30,40,50,60)\n",
    "a, *_, f = (10,20,30,40,50,60)\n",
    "a, *_, f,_,_ = (10,20,30,40,50,60)\n",
    "print(a,f)"
   ]
  },
  {
   "cell_type": "code",
   "execution_count": 224,
   "metadata": {},
   "outputs": [
    {
     "name": "stdout",
     "output_type": "stream",
     "text": [
      "0 가\n",
      "1 나\n",
      "2 다\n",
      "3 라\n",
      "0\n",
      "1\n",
      "2\n",
      "3\n",
      "**********"
     ]
    }
   ],
   "source": [
    "for i, j in enumerate ([\"가\",\"나\",\"다\",\"라\"]):\n",
    "    print(i,j)\n",
    "    \n",
    "for i, _ in enumerate ([\"가\",\"나\",\"다\",\"라\"]):\n",
    "    print(i)\n",
    "    \n",
    "for _ in range(10):\n",
    "    print(\"*\", end=\"\")"
   ]
  },
  {
   "cell_type": "code",
   "execution_count": 244,
   "metadata": {},
   "outputs": [
    {
     "name": "stdout",
     "output_type": "stream",
     "text": [
      "안녕하세요~~\n",
      "홍길동입니다.\n",
      "다음에 또 봅시다.\n",
      "['_Test__funcTest', '_Test__str3', '__class__', '__delattr__', '__dict__', '__dir__', '__doc__', '__eq__', '__format__', '__ge__', '__getattribute__', '__gt__', '__hash__', '__init__', '__init_subclass__', '__le__', '__lt__', '__module__', '__ne__', '__new__', '__reduce__', '__reduce_ex__', '__repr__', '__setattr__', '__sizeof__', '__str__', '__subclasshook__', '__weakref__', '_str2', 'str1']\n",
      "funcTest입니다. 다음에 또 봅시다.\n"
     ]
    }
   ],
   "source": [
    "# _, __ 를 이용한 접근권한\n",
    "\n",
    "class Test:\n",
    "    str1 = \"안녕하세요~~\"\n",
    "    _str2 = \"홍길동입니다.\"\n",
    "    __str3 = \"다음에 또 봅시다.\"\n",
    "    \n",
    "    def __funcTest(self):\n",
    "        print(\"funcTest입니다.\", self.__str3)\n",
    "    \n",
    "###############################\n",
    "\n",
    "ob1 = Test()\n",
    "print(ob1.str1)\n",
    "print(ob1._str2)    #_는 될 수 있으면 이 변수는 쓰지 말라는 표시(강제성은 없음)\n",
    "#print(ob1.__str3)   #__는 적극적으로 못 쓰게 막기위한 것 (쓸 수는 있음)\n",
    "\n",
    "dir(ob1)         #맹글링 : 찾지 못하게 이름을 바꿔버리는 \n",
    "\n",
    "print(ob1._Test__str3)\n",
    "#ob1._funcTest()\n",
    "print(dir(ob1))\n",
    "ob1._Test__funcTest()"
   ]
  },
  {
   "cell_type": "markdown",
   "metadata": {},
   "source": [
    "___\n",
    "### 4. 상속 (재사용성을 극대화)\n",
    "\n",
    "1) 상속 설계시 고려할 점 \n",
    "    - 부모 클래스는 최소한 코드로 작성(모든 자식들이 공통적으로 가질 수 있는 항목에 대해서만)\n",
    "    - 중복된 코드가 있어서는 안된다. \n",
    "    - 상속받은 자식 클래스는 반드시 기능을 확장(추가)시켜야 한다.\n",
    "2) Override(재정의), Overload(중복정의) 문법의 다양성을 주기 위해\n",
    "    - Override : 부모로부터 받은 메소드가 상황과 맞지 않을때 다시 고쳐서 만드는 것(상속에서만 사용)\n",
    "    - Overload : 똑같은 이름의 메소드를 또 만드는 것 (파이썬에서는 중복정의를 지원하지 않는다.)\n",
    "\n",
    "3) super():부모 객체에 접근하기 위한 주소를 리턴받을 수 있다. \n",
    "4) 다중 상속 (여러부모로부터 상속을 물려받는 것)\n",
    "    - 파이썬에서는 다중상속이 지원된다. \n",
    "    \n",
    "5) 추상 클래스, 추상 메서드\n",
    "    - 추상 클래스\n",
    "        : 기본적으로 추상메서드를 한 개 이상 가지고 있어야 한다.(자동적으로 추상클래스가 된다.)\n",
    "        : 객체를 생성할 수 없다.(역할을 명확하게 하기 위해, 클래스자체로 사용하기보다는 자식에게 이름을            물려주기 위한 클래스) - 코드의 가독성을 높여줄 수 있다.\n",
    "    - 추상 메서드\n",
    "        : 내용이 없는 메서드  (반드시 오버라이딩 해야한다.)\n",
    "\n",
    "6) object  (모든 클래스는 object로부터 상속받는다.)\n"
   ]
  },
  {
   "cell_type": "code",
   "execution_count": 293,
   "metadata": {},
   "outputs": [
    {
     "name": "stdout",
     "output_type": "stream",
     "text": [
      "멍멍~~\n",
      "움직인다.\n",
      "현재 속도는 : 100\n",
      "움직인다.\n"
     ]
    }
   ],
   "source": [
    "class Animal:    #물려주는 클래스 : 부모 클래스(Animal), 상속을 받는 클래스 : 자식 클래스(Dog, Horse)                      \n",
    "    def move(self):         #부모 클래스=슈퍼 클래스,베이스클래스, 자식클래스=서브클래스,파생클래스\n",
    "        print(\"움직인다.\")\n",
    "\n",
    "class Dog(Animal):                   #물려받기 위한 클래스를 지정 \n",
    "    def bark(self):                  #Animal이라는 메소드를 물려 받는다.\n",
    "        print(\"멍멍~~\")\n",
    "\n",
    "class Horse(Animal):                \n",
    "    def spped(self, s):\n",
    "        print(\"현재 속도는 :\", s)\n",
    "        \n",
    "\n",
    "####################################################\n",
    "\n",
    "d = Dog()\n",
    "d.bark()\n",
    "d.move()               #메모리에 복사가 되어왔기 때문에 move 메소드 쓸 수 있게 된다.\n",
    "        \n",
    "h= Horse()\n",
    "h.spped(100)\n",
    "h.move()\n",
    "\n",
    "#상속으로 클래스를 구현할 때에는 철저한 계획을 통해서 설계해야한다.\n"
   ]
  },
  {
   "cell_type": "code",
   "execution_count": 19,
   "metadata": {},
   "outputs": [],
   "source": [
    "#calcu 사칙연산 전자계산기를 상속으로 \n",
    "class Calulator:\n",
    "    first = 0\n",
    "    second = 0               \n",
    "    \n",
    "    def __init__(self, first=None, second=None):        #생성자\n",
    "        self.first=first\n",
    "        self.second=second\n",
    "    \n",
    "    def setData(self, first=None, second=None):\n",
    "        self.first=first\n",
    "        self.second=second\n",
    "    def sum(self):\n",
    "        return self.first + self.second\n",
    "    def div(self):\n",
    "        return self.first / self.second\n",
    "    def mul(self):\n",
    "        return self.first * self.second\n",
    "    def sub(self):\n",
    "        return self.first - self.second\n",
    "    \n",
    "class Calculator2(Calulator):                  #생성자는 상속하지 않는다.\n",
    "    def pow(self):\n",
    "        return self.first ** self.second\n",
    "    \n",
    "    def div(self):                              #Override\n",
    "        if self.second == 0:\n",
    "            return \"0으로 나눌 수 없습니다.\"\n",
    "        else:\n",
    "            return self.first / self.second\n"
   ]
  },
  {
   "cell_type": "code",
   "execution_count": 25,
   "metadata": {},
   "outputs": [
    {
     "name": "stdout",
     "output_type": "stream",
     "text": [
      "30\n",
      "200\n",
      "100000000000000000000\n",
      "0으로 나눌 수 없습니다.\n"
     ]
    }
   ],
   "source": [
    "cal1=Calulator() #객체생성\n",
    "cal1.setData(10,20)\n",
    "print(cal1.sum())\n",
    "\n",
    "cal2=Calulator(10, 20)\n",
    "print(cal1.mul())\n",
    "\n",
    "cal3=Calculator2(10, 20)\n",
    "print(cal3.pow())\n",
    "\n",
    "cal3.setData(10,0)\n",
    "print(cal4.div())\n",
    "\n",
    "#cal1.setData(10,0)        #에러\n",
    "#print(cal1.div())"
   ]
  },
  {
   "cell_type": "code",
   "execution_count": 26,
   "metadata": {},
   "outputs": [],
   "source": [
    "# Overriding을 이용한 표준화 구현(표준화 : 기준을 정해놓고 그 기준을 따라간다.)\n",
    "\n",
    "class Phone:\n",
    "    def call(self):\n",
    "        print(\"전화 걸기\")\n",
    "class FolderPhone(Phone):\n",
    "    def call(self):\n",
    "        print(\"전화 걸기 + 게임\")\n",
    "\n",
    "class CameraPhone(Phone):\n",
    "    def call(self):\n",
    "        print(\"전화걸기 + 카메라 추가\")\n",
    "\n",
    "class SmartPhone(Phone):\n",
    "    def call(self):\n",
    "        print(\"전화걸기 + 카메라 추가 + 인터넷 기능\")"
   ]
  },
  {
   "cell_type": "code",
   "execution_count": 39,
   "metadata": {},
   "outputs": [
    {
     "name": "stdout",
     "output_type": "stream",
     "text": [
      "Employee 클래스\n",
      "20\n",
      "난 회사원이다.\n",
      "난 사람이다.\n",
      "나이 20, 하고 싶은 말 : 난 회사원이다.\n"
     ]
    }
   ],
   "source": [
    "#super\n",
    "            \n",
    "class Person:           \n",
    "    say = \"난 사람이다.\"                        \n",
    "    age = 20                                         \n",
    "     \n",
    "    def info(self):\n",
    "        print(\"나이 {}, 하고 싶은 말 : {}\".format(self.age, self.say))\n",
    "    \n",
    "    def __init__(self):\n",
    "        print(\"Person 클래스\")\n",
    "        \n",
    "class Employee(Person):\n",
    "    say = \"난 회사원이다.\"\n",
    "    subject = \"근로자\"\n",
    "    \n",
    "    def __init__(self):\n",
    "        print(\"Employee 클래스\")\n",
    "        \n",
    "    def info(self):\n",
    "        print(self.age)\n",
    "        print(self.say)\n",
    "        print(super().say)\n",
    "        super().info()\n",
    "################################################\n",
    "\n",
    "e1 = Employee()\n",
    "e1.info()           #override해서 사람이다가 아닌 회사원이다가 출력\n"
   ]
  },
  {
   "cell_type": "code",
   "execution_count": 49,
   "metadata": {},
   "outputs": [
    {
     "name": "stdout",
     "output_type": "stream",
     "text": [
      "Employee 클래스\n",
      "20\n",
      "난 회사원이다.\n",
      "30\n",
      "난 회사원이다.\n"
     ]
    }
   ],
   "source": [
    "class Person:\n",
    "    say = \"난 사람이다.\"\n",
    "    __age = 20\n",
    "    \n",
    "    def info(self):\n",
    "        print(\"나이 {}, 하고 싶은 말 : {}\".format(self.__age, self.say))\n",
    "    \n",
    "    def __init__(self):\n",
    "        print(\"Person 클래스\")\n",
    "        \n",
    "    def setAge(self,age):                #setter 메서드\n",
    "        self.__age=age\n",
    "    \n",
    "    def getAge(self):                   #getter 메서드\n",
    "        return self.__age\n",
    "        \n",
    "class Employee(Person):\n",
    "    say = \"난 회사원이다.\"\n",
    "    \n",
    "    def __init__(self):\n",
    "        print(\"Employee 클래스\")\n",
    "        \n",
    "    def info(self):\n",
    "        #print(self.__age)\n",
    "        print(self.getAge())\n",
    "        print(self.say)\n",
    "################################################\n",
    "e1=Employee()\n",
    "e1.info()\n",
    "e1.setAge(30)\n",
    "e1.info()\n",
    "\n"
   ]
  },
  {
   "cell_type": "code",
   "execution_count": 56,
   "metadata": {},
   "outputs": [
    {
     "name": "stdout",
     "output_type": "stream",
     "text": [
      "내가 상속해 주었음\n",
      "나는 상속 받았음\n"
     ]
    }
   ],
   "source": [
    "#상속에서의 staticmethod : Override\n",
    "#staticmethod 일 경우 상속을 해도 부모의 리소스를 먼저 접근하기 때문에 오버라이딩이 불가하다.\n",
    "#classmethod는 오버라이딩이 가능\n",
    "class Test :\n",
    "    t = \"내가 상속해 주었음\"\n",
    "    \n",
    "    #@staticmethod                \n",
    "    #def display():\n",
    "    #    return Test.t\n",
    "\n",
    "    @classmethod\n",
    "    def display(cls):\n",
    "        return cls.t \n",
    "    \n",
    "class ChildTest(Test):\n",
    "    t = \"나는 상속 받았음\"\n",
    "###################################\n",
    "print(Test.display())\n",
    "print(ChildTest.display())\n",
    "    "
   ]
  },
  {
   "cell_type": "code",
   "execution_count": 57,
   "metadata": {},
   "outputs": [
    {
     "name": "stdout",
     "output_type": "stream",
     "text": [
      "통화 기능\n",
      "촬영 기능\n"
     ]
    }
   ],
   "source": [
    "# 다중 상속\n",
    "\n",
    "class Phone:\n",
    "    def call(slef):\n",
    "        print(\"통화 기능\")\n",
    "\n",
    "class Camera:\n",
    "    def picture(self):\n",
    "        print(\"촬영 기능\")\n",
    "\n",
    "class CameraPhone(Phone,Camera):\n",
    "    pass\n",
    "##################################\n",
    "cp = CameraPhone()\n",
    "cp.call()\n",
    "cp.picture()"
   ]
  },
  {
   "cell_type": "code",
   "execution_count": 136,
   "metadata": {},
   "outputs": [
    {
     "name": "stdout",
     "output_type": "stream",
     "text": [
      "소리 증가 : 100\n"
     ]
    },
    {
     "ename": "TypeError",
     "evalue": "Can't instantiate abstract class Volume with abstract methods volumeDown, volumeUp",
     "output_type": "error",
     "traceback": [
      "\u001b[1;31m---------------------------------------------------------------------------\u001b[0m",
      "\u001b[1;31mTypeError\u001b[0m                                 Traceback (most recent call last)",
      "\u001b[1;32m<ipython-input-136-8fec0c93b6e8>\u001b[0m in \u001b[0;36m<module>\u001b[1;34m\u001b[0m\n\u001b[0;32m     27\u001b[0m \u001b[0mt\u001b[0m\u001b[1;33m.\u001b[0m\u001b[0mvolumeUp\u001b[0m\u001b[1;33m(\u001b[0m\u001b[1;36m100\u001b[0m\u001b[1;33m)\u001b[0m\u001b[1;33m\u001b[0m\u001b[1;33m\u001b[0m\u001b[0m\n\u001b[0;32m     28\u001b[0m \u001b[1;33m\u001b[0m\u001b[0m\n\u001b[1;32m---> 29\u001b[1;33m \u001b[0mt2\u001b[0m\u001b[1;33m=\u001b[0m\u001b[0mVolume\u001b[0m\u001b[1;33m(\u001b[0m\u001b[1;33m)\u001b[0m              \u001b[1;31m#추상클래스가 되면 객체를 생성할 수 없다.\u001b[0m\u001b[1;33m\u001b[0m\u001b[1;33m\u001b[0m\u001b[0m\n\u001b[0m\u001b[0;32m     30\u001b[0m \u001b[0mt\u001b[0m\u001b[1;33m.\u001b[0m\u001b[0mvolumeUp\u001b[0m\u001b[1;33m(\u001b[0m\u001b[1;36m100\u001b[0m\u001b[1;33m)\u001b[0m\u001b[1;33m\u001b[0m\u001b[1;33m\u001b[0m\u001b[0m\n",
      "\u001b[1;31mTypeError\u001b[0m: Can't instantiate abstract class Volume with abstract methods volumeDown, volumeUp"
     ]
    }
   ],
   "source": [
    "# 추상 클래스와 추상 메서드\n",
    " \n",
    "\n",
    "import abc  \n",
    "\n",
    "\n",
    "class Volume(metaclass=abc.ABCMeta):    #metaclass=abc.ABCMeta이 클래스는 추상클래스가된다.\n",
    "    vol = 0 \n",
    "    \n",
    "    @abc.abstractclassmethod\n",
    "    def volumeUp(self,vol):\n",
    "        pass\n",
    "    @abc.abstractclassmethod             #추상 메서드를 강제\n",
    "    def volumeDown(self,vol):\n",
    "        pass\n",
    "\n",
    "class TestVolume(Volume):\n",
    "    def volumeUp(self,vol):\n",
    "        self.vol += vol\n",
    "        print(\"소리 증가 :\",self.vol)\n",
    "    def volumeDown(self,vol):\n",
    "        self.vol -= vol\n",
    "        print(\"소리 감소 :\",self.vol)\n",
    "    \n",
    "###########################################\n",
    "t = TestVolume()\n",
    "t.volumeUp(100)\n",
    "\n",
    "t2=Volume()              #추상클래스가 되면 객체를 생성할 수 없다.\n",
    "t.volumeUp(100) "
   ]
  },
  {
   "cell_type": "code",
   "execution_count": 137,
   "metadata": {},
   "outputs": [],
   "source": [
    "#전체예제\n",
    "#Tv, 라디오, 스피커 -> 공통적인 기능 소리가 나오는 것\n",
    "#하나의 클래스로 상속할때 Sound로 표준화\n",
    "#전기를켜야 작동  =>다중상속"
   ]
  },
  {
   "cell_type": "code",
   "execution_count": 170,
   "metadata": {},
   "outputs": [],
   "source": [
    "class Volume:\n",
    "    vol = 0 \n",
    "    def volumeUp(self, vol):\n",
    "        self.vol += vol\n",
    "        print(\"볼륨의 크기는 %d만큼 증가하여 현재 볼륨은 %d 입니다.\" %(vol, self.vol))\n",
    "    def volumeDown(self, vol):\n",
    "        self.vol -= vol\n",
    "        print(\"볼륨의 크기는 %d만큼 감소하여 현재 볼륨은 %d 입니다.\" %(vol, self.vol))\n",
    "\n",
    "################################################################################################\n",
    "class TV(Volume):\n",
    "    def volumeUp(self, vol):\n",
    "        self.vol += vol\n",
    "        print(\"TV 볼륨의 크기는 %d만큼 증가하여 현재 볼륨은 %d 입니다.\" %(vol, self.vol))\n",
    "    def volumeDown(self, vol):\n",
    "        self.vol -= vol\n",
    "        print(\"TV 볼륨의 크기는 %d만큼 감소하여 현재 볼륨은 %d 입니다.\" %(vol, self.vol))\n",
    "###################################################################################################   \n",
    "class Radio(Volume):\n",
    "    def volumeUp(self, vol):\n",
    "        self.vol += vol\n",
    "        print(\"Radio 볼륨의 크기는 %d만큼 증가하여 현재 볼륨은 %d 입니다.\" %(vol, self.vol))\n",
    "    def volumeDown(self, vol):\n",
    "        self.vol -= vol\n",
    "        print(\"Radio 볼륨의 크기는 %d만큼 감소하여 현재 볼륨은 %d 입니다.\" %(vol, self.vol))\n",
    "###################################################################################################\n",
    "class Speaker(Volume):\n",
    "    def volumeUp(self, vol):\n",
    "        self.vol += vol\n",
    "        print(\"Speaker 볼륨의 크기는 %d만큼 증가하여 현재 볼륨은 %d 입니다.\" %(vol, self.vol))\n",
    "    def volumeDown(self, vol):\n",
    "        self.vol -= vol\n",
    "        print(\"Speaker 볼륨의 크기는 %d만큼 감소하여 현재 볼륨은 %d 입니다.\" %(vol, self.vol))\n",
    "        \n",
    "        \n"
   ]
  },
  {
   "cell_type": "code",
   "execution_count": 171,
   "metadata": {},
   "outputs": [
    {
     "name": "stdout",
     "output_type": "stream",
     "text": [
      "TV 볼륨의 크기는 10만큼 증가하여 현재 볼륨은 10 입니다.\n",
      "TV 볼륨의 크기는 5만큼 증가하여 현재 볼륨은 15 입니다.\n",
      "Radio 볼륨의 크기는 5만큼 감소하여 현재 볼륨은 -5 입니다.\n"
     ]
    }
   ],
   "source": [
    "tv=TV()\n",
    "radio=Radio()\n",
    "speaker=Speaker()\n",
    "\n",
    "tv.volumeUp(10)\n",
    "tv.volumeUp(5)\n",
    "radio.volumeDown(5)"
   ]
  },
  {
   "cell_type": "code",
   "execution_count": 98,
   "metadata": {},
   "outputs": [
    {
     "data": {
      "text/plain": [
       "'\\n1. 부모클래스로 Power를 추가한다. : 다중 상속 구현\\n-powerOn(), powerOff()\\n\\n2. 부모클래스는 추상클래스로 구현한다.\\n\\n3. 전원을 켰을때만 볼륨조정을 할 수 있게 한다.\\n\\n4. 볼륨조정은 max값을 100으로 하고 Min값을 0으로 한다. \\n\\n------------------------------------------------\\n1.Tv\\n2.raido\\n3.speaker\\n4.종료\\n메뉴 : 1 \\n1.전원\\n2.볼륨조정\\n3. 나가기\\n메뉴 :2\\n볼륨 레벨 : 20\\n현재 TV의 볼륨은 20입니다.\\n'"
      ]
     },
     "execution_count": 98,
     "metadata": {},
     "output_type": "execute_result"
    }
   ],
   "source": [
    "\"\"\"\n",
    "1. 부모클래스로 Power를 추가한다. : 다중 상속 구현\n",
    "-powerOn(), powerOff()\n",
    "\n",
    "2. 부모클래스는 추상클래스로 구현한다.\n",
    "\n",
    "3. 전원을 켰을때만 볼륨조정을 할 수 있게 한다.\n",
    "\n",
    "4. 볼륨조정은 max값을 100으로 하고 Min값을 0으로 한다. \n",
    "\n",
    "------------------------------------------------\n",
    "1.Tv\n",
    "2.raido\n",
    "3.speaker\n",
    "4.종료\n",
    "메뉴 : 1 \n",
    "1.전원\n",
    "2.볼륨조정\n",
    "3. 나가기\n",
    "메뉴 :2\n",
    "볼륨 레벨 : 20\n",
    "현재 TV의 볼륨은 20입니다.\n",
    "\"\"\"\n",
    "\n"
   ]
  },
  {
   "cell_type": "code",
   "execution_count": 99,
   "metadata": {},
   "outputs": [
    {
     "name": "stdout",
     "output_type": "stream",
     "text": [
      "['__class__', '__delattr__', '__dir__', '__doc__', '__eq__', '__format__', '__ge__', '__getattribute__', '__gt__', '__hash__', '__init__', '__init_subclass__', '__le__', '__lt__', '__ne__', '__new__', '__reduce__', '__reduce_ex__', '__repr__', '__setattr__', '__sizeof__', '__str__', '__subclasshook__']\n"
     ]
    }
   ],
   "source": [
    "#object\n",
    "\n",
    "print(dir(object))"
   ]
  },
  {
   "cell_type": "code",
   "execution_count": 100,
   "metadata": {},
   "outputs": [
    {
     "name": "stdout",
     "output_type": "stream",
     "text": [
      "['__abs__', '__add__', '__and__', '__bool__', '__ceil__', '__class__', '__delattr__', '__dir__', '__divmod__', '__doc__', '__eq__', '__float__', '__floor__', '__floordiv__', '__format__', '__ge__', '__getattribute__', '__getnewargs__', '__gt__', '__hash__', '__index__', '__init__', '__init_subclass__', '__int__', '__invert__', '__le__', '__lshift__', '__lt__', '__mod__', '__mul__', '__ne__', '__neg__', '__new__', '__or__', '__pos__', '__pow__', '__radd__', '__rand__', '__rdivmod__', '__reduce__', '__reduce_ex__', '__repr__', '__rfloordiv__', '__rlshift__', '__rmod__', '__rmul__', '__ror__', '__round__', '__rpow__', '__rrshift__', '__rshift__', '__rsub__', '__rtruediv__', '__rxor__', '__setattr__', '__sizeof__', '__str__', '__sub__', '__subclasshook__', '__truediv__', '__trunc__', '__xor__', 'as_integer_ratio', 'bit_length', 'conjugate', 'denominator', 'from_bytes', 'imag', 'numerator', 'real', 'to_bytes']\n"
     ]
    }
   ],
   "source": [
    "a = 10\n",
    "print(dir(a))"
   ]
  },
  {
   "cell_type": "code",
   "execution_count": 119,
   "metadata": {},
   "outputs": [
    {
     "name": "stdout",
     "output_type": "stream",
     "text": [
      "['__class__', '__delattr__', '__dict__', '__dir__', '__doc__', '__eq__', '__format__', '__ge__', '__getattribute__', '__gt__', '__hash__', '__init__', '__init_subclass__', '__le__', '__lt__', '__module__', '__ne__', '__new__', '__reduce__', '__reduce_ex__', '__repr__', '__setattr__', '__sizeof__', '__str__', '__subclasshook__', '__weakref__', 'a']\n",
      "<class '__main__.Test'>\n"
     ]
    }
   ],
   "source": [
    "class Test:\n",
    "    a=10\n",
    "print(dir(Test))\n",
    "\n",
    "print(Test().__class__)"
   ]
  },
  {
   "cell_type": "code",
   "execution_count": 123,
   "metadata": {},
   "outputs": [
    {
     "name": "stdout",
     "output_type": "stream",
     "text": [
      "파이썬 클래스\n",
      "파이썬 클래스\n",
      "파이썬 클래스\n",
      "--------------------------------------------------------------\n",
      "데이터 변경\n",
      "데이터 변경\n",
      "데이터 변경\n"
     ]
    }
   ],
   "source": [
    "#__class__\n",
    "\n",
    "class Test:\n",
    "    data = \"파이썬 클래스\"\n",
    "    \n",
    "################################\n",
    "\n",
    "ob1, ob2 = Test(), Test()\n",
    "print(ob1.data)\n",
    "print(ob2.data)\n",
    "print(Test.data) #static\n",
    "\n",
    "print(\"--------------------------------------------------------------\")\n",
    "#ob1.data = \"데이터 변경\"\n",
    "#ob2.data = \"데이터 변경\"\n",
    "#Test.data = \"데이터 변경\"   #static\n",
    "ob1.__class__.data = \"데이터 변경\"  # __class__ 클래스 이름을 접근하는 static\n",
    "\n",
    "print(ob1.data)\n",
    "print(ob2.data)\n",
    "print(Test.data)"
   ]
  },
  {
   "cell_type": "code",
   "execution_count": 135,
   "metadata": {},
   "outputs": [
    {
     "name": "stdout",
     "output_type": "stream",
     "text": [
      "멍멍이 2\n",
      "야옹이 3\n"
     ]
    }
   ],
   "source": [
    "# 객체별로 변수 추가 금지 : __slots__\n",
    "class Animal:\n",
    "    #name = \"동물\"\n",
    "    #age = 0 \n",
    "    __slots__ = [\"name\", \"age\"]   # slots를 사용하여 객체 추가를 막음 \n",
    "    def display(self):\n",
    "        print(self.name, self.age)\n",
    "###############\n",
    "a, b = Animal(),Animal()\n",
    "\n",
    "a.name=\"멍멍이\" \n",
    "a.age=2\n",
    "\n",
    "b.name=\"야옹이\"\n",
    "b.age=3\n",
    "\n",
    "a.display()\n",
    "b.display()\n",
    "\n",
    "a.etc = \"예방접종 받았음\"      # a에만 객체가 추가 됨\n",
    "print(a.etc)              \n",
    "#print(b.etc)"
   ]
  },
  {
   "cell_type": "markdown",
   "metadata": {},
   "source": [
    "---\n",
    "### 5. 클래스의 관계 \n",
    "\n",
    "1) is a 관계 (A is a B - A는 B다) - 상속관계, 일반화관계\n",
    "    - 특정 클래스 객체가 다른 클래스 객체에게 자신의 멤버를 물려주는 상속관계\n",
    "      UML내에서는 비어있는 화살표로 표현\n",
    "      강한 결합관계\n",
    "2) has a 관계 (연관관계, 포함관계)\n",
    "    - 특정 클래스 내에서 해당 클래스의 멤버처럼 다른 클래스 객체를 포함하고 있는 경우\n",
    "    - Aggregation : 약한 관계   \n",
    "    - Composition : 강한 관계    \n",
    "    \n",
    "3) UML(클래스를 도식화)"
   ]
  },
  {
   "cell_type": "code",
   "execution_count": 162,
   "metadata": {},
   "outputs": [
    {
     "name": "stdout",
     "output_type": "stream",
     "text": [
      "tom의 회전량은우회전10\n"
     ]
    }
   ],
   "source": [
    "#has a 관계 중 강한관계\n",
    "class Handle : \n",
    "    quantity = 0 \n",
    "    \n",
    "    def leftTurn(self, q):\n",
    "        self.quantity = q\n",
    "        return \"좌회전\"\n",
    "    \n",
    "    def rightTurn(self, q):\n",
    "        self.quantity = q\n",
    "        return \"우회전\"\n",
    "    \n",
    "    def straight(self, q):\n",
    "        self.quantity = q\n",
    "        return \"직진\"\n",
    "##############################\n",
    "\n",
    "class Car: \n",
    "    trunShow=\"정지\"\n",
    "    def __init__(self, owner):\n",
    "        self.ownerName=owner\n",
    "        self.handle = Handle() #강한관계 \n",
    "    def turnHandle(self, q):\n",
    "        if q > 0:\n",
    "            self.turnShow = self.handle.rightTurn(q)\n",
    "        elif q < 0:\n",
    "            self.turnShow = self.handle.leftTurn(q)\n",
    "        elif q==0:\n",
    "            self.turnShow = self.handle.straight(q)\n",
    " \n",
    "##############################\n",
    "tom= Car(\"tom\")\n",
    "tom.turnHandle(10)\n",
    "print(tom.ownerName +\"의 회전량은\" + tom.turnShow+str(tom.handle.quantity))\n",
    "\n",
    "#가능하면 의존적인 관계는 지양하는 것이 좋다."
   ]
  },
  {
   "cell_type": "code",
   "execution_count": 167,
   "metadata": {},
   "outputs": [
    {
     "name": "stdout",
     "output_type": "stream",
     "text": [
      "냉장고 문 열기\n",
      "냉장고에 음식이 들어감\n",
      "- 사과 2020-11-05\n",
      "\n",
      "냉장고 문 닫기\n"
     ]
    }
   ],
   "source": [
    "#has a 관계 중 약한 관계\n",
    "\n",
    "class Fridge: \n",
    "    isOpen=False\n",
    "    foods=[]\n",
    "    \n",
    "    def open(self):\n",
    "        self.isOpen = True\n",
    "        print(\"냉장고 문 열기\")\n",
    "        \n",
    "    def close(self):\n",
    "        self.isOpen = False\n",
    "        print(\"냉장고 문 닫기\")\n",
    "    def put(self, thing):\n",
    "        if self.isOpen :                   #if는 항상 참을 전제\n",
    "            self.foods.append(thing)\n",
    "            print(\"냉장고에 음식이 들어감\")\n",
    "            self.list()\n",
    "        else:\n",
    "            print(\"냉장고 문이 닫혀 있어서 음식을 넣을 수 없음\")\n",
    "            \n",
    "    def list(self):\n",
    "        for f in self.foods:\n",
    "            print(\"-\", f.irum, f.ex_data)\n",
    "        print()\n",
    "#############################\n",
    "class FoodData: \n",
    "    def __init__(self, irum, ex_data):\n",
    "        self.irum = irum\n",
    "        self.ex_data = ex_data\n",
    "        \n",
    "#############################\n",
    "#직접적으로 객체를 생성하지 않고 제3자(외부)에서 별도의 객체를 통해 주고받음\n",
    "#################################\n",
    "f = Fridge()\n",
    "apple = FoodData(\"사과\",\"2020-11-05\") #여기서 객체생성\n",
    "\n",
    "f.open()\n",
    "f.put(apple)  #apple넣음\n",
    "f.close()\n"
   ]
  },
  {
   "cell_type": "markdown",
   "metadata": {},
   "source": [
    "---\n",
    "### 06. 고급 함수\n"
   ]
  },
  {
   "cell_type": "markdown",
   "metadata": {},
   "source": [
    "#### (1) 변수의 생존 범위 : global, nonlocal\n"
   ]
  },
  {
   "cell_type": "code",
   "execution_count": 6,
   "metadata": {},
   "outputs": [
    {
     "name": "stdout",
     "output_type": "stream",
     "text": [
      "전국 대표\n",
      "지역대표\n"
     ]
    }
   ],
   "source": [
    "player = \"전국 대표\"\n",
    "def funcsoccer():  \n",
    "    global player\n",
    "    name = \"홍길동\"\n",
    "    player = \"지역대표\"  \n",
    "##############################\n",
    "\n",
    "print(player) \n",
    "funcsoccer()  #함수호출\n",
    "print(player)\n",
    "\n",
    "###################################\n"
   ]
  },
  {
   "cell_type": "code",
   "execution_count": 25,
   "metadata": {},
   "outputs": [
    {
     "name": "stdout",
     "output_type": "stream",
     "text": [
      "kbs2 함수 내부 : 1\n",
      "kbs1 함수 내부 : 1\n"
     ]
    }
   ],
   "source": [
    "a = 100\n",
    "\n",
    "def kbs1():       \n",
    "    a = 1\n",
    "    def kbs2 ():\n",
    "        nonlocal a #조금 넓은 범위 \n",
    "        #global a # 항상 전역변수를 불러올때 global\n",
    "        #a = 2\n",
    "        print(\"kbs2 함수 내부 :\", a)\n",
    "    kbs2()\n",
    "    print(\"kbs1 함수 내부 :\", a)\n",
    "    \n",
    "########################################    \n",
    "kbs1()"
   ]
  },
  {
   "cell_type": "markdown",
   "metadata": {},
   "source": [
    "___\n",
    "#### (2) 클로저 (closer)\n",
    "    함수 밖에서 임의의 함수 안에 선언된 지역변수를 참조할 수 있게 하는 방법\n",
    "    "
   ]
  },
  {
   "cell_type": "code",
   "execution_count": 28,
   "metadata": {},
   "outputs": [
    {
     "name": "stdout",
     "output_type": "stream",
     "text": [
      "1\n",
      "2\n",
      "3\n"
     ]
    }
   ],
   "source": [
    "count=0            #전역변수는 쓰기 쉬우나 위험성이 크다(너무 남발하면 데이터가 잘못됬을때 찾기 힘들다.)\n",
    "                   #가급적이면 지역변수를 우선적으로 활용하는 것이 좋다.\n",
    "def out():\n",
    "    count = 0\n",
    "    \n",
    "    def inn() :\n",
    "        #nonlocal count    #111\n",
    "        global count      #전역변수를 쓰면 해결 가능하나 위험성이 크다.\n",
    "                           #지역변수를 계속 사용할 수 있게 해주는 \n",
    "        \n",
    "        count += 1\n",
    "        print(count)\n",
    "    inn()\n",
    "##############################\\\n",
    "out()\n",
    "out()\n",
    "out()\n"
   ]
  },
  {
   "cell_type": "code",
   "execution_count": 33,
   "metadata": {},
   "outputs": [
    {
     "name": "stdout",
     "output_type": "stream",
     "text": [
      "1\n",
      "2\n",
      "3\n",
      "1\n",
      "2\n",
      "3\n"
     ]
    }
   ],
   "source": [
    "#closer heap에 저장된 주소를 잘 받을 수 있게 \n",
    "count=0            \n",
    "\n",
    "def out():\n",
    "    count = 0\n",
    "    \n",
    "    def inn() :\n",
    "        nonlocal count    \n",
    "        \n",
    "                           #지역변수를 계속 사용할 수 있게 해주는 \n",
    "        \n",
    "        count += 1\n",
    "        print(count)\n",
    "    #inn()\n",
    "    return inn           #주소를 다시 받을 수 있는\n",
    "                          #주소를 잃어버리지 않게 \n",
    "###############################\n",
    "a = out()   # a= inn 이라는 주소를 받아 다시 호출 \n",
    "a()\n",
    "a()\n",
    "a()\n",
    "\n",
    "b=out()\n",
    "b()\n",
    "b()\n",
    "b()"
   ]
  },
  {
   "cell_type": "code",
   "execution_count": 37,
   "metadata": {},
   "outputs": [
    {
     "name": "stdout",
     "output_type": "stream",
     "text": [
      "2500.0\n",
      "3600.0\n",
      "1250.0\n",
      "1800.0\n"
     ]
    }
   ],
   "source": [
    "def outer(tax):\n",
    "    def inner(su,dan):\n",
    "        amount = su * dan * tax\n",
    "        return amount\n",
    "    \n",
    "    return inner\n",
    "########################################\n",
    "\n",
    "tax_rate = outer(0.1) #tar_rate는  ineer의 주소를 받음 (리턴값)\n",
    "mouse = tax_rate(5, 5000)\n",
    "print(mouse)\n",
    "\n",
    "USB=tax_rate(3,12000)\n",
    "print(USB)\n",
    "\n",
    "tax_rate2 = outer(0.05)\n",
    "mouse = tax_rate2(5, 5000)\n",
    "print(mouse)\n",
    "\n",
    "USB=tax_rate2(3,12000)\n",
    "print(USB)\n",
    "\n"
   ]
  },
  {
   "cell_type": "markdown",
   "metadata": {},
   "source": [
    "---\n",
    "#### (3) 람다 함수 (무명 함수, 익명 함수)\n",
    "    이름을 빼고 함수를 간단명료하게 구현한 것 \n",
    "   "
   ]
  },
  {
   "cell_type": "code",
   "execution_count": 1,
   "metadata": {},
   "outputs": [
    {
     "name": "stdout",
     "output_type": "stream",
     "text": [
      "15\n"
     ]
    }
   ],
   "source": [
    "def hap(x, y):\n",
    "    return x+y\n",
    "\n",
    "####################\n",
    "result=hap(10, 5)\n",
    "print(result)"
   ]
  },
  {
   "cell_type": "code",
   "execution_count": 3,
   "metadata": {},
   "outputs": [
    {
     "name": "stdout",
     "output_type": "stream",
     "text": [
      "15\n"
     ]
    }
   ],
   "source": [
    "print((lambda x, y: x+y)(10,5)) #매개변수만 선언, 무조건 리턴한다./재사용은 불가/"
   ]
  },
  {
   "cell_type": "code",
   "execution_count": 4,
   "metadata": {},
   "outputs": [
    {
     "name": "stdout",
     "output_type": "stream",
     "text": [
      "15\n"
     ]
    }
   ],
   "source": [
    "hap2=(lambda x,y:x+y) #메모리상에는 함수 코드로 올라가 있음, 재사용 가능해진다,\n",
    "print(hap2(10,5))\n"
   ]
  },
  {
   "cell_type": "code",
   "execution_count": 5,
   "metadata": {},
   "outputs": [
    {
     "name": "stdout",
     "output_type": "stream",
     "text": [
      "14\n",
      "5\n"
     ]
    }
   ],
   "source": [
    "hap3=(lambda x,y=10:x+y)          #default인수, 가변인수도 사용 가능 \n",
    "print(hap3(4))\n",
    "print(hap3(4,1))"
   ]
  },
  {
   "cell_type": "code",
   "execution_count": 16,
   "metadata": {},
   "outputs": [
    {
     "name": "stdout",
     "output_type": "stream",
     "text": [
      "1 (2, 3, 4, 5) {'m': 6, 'n': 7, 'o': 8}\n"
     ]
    }
   ],
   "source": [
    "def lambda_test(a,*b,**c):\n",
    "    print(a,b,c)\n",
    "    \n",
    "\n",
    "#############################\\\n",
    "lambda_test(1, 2, 3, 4, 5, m=6, n=7, o=8)\n"
   ]
  },
  {
   "cell_type": "code",
   "execution_count": 31,
   "metadata": {},
   "outputs": [
    {
     "name": "stdout",
     "output_type": "stream",
     "text": [
      "1 (2, 3, 4, 5) {'m': 6, 'n': 7, 'o': 8}\n"
     ]
    }
   ],
   "source": [
    "(lambda a,*b,**c: print(a, b, c))(1,2,3,4,5, m=6, n=7, o=8)\n"
   ]
  },
  {
   "cell_type": "code",
   "execution_count": 47,
   "metadata": {},
   "outputs": [
    {
     "name": "stdout",
     "output_type": "stream",
     "text": [
      "[1, 4, 3, 16, 5]\n",
      "[1, 4, 3, 16, 5]\n"
     ]
    }
   ],
   "source": [
    "ex = [1,2,3,4,5]\n",
    "\n",
    "def test(x):\n",
    "    if  x % 2== 0:\n",
    "        return x**2\n",
    "    else :\n",
    "        return x\n",
    "###############################\n",
    "#[1,4,3,16,5]\n",
    "result = []\n",
    "for i in ex:\n",
    "    result.append(test(i))\n",
    "print(result)   \n",
    "print(list(map(test,ex)))\n",
    "##################################"
   ]
  },
  {
   "cell_type": "code",
   "execution_count": 69,
   "metadata": {},
   "outputs": [
    {
     "name": "stdout",
     "output_type": "stream",
     "text": [
      "[1, 4, 3, 16, 5]\n"
     ]
    }
   ],
   "source": [
    "ex = [1,2,3,4,5]\n",
    "print(list(map(lambda x: x**2 if x%2==0 else x,ex)))\n",
    "#람다는 단순하고 간단한 코드에서만 사용"
   ]
  },
  {
   "cell_type": "markdown",
   "metadata": {},
   "source": [
    "---\n",
    "#### (4) 함수 장식자(decorator)\n",
    "\n",
    "    - 일종의 함수 감싸기(wrapping)를 해주는 디자인 패턴\n",
    "    - 메타 프로그래밍 기법 (간략하게 설명)\n",
    "    - @classmethod, @staticmethod, @abstract............\n",
    "    (기존의 함수가 가지고 있는 부족한 기능을 추가 보완)"
   ]
  },
  {
   "cell_type": "code",
   "execution_count": 82,
   "metadata": {},
   "outputs": [
    {
     "data": {
      "text/plain": [
       "'안녕반가워홍길동'"
      ]
     },
     "execution_count": 82,
     "metadata": {},
     "output_type": "execute_result"
    }
   ],
   "source": [
    "#함수를 연결해주는 기법\n",
    "def make2(fn):\n",
    "    return lambda : \"안녕\"+fn()\n",
    "def make1(fn):\n",
    "    return lambda : \"반가워\"+fn()\n",
    "def hello():\n",
    "    return \"홍길동\"\n",
    "\n",
    "##################################################\n",
    "\n",
    "#a = make1(hello) #()가 없으면 호출(실행)x, 함수의 주소를 리턴 받을 뿐/ hello라는 함수의 주소\n",
    "#a()\n",
    "#a\n",
    "hi = make2(make1(hello))\n",
    "hi()"
   ]
  },
  {
   "cell_type": "code",
   "execution_count": 91,
   "metadata": {},
   "outputs": [
    {
     "data": {
      "text/plain": [
       "'안녕반가워홍길동'"
      ]
     },
     "execution_count": 91,
     "metadata": {},
     "output_type": "execute_result"
    }
   ],
   "source": [
    "def make2(fn):\n",
    "    return lambda : \"안녕\"+fn()\n",
    "\n",
    "def make1(fn):\n",
    "    return lambda : \"반가워\"+fn()\n",
    "\n",
    "@make2\n",
    "@make1\n",
    "def hello():\n",
    "    return \"홍길동\"\n",
    "##################################################\n",
    "\n",
    "hello()\n"
   ]
  },
  {
   "cell_type": "code",
   "execution_count": 103,
   "metadata": {},
   "outputs": [
    {
     "name": "stdout",
     "output_type": "stream",
     "text": [
      "결과는 70입니다.\n",
      "결과는 None입니다.\n"
     ]
    }
   ],
   "source": [
    "def outer(fn):\n",
    "    def inner(n1, n2):\n",
    "        print(\"결과는 {}입니다.\".format(fn(n1, n2)))\n",
    "    \n",
    "    return inner\n",
    "\n",
    "def func(n1,n2):\n",
    "    return(n1+n2)\n",
    "###################################\n",
    "\n",
    "result = outer(func)\n",
    "result(30,40)\n",
    "               "
   ]
  },
  {
   "cell_type": "code",
   "execution_count": 104,
   "metadata": {},
   "outputs": [
    {
     "name": "stdout",
     "output_type": "stream",
     "text": [
      "결과는 70입니다.\n"
     ]
    }
   ],
   "source": [
    "def outer(fn):\n",
    "    def inner(n1, n2):\n",
    "        print(\"결과는 {}입니다.\".format(fn(n1, n2)))\n",
    "    \n",
    "    return inner\n",
    "\n",
    "@outer\n",
    "def func(n1,n2):\n",
    "    return(n1+n2)\n",
    "####################################\n",
    "\n",
    "func(30,40)"
   ]
  },
  {
   "cell_type": "code",
   "execution_count": null,
   "metadata": {},
   "outputs": [],
   "source": []
  }
 ],
 "metadata": {
  "kernelspec": {
   "display_name": "Python 3",
   "language": "python",
   "name": "python3"
  },
  "language_info": {
   "codemirror_mode": {
    "name": "ipython",
    "version": 3
   },
   "file_extension": ".py",
   "mimetype": "text/x-python",
   "name": "python",
   "nbconvert_exporter": "python",
   "pygments_lexer": "ipython3",
   "version": "3.8.3"
  }
 },
 "nbformat": 4,
 "nbformat_minor": 4
}
