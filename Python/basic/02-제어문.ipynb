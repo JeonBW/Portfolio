{
 "cells": [
  {
   "cell_type": "markdown",
   "metadata": {},
   "source": [
    "## 1. 입력 기능\n"
   ]
  },
  {
   "cell_type": "code",
   "execution_count": 3,
   "metadata": {},
   "outputs": [
    {
     "name": "stdout",
     "output_type": "stream",
     "text": [
      "당신의 이름은임꺽정\n",
      "안녕하세요!! 임꺽정님 어서오세요~\n"
     ]
    }
   ],
   "source": [
    "name = input(\"당신의 이름은\")\n",
    "print(\"안녕하세요!! {}님 어서오세요~\".format(name))"
   ]
  },
  {
   "cell_type": "code",
   "execution_count": 2,
   "metadata": {},
   "outputs": [
    {
     "name": "stdout",
     "output_type": "stream",
     "text": [
      "첫번째 숫자100\n",
      "두번째 숫자200\n",
      "결과 : 300\n"
     ]
    }
   ],
   "source": [
    "num1 = input(\"첫번째 숫자\")\n",
    "num2 = input(\"두번째 숫자\")\n",
    "\n",
    "print(\"결과 :\", int(num1) + int(num2))"
   ]
  },
  {
   "cell_type": "markdown",
   "metadata": {},
   "source": [
    "동전 교환 프로그램\n",
    "===============\n",
    "교환할 돈은 얼마입니까? 2763(엔터키)\n",
    "\n",
    "결과:\n",
    "오백원짜리\n",
    "백원짜리\n",
    "오십원짜리\n",
    "십원짜리\n",
    "받지못한 잔돈"
   ]
  },
  {
   "cell_type": "code",
   "execution_count": 23,
   "metadata": {
    "scrolled": false
   },
   "outputs": [
    {
     "name": "stdout",
     "output_type": "stream",
     "text": [
      "교환할 돈은 얼마입니까?2763\n",
      "5\n",
      "2\n",
      "1\n",
      "1\n",
      "3\n"
     ]
    }
   ],
   "source": [
    "name = input(\"교환할 돈은 얼마입니까?\")\n",
    "\n",
    "\n",
    "print(int(name)//500)\n",
    "print(int(name)%500//100)\n",
    "print(int(name)%500%100//50)\n",
    "print(int(name)%500%100%50//10)\n",
    "print(int(name)%500%100%50%10//1)"
   ]
  },
  {
   "cell_type": "code",
   "execution_count": 28,
   "metadata": {},
   "outputs": [
    {
     "name": "stdout",
     "output_type": "stream",
     "text": [
      "교환할 돈은 얼마입니까?2763\n",
      "오백원짜리 : 5\n",
      "백원짜리 : 2\n",
      "오십원짜리 : 1\n",
      "십원짜리 : 1\n",
      "일원짜리 : 3\n"
     ]
    }
   ],
   "source": [
    "name = input(\"교환할 돈은 얼마입니까?\")\n",
    "\n",
    "\n",
    "print(\"오백원짜리 :\", int(name)//500)\n",
    "print(\"백원짜리 :\", int(name)%500//100)\n",
    "print(\"오십원짜리 :\", int(name)%500%100//50)\n",
    "print(\"십원짜리 :\", int(name)%500%100%50//10)\n",
    "print(\"일원짜리 :\", int(name)%500%100%50%10//1)"
   ]
  },
  {
   "cell_type": "markdown",
   "metadata": {},
   "source": [
    "## 2. 제어문\n",
    "\n",
    "1) 조건문\n",
    "    - if, switch\n",
    "    \n",
    "2) 반복문\n",
    "    - While, for\n",
    "    \n"
   ]
  },
  {
   "cell_type": "markdown",
   "metadata": {},
   "source": [
    "----\n",
    "#### 1. IF\n",
    "    1) \n",
    "        if 조건식:     (조건식은 무조건 참)\n",
    "            문장       (문장은 들여쓰기)\n",
    "            ....\n",
    "            \n",
    "            \n",
    "        if 조건식 : 문장 (실행할 코드가 한줄일 때)   \n",
    "           \n",
    "           \n",
    "           \n",
    "    2) \n",
    "        if 조건식:            (조건식이 거짓일 때 else를 사용한다.)\n",
    "            문장\n",
    "            ....\n",
    "        else:                 (else는 들여쓰기 X)\n",
    "            문장\n",
    "            ....\n",
    "    3) \n",
    "        if 조건식:            \n",
    "            문장\n",
    "            ....\n",
    "        elif 조건식:\n",
    "            문장\n",
    "            ....\n",
    "        elif 조건식:\n",
    "            문장\n",
    "            ....\n",
    "        else:\n",
    "            문장\n",
    "            ....\n",
    "    4) 조건문의 중첩(nested)\n",
    "        if 조건식:\n",
    "            문장\n",
    "            ...\n",
    "            if 조건식:\n",
    "                문장\n",
    "                ..."
   ]
  },
  {
   "cell_type": "code",
   "execution_count": 8,
   "metadata": {},
   "outputs": [
    {
     "name": "stdout",
     "output_type": "stream",
     "text": [
      "숫자 :1\n",
      "홀수입니다.\n"
     ]
    }
   ],
   "source": [
    "# 입력받은 숫자가 짝수/홀수인지 판별하는 프로그램\n",
    "num1 = int(input(\"숫자 :\"))\n",
    "\n",
    "if (num1 % 2) == 0:\n",
    "    print(\"짝수입니다.\")   #반드시 들여쓰기\n",
    "if (num1 % 2) != 0: print(\"홀수입니다.\")  \n",
    "    "
   ]
  },
  {
   "cell_type": "code",
   "execution_count": 11,
   "metadata": {},
   "outputs": [
    {
     "name": "stdout",
     "output_type": "stream",
     "text": [
      "숫자 :1\n",
      "홀수입니다.\n"
     ]
    }
   ],
   "source": [
    "# 입력받은 숫자가 짝수/홀수인지 판별하는 프로그램\n",
    "num1 = int(input(\"숫자 :\"))\n",
    "\n",
    "if (num1 % 2) == 0:\n",
    "    print(\"짝수입니다.\")\n",
    "else:\n",
    "    print(\"홀수입니다.\")\n",
    "\n"
   ]
  },
  {
   "cell_type": "code",
   "execution_count": 38,
   "metadata": {},
   "outputs": [
    {
     "name": "stdout",
     "output_type": "stream",
     "text": [
      "값 :f\n",
      "오답\n",
      "-------------------------------------\n",
      "오답\n",
      "-------------------------------------\n",
      "오답\n",
      "-------------------------------------\n",
      "오답\n"
     ]
    }
   ],
   "source": [
    "# 입력받은 값이 a, b, c, d이면 \"정답\"이라고 출력하고 그렇지 않으면 \"오답\"\n",
    "name = input(\"값 :\")\n",
    "if name == 'a' or name=='b' or name=='c' or name=='d' :\n",
    "    print(\"정답\")\n",
    "else:\n",
    "    print(\"오답\")\n",
    "\n",
    "    \n",
    "print(\"-------------------------------------\")\n",
    "if name in['a', 'b', 'c', 'd'] :\n",
    "    print(\"정답\")\n",
    "else:\n",
    "    print(\"오답\")\n",
    "\n",
    "print(\"-------------------------------------\")\n",
    "correct = ('a', 'b', 'c', 'd')\n",
    "if correct.count(name) > 0 : \n",
    "    print(\"정답\")\n",
    "else:\n",
    "    print(\"오답\")\n",
    "    \n",
    "print(\"-------------------------------------\")\n",
    "\n",
    "if name >='a'and name <= 'd' :\n",
    "    print(\"정답\")\n",
    "else:\n",
    "    print(\"오답\")                         #ASCII 코드 : 문자를 10진수로 사용할 수 있게(영문자만 가능)  / Unicode "
   ]
  },
  {
   "cell_type": "code",
   "execution_count": 40,
   "metadata": {},
   "outputs": [
    {
     "name": "stdout",
     "output_type": "stream",
     "text": [
      "97 98 65 66\n",
      "a b A B\n"
     ]
    }
   ],
   "source": [
    "print(ord('a'),ord('b'),ord('A'),ord('B'))   #ASCII 코드\n",
    "print(chr(97),chr(98),chr(65),chr(66))"
   ]
  },
  {
   "cell_type": "markdown",
   "metadata": {},
   "source": [
    "윤년계산프로그램\n",
    "-----------------------------------------------\n",
    "1) 기원 연수가 4로 나누어 떨어지는 해는 우선 윤년으로 한다.\n",
    "\n",
    "2) 그 중에서 100으로 나누어 떨어지는 해는 평년으로 한다.\n",
    "\n",
    "3) 다만 400으로 나누어 떨어지는 해는 다시 윤년으로 정한다.\n",
    "연도를 입력 : 2019(엔터)\n",
    "결과 : 윤년입니다. (윤년이 아닙니다.)\n"
   ]
  },
  {
   "cell_type": "code",
   "execution_count": 58,
   "metadata": {},
   "outputs": [
    {
     "name": "stdout",
     "output_type": "stream",
     "text": [
      "연도를 입력하세요 :2020\n",
      "윤년\n"
     ]
    }
   ],
   "source": [
    "year = int(input(\"연도를 입력하세요 :\"))\n",
    "if (year % 4) == 0 and (year % 100) != 0 or (year % 400) == 0 :\n",
    "    print(\"윤년\")\n",
    "else:\n",
    "    print(\"평년\")\n"
   ]
  },
  {
   "cell_type": "code",
   "execution_count": 43,
   "metadata": {},
   "outputs": [
    {
     "name": "stdout",
     "output_type": "stream",
     "text": [
      "C학점\n"
     ]
    }
   ],
   "source": [
    "# 다중 if문\n",
    "\n",
    "avg = 73\n",
    "if avg >= 90:\n",
    "    print(\"A학점\")\n",
    "elif avg >= 80:\n",
    "    print(\"B학점\")\n",
    "elif avg >= 70:\n",
    "    print(\"C학점\")\n",
    "elif avg>= 60:\n",
    "    print(\"D학점\")\n",
    "else:\n",
    "    print(\"F학점\")"
   ]
  },
  {
   "cell_type": "markdown",
   "metadata": {},
   "source": [
    "----\n",
    "전자 계산기 프로그램\n",
    "------------------------------------\n",
    "연산자 : +\n",
    "숫자1 : 10\n",
    "숫자2 : 5\n",
    "\n",
    "결과 : 10 + 5 = 15"
   ]
  },
  {
   "cell_type": "code",
   "execution_count": 20,
   "metadata": {},
   "outputs": [
    {
     "name": "stdout",
     "output_type": "stream",
     "text": [
      "연산자 :+\n",
      "숫자1 :2\n",
      "숫자2 :6\n",
      "결과:  8\n"
     ]
    }
   ],
   "source": [
    "a = input(\"연산자 :\")\n",
    "b = input(\"숫자1 :\")\n",
    "c = input(\"숫자2 :\")\n",
    "\n",
    "if a == \"+\" :\n",
    "    print(\"결과: \", int(b)+int(c))\n",
    "elif a == \"-\":\n",
    "    print(\"결과: \", int(b)-int(c))\n",
    "elif a == \"*\" :\n",
    "    print(\"결과: \", int(b)*int(c))\n",
    "elif a == \"/\" :\n",
    "    print(\"결과: \", int(b)/int(c))"
   ]
  },
  {
   "cell_type": "code",
   "execution_count": null,
   "metadata": {},
   "outputs": [],
   "source": [
    "# 조건문의 중첩\n",
    "a, b, c = 8, 10, 3\n",
    "\n",
    "if a > b: \n",
    "    if a > c:\n",
    "        print(\"a가 제일 크다\")\n",
    "    else:\n",
    "        print(\"c가 제일 크다\")\n",
    "else :\n",
    "    if b > c:\n",
    "        print(\"b가 제일 크다\")\n",
    "    else:\n",
    "        print(\"c가 제일 크다\")"
   ]
  },
  {
   "cell_type": "code",
   "execution_count": 29,
   "metadata": {},
   "outputs": [
    {
     "name": "stdout",
     "output_type": "stream",
     "text": [
      "아이디 : tiger\n",
      "패스워드 : 1111\n",
      "Login success!\n"
     ]
    }
   ],
   "source": [
    "#간단한 인증처리\n",
    "Id = input(\"아이디 : \")     #tiger\n",
    "pw = input(\"패스워드 : \")   #1111\n",
    "if Id != \"tiger\":\n",
    "    if pw != \"1111\":\n",
    "        print(\"ID와 비밀번호가 다릅니다.\")\n",
    "    else:\n",
    "        print(\"ID가 다릅니다.\")\n",
    "else:\n",
    "    if pw != \"1111\":\n",
    "        print(\"비밀번호가 다릅니다.\")\n",
    "    else:\n",
    "        print(\"Login success!\")"
   ]
  },
  {
   "cell_type": "code",
   "execution_count": 39,
   "metadata": {},
   "outputs": [
    {
     "name": "stdout",
     "output_type": "stream",
     "text": [
      "4\n"
     ]
    }
   ],
   "source": [
    "import random\n",
    "\n",
    "print(random.randint(0, 10)) #0~9까지 난수\n"
   ]
  },
  {
   "cell_type": "code",
   "execution_count": 27,
   "metadata": {},
   "outputs": [
    {
     "name": "stdout",
     "output_type": "stream",
     "text": [
      "가위, 바위, 보 중에서 하나를 선택 : 가위\n",
      "1\n"
     ]
    }
   ],
   "source": [
    "\"\"\"\n",
    "가위바위보\n",
    "\n",
    "(가위, 바위, 보) 중에서 하나를 선택 : 가위(엔터)\n",
    "컴퓨터 : 보, 사용자 : 가위\n",
    "결과는 사용자가 이겼습니다\n",
    "\"\"\"\n",
    "\n",
    "select = input(\"가위, 바위, 보 중에서 하나를 선택 : \")\n",
    "a = print(random.randint(1,3))\n",
    "if select == \"가위\":\n",
    "    if a==\"1\":\n",
    "        print(win)\n",
    "    elif a==\"2\":\n",
    "        print(win)\n",
    "        "
   ]
  },
  {
   "cell_type": "code",
   "execution_count": 21,
   "metadata": {},
   "outputs": [
    {
     "name": "stdout",
     "output_type": "stream",
     "text": [
      "가위, 바위, 보 중에서 하나를 선택 : 가위\n",
      "1\n"
     ]
    }
   ],
   "source": [
    "select = input(\"가위, 바위, 보 중에서 하나를 선택 : \")\n",
    "import random\n",
    "a = print(random.randint(1,3))\n",
    "\n",
    "\n",
    "if select == \"가위\":\n",
    "    if a == \"1\":\n",
    "        print(\"결과는 사용자가 비겼습니다.\")\n",
    "    elif a == \"2\":\n",
    "        print(\"결과는 사용자가 졌습니다.\")\n",
    "    elif a== \"3\":\n",
    "        print(\"결과는 사용자가 이겼습니다.\")\n",
    "elif select == \"바위\":\n",
    "    if a == \"1\":\n",
    "        print(\"결과는 사용자가 이겼습니다.\")\n",
    "    elif a == \"2\":\n",
    "        print(\"결과는 사용자가 비겼습니다.\")\n",
    "    elif a== \"3\":\n",
    "        print(\"결과는 사용자가 졌습니다.\")\n",
    "elif select == \"보\":\n",
    "    if a == \"1\":\n",
    "        print(\"결과는 사용자가 졌습니다.\")\n",
    "    elif a == \"2\":\n",
    "        print(\"결과는 사용자가 이겼습니다.\")\n",
    "    elif a== \"3\":\n",
    "        print(\"결과는 사용자가 비겼습니다.\")\n",
    "\n",
    "    \n"
   ]
  },
  {
   "cell_type": "raw",
   "metadata": {},
   "source": [
    "----\n",
    "#### 2.While\n",
    "문법이 단순하다.\n",
    "\n",
    "    1) 문법\n",
    "        while 조건식:    (조건식은 참) -> 이 조건식이 참일동안 문장을 계속 반복 / 조건이 거짓이 될때 종료 / 무한반복, 반복횟수 주의\n",
    "            문장                          초기화 조건식 카운터\n",
    "            .....\n",
    "            \n",
    "                     "
   ]
  },
  {
   "cell_type": "code",
   "execution_count": 4,
   "metadata": {
    "scrolled": false
   },
   "outputs": [
    {
     "name": "stdout",
     "output_type": "stream",
     "text": [
      "**********\n",
      "*,*,*,*,*,*,*,*,*,*,"
     ]
    }
   ],
   "source": [
    "print(\"**********\")\n",
    "\n",
    "cnt = 0   #초기화\n",
    "while cnt<10:        #조건식\n",
    "    print(\"*\", end=\",\")       #end=\"\"      print 줄바꿈X\n",
    "    cnt = cnt + 1     #카운터\n",
    "    "
   ]
  },
  {
   "cell_type": "code",
   "execution_count": 51,
   "metadata": {},
   "outputs": [
    {
     "name": "stdout",
     "output_type": "stream",
     "text": [
      "결과:  45\n"
     ]
    }
   ],
   "source": [
    "#1부터 10까지의 합계 :55\n",
    "cnt = 0\n",
    "sum = 0\n",
    "while cnt<10:            #조건식 문제\n",
    "    sum = sum+cnt\n",
    "    cnt = cnt +1\n",
    "print(\"결과: \", sum)    "
   ]
  },
  {
   "cell_type": "code",
   "execution_count": 52,
   "metadata": {},
   "outputs": [
    {
     "name": "stdout",
     "output_type": "stream",
     "text": [
      "결과:  55\n"
     ]
    }
   ],
   "source": [
    "cnt = 0\n",
    "sum = 0\n",
    "while cnt<11:    \n",
    "    sum += cnt #sum = sum+cnt\n",
    "    cnt += 1   #cnt = cnt +1\n",
    "print(\"결과: \", sum)    "
   ]
  },
  {
   "cell_type": "code",
   "execution_count": 59,
   "metadata": {},
   "outputs": [
    {
     "name": "stdout",
     "output_type": "stream",
     "text": [
      "결과 : 0\n"
     ]
    }
   ],
   "source": [
    "# 2의 10승(1024)\n",
    "cnt=0                     #초기화 문제 \n",
    "sum=0\n",
    "while cnt<10:\n",
    "    sum = sum*2\n",
    "    cnt = cnt+1\n",
    "print(\"결과 :\", sum)"
   ]
  },
  {
   "cell_type": "code",
   "execution_count": 57,
   "metadata": {},
   "outputs": [
    {
     "name": "stdout",
     "output_type": "stream",
     "text": [
      "결과 : 1024\n"
     ]
    }
   ],
   "source": [
    "cnt=1 #0\n",
    "sum=2 #1\n",
    "while cnt<10:\n",
    "    sum = sum*2\n",
    "    cnt = cnt+1\n",
    "print(\"결과 :\", sum)"
   ]
  },
  {
   "cell_type": "markdown",
   "metadata": {},
   "source": [
    "-----\n",
    "#### 3. For\n",
    "\n",
    "    1) 문법\n",
    "        for 변수 in 집합자료형:\n",
    "            문장\n",
    "            ..."
   ]
  },
  {
   "cell_type": "code",
   "execution_count": 96,
   "metadata": {
    "scrolled": true
   },
   "outputs": [
    {
     "name": "stdout",
     "output_type": "stream",
     "text": [
      "10\n",
      "20\n",
      "홍길동\n",
      "3.14\n",
      "True\n",
      "-------------------------------\n",
      "10\n",
      "20\n",
      "홍길동\n",
      "3.14\n",
      "True\n",
      "-------------------------------\n",
      "**********"
     ]
    }
   ],
   "source": [
    "data1 = [10, 20, \"홍길동\", 3.14, True]\n",
    "cnt=0\n",
    "while cnt < len(data1):\n",
    "    print(data1[cnt])\n",
    "    cnt +=1\n",
    "\n",
    "print(\"-------------------------------\")\n",
    "\n",
    "for v in data1:\n",
    "    print(v)\n",
    "    \n",
    "#for v in [1, 1, 1, 1, 1, 1, 1, 1]:\n",
    "    #print(\"*\", end=\"\")\n",
    "\n",
    "print(\"-------------------------------\")\n",
    "    \n",
    "for V in range(10):\n",
    "    print(\"*\", end=\"\")\n",
    "    "
   ]
  },
  {
   "cell_type": "markdown",
   "metadata": {},
   "source": [
    "---\n",
    "### 4. 반복문의 강제 종료\n",
    "\n",
    "    1) berak : 완전 종료\n",
    "    2) continue : 일시 종료"
   ]
  },
  {
   "cell_type": "code",
   "execution_count": 100,
   "metadata": {},
   "outputs": [
    {
     "name": "stdout",
     "output_type": "stream",
     "text": [
      "0\n",
      "1\n",
      "2\n",
      "3\n",
      "4\n",
      "6\n",
      "7\n",
      "8\n",
      "9\n"
     ]
    }
   ],
   "source": [
    "for v in range(10):\n",
    "    if v == 5:\n",
    "        #break     # 5가되는 순간 종료\n",
    "        continue  # 건너뛰는 (5일때만 print 실행 x)\n",
    "        \n",
    "    print(v)"
   ]
  },
  {
   "cell_type": "code",
   "execution_count": 7,
   "metadata": {},
   "outputs": [
    {
     "name": "stdout",
     "output_type": "stream",
     "text": [
      "연산자 :X\n",
      "숫자1 :\n",
      "숫자2 :2\n",
      "종료\n"
     ]
    }
   ],
   "source": [
    "\"\"\"\n",
    "전자 계산기 프로그램을 반복문을 이용하여 업그레이드\n",
    "끝나는 조건은 연산자에 X를 입력하면 종료\n",
    "\n",
    "\"\"\"\n",
    "\n",
    "\n",
    "while a == \"+\" or \"-\" or \"*\" or \"/\":\n",
    "    a = input(\"연산자 :\")\n",
    "    b = input(\"숫자1 :\")\n",
    "    c = input(\"숫자2 :\")\n",
    "    if a == \"+\" :\n",
    "        print(\"결과: \", int(b)+int(c))\n",
    "    elif a == \"-\":\n",
    "        print(\"결과: \", int(b)-int(c))\n",
    "    elif a == \"*\" :\n",
    "        print(\"결과: \", int(b)*int(c))\n",
    "    elif a == \"/\" :\n",
    "        print(\"결과: \", int(b)/int(c))\n",
    "    elif a == \"X\" :\n",
    "        print(\"종료\")\n",
    "        break\n",
    "        \n"
   ]
  },
  {
   "cell_type": "code",
   "execution_count": 1,
   "metadata": {},
   "outputs": [
    {
     "ename": "NameError",
     "evalue": "name 'select' is not defined",
     "output_type": "error",
     "traceback": [
      "\u001b[1;31m---------------------------------------------------------------------------\u001b[0m",
      "\u001b[1;31mNameError\u001b[0m                                 Traceback (most recent call last)",
      "\u001b[1;32m<ipython-input-1-be4f0b810f8e>\u001b[0m in \u001b[0;36m<module>\u001b[1;34m\u001b[0m\n\u001b[0;32m      5\u001b[0m \"\"\"\n\u001b[0;32m      6\u001b[0m \u001b[1;33m\u001b[0m\u001b[0m\n\u001b[1;32m----> 7\u001b[1;33m \u001b[1;32mwhile\u001b[0m \u001b[0mselect\u001b[0m \u001b[1;33m==\u001b[0m \u001b[1;34m\"가위\"\u001b[0m \u001b[1;32mor\u001b[0m \u001b[1;34m\"바위\"\u001b[0m \u001b[1;32mor\u001b[0m \u001b[1;34m\"보\"\u001b[0m \u001b[1;33m:\u001b[0m\u001b[1;33m\u001b[0m\u001b[1;33m\u001b[0m\u001b[0m\n\u001b[0m\u001b[0;32m      8\u001b[0m     \u001b[0mselect\u001b[0m \u001b[1;33m=\u001b[0m \u001b[0minput\u001b[0m\u001b[1;33m(\u001b[0m\u001b[1;34m\"가위, 바위, 보 중에서 하나를 선택 : \"\u001b[0m\u001b[1;33m)\u001b[0m\u001b[1;33m\u001b[0m\u001b[1;33m\u001b[0m\u001b[0m\n\u001b[0;32m      9\u001b[0m     \u001b[1;32mimport\u001b[0m \u001b[0mrandom\u001b[0m\u001b[1;33m\u001b[0m\u001b[1;33m\u001b[0m\u001b[0m\n",
      "\u001b[1;31mNameError\u001b[0m: name 'select' is not defined"
     ]
    }
   ],
   "source": [
    "\"\"\"\n",
    "가위바위보게임을 반복문을 이용하여 업그레이드\n",
    "(끝나는 조건은 X 나 Q를 입력하면 종료)\n",
    "끝날때 결과에 몇승 몇패인지 출력\n",
    "\"\"\"\n",
    "\n",
    "select = input(\"가위, 바위, 보 중에서 하나를 선택 : \")\n",
    "c = random.randint(1, 3)\n",
    "cnt = 0, w = 0, d = 0, l = 0\n",
    "while \n",
    "if select == \"가위\":\n",
    "    if c == 1:\n",
    "        print(\"결과는 사용자가 비겼습니다.\")\n",
    "    elif c == 2:\n",
    "        print(\"결과는 사용자가 졌습니다.\")\n",
    "    elif c == 3:\n",
    "        print(\"결과는 사용자가 이겼습니다.\")\n",
    "elif select == \"바위\":\n",
    "    if c == \"1\":\n",
    "        print(\"결과는 사용자가 이겼습니다.\")\n",
    "    elif c == \"2\":\n",
    "        print(\"결과는 사용자가 비겼습니다.\")\n",
    "    elif c == \"3\" :\n",
    "        print(\"결과는 사용자가 졌습니다.\")\n",
    "elif select == \"보\":\n",
    "    if c == \"1\":\n",
    "        print(\"결과는 사용자가 졌습니다.\")\n",
    "    elif c == \"2\":\n",
    "        print(\"결과는 사용자가 이겼습니다.\")\n",
    "    elif c == \"3\" :\n",
    "        print(\"결과는 사용자가 비겼습니다.\")"
   ]
  },
  {
   "cell_type": "code",
   "execution_count": 107,
   "metadata": {},
   "outputs": [
    {
     "ename": "SyntaxError",
     "evalue": "invalid syntax (<ipython-input-107-ae3dc0da7d8f>, line 1)",
     "output_type": "error",
     "traceback": [
      "\u001b[1;36m  File \u001b[1;32m\"<ipython-input-107-ae3dc0da7d8f>\"\u001b[1;36m, line \u001b[1;32m1\u001b[0m\n\u001b[1;33m    숫자를 입력받아 짝수의 합과 홀수의 합을 구하시오(0을 입력하면 종료)\u001b[0m\n\u001b[1;37m        ^\u001b[0m\n\u001b[1;31mSyntaxError\u001b[0m\u001b[1;31m:\u001b[0m invalid syntax\n"
     ]
    }
   ],
   "source": [
    "\"\"\"\n",
    "숫자를 입력받아 짝수의 합과 홀수의 합을 구하시오(0을 입력하면 종료)\n",
    "2\n",
    "3\n",
    "1\n",
    "6\n",
    "0\n",
    "짝수의 합은 ? 홀수의 합 ?\n",
    "\"\"\"\n",
    "num1 = input(\"숫자를 입력하세요\")\n"
   ]
  },
  {
   "cell_type": "code",
   "execution_count": null,
   "metadata": {},
   "outputs": [],
   "source": []
  },
  {
   "cell_type": "code",
   "execution_count": null,
   "metadata": {},
   "outputs": [],
   "source": []
  },
  {
   "cell_type": "code",
   "execution_count": 113,
   "metadata": {
    "scrolled": true
   },
   "outputs": [
    {
     "ename": "SyntaxError",
     "evalue": "invalid syntax (<ipython-input-113-46994efb4cfb>, line 1)",
     "output_type": "error",
     "traceback": [
      "\u001b[1;36m  File \u001b[1;32m\"<ipython-input-113-46994efb4cfb>\"\u001b[1;36m, line \u001b[1;32m1\u001b[0m\n\u001b[1;33m    ***\u001b[0m\n\u001b[1;37m    ^\u001b[0m\n\u001b[1;31mSyntaxError\u001b[0m\u001b[1;31m:\u001b[0m invalid syntax\n"
     ]
    }
   ],
   "source": [
    "\"\"\"\n",
    "숫자맞추기 게임\n",
    "1부터 100사이의 숫자를 맞추시오\n",
    "숫자 입력 : 50\n",
    "결과 : 낮음!(너무,조금)\n",
    "    \n",
    "숫자입력 : 75\n",
    "결과 ; 낮음!\n",
    "\n",
    "숫자입력 : 90\n",
    "결과 : 높음\n",
    "    \n",
    "숫자입력:89\n",
    "정답입니다! 시도횟수 출력\n",
    "\"\"\"\n",
    "    "
   ]
  },
  {
   "cell_type": "code",
   "execution_count": null,
   "metadata": {},
   "outputs": [],
   "source": []
  },
  {
   "cell_type": "code",
   "execution_count": 4,
   "metadata": {},
   "outputs": [
    {
     "data": {
      "text/plain": [
       "'\\n친구 관리 프로그램\\n====================\\n\\n1.친구 리스트 출력\\n2.친구 추가\\n3.친구 삭제\\n4.이름 변경\\n9.종료\\n메뉴를 선택 : 2 (엔터)\\n이름을 입력 : 홍길동 (엔터)\\n-----------------------\\n1.친구 리스트 출력\\n2.친구 추가\\n3.친구 삭제\\n4.이름 변경\\n9.종료\\n메뉴를 선택 : 2 (엔터)\\n이름을 입력 : 임꺽정 (엔터)\\n-----------------------\\n1.친구 리스트 출력\\n2.친구 추가\\n3.친구 삭제\\n4.이름 변경\\n9.종료\\n메뉴를 선택 : 1 (엔터)\\n[\"홍길동\", \"임꺽정\"]\\n----------------------\\n1.친구 리스트 출력\\n2.친구 추가\\n3.친구 삭제\\n4.이름 변경\\n9.종료\\n메뉴를 선택 : 4 (엔터)\\n변경할 이름 선택 : 홍길동 (엔터)\\n변경하고 싶은 이름 입력 : 홍길순 (엔터)\\n-------------------------------\\n1.친구 리스트 출력\\n2.친구 추가\\n3.친구 삭제\\n4.이름 변경\\n9.종료\\n메뉴를 선택 : 1 (엔터)\\n[\"홍길순\", \"임꺽정\"]\\n-------------------------------\\n1.친구 리스트 출력\\n2.친구 추가\\n3.친구 삭제\\n4.이름 변경\\n9.종료\\n메뉴를 선택 : 3 (엔터)\\n삭제할 이름 입력 : 홍길순\\n------------------------------\\n'"
      ]
     },
     "execution_count": 4,
     "metadata": {},
     "output_type": "execute_result"
    }
   ],
   "source": [
    "\"\"\"\n",
    "친구 관리 프로그램\n",
    "====================\n",
    "\n",
    "1.친구 리스트 출력\n",
    "2.친구 추가\n",
    "3.친구 삭제\n",
    "4.이름 변경\n",
    "9.종료\n",
    "메뉴를 선택 : 2 (엔터)\n",
    "이름을 입력 : 홍길동 (엔터)\n",
    "-----------------------\n",
    "1.친구 리스트 출력\n",
    "2.친구 추가\n",
    "3.친구 삭제\n",
    "4.이름 변경\n",
    "9.종료\n",
    "메뉴를 선택 : 2 (엔터)\n",
    "이름을 입력 : 임꺽정 (엔터)\n",
    "-----------------------\n",
    "1.친구 리스트 출력\n",
    "2.친구 추가\n",
    "3.친구 삭제\n",
    "4.이름 변경\n",
    "9.종료\n",
    "메뉴를 선택 : 1 (엔터)\n",
    "[\"홍길동\", \"임꺽정\"]\n",
    "----------------------\n",
    "1.친구 리스트 출력\n",
    "2.친구 추가\n",
    "3.친구 삭제\n",
    "4.이름 변경\n",
    "9.종료\n",
    "메뉴를 선택 : 4 (엔터)\n",
    "변경할 이름 선택 : 홍길동 (엔터)\n",
    "변경하고 싶은 이름 입력 : 홍길순 (엔터)\n",
    "-------------------------------\n",
    "1.친구 리스트 출력\n",
    "2.친구 추가\n",
    "3.친구 삭제\n",
    "4.이름 변경\n",
    "9.종료\n",
    "메뉴를 선택 : 1 (엔터)\n",
    "[\"홍길순\", \"임꺽정\"]\n",
    "-------------------------------\n",
    "1.친구 리스트 출력\n",
    "2.친구 추가\n",
    "3.친구 삭제\n",
    "4.이름 변경\n",
    "9.종료\n",
    "메뉴를 선택 : 3 (엔터)\n",
    "삭제할 이름 입력 : 홍길순\n",
    "------------------------------\n",
    "\"\"\"\n"
   ]
  },
  {
   "cell_type": "code",
   "execution_count": null,
   "metadata": {},
   "outputs": [],
   "source": [
    "a = input(\"연산자 :\")\n",
    "b = input(\"숫자1 :\")\n",
    "c = input(\"숫자2 :\")\n",
    "while a == \"+\" or \"-\" or \"*\" or \"/\":\n",
    "    if a == \"+\" :\n",
    "        print(int(b)+int(c))\n",
    "    elif a == \"-\":\n",
    "        print(int(b)-int(c))\n",
    "    elif a == \"*\" :\n",
    "        print(int(b)*int(c))\n",
    "    elif a == \"/\" :\n",
    "        print(int(b)/int(c))\n",
    "    elif a == \"X\" :\n",
    "        break"
   ]
  },
  {
   "cell_type": "code",
   "execution_count": null,
   "metadata": {},
   "outputs": [],
   "source": []
  },
  {
   "cell_type": "code",
   "execution_count": null,
   "metadata": {},
   "outputs": [],
   "source": []
  },
  {
   "cell_type": "code",
   "execution_count": 11,
   "metadata": {},
   "outputs": [
    {
     "name": "stdout",
     "output_type": "stream",
     "text": [
      "연산자 :+\n",
      "숫자1 :6\n",
      "숫자2 :5\n",
      "결과:  int(a)+int(b)= 11\n"
     ]
    }
   ],
   "source": [
    "a = input(\"연산자 :\")\n",
    "b = input(\"숫자1 :\")\n",
    "c = input(\"숫자2 :\")\n",
    "\n",
    "if a == \"+\" :\n",
    "    print(\"결과: \", a+, int(b)+int(c))\n",
    "elif a == \"-\":\n",
    "    print(int(b)-int(c))\n",
    "elif a == \"*\" :\n",
    "    print(int(b)*int(c))\n",
    "elif a == \"/\" :\n",
    "    print(int(b)/int(c))\n",
    "    "
   ]
  },
  {
   "cell_type": "code",
   "execution_count": 23,
   "metadata": {},
   "outputs": [
    {
     "name": "stdout",
     "output_type": "stream",
     "text": [
      "연산자 :-\n",
      "숫자1 :5\n",
      "숫자2 :6\n",
      "결과:  -1\n",
      "연산자 :X\n",
      "숫자1 :s\n",
      "숫자2 :f\n"
     ]
    }
   ],
   "source": [
    "\n",
    "while a == \"+\" or \"-\" or \"*\" or \"/\":\n",
    "    a = input(\"연산자 :\")\n",
    "    b = input(\"숫자1 :\")\n",
    "    c = input(\"숫자2 :\")\n",
    "    if a == \"+\" :\n",
    "        print(\"결과: \", int(b)+int(c))\n",
    "    elif a == \"-\":\n",
    "        print(\"결과: \", int(b)-int(c))\n",
    "    elif a == \"*\" :\n",
    "        print(\"결과: \", int(b)*int(c))\n",
    "    elif a == \"/\" :\n",
    "        print(\"결과: \", int(b)/int(c))\n",
    "    elif a == \"X\" :\n",
    "        break\n",
    "       "
   ]
  },
  {
   "cell_type": "code",
   "execution_count": 20,
   "metadata": {},
   "outputs": [
    {
     "name": "stdout",
     "output_type": "stream",
     "text": [
      "가위, 바위, 보 중에서 하나를 선택 : 가위\n",
      "1\n"
     ]
    }
   ],
   "source": [
    "select = input(\"가위, 바위, 보 중에서 하나를 선택 : \")\n",
    "import random\n",
    "c = print(random.randint(1, 3))\n",
    "\n",
    "if select == \"가위\":\n",
    "    if c == 1:\n",
    "        print(\"결과는 사용자가 비겼습니다.\")\n",
    "    elif c == \"2\":\n",
    "        print(\"결과는 사용자가 졌습니다.\")\n",
    "    elif c == \"3\":\n",
    "        print(\"결과는 사용자가 이겼습니다.\")\n",
    "elif select == \"바위\":\n",
    "    if c == \"1\":\n",
    "        print(\"결과는 사용자가 이겼습니다.\")\n",
    "    elif c == \"2\":\n",
    "        print(\"결과는 사용자가 비겼습니다.\")\n",
    "    elif c == \"3\" :\n",
    "        print(\"결과는 사용자가 졌습니다.\")\n",
    "elif select == \"보\":\n",
    "    if c == \"1\":\n",
    "        print(\"결과는 사용자가 졌습니다.\")\n",
    "    elif c == \"2\":\n",
    "        print(\"결과는 사용자가 이겼습니다.\")\n",
    "    elif c == \"3\" :\n",
    "        print(\"결과는 사용자가 비겼습니다.\")\n",
    "\n",
    "    "
   ]
  },
  {
   "cell_type": "code",
   "execution_count": 15,
   "metadata": {},
   "outputs": [
    {
     "ename": "SyntaxError",
     "evalue": "unexpected EOF while parsing (<ipython-input-15-d0587219dded>, line 3)",
     "output_type": "error",
     "traceback": [
      "\u001b[1;36m  File \u001b[1;32m\"<ipython-input-15-d0587219dded>\"\u001b[1;36m, line \u001b[1;32m3\u001b[0m\n\u001b[1;33m    c = print(random.randint(1, 3)\u001b[0m\n\u001b[1;37m                                  ^\u001b[0m\n\u001b[1;31mSyntaxError\u001b[0m\u001b[1;31m:\u001b[0m unexpected EOF while parsing\n"
     ]
    }
   ],
   "source": [
    "select = input(\"가위, 바위, 보 중에서 하나를 선택 : \")\n",
    "import random\n",
    "c = print(random.randint(1, 3)"
   ]
  },
  {
   "cell_type": "code",
   "execution_count": null,
   "metadata": {},
   "outputs": [],
   "source": [
    "while int(num1) =  :\n",
    "    num1 = input(\"숫자를 입력하세요\")\n",
    "    if int(num1) % 2 == 1:\n",
    "        g = g + int(num1) \n",
    "    elif int(num1) % 2 == 0:\n",
    "        w = w + int(num1)\n",
    "    elif int(num1) == 0:\n",
    "        print(\"짝수의 합: \", int(w))\n",
    "        print(\"홀수의 합: \", int(g))\n",
    "        break"
   ]
  }
 ],
 "metadata": {
  "kernelspec": {
   "display_name": "Python 3",
   "language": "python",
   "name": "python3"
  },
  "language_info": {
   "codemirror_mode": {
    "name": "ipython",
    "version": 3
   },
   "file_extension": ".py",
   "mimetype": "text/x-python",
   "name": "python",
   "nbconvert_exporter": "python",
   "pygments_lexer": "ipython3",
   "version": "3.8.3"
  }
 },
 "nbformat": 4,
 "nbformat_minor": 4
}
