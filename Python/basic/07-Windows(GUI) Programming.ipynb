{
 "cells": [
  {
   "cell_type": "markdown",
   "metadata": {},
   "source": [
    "###  모듈\n",
    "\n",
    "- wxPython, Tkinter, PyQt, ....\n",
    "- http://wxpython.org\n",
    "\n",
    "    pip install wxPython\n",
    "    \n",
    "    \n",
    "### Layout Manager\n",
    "\n",
    "- Sizer 클래스\n",
    "    + 각각의 시각적 요소에 대한 적절한 크기를 계산\n",
    "    + 특정 규칙에 따라 요소를 배치\n",
    "    + 프레임의 크기를 조정할 때 동적으로 요소의 위치를 변경\n",
    "    \n",
    "- Sizer 구현 클래스\n",
    "    + wx.BoxSizer : 가로 또는 세로로 컨트롤 배치\n",
    "    + wx.GridSizer : 그리드와같은 구조로 컨트롤 배치\n",
    "    + ws.FlexGridSizer : GridSizer와 유사하나 좀 더 유연성을 가지고 있다.\n",
    "    \n",
    "    \n",
    "### Design Tool : wxFormBuilder\n",
    "\n",
    "- https://sourceforge.net/projects/wxformbuilder/\n",
    "\n",
    "- 사용법\n",
    "    + 폼 선택(윈도우)\n",
    "    + 레이아웃 관리자 선택(Sizer클래스)\n",
    "    + 컨테이너 선택 후 패널 지정\n",
    "    + 각 패널에서 레이아웃 관리자 선택\n",
    "    + common탭을 선택하여 필요한 컨트롤 배치\n",
    "    \n",
    "    \n",
    "### 실행 파일 만들기\n",
    "\n",
    "pip install pyinstaller\n",
    "pyinstaller -F --noconsole test8.py --hidden-import [wx]"
   ]
  },
  {
   "cell_type": "code",
   "execution_count": null,
   "metadata": {},
   "outputs": [],
   "source": []
  },
  {
   "cell_type": "code",
   "execution_count": null,
   "metadata": {},
   "outputs": [],
   "source": []
  },
  {
   "cell_type": "code",
   "execution_count": null,
   "metadata": {},
   "outputs": [],
   "source": []
  },
  {
   "cell_type": "code",
   "execution_count": 8,
   "metadata": {},
   "outputs": [
    {
     "name": "stdout",
     "output_type": "stream",
     "text": [
      "90\n",
      "80\n",
      "70\n"
     ]
    }
   ],
   "source": [
    "#322p 2번 문제\n",
    "a = {\"A\":90, \"B\":80}\n",
    "\n",
    "result = a[\"A\"]\n",
    "print(result)\n",
    "\n",
    "result = a.get(\"B\")\n",
    "print(result)\n",
    "\n",
    "# try:\n",
    "#    result = a[\"C\"]\n",
    "# except KeyError as e:\n",
    "#    result = 70\n",
    "\n",
    "result = a.get(\"C\", 70)\n",
    "\n",
    "print(result)"
   ]
  },
  {
   "cell_type": "code",
   "execution_count": null,
   "metadata": {},
   "outputs": [],
   "source": []
  },
  {
   "cell_type": "code",
   "execution_count": null,
   "metadata": {},
   "outputs": [],
   "source": []
  },
  {
   "cell_type": "code",
   "execution_count": null,
   "metadata": {},
   "outputs": [],
   "source": []
  }
 ],
 "metadata": {
  "kernelspec": {
   "display_name": "Python 3",
   "language": "python",
   "name": "python3"
  },
  "language_info": {
   "codemirror_mode": {
    "name": "ipython",
    "version": 3
   },
   "file_extension": ".py",
   "mimetype": "text/x-python",
   "name": "python",
   "nbconvert_exporter": "python",
   "pygments_lexer": "ipython3",
   "version": "3.8.3"
  }
 },
 "nbformat": 4,
 "nbformat_minor": 4
}
