{
 "cells": [
  {
   "cell_type": "markdown",
   "metadata": {},
   "source": [
    "## 1. 특징\n",
    "\n",
    "+ 벡터 및 행렬 연산과 관련된 편리한 기능을 제공한다(선형대수 관련)\n",
    "+ 리스트에 비해 빠르고 메모리를 효율적으로 운영할 수 있다.(배열)\n",
    "+ 반복문 없이 데이터 배열에 대한 처리를 지원 (인덱싱, 질의)\n",
    "+ (좀 더 복잡한 문장도 간단하고 쉽게)\n",
    "+ http://www.numpy.org\n",
    "+ ndarray 기본 데이터 타입 사용 \n",
    "\n"
   ]
  },
  {
   "cell_type": "code",
   "execution_count": 1,
   "metadata": {},
   "outputs": [],
   "source": [
    "import numpy as np"
   ]
  },
  {
   "cell_type": "markdown",
   "metadata": {},
   "source": [
    "### 1차원 배열"
   ]
  },
  {
   "cell_type": "code",
   "execution_count": 12,
   "metadata": {},
   "outputs": [
    {
     "name": "stdout",
     "output_type": "stream",
     "text": [
      "[1, 2, 3, 4, 5, 10, 20, '가', '나']\n",
      "<class 'list'>\n"
     ]
    },
    {
     "ename": "AttributeError",
     "evalue": "'list' object has no attribute 'shape'",
     "output_type": "error",
     "traceback": [
      "\u001b[1;31m---------------------------------------------------------------------------\u001b[0m",
      "\u001b[1;31mAttributeError\u001b[0m                            Traceback (most recent call last)",
      "\u001b[1;32m<ipython-input-12-a354b2f24235>\u001b[0m in \u001b[0;36m<module>\u001b[1;34m\u001b[0m\n\u001b[0;32m      2\u001b[0m \u001b[0mprint\u001b[0m\u001b[1;33m(\u001b[0m\u001b[0ma1\u001b[0m\u001b[1;33m)\u001b[0m\u001b[1;33m\u001b[0m\u001b[1;33m\u001b[0m\u001b[0m\n\u001b[0;32m      3\u001b[0m \u001b[0mprint\u001b[0m\u001b[1;33m(\u001b[0m\u001b[0mtype\u001b[0m\u001b[1;33m(\u001b[0m\u001b[0ma1\u001b[0m\u001b[1;33m)\u001b[0m\u001b[1;33m)\u001b[0m\u001b[1;33m\u001b[0m\u001b[1;33m\u001b[0m\u001b[0m\n\u001b[1;32m----> 4\u001b[1;33m \u001b[0mprint\u001b[0m\u001b[1;33m(\u001b[0m\u001b[0ma1\u001b[0m\u001b[1;33m.\u001b[0m\u001b[0mshape\u001b[0m\u001b[1;33m)\u001b[0m\u001b[1;33m\u001b[0m\u001b[1;33m\u001b[0m\u001b[0m\n\u001b[0m",
      "\u001b[1;31mAttributeError\u001b[0m: 'list' object has no attribute 'shape'"
     ]
    }
   ],
   "source": [
    "a1 = [1,2,3,4,5, 10, 20, \"가\",\"나\"]\n",
    "print(a1)\n",
    "print(type(a1))\n",
    "print(a1.shape) #리스트 이기 때문에 shape을 쓸 수 없다. "
   ]
  },
  {
   "cell_type": "code",
   "execution_count": 16,
   "metadata": {},
   "outputs": [
    {
     "name": "stdout",
     "output_type": "stream",
     "text": [
      "['1' '2' '3' '4' '5' '10' '20' '가' '나']\n",
      "<class 'numpy.ndarray'>\n",
      "(9,)\n",
      "<U11\n"
     ]
    }
   ],
   "source": [
    "a2 = np.array([1,2,3,4,5, 10, 20, \"가\",\"나\"])  #숫자들을 전부다 문저치리 해버림\n",
    "print(a2)\n",
    "print(type(a2))\n",
    "print(a2.shape)\n",
    "print(a2.dtype) #영어를 제외한 문자는 2바이트씩 "
   ]
  },
  {
   "cell_type": "code",
   "execution_count": 15,
   "metadata": {},
   "outputs": [
    {
     "name": "stdout",
     "output_type": "stream",
     "text": [
      "[ 1.  2.  3.  4.  5. 10. 20. 30. 40.]\n",
      "float64\n"
     ]
    }
   ],
   "source": [
    "a3 = np.array([1,2,3,4,5, 10, 20, \"30\",\"40\"], float) #문자를 실수로 변환이 안되기 때문에 에러\n",
    "print(a3)\n",
    "print(a3.dtype)"
   ]
  },
  {
   "cell_type": "code",
   "execution_count": 20,
   "metadata": {},
   "outputs": [
    {
     "name": "stdout",
     "output_type": "stream",
     "text": [
      "int32\n"
     ]
    }
   ],
   "source": [
    "a4=np.dtype('>i4') # 정수형 4자리까지 쓰겠다.\n",
    "print(a4.name)"
   ]
  },
  {
   "cell_type": "code",
   "execution_count": 22,
   "metadata": {},
   "outputs": [
    {
     "name": "stdout",
     "output_type": "stream",
     "text": [
      "[0, 1, 2, 3, 4, 5, 6, 7, 8, 9, 0, 1, 2, 3, 4, 5, 6, 7, 8, 9]\n"
     ]
    }
   ],
   "source": [
    "# 벡터화 연산 \n",
    "data=[0, 1, 2, 3, 4, 5, 6, 7, 8, 9]\n",
    "#print(data*2) # 집합연산 : 반복이 되어 출력된다. +,-,...연산 불가\n",
    "\n"
   ]
  },
  {
   "cell_type": "code",
   "execution_count": 26,
   "metadata": {},
   "outputs": [
    {
     "name": "stdout",
     "output_type": "stream",
     "text": [
      "[ 0  2  4  6  8 10 12 14 16 18]\n",
      "[ 2  3  4  5  6  7  8  9 10 11]\n",
      "[-2 -1  0  1  2  3  4  5  6  7]\n"
     ]
    }
   ],
   "source": [
    "data2=np.array(data) #배열로 바꾸면 직접 계산이 가능하다 / 원래는 반복문을 돌렸어야 한다.\n",
    "print(data2*2)\n",
    "print(data2+2)\n",
    "print(data2-2)"
   ]
  },
  {
   "cell_type": "code",
   "execution_count": 3,
   "metadata": {},
   "outputs": [
    {
     "name": "stdout",
     "output_type": "stream",
     "text": [
      "[ 0  2  4  6  8 10]\n"
     ]
    }
   ],
   "source": [
    "# 인덱스 접근\n",
    "\n",
    "data=[0,1,2,3,4,5]\n",
    "data=np.array(data)\n",
    "print(data*2)"
   ]
  },
  {
   "cell_type": "markdown",
   "metadata": {},
   "source": [
    "### 2차원 배열"
   ]
  },
  {
   "cell_type": "code",
   "execution_count": 35,
   "metadata": {},
   "outputs": [
    {
     "name": "stdout",
     "output_type": "stream",
     "text": [
      "[[1 2 3]\n",
      " [4 5 6]]\n",
      "(2, 3)\n",
      "------------------------\n",
      "[1 2 3]\n",
      "1\n",
      "2\n",
      "3\n"
     ]
    }
   ],
   "source": [
    "arr = np.array([[1,2,3], [4, 5, 6]])\n",
    "print(arr)\n",
    "print(arr.shape)\n",
    "print(\"------------------------\")\n",
    "#접근\n",
    "print(arr[0]) #2차원이기 때문에 행을 직접 가져오게 된다.\n",
    "print(arr[0][0])\n",
    "print(len(arr)) #행의 갯수\n",
    "print(len(arr[0])) #행의 주소에 가면 데이터의 갯수가 나옴\n",
    "#프로그램에서는 행이 우선이다"
   ]
  },
  {
   "cell_type": "markdown",
   "metadata": {},
   "source": [
    "### 3차원 배열"
   ]
  },
  {
   "cell_type": "code",
   "execution_count": 43,
   "metadata": {},
   "outputs": [
    {
     "name": "stdout",
     "output_type": "stream",
     "text": [
      "[[[ 1  2  3  4]\n",
      "  [ 5  6  7  8]]\n",
      "\n",
      " [[ 9 10 11 12]\n",
      "  [13 14 15 16]]]\n",
      "------------------------\n",
      "[[1 2 3 4]\n",
      " [5 6 7 8]]\n",
      "------------------------\n",
      "[1 2 3 4]\n",
      "------------------------\n",
      "1\n",
      "------------------------\n",
      "(2, 2, 4)\n",
      "3\n",
      "2 2 4\n"
     ]
    }
   ],
   "source": [
    "arr = np.array([[[1, 2, 3, 4], [5, 6, 7, 8]], \n",
    "                [[9, 10, 11, 12], [13, 14, 15, 16]]])\n",
    "#앞에 대괄호가 몇개인지를 보면 몇차원인지 알 수 있다. \n",
    "print(arr)\n",
    "print(\"------------------------\")\n",
    "print(arr[0])\n",
    "print(\"------------------------\")\n",
    "print(arr[0][0])\n",
    "print(\"------------------------\")\n",
    "print(arr[0][0][0])\n",
    "print(\"------------------------\")\n",
    "print(arr.shape) #2면 2행 4열 \n",
    "print(arr.ndim) #몇차원인지\n",
    "print(len(arr),len(arr[0]),len(arr[0][0]))\n"
   ]
  },
  {
   "cell_type": "code",
   "execution_count": 47,
   "metadata": {},
   "outputs": [
    {
     "name": "stdout",
     "output_type": "stream",
     "text": [
      "[[[1]]]\n",
      "int32\n",
      "(1, 1, 1)\n",
      "3\n",
      "1\n"
     ]
    }
   ],
   "source": [
    "#rr=np.array(1) #배열이 아닌 하나의 값(스칼라)\n",
    "#print(arr.dtype)\n",
    "#print(arr.shape)\n",
    "#print(arr.ndim)\n",
    "#print(len(arr)) #하나의 값이라 길이를 가지지 않는다.\n",
    "#arr=np.array([1]) #[]로 묶으면 하나의 배열이 된다. (1차원 배열 : tensor )\n",
    "#arr=np.array([[1]])\n",
    "arr=np.array([[[1]]])\n",
    "print(arr)\n",
    "print(arr.dtype)\n",
    "print(arr.shape)\n",
    "print(arr.ndim)\n",
    "print(len(arr))"
   ]
  },
  {
   "cell_type": "markdown",
   "metadata": {},
   "source": [
    "### 배열의 인덱싱\n",
    "\n",
    "- 배열에 저장되어 잇는 데이터를 접근하는 방법"
   ]
  },
  {
   "cell_type": "code",
   "execution_count": 4,
   "metadata": {},
   "outputs": [
    {
     "name": "stdout",
     "output_type": "stream",
     "text": [
      "2 4 4 2\n",
      "2 4 5\n"
     ]
    }
   ],
   "source": [
    "arr = np.array([0, 1, 2, 3, 4])\n",
    "print(arr[2], arr[4], arr[-1], arr[-3])\n",
    "\n",
    "arr = np.array([[0, 1, 2], [3, 4, 5]])\n",
    "print(arr[0][2], arr[1, 1], arr[-1, -1])"
   ]
  },
  {
   "cell_type": "code",
   "execution_count": 59,
   "metadata": {},
   "outputs": [
    {
     "name": "stdout",
     "output_type": "stream",
     "text": [
      "2 2 5\n"
     ]
    }
   ],
   "source": [
    "arr2 = np.array([[0, 1, 2], \n",
    "                [3, 4, 5]])\n",
    "print(arr2[0][2], arr2[0,2], arr2[-1, -1])"
   ]
  },
  {
   "cell_type": "code",
   "execution_count": 87,
   "metadata": {
    "scrolled": true
   },
   "outputs": [
    {
     "name": "stdout",
     "output_type": "stream",
     "text": [
      "[0 2 4 6 8]\n",
      "[ True False  True False  True False  True False  True False]\n",
      "[0 2 4 6 8]\n",
      "[0 3 6 9]\n",
      "[1 5 9]\n",
      "[9]\n",
      "[0 1 3 5 6 9]\n"
     ]
    }
   ],
   "source": [
    "# fancy indexing \n",
    "\n",
    "arr3 = np.array([i for i in range(10)])\n",
    "arr3\n",
    "idx=np.array([True, False, True, False, True, False, True, False, True, False])\n",
    "\n",
    "print(arr3[idx]) #idx 첫번째열과 arr3를 서로 짝지어서 True만 값을 뽑아옴 = 짝수만 뽑아왔다.\n",
    "\n",
    "(arr3 % 2) # 벡터화 연산이 가능하기 때문에 \n",
    "print(arr3%2==0)\n",
    "print(arr3[arr3%2==0])\n",
    "\n",
    "# arr3에서 3의 배수를 찾아라\n",
    "print(arr3[arr3%3==0])\n",
    "# arr3에서 4로 나누면 1이 남는 수를 찾아라 \n",
    "print(arr3[arr3%4==1])\n",
    "# arr3에서 3으로 나누면 나눠지고 4로 나누면 1이 남는 수를 찾아라\n",
    "print(arr3[(arr3%3==0) & (arr3%4==1)])\n",
    "\n",
    "\n",
    "\n"
   ]
  },
  {
   "cell_type": "markdown",
   "metadata": {},
   "source": [
    "### 배열의 슬라이싱"
   ]
  },
  {
   "cell_type": "code",
   "execution_count": 98,
   "metadata": {},
   "outputs": [
    {
     "name": "stdout",
     "output_type": "stream",
     "text": [
      "[0 1]\n",
      "------------------------\n",
      "[[4 5]\n",
      " [8 9]]\n",
      "------------------------\n",
      "[0 1 2 3]\n",
      "[0 1 2 3]\n",
      "------------------------\n",
      "[[0 1]\n",
      " [4 5]]\n",
      "[[0 1]\n",
      " [4 5]]\n",
      "------------------------\n",
      "[[ 8  9 10 11]\n",
      " [ 4  5  6  7]\n",
      " [ 0  1  2  3]]\n",
      "------------------------\n",
      "[[ 1  2]\n",
      " [ 5  6]\n",
      " [ 9 10]]\n"
     ]
    }
   ],
   "source": [
    "arr = np.array([[0, 1, 2, 3], \n",
    "                [4, 5, 6, 7], \n",
    "                [8, 9, 10, 11]])\n",
    "print(arr[0, 0:2]) #0번째 행에서 0 - 1번째 까지의 데이터만 가져오겠다 (마지막위치는 항상 n-1)\n",
    "print(\"------------------------\")\n",
    "print(arr[1:3, 0:2])  #1행부터 2행까지 0 -1 번째 까지의 데이터만 가져오겠다\n",
    "print(\"------------------------\")\n",
    "print(arr[0, :]) # 첫번째 행에 모든 데이터를 가져오겠다 \n",
    "print(arr[0]) #데이터에 접근만 하는 것이다.\n",
    "print(\"------------------------\")\n",
    "#[[0,1], [4,5]]\n",
    "print(arr[0:2, 0:2])\n",
    "print(arr[:2, :2])\n",
    "\n",
    "print(\"------------------------\")\n",
    "print(arr[[2, 1, 0], :])\n",
    "\n",
    "print(\"------------------------\")\n",
    "print(arr[:, [1, 2]])\n",
    "\n",
    "\n",
    "\n"
   ]
  },
  {
   "cell_type": "markdown",
   "metadata": {},
   "source": [
    "### numpy 자료형\n",
    "\n",
    "+ b : 불리언\n",
    "+ i : 정수     i8(정수형 8바이트까지 쓸 수 있게 하겠다)\n",
    "+ u : 부호없는 정수\n",
    "+ f : 실수(부동소수점)\n",
    "+ c : 복소수\n",
    "+ O : 객체(대문자 O)\n",
    "+ S : 바이트 문자열      S24(1바이트 문자열 24개)\n",
    "+ U : 유니코드 문자열 "
   ]
  },
  {
   "cell_type": "code",
   "execution_count": 100,
   "metadata": {},
   "outputs": [
    {
     "name": "stdout",
     "output_type": "stream",
     "text": [
      "float32\n",
      "3.0\n"
     ]
    }
   ],
   "source": [
    "arr = np.array([1, 2, 3], dtype=\"f\") #기본값은 32비트 메모리 낭비를 줄이기 위해 크기 조절 \n",
    "print(arr.dtype) \n",
    "print(arr[0]+arr[1])"
   ]
  },
  {
   "cell_type": "code",
   "execution_count": 103,
   "metadata": {},
   "outputs": [
    {
     "name": "stdout",
     "output_type": "stream",
     "text": [
      "|S1\n",
      "b'12'\n",
      "b'13'\n"
     ]
    }
   ],
   "source": [
    "arr = np.array([1, 2, 3], dtype=\"S\")  #숫자가 아니라 문자로 취급  한글자를 1바이트로\n",
    "print(arr.dtype) \n",
    "print(arr[0]+arr[1]) #숫자로 계산한게 아니라 연결됨\n",
    "print(arr[0]+arr[2])"
   ]
  },
  {
   "cell_type": "code",
   "execution_count": 104,
   "metadata": {},
   "outputs": [
    {
     "name": "stdout",
     "output_type": "stream",
     "text": [
      "<U1\n",
      "12\n",
      "13\n"
     ]
    }
   ],
   "source": [
    "arr = np.array([1, 2, 3], dtype=\"U\")  #숫자가 아니라 문자로 취급  / S와 같으나 한글자를 2바이트로 취급\n",
    "print(arr.dtype) \n",
    "print(arr[0]+arr[1]) #숫자로 계산한게 아니라 연결됨\n",
    "print(arr[0]+arr[2])"
   ]
  },
  {
   "cell_type": "code",
   "execution_count": 117,
   "metadata": {
    "scrolled": true
   },
   "outputs": [
    {
     "name": "stdout",
     "output_type": "stream",
     "text": [
      "<U5\n",
      "('<f8', (2,))\n",
      "['홍길동' '임꺽정' '신돌석' '김수한무 ']\n",
      "<U5\n",
      "------------------------\n",
      "[('홍길동', [5., 7.]) ('임꺽정', [8., 9.])]\n"
     ]
    }
   ],
   "source": [
    "dt= np.dtype([('name', np.unicode_, 5),(\"grades\", np.float64, (2,))])\n",
    "print(dt[\"name\"])\n",
    "print(dt[\"grades\"])\n",
    "\n",
    "arr=np.array([\"홍길동\",\"임꺽정\",\"신돌석\", \"김수한무 거북이와 두루미\"], dtype=dt[\"name\"]) #문자열은 크기를 정하지 않아도 에러가 나지는 않는다.\n",
    "# 단, 그 크기만큼만 출력된다. \n",
    "print(arr)\n",
    "print(arr.dtype)\n",
    "\n",
    "print(\"------------------------\")\n",
    "\n",
    "arr=np.array([(\"홍길동\", (5.0, 7.0)), (\"임꺽정\",(8.0, 9.0))], dtype=dt) #dt는 내가 만든 데이터 형식\n",
    "print(arr)\n",
    "\n",
    "\n",
    "\n"
   ]
  },
  {
   "cell_type": "markdown",
   "metadata": {},
   "source": [
    "### 배열을 생성하는 방법 \n"
   ]
  },
  {
   "cell_type": "code",
   "execution_count": 128,
   "metadata": {},
   "outputs": [
    {
     "name": "stdout",
     "output_type": "stream",
     "text": [
      "[0. 0. 0. 0. 0.]\n",
      "float64\n",
      "<class 'numpy.ndarray'>\n",
      "-----------------------------\n",
      "[0 0 0 0 0]\n",
      "int32\n",
      "<class 'numpy.ndarray'>\n",
      "-----------------------------\n",
      "['' '' '' '' '']\n",
      "<U4\n",
      "<class 'numpy.ndarray'>\n",
      "['abc' 'abcd' 'abcd' '' '']\n",
      "-----------------------------\n",
      "[[0. 0. 0.]\n",
      " [0. 0. 0.]]\n"
     ]
    }
   ],
   "source": [
    "arr = np.zeros(5) #5회 반복 (기본값은 0, 실수형)\n",
    "print(arr)\n",
    "print(arr.dtype)\n",
    "print(type(arr))\n",
    "\n",
    "print(\"-----------------------------\")\n",
    "arr = np.zeros(5, dtype= \"i\")\n",
    "print(arr)\n",
    "print(arr.dtype)\n",
    "print(type(arr))\n",
    "print(\"-----------------------------\")\n",
    "arr = np.zeros(5, dtype= \"U4\")\n",
    "print(arr)\n",
    "print(arr.dtype)\n",
    "print(type(arr))\n",
    "arr[0]=\"abc\"\n",
    "arr[1]=\"abcd\"\n",
    "arr[2]=\"abcde\" #4글자로 제한들 두었기 때문에 e는 출력되지 않는다. \n",
    "print(arr)\n",
    "print(\"-----------------------------\")\n",
    "arr = np.zeros((2, 3)) # 0으로 된 2행 3열짜리 배열 \n",
    "print(arr)"
   ]
  },
  {
   "cell_type": "code",
   "execution_count": 134,
   "metadata": {},
   "outputs": [
    {
     "name": "stdout",
     "output_type": "stream",
     "text": [
      "[[[1. 1. 1. 1.]\n",
      "  [1. 1. 1. 1.]\n",
      "  [1. 1. 1. 1.]]\n",
      "\n",
      " [[1. 1. 1. 1.]\n",
      "  [1. 1. 1. 1.]\n",
      "  [1. 1. 1. 1.]]]\n",
      "-----------------------------\n",
      "[[1. 1. 1.]\n",
      " [1. 1. 1.]]\n",
      "-----------------------------\n",
      "[[9.05302660e-312 3.16202013e-322 0.00000000e+000]\n",
      " [0.00000000e+000 0.00000000e+000 2.69727136e+184]\n",
      " [3.83686498e+175 1.05845928e+165 1.31505995e-047]\n",
      " [5.69999966e-038 3.46556192e+179 1.86995243e-051]]\n",
      "-----------------------------\n",
      "[0 1 2 3 4 5 6 7 8 9]\n",
      "-----------------------------\n",
      "[  0.  25.  50.  75. 100.]\n"
     ]
    }
   ],
   "source": [
    "arr = np.ones((2, 3, 4)) # 기본값이 1\n",
    "print(arr)\n",
    "#나머지는 zeros 와 동일 \n",
    "\n",
    "print(\"-----------------------------\")\n",
    "\n",
    "arr1 = np.zeros((2, 3))\n",
    "arr2 = np.ones_like(arr1) #기존의 크기는 유지하면 0대신 1로 바꿔준다.\n",
    "print(arr2)\n",
    "\n",
    "print(\"-----------------------------\")\n",
    "\n",
    "arr = np.empty((4, 3))\n",
    "print(arr) #기존에 있던 메모리값이 그대로 나온다. 의미 없는 값\n",
    "\n",
    "print(\"-----------------------------\")\n",
    "\n",
    "arr = np.arange(10) # 파이썬의 range와 비슷 range는 리스트형식 arange는 배열\n",
    "print(arr)\n",
    "\n",
    "print(\"-----------------------------\")\n",
    "\n",
    "#그래프 그릴 때 많이 사용 (간격을 지정할 때 사용 / 그래프 눈금)\n",
    "arr = np.linspace(0, 100, 5) #0부터 100까지 5등분\n",
    "print(arr)\n",
    "print(\"-----------------------------\")"
   ]
  },
  {
   "cell_type": "markdown",
   "metadata": {},
   "source": [
    "### 전치 연산(Transpose)"
   ]
  },
  {
   "cell_type": "code",
   "execution_count": 137,
   "metadata": {},
   "outputs": [
    {
     "name": "stdout",
     "output_type": "stream",
     "text": [
      "[[1 2 3]\n",
      " [4 5 6]]\n",
      "[[1 4]\n",
      " [2 5]\n",
      " [3 6]]\n"
     ]
    }
   ],
   "source": [
    "# 전치행렬 T \n",
    "arr = np.array([[1, 2, 3], [4, 5, 6]])\n",
    "print(arr)\n",
    "print(arr.T) # 행과 열을 바꿔준다 ."
   ]
  },
  {
   "cell_type": "markdown",
   "metadata": {},
   "source": [
    "### 배열의 크기 변형 : reshape(), flatten(), ravel()\n",
    "- flatten, ravel 은 고차원배열을 1차원으로 펴주는 역할 "
   ]
  },
  {
   "cell_type": "code",
   "execution_count": 139,
   "metadata": {},
   "outputs": [
    {
     "name": "stdout",
     "output_type": "stream",
     "text": [
      "[ 0  1  2  3  4  5  6  7  8  9 10 11]\n",
      "(12,)\n"
     ]
    }
   ],
   "source": [
    "arr = np.arange(12)\n",
    "print(arr)\n",
    "print(arr.shape)\n"
   ]
  },
  {
   "cell_type": "code",
   "execution_count": 147,
   "metadata": {},
   "outputs": [
    {
     "name": "stdout",
     "output_type": "stream",
     "text": [
      "[[ 0  1  2  3]\n",
      " [ 4  5  6  7]\n",
      " [ 8  9 10 11]]\n",
      "(3, 4)\n",
      "-----------------------------\n",
      "[[ 0  1  2  3]\n",
      " [ 4  5  6  7]\n",
      " [ 8  9 10 11]]\n",
      "(3, 4)\n",
      "-----------------------------\n",
      "[[ 0  1  2  3]\n",
      " [ 4  5  6  7]\n",
      " [ 8  9 10 11]]\n",
      "(3, 4)\n"
     ]
    }
   ],
   "source": [
    "arr1 = arr.reshape(3, 4) # 2차원 배열로\n",
    "print(arr1)\n",
    "print(arr1.shape)\n",
    "print(\"-----------------------------\")\n",
    "arr1 = arr.reshape(3, -1) #-1은 reshpae 에서는 자동으로 열의 개수를 지정해주겠다는 뜻\n",
    "print(arr1)\n",
    "print(arr1.shape)\n",
    "print(\"-----------------------------\")\n",
    "arr1 = arr.reshape(-1, 4) \n",
    "print(arr1)\n",
    "print(arr1.shape)"
   ]
  },
  {
   "cell_type": "code",
   "execution_count": 155,
   "metadata": {},
   "outputs": [
    {
     "name": "stdout",
     "output_type": "stream",
     "text": [
      "[[[ 0  1  2]\n",
      "  [ 3  4  5]]\n",
      "\n",
      " [[ 6  7  8]\n",
      "  [ 9 10 11]]]\n",
      "(2, 2, 3)\n",
      "-----------------------------\n",
      "[[[ 0  1  2]\n",
      "  [ 3  4  5]]\n",
      "\n",
      " [[ 6  7  8]\n",
      "  [ 9 10 11]]]\n",
      "(2, 2, 3)\n",
      "-----------------------------\n",
      "[[[ 0  1  2]\n",
      "  [ 3  4  5]]\n",
      "\n",
      " [[ 6  7  8]\n",
      "  [ 9 10 11]]]\n",
      "(2, 2, 3)\n",
      "-----------------------------\n",
      "[[[ 0  1  2]\n",
      "  [ 3  4  5]]\n",
      "\n",
      " [[ 6  7  8]\n",
      "  [ 9 10 11]]]\n",
      "(2, 2, 3)\n"
     ]
    }
   ],
   "source": [
    "arr2 = arr.reshape(2, 2, 3)\n",
    "print(arr2)\n",
    "print(arr2.shape)\n",
    "\n",
    "print(\"-----------------------------\")\n",
    "\n",
    "arr2 = arr.reshape(2, 2, -1)\n",
    "print(arr2)\n",
    "print(arr2.shape)\n",
    "\n",
    "print(\"-----------------------------\")\n",
    "\n",
    "arr2 = arr.reshape(2, -1, 3)\n",
    "print(arr2)\n",
    "print(arr2.shape)\n",
    "\n",
    "print(\"-----------------------------\") \n",
    "\n",
    "arr2 - arr.reshape(-1, 2, 3)  \n",
    "print(arr2)\n",
    "print(arr2.shape)\n",
    "\n",
    "print(\"-----------------------------\")"
   ]
  },
  {
   "cell_type": "code",
   "execution_count": 160,
   "metadata": {},
   "outputs": [
    {
     "name": "stdout",
     "output_type": "stream",
     "text": [
      "[ 0  1  2  3  4  5  6  7  8  9 10 11]\n",
      "[ 0  1  2  3  4  5  6  7  8  9 10 11]\n",
      "-----------------------------\n",
      "[ 0  1  2  3  4  5  6  7  8  9 10 11]\n",
      "[ 0  1  2  3  4  5  6  7  8  9 10 11]\n"
     ]
    }
   ],
   "source": [
    "# 1차원으로 바꿔줄때는 flatten이나 ravel를 쓰는게 더 편하다 \n",
    "print(arr1.flatten()) # 2차원을 1차원으로 \n",
    "print(arr1. ravel())\n",
    "\n",
    "print(\"-----------------------------\") \n",
    "\n",
    "print(arr2.flatten())\n",
    "print(arr2.ravel())"
   ]
  },
  {
   "cell_type": "code",
   "execution_count": 168,
   "metadata": {},
   "outputs": [
    {
     "name": "stdout",
     "output_type": "stream",
     "text": [
      "[[0 1 2 3 4]]\n",
      "[[0]\n",
      " [1]\n",
      " [2]\n",
      " [3]\n",
      " [4]]\n",
      "-------------------------------\n",
      "[[0]\n",
      " [1]\n",
      " [2]\n",
      " [3]\n",
      " [4]]\n",
      "[[0 1 2 3 4]]\n",
      "-----------------------------\n",
      "[[0]\n",
      " [1]\n",
      " [2]\n",
      " [3]\n",
      " [4]]\n"
     ]
    }
   ],
   "source": [
    "arr = np.arange(5)\n",
    "print(arr.reshape(1, 5))\n",
    "print(arr.reshape(5, 1))\n",
    "\n",
    "print(\"-------------------------------\")\n",
    "\n",
    "print(arr.reshape(1,5).T)\n",
    "print(arr.reshape(5,1).T)\n",
    "\n",
    "print(\"-----------------------------\") \n",
    "\n",
    "print(arr[:, np.newaxis]) #열을 하나 임의로 만들겠다 "
   ]
  },
  {
   "cell_type": "markdown",
   "metadata": {},
   "source": [
    "### 배열 연결(병합) : stack,hstack, vstack, dstack, tile"
   ]
  },
  {
   "cell_type": "code",
   "execution_count": 175,
   "metadata": {},
   "outputs": [
    {
     "name": "stdout",
     "output_type": "stream",
     "text": [
      "[[1. 1. 1.]\n",
      " [1. 1. 1.]]\n",
      "[[1. 1.]\n",
      " [1. 1.]]\n",
      "[[1. 1. 1. 1. 1.]\n",
      " [1. 1. 1. 1. 1.]]\n"
     ]
    }
   ],
   "source": [
    "# hstack, vstack\n",
    "\n",
    "arr1 = np.ones((2,3))\n",
    "print(arr1)\n",
    "arr2 = np.ones((2,2))\n",
    "print(arr2)\n",
    "\n",
    "arr3= np.hstack([arr1, arr2])\n",
    "print(arr3)\n",
    "\n",
    "#arr3= np.vstack([arr1, arr2]) # 열의 갯수가 다르기 떄문에 에러\n",
    "#print(arr3)"
   ]
  },
  {
   "cell_type": "code",
   "execution_count": 179,
   "metadata": {},
   "outputs": [
    {
     "name": "stdout",
     "output_type": "stream",
     "text": [
      "[[[1. 0.]\n",
      "  [1. 0.]\n",
      "  [1. 0.]\n",
      "  [1. 0.]]\n",
      "\n",
      " [[1. 0.]\n",
      "  [1. 0.]\n",
      "  [1. 0.]\n",
      "  [1. 0.]]\n",
      "\n",
      " [[1. 0.]\n",
      "  [1. 0.]\n",
      "  [1. 0.]\n",
      "  [1. 0.]]]\n",
      "(3, 4, 2)\n"
     ]
    }
   ],
   "source": [
    "# dstack  (depth, 깊이 있게 쌓겠다) 1차원이면 2차원으로 2차원이면 3차원으로 ....\n",
    "# 행과 열의 갯수가 같아야 한다.\n",
    "\n",
    "#3*4 배열의 2개로 하겠다. 2*3*4 \n",
    "#dstack에서는 3*4*2 \n",
    "arr1 = np.ones((3,4))\n",
    "arr2 = np.zeros((3,4))\n",
    "\n",
    "arr3=np.dstack([arr1, arr2])\n",
    "print(arr3)\n",
    "print(arr3.shape)"
   ]
  },
  {
   "cell_type": "code",
   "execution_count": 186,
   "metadata": {},
   "outputs": [
    {
     "name": "stdout",
     "output_type": "stream",
     "text": [
      "[[[1. 1. 1. 1.]\n",
      "  [1. 1. 1. 1.]\n",
      "  [1. 1. 1. 1.]]\n",
      "\n",
      " [[0. 0. 0. 0.]\n",
      "  [0. 0. 0. 0.]\n",
      "  [0. 0. 0. 0.]]]\n",
      "(2, 3, 4)\n",
      "-------------------------------\n",
      "[[[1. 1. 1. 1.]\n",
      "  [1. 1. 1. 1.]\n",
      "  [1. 1. 1. 1.]]\n",
      "\n",
      " [[0. 0. 0. 0.]\n",
      "  [0. 0. 0. 0.]\n",
      "  [0. 0. 0. 0.]]]\n",
      "(2, 3, 4)\n",
      "-------------------------------\n",
      "[[[1. 1. 1. 1.]\n",
      "  [0. 0. 0. 0.]]\n",
      "\n",
      " [[1. 1. 1. 1.]\n",
      "  [0. 0. 0. 0.]]\n",
      "\n",
      " [[1. 1. 1. 1.]\n",
      "  [0. 0. 0. 0.]]]\n",
      "(3, 2, 4)\n",
      "[[[1. 0.]\n",
      "  [1. 0.]\n",
      "  [1. 0.]\n",
      "  [1. 0.]]\n",
      "\n",
      " [[1. 0.]\n",
      "  [1. 0.]\n",
      "  [1. 0.]\n",
      "  [1. 0.]]\n",
      "\n",
      " [[1. 0.]\n",
      "  [1. 0.]\n",
      "  [1. 0.]\n",
      "  [1. 0.]]]\n",
      "(3, 4, 2)\n"
     ]
    }
   ],
   "source": [
    "# stack\n",
    "\n",
    "arr1 = np.ones((3,4))\n",
    "arr2 = np.zeros((3,4))\n",
    "\n",
    "arr3 = np.stack([arr1, arr2]) #arr1과 arr2를 그냥 3차원으로 합쳐진 것 (하나의 면으로)\n",
    "print(arr3)\n",
    "print(arr3.shape)\n",
    "\n",
    "print(\"-------------------------------\")\n",
    "\n",
    "arr4 = np.stack([arr1, arr2], axis=0) #축을 기준으로 하겠다\n",
    "print(arr4)\n",
    "print(arr4.shape)\n",
    "\n",
    "print(\"-------------------------------\")\n",
    "#3 * 2 * 4 \n",
    "arr4 = np.stack([arr1, arr2], axis=1) #axis 깊이\n",
    "print(arr4)\n",
    "print(arr4.shape)\n",
    "\n",
    "arr4 = np.stack([arr1, arr2], axis=2) #축을 기준으로 하겠다0\n",
    "print(arr4)\n",
    "print(arr4.shape)"
   ]
  },
  {
   "cell_type": "code",
   "execution_count": 190,
   "metadata": {},
   "outputs": [
    {
     "name": "stdout",
     "output_type": "stream",
     "text": [
      "[[0 1 2 0 1 2]\n",
      " [3 4 5 3 4 5]]\n",
      "------------------------------------\n",
      "[[0 1 2 0 1 2]\n",
      " [3 4 5 3 4 5]\n",
      " [0 1 2 0 1 2]\n",
      " [3 4 5 3 4 5]\n",
      " [0 1 2 0 1 2]\n",
      " [3 4 5 3 4 5]]\n"
     ]
    }
   ],
   "source": [
    "#tile\n",
    "\n",
    "arr = np.array([[0, 1, 2], [3, 4, 5]])\n",
    "print(np.tile(arr, 2))\n",
    "\n",
    "print(\"------------------------------------\")\n",
    "\n",
    "print(np.tile(arr, (3, 2))) #행을 3번반복 열은 2번 반복 "
   ]
  },
  {
   "cell_type": "markdown",
   "metadata": {},
   "source": [
    "### 2차원 그리드 포인트 생성 : meshgrid()\n"
   ]
  },
  {
   "cell_type": "code",
   "execution_count": 194,
   "metadata": {},
   "outputs": [
    {
     "data": {
      "text/plain": [
       "array([0, 1, 2])"
      ]
     },
     "execution_count": 194,
     "metadata": {},
     "output_type": "execute_result"
    }
   ],
   "source": [
    "x = np.arange(3)\n",
    "x"
   ]
  },
  {
   "cell_type": "code",
   "execution_count": 195,
   "metadata": {},
   "outputs": [
    {
     "data": {
      "text/plain": [
       "array([0, 1, 2, 3, 4])"
      ]
     },
     "execution_count": 195,
     "metadata": {},
     "output_type": "execute_result"
    }
   ],
   "source": [
    "y = np.arange(5)\n",
    "y\n"
   ]
  },
  {
   "cell_type": "code",
   "execution_count": 198,
   "metadata": {},
   "outputs": [
    {
     "name": "stdout",
     "output_type": "stream",
     "text": [
      "[[0 1 2]\n",
      " [0 1 2]\n",
      " [0 1 2]\n",
      " [0 1 2]\n",
      " [0 1 2]]\n",
      "------------------------------------\n",
      "[[0 0 0]\n",
      " [1 1 1]\n",
      " [2 2 2]\n",
      " [3 3 3]\n",
      " [4 4 4]]\n"
     ]
    }
   ],
   "source": [
    "X, Y = np.meshgrid(x, y)\n",
    "\n",
    "print(X)\n",
    "print(\"------------------------------------\")\n",
    "print(Y)"
   ]
  },
  {
   "cell_type": "code",
   "execution_count": 203,
   "metadata": {},
   "outputs": [
    {
     "name": "stdout",
     "output_type": "stream",
     "text": [
      "[[(0, 0), (1, 0), (2, 0)], [(0, 1), (1, 1), (2, 1)], [(0, 2), (1, 2), (2, 2)], [(0, 3), (1, 3), (2, 3)], [(0, 4), (1, 4), (2, 4)]]\n"
     ]
    }
   ],
   "source": [
    "z = [list(zip(x,y)) for x, y in zip(X,Y)]\n",
    "print(z)"
   ]
  },
  {
   "cell_type": "code",
   "execution_count": 206,
   "metadata": {},
   "outputs": [
    {
     "data": {
      "text/plain": [
       "<matplotlib.collections.PathCollection at 0x1aaa50ee130>"
      ]
     },
     "execution_count": 206,
     "metadata": {},
     "output_type": "execute_result"
    },
    {
     "data": {
      "image/png": "[encoded data removed]",
      "text/plain": [
       "<Figure size 432x288 with 1 Axes>"
      ]
     },
     "metadata": {
      "needs_background": "light"
     },
     "output_type": "display_data"
    }
   ],
   "source": [
    "import matplotlib.pylab as plt\n",
    "plt.scatter(X, Y)"
   ]
  },
  {
   "cell_type": "markdown",
   "metadata": {},
   "source": [
    "### 브로드 캐스팅 (Broad Casting)\n",
    "\n",
    "+ 크기가 서로 다른 행렬(벡터)끼리 연산을 가능하게 하는 것\n"
   ]
  },
  {
   "cell_type": "code",
   "execution_count": 219,
   "metadata": {},
   "outputs": [
    {
     "name": "stdout",
     "output_type": "stream",
     "text": [
      "[0, 1, 2, 3, 4]\n",
      "[[0], [1], [2], [3], [4]]\n",
      "[0, 1, 2, 3, 4]\n",
      "[range(0, 3), range(1, 4), range(2, 5), range(3, 6), range(4, 7)]\n",
      "[[0 1 2]\n",
      " [1 2 3]\n",
      " [2 3 4]\n",
      " [3 4 5]\n",
      " [4 5 6]]\n"
     ]
    }
   ],
   "source": [
    "print([i for i in range(5)])   \n",
    "print([[i] for i in range(5)])  #리스트로 묶어서 값을 담아주는\n",
    "print([range(7)[i] for i in range(5)])  #range함수를 통해 인덱스에 접근 \n",
    "print([range(7)[i:i+3] for i in range(5)]) \n",
    "\n",
    "\n",
    "\n",
    "print(np.vstack([range(7)[i:i+3]for i in range(5)]))"
   ]
  },
  {
   "cell_type": "code",
   "execution_count": 221,
   "metadata": {},
   "outputs": [
    {
     "name": "stdout",
     "output_type": "stream",
     "text": [
      "0\n",
      "1\n",
      "----------------------\n",
      "[[0]\n",
      " [1]\n",
      " [2]\n",
      " [3]\n",
      " [4]]\n"
     ]
    }
   ],
   "source": [
    "range(3)[0:1]\n",
    "range(3)[0:5] #5는 범위를 벗어났기 때문에 3까지 밖에 안됨\n",
    "range(3)[0:2]\n",
    "\n",
    "#data= range(3) 무조건 3개가 만들어짐\n",
    "data=range(3)[0:2] #슬라이싱같이 일부분만 만들어 낼 수 있음 / 필요한 만큼만 덜어내는 \n",
    "for i in data:\n",
    "    print(i)\n",
    "    \n",
    "print(\"----------------------\")\n",
    "print(np.arange(5)[:,np.newaxis])"
   ]
  },
  {
   "cell_type": "code",
   "execution_count": 223,
   "metadata": {},
   "outputs": [
    {
     "name": "stdout",
     "output_type": "stream",
     "text": [
      "[[ 0  1  2]\n",
      " [ 2  3  4]\n",
      " [ 4  5  6]\n",
      " [ 6  7  8]\n",
      " [ 8  9 10]]\n",
      "--------------------------------\n",
      "[[0 2 4]\n",
      " [1 3 5]\n",
      " [2 4 6]\n",
      " [3 5 7]\n",
      " [4 6 8]]\n"
     ]
    }
   ],
   "source": [
    "x = np.vstack([range(7)[i:i+3]for i in range(5)]) # 5행 3열 \n",
    "y = np.arange(5)[:, np.newaxis] #5행 1열\n",
    "print(x+y) #행렬이 같지 않아도 브로드 캐스팅 때문에 계산이 가능하다 \n",
    "print(\"--------------------------------\")\n",
    "y=np.arange(3)[:] \n",
    "print(x+y) #차원이 달라도 브로드 캐스팅 때문에 계산이 가능하다 "
   ]
  },
  {
   "cell_type": "markdown",
   "metadata": {},
   "source": [
    "### 차원 축소(dimension reduction) 연산\n",
    "+ 3차원을 2차원으로 2차원을 1차원으로 \n",
    "+ 최대값/최소값 : min, max, argmax, argmin (수천개의 데이터에서 하나의 단위값을 뽑아내는)\n",
    "+ 대표값 : sum, mean, median, std, var\n",
    "+ 불리언 : all, any\n",
    "\n",
    "-----------------------------\n",
    "정의 : 행렬의 하나의 행에 있는 원소들을 하나의 데이터 집합으로 보고 그 집합의 평균을 구하면 각 행에 대해 하나의 숫자가 나오게 된다.<br>\n",
    "이러한 연산을 차원 축소연산 이라고 한다. "
   ]
  },
  {
   "cell_type": "code",
   "execution_count": 5,
   "metadata": {},
   "outputs": [
    {
     "name": "stdout",
     "output_type": "stream",
     "text": [
      "3\n",
      "----------------\n",
      "1\n"
     ]
    }
   ],
   "source": [
    "x = np.array([1, 3, 2, -3])\n",
    "\n",
    "result = np.argmin(x) #최소값의 인덱스값을 뽑아내는 함수가 argmin\n",
    "print(result)\n",
    "print(\"----------------\")\n",
    "result = np.argmax(x) #최대값의 인덱스값을 뽑아내는 함수가 argmin\n",
    "print(result)\n"
   ]
  },
  {
   "cell_type": "code",
   "execution_count": 9,
   "metadata": {},
   "outputs": [
    {
     "name": "stdout",
     "output_type": "stream",
     "text": [
      "6\n",
      "열 합계 : [3 3]\n",
      "열 합계 : [2 4]\n"
     ]
    }
   ],
   "source": [
    "x = np.array([[1, 1], [2,2]])\n",
    "print(x.sum())\n",
    "print(\"열 합계 :\", x.sum(axis=0)) #0이면 열의합계 1이면 행의 합계\n",
    "print(\"행 합계 :\", x.sum(axis=1))\n",
    "#2차원 배열이지만 1차원배열로 축소됐다."
   ]
  },
  {
   "cell_type": "code",
   "execution_count": 14,
   "metadata": {},
   "outputs": [
    {
     "name": "stdout",
     "output_type": "stream",
     "text": [
      "최소값 : -24.0\n",
      "최대값 : 23.0\n",
      "1사분위 : 0.0\n",
      "2사분위 : 5.0\n",
      "3사분위 : 10.0\n"
     ]
    }
   ],
   "source": [
    "x = np.array([18,   5,  10,  23,  19,  -8,  10,   0,   0,   5,   2,  15,   8,\n",
    "              2,   5,   4,  15,  -1,   4,  -7, -24,   7,   9,  -6,  23, -13])\n",
    "print(\"최소값 :\", np.percentile(x, 0)) #min과 같다\n",
    "print(\"최대값 :\", np.percentile(x, 100)) \n",
    "print(\"1사분위 :\", np.percentile(x, 25))\n",
    "print(\"2사분위 :\", np.percentile(x, 50)) \n",
    "print(\"3사분위 :\", np.percentile(x, 75)) "
   ]
  },
  {
   "cell_type": "code",
   "execution_count": 17,
   "metadata": {},
   "outputs": [
    {
     "data": {
      "text/plain": [
       "DescribeResult(nobs=26, minmax=(-24, 23), mean=4.8076923076923075, variance=119.84153846153846, skewness=-0.4762339485461929, kurtosis=0.37443381660038977)"
      ]
     },
     "execution_count": 17,
     "metadata": {},
     "output_type": "execute_result"
    }
   ],
   "source": [
    "from scipy.stats import describe \n",
    "describe(x)\n",
    "#skewness : 왜도 (좌우 비대칭을 확인할때)\n",
    "#kurtosis : 첨도 ()"
   ]
  },
  {
   "cell_type": "markdown",
   "metadata": {},
   "source": [
    "### 정렬"
   ]
  },
  {
   "cell_type": "code",
   "execution_count": 26,
   "metadata": {},
   "outputs": [
    {
     "name": "stdout",
     "output_type": "stream",
     "text": [
      "[[ 4  3  5  7]\n",
      " [ 1 12 11  9]\n",
      " [ 2 15  1 14]]\n",
      "[[ 3  4  5  7]\n",
      " [ 1  9 11 12]\n",
      " [ 1  2 14 15]]\n",
      "---------------------------\n",
      "[[ 3  4  5  7]\n",
      " [ 1  9 11 12]\n",
      " [ 1  2 14 15]]\n",
      "---------------------------\n",
      "[[ 1  3  1  7]\n",
      " [ 2 12  5  9]\n",
      " [ 4 15 11 14]]\n",
      "---------------------------\n",
      "[[ 4  3  5  7]\n",
      " [ 1 12 11  9]\n",
      " [ 2 15  1 14]]\n"
     ]
    }
   ],
   "source": [
    "arr = np.array([[4, 3, 5, 7], \n",
    "                [1, 12, 11, 9], \n",
    "                [2, 15, 1, 14]])\n",
    "print(arr)\n",
    "print(np.sort(arr)) #기본적으로 오름차순으로 정렬\n",
    "print(\"---------------------------\")\n",
    "print(np.sort(arr, axis=1)) #행으로 정렬\n",
    "print(\"---------------------------\")\n",
    "print(np.sort(arr, axis=0))\n",
    "print(\"---------------------------\")\n",
    "print(arr) #원본자체를 정렬시키는것이 아니라 정렬된것을 따로 저장한다."
   ]
  },
  {
   "cell_type": "code",
   "execution_count": null,
   "metadata": {},
   "outputs": [],
   "source": [
    "# 정렬한것을 원본에 적용한는 방법\n",
    "arr = np.sort(arr)\n",
    "#또는\n",
    "arr.sort() # in-place (arr자체를 sort)"
   ]
  },
  {
   "cell_type": "code",
   "execution_count": 30,
   "metadata": {},
   "outputs": [
    {
     "name": "stdout",
     "output_type": "stream",
     "text": [
      "[12 25 38 42]\n"
     ]
    }
   ],
   "source": [
    "# argsort \n",
    "arr1 = np.array([42, 38, 12, 25])\n",
    "idx=np.argsort(arr1) # 정렬된 값들의 인덱스를 뽑아주는 \n",
    "print(arr1[idx])"
   ]
  },
  {
   "cell_type": "code",
   "execution_count": 39,
   "metadata": {},
   "outputs": [
    {
     "name": "stdout",
     "output_type": "stream",
     "text": [
      "[42 38 25 12]\n",
      "[42 38 25 12]\n"
     ]
    }
   ],
   "source": [
    "# 내림차순 \n",
    "\n",
    "print(np.sort(arr1)[::-1]) # 슬라이싱으로 모든 행 모든열에 대해서 역순으로 바꿔라 \n",
    "\n",
    "#또는\n",
    "\n",
    "print(arr1[np.argsort(-arr1)])\n"
   ]
  },
  {
   "cell_type": "code",
   "execution_count": 37,
   "metadata": {},
   "outputs": [
    {
     "name": "stdout",
     "output_type": "stream",
     "text": [
      "[0, 2, 4, 6, 8]\n",
      "[1, 3, 5, 7, 9]\n",
      "[9, 8, 7, 6, 5, 4, 3, 2, 1, 0]\n",
      "[9, 7, 5, 3, 1]\n"
     ]
    }
   ],
   "source": [
    "# 슬라이스 : arr[시작위치:끝위치:간격]    -  어디서부터 어디까지 (보통 간격은 생략해서 많이 썼다.)\n",
    "ex = range(10)\n",
    "print(list(ex[::2]))\n",
    "print(list(ex[1::2]))\n",
    "print(list(ex[::-1]))\n",
    "print(list(ex[::-2]))"
   ]
  },
  {
   "cell_type": "markdown",
   "metadata": {},
   "source": [
    "### 난수 \n",
    "\n",
    "+ rand()    : 0~1 사이의 균일분포 내에서 난수를 뽑는 함수 (실수)\n",
    "+ randn()   : 가우시안 표준 정규분포 내에서 난수를 뽑아주는 함수 (실수)\n",
    "+ randint() : 균일분포 내에서 정수 난수를 뽑아주는 함수"
   ]
  },
  {
   "cell_type": "code",
   "execution_count": 44,
   "metadata": {},
   "outputs": [
    {
     "name": "stdout",
     "output_type": "stream",
     "text": [
      "[0.49966682 0.48335655 0.39323403 0.40941694 0.57577099 0.93292921\n",
      " 0.11661591 0.95223897 0.53316491 0.45545411]\n",
      "-----------------------\n",
      "[[0.81420695 0.1151919  0.57810232 0.36426166 0.46556848]\n",
      " [0.66643142 0.53985771 0.38511607 0.38378923 0.81339826]\n",
      " [0.4365021  0.81621418 0.75089272 0.57830674 0.2913081 ]]\n"
     ]
    }
   ],
   "source": [
    "print(np.random.rand(10)) # 1차원\n",
    "print(\"-----------------------\")\n",
    "print(np.random.rand(3, 5)) #2차원"
   ]
  },
  {
   "cell_type": "code",
   "execution_count": 49,
   "metadata": {},
   "outputs": [
    {
     "name": "stdout",
     "output_type": "stream",
     "text": [
      "8\n",
      "-----------------------\n",
      "11\n",
      "-----------------------\n",
      "[18 16 12 14 16 13 12 14 14 11 17 16 16 18 11 12 13 19 11 19 16 15 11 13\n",
      " 16 17 16 19 12 13 18 11 18 16 13 16 13 19 11 14 12 17 13 17 14 12 17 17\n",
      " 16 14 13 16 13 18 13 14 15 16 11 11 19 15 16 19 14 12 12 13 11 14 17 13\n",
      " 16 11 13 18 12 14 18 17 19 15 17 11 19 11 16 19 17 13 15 11 18 16 14 16\n",
      " 19 13 17 17]\n",
      "-----------------------\n",
      "[[19 15 14 16]\n",
      " [12 13 15 19]\n",
      " [12 18 12 19]]\n"
     ]
    }
   ],
   "source": [
    "print(np.random.randint(10)) #0~9 사이의 난수 1개\n",
    "print(\"-----------------------\")\n",
    "print(np.random.randint(11, 20)) # 범위지정 \n",
    "print(\"-----------------------\")\n",
    "print(np.random.randint(11, 20, size=100)) #100개를 뽑는 \n",
    "print(\"-----------------------\")\n",
    "print(np.random.randint(11, 20, size=(3,4))) #튜플로 묶으면 2차원\n"
   ]
  },
  {
   "cell_type": "code",
   "execution_count": 60,
   "metadata": {},
   "outputs": [
    {
     "data": {
      "text/plain": [
       "array([0.77132064, 0.02075195])"
      ]
     },
     "execution_count": 60,
     "metadata": {},
     "output_type": "execute_result"
    }
   ],
   "source": [
    "#재현성 (똑같은 값이 나타날 수 있게 난수를 고정시키는)\n",
    "\n",
    "np.random.seed(10)\n",
    "np.random.rand(2)"
   ]
  },
  {
   "cell_type": "code",
   "execution_count": 64,
   "metadata": {},
   "outputs": [
    {
     "name": "stdout",
     "output_type": "stream",
     "text": [
      "[0 1 2 3 4 5 6 7 8 9]\n",
      "[7 1 5 6 3 4 9 2 0 8]\n"
     ]
    }
   ],
   "source": [
    "# 데이터의 순서 바꾸기 (섞어준다.)\n",
    "\n",
    "x = np.arange(10)\n",
    "print(x)\n",
    "\n",
    "np.random.shuffle(x)\n",
    "print(x)\n",
    "\n",
    "\n",
    "\n",
    "\n"
   ]
  },
  {
   "cell_type": "code",
   "execution_count": 73,
   "metadata": {},
   "outputs": [
    {
     "name": "stdout",
     "output_type": "stream",
     "text": [
      "[0 4 4 0 2]\n",
      "[3 3 3]\n",
      "-----------------------\n",
      "[0 1 3 4 2]\n",
      "-----------------------\n",
      "[0 3 2 3 3 3 2 3 3 3]\n"
     ]
    }
   ],
   "source": [
    "# 표본을 뽑기 위해(샘플링을 위해) : 복원(default)- 뽑은것을 다시 넣는, 비복원 - 뽑은것은 버리는\n",
    "#replace= T(default) or F\n",
    "\n",
    "print(np.random.choice(5, 5)) #복원 : 같은것을 또 뽑을 수 있다. 0~4까지 숫자중 5번 추출\n",
    "print(np.random.choice(5, 3))\n",
    "\n",
    "print(\"-----------------------\")\n",
    "print(np.random.choice(5, 5, replace=False)) #비복원 : 한번 뽑은것은 또 뽑을 수 없다. \n",
    "\n",
    "print(\"-----------------------\")\n",
    "print(np.random.choice(5, 10, p=[0.1, 0, 0.3, 0.6, 0]))\n",
    "\n",
    "\n"
   ]
  },
  {
   "cell_type": "markdown",
   "metadata": {},
   "source": [
    "### 정수형 데이터 카운팅 : unique, bincount"
   ]
  },
  {
   "cell_type": "code",
   "execution_count": 82,
   "metadata": {},
   "outputs": [
    {
     "name": "stdout",
     "output_type": "stream",
     "text": [
      "5\n",
      "['a' 'b' 'c']\n",
      "--------------------------\n",
      "['a' 'b' 'c']\n",
      "[2 2 1]\n"
     ]
    }
   ],
   "source": [
    "arr = np.array(['a', 'b', 'b', 'c', 'a'])\n",
    "\n",
    "print(len(arr)) #중복과는 상관없이 갯수\n",
    "print(np.unique(arr))  # 중복된 것을 빼고 골라주는 \n",
    "\n",
    "print(\"--------------------------\")\n",
    "\n",
    "idx, cnt = np.unique(arr, return_counts = True)\n",
    "print(idx)\n",
    "print(cnt) # 카데고리 별로 갯수를 세주는  : R에서 table"
   ]
  },
  {
   "cell_type": "code",
   "execution_count": 84,
   "metadata": {},
   "outputs": [
    {
     "name": "stdout",
     "output_type": "stream",
     "text": [
      "[0 2 3 1 0 0]\n"
     ]
    }
   ],
   "source": [
    "#bincount : 발생하지 않은 사건에 대해서도 카운팅\n",
    "\n",
    "arr = np.array([1, 1, 2, 2, 2, 3]) #주사위 데이터로 가정\n",
    "\n",
    "print(np.bincount(arr, minlength=6)) \n",
    "\n"
   ]
  },
  {
   "cell_type": "markdown",
   "metadata": {},
   "source": [
    "### 실습\n",
    "\n",
    "+ data : https://grouplens.org/datasets/movielens/   <br>\n",
    "    Older dataset 에서 MovieLens 1M DataSet 받기 : m1-1m.zip\n"
   ]
  },
  {
   "cell_type": "code",
   "execution_count": null,
   "metadata": {},
   "outputs": [],
   "source": [
    "data = np.loadtxt(\"data/ml-1m/ratings.dat\", delimiter=\"::\", dtype=np.int64)\n"
   ]
  },
  {
   "cell_type": "code",
   "execution_count": 92,
   "metadata": {},
   "outputs": [
    {
     "name": "stdout",
     "output_type": "stream",
     "text": [
      "[[        1      1193         5 978300760]\n",
      " [        1       661         3 978302109]\n",
      " [        1       914         3 978301968]\n",
      " ...\n",
      " [     6040       562         5 956704746]\n",
      " [     6040      1096         4 956715648]\n",
      " [     6040      1097         4 956715569]]\n",
      "(1000209, 4)\n"
     ]
    }
   ],
   "source": [
    "print(data) #np로 불러오면 결과값을 배열로 가져올 수 있다. \n",
    "print(data.shape)"
   ]
  },
  {
   "cell_type": "code",
   "execution_count": 102,
   "metadata": {},
   "outputs": [
    {
     "name": "stdout",
     "output_type": "stream",
     "text": [
      "[[        1      1193         5 978300760]\n",
      " [        1       661         3 978302109]\n",
      " [        1       914         3 978301968]\n",
      " [        1      3408         4 978300275]\n",
      " [        1      2355         5 978824291]\n",
      " [        1      1197         3 978302268]\n",
      " [        1      1287         5 978302039]\n",
      " [        1      2804         5 978300719]\n",
      " [        1       594         4 978302268]\n",
      " [        1       919         4 978301368]\n",
      " [        1       595         5 978824268]\n",
      " [        1       938         4 978301752]\n",
      " [        1      2398         4 978302281]\n",
      " [        1      2918         4 978302124]\n",
      " [        1      1035         5 978301753]\n",
      " [        1      2791         4 978302188]\n",
      " [        1      2687         3 978824268]\n",
      " [        1      2018         4 978301777]\n",
      " [        1      3105         5 978301713]\n",
      " [        1      2797         4 978302039]\n",
      " [        1      2321         3 978302205]]\n"
     ]
    }
   ],
   "source": [
    "# 1행부터 20행까지만 확인 \n",
    "print(data[:21, :]) \n"
   ]
  },
  {
   "cell_type": "code",
   "execution_count": 103,
   "metadata": {},
   "outputs": [
    {
     "name": "stdout",
     "output_type": "stream",
     "text": [
      "[[   1  720]\n",
      " [   1 1270]\n",
      " [   1  527]\n",
      " [   1 2340]\n",
      " [   1   48]\n",
      " [   1 1097]\n",
      " [   1 1721]\n",
      " [   1 1545]\n",
      " [   1  745]\n",
      " [   1 2294]]\n"
     ]
    }
   ],
   "source": [
    "# 21행부터 30행까지 userid와 movie만 출력\n",
    "print(data[21:31, 0:2])"
   ]
  },
  {
   "cell_type": "code",
   "execution_count": 107,
   "metadata": {},
   "outputs": [
    {
     "name": "stdout",
     "output_type": "stream",
     "text": [
      "3.581564453029317\n",
      "3.581564453029317\n"
     ]
    }
   ],
   "source": [
    "# 전체 평점 평균 \n",
    "print(data[:,2].mean(axis=0))\n",
    "print(np.mean(data[:,2]))"
   ]
  },
  {
   "cell_type": "code",
   "execution_count": 2,
   "metadata": {},
   "outputs": [
    {
     "name": "stdout",
     "output_type": "stream",
     "text": [
      "(6040,)\n",
      "결과 : [[1, 4.188679245283019], [2, 3.7131782945736433], [3, 3.9019607843137254], [4, 4.190476190476191], [5, 3.1464646464646466], [6, 3.9014084507042255], [7, 4.32258064516129], [8, 3.884892086330935], [9, 3.7358490566037736], [10, 4.114713216957606]]\n"
     ]
    }
   ],
   "source": [
    "# 사용자 별로 평점 평균 (10명만 출력)\n",
    "user_id = np.unique(data[:,0])\n",
    "print(user_id.shape)\n",
    "\n",
    "mean_values=[]\n",
    "for id in user_id:\n",
    "    data_for_user = data[data[:,0] ==id ,:]\n",
    "    value = data_for_user[:,2].mean()\n",
    "    mean_values.append([id, value])\n",
    "\n",
    "print(\"결과 :\", mean_values[:10])\n",
    "\n"
   ]
  },
  {
   "cell_type": "code",
   "execution_count": 7,
   "metadata": {},
   "outputs": [
    {
     "name": "stdout",
     "output_type": "stream",
     "text": [
      "[ 282 2338 3323 ... 2743 4485 3597]\n",
      "[283.           4.96296296]\n",
      "[283.           4.96296296]\n"
     ]
    }
   ],
   "source": [
    "#argsort\n",
    "arr_mean_values = np.array(mean_values)\n",
    "print(np.argsort(arr_mean_values[:,1])[::-1])\n",
    "print(arr_mean_values[282])\n",
    "print(arr_mean_values[np.argsort(arr_mean_values[:,1])[::-1][0]])"
   ]
  },
  {
   "cell_type": "code",
   "execution_count": 8,
   "metadata": {
    "scrolled": false
   },
   "outputs": [
    {
     "name": "stdout",
     "output_type": "stream",
     "text": [
      "[[1.00000000e+00 4.18867925e+00]\n",
      " [2.00000000e+00 3.71317829e+00]\n",
      " [3.00000000e+00 3.90196078e+00]\n",
      " ...\n",
      " [6.03800000e+03 3.80000000e+00]\n",
      " [6.03900000e+03 3.87804878e+00]\n",
      " [6.04000000e+03 3.57771261e+00]]\n",
      "4.962962962962963\n",
      "282\n",
      "[283.           4.96296296]\n",
      "[283.           4.96296296]\n"
     ]
    }
   ],
   "source": [
    "#최고 평점 구하기 \n",
    "max_values=np.array(mean_values)\n",
    "print(max_values)\n",
    "print(np.max(max_values[:,1]))\n",
    "print(np.argmax(max_values[:,1]))\n",
    "print(max_values[282])\n",
    "print(arr_mean_values[np.argmax(arr_mean_values[:,1])])"
   ]
  },
  {
   "cell_type": "code",
   "execution_count": 11,
   "metadata": {},
   "outputs": [],
   "source": [
    "# 결과값을 파일로 저장 \n",
    "np.savetxt(\"data/ml-1m/id_rations.csv\", arr_mean_values, delimiter=\",\", fmt=\"%.1f\") #%.1f 소수점뒤는 한자리만"
   ]
  },
  {
   "cell_type": "code",
   "execution_count": 45,
   "metadata": {},
   "outputs": [
    {
     "name": "stdout",
     "output_type": "stream",
     "text": [
      "                     Occupation        Born        Died  Age\n",
      "Rosaline Franklin       Chemist  1920-07-25  1958-04-16   37\n",
      "William Gosset     statistician  1876-06-13  1937-10-16   61\n"
     ]
    }
   ],
   "source": [
    "#책\n",
    "import pandas as pd\n",
    "scientists = pd.DataFrame(\n",
    "data={'Occupation':['Chemist','statistician'],\n",
    "      'Born':['1920-07-25', '1876-06-13'],\n",
    "      'Died':['1958-04-16','1937-10-16'],\n",
    "      'Age':[37, 61]},\n",
    "index=['Rosaline Franklin', 'William Gosset'],\n",
    "columns=['Occupation','Born','Died','Age'])\n",
    "print(scientists)"
   ]
  },
  {
   "cell_type": "code",
   "execution_count": 46,
   "metadata": {},
   "outputs": [
    {
     "name": "stdout",
     "output_type": "stream",
     "text": [
      "<class 'pandas.core.series.Series'>\n",
      "------------------\n",
      "Occupation    statistician\n",
      "Born            1876-06-13\n",
      "Died            1937-10-16\n",
      "Age                     61\n",
      "Name: William Gosset, dtype: object\n"
     ]
    }
   ],
   "source": [
    "#타입 검사\n",
    "first_row = scientists.loc['William Gosset']\n",
    "print(type(first_row))\n",
    "print(\"------------------\")\n",
    "print(first_row)"
   ]
  },
  {
   "cell_type": "code",
   "execution_count": 55,
   "metadata": {},
   "outputs": [
    {
     "name": "stdout",
     "output_type": "stream",
     "text": [
      "Index(['Occupation', 'Born', 'Died', 'Age'], dtype='object')\n",
      "['statistician' '1876-06-13' '1937-10-16' 61]\n",
      "Index(['Occupation', 'Born', 'Died', 'Age'], dtype='object')\n",
      "Occupation\n",
      "Occupation\n"
     ]
    }
   ],
   "source": [
    "#index 속성\n",
    "print(first_row.index)\n",
    "#values 속성\n",
    "print(first_row.values)\n",
    "#key 사용\n",
    "print(first_row.keys())\n",
    "print(first_row.index[0])\n",
    "print(first_row.keys()[0])"
   ]
  },
  {
   "cell_type": "code",
   "execution_count": 56,
   "metadata": {},
   "outputs": [
    {
     "name": "stdout",
     "output_type": "stream",
     "text": [
      "Rosaline Franklin    37\n",
      "William Gosset       61\n",
      "Name: Age, dtype: int64\n"
     ]
    }
   ],
   "source": [
    "ages=scientists['Age']\n",
    "print(ages)"
   ]
  },
  {
   "cell_type": "code",
   "execution_count": 57,
   "metadata": {},
   "outputs": [
    {
     "name": "stdout",
     "output_type": "stream",
     "text": [
      "49.0\n",
      "37\n",
      "61\n",
      "16.97056274847714\n"
     ]
    }
   ],
   "source": [
    "print(ages.mean())\n",
    "print(ages.min())\n",
    "print(ages.max())\n",
    "print(ages.std())"
   ]
  },
  {
   "cell_type": "code",
   "execution_count": 58,
   "metadata": {},
   "outputs": [
    {
     "name": "stdout",
     "output_type": "stream",
     "text": [
      "61\n"
     ]
    }
   ],
   "source": []
  },
  {
   "cell_type": "code",
   "execution_count": 61,
   "metadata": {},
   "outputs": [],
   "source": [
    "scientists = pd.read_csv('data/ml-1m/scientists.csv')"
   ]
  },
  {
   "cell_type": "code",
   "execution_count": 63,
   "metadata": {},
   "outputs": [
    {
     "name": "stdout",
     "output_type": "stream",
     "text": [
      "90\n",
      "59.125\n"
     ]
    }
   ],
   "source": [
    "ages=scientists['Age']\n",
    "print(ages.max())\n",
    "print(ages.mean())"
   ]
  },
  {
   "cell_type": "code",
   "execution_count": 66,
   "metadata": {},
   "outputs": [
    {
     "name": "stdout",
     "output_type": "stream",
     "text": [
      "1    61\n",
      "2    90\n",
      "3    66\n",
      "7    77\n",
      "Name: Age, dtype: int64\n",
      "------------------\n",
      "0    False\n",
      "1     True\n",
      "2     True\n",
      "3     True\n",
      "4    False\n",
      "5    False\n",
      "6    False\n",
      "7     True\n",
      "Name: Age, dtype: bool\n",
      "------------------\n",
      "0    37\n",
      "1    61\n",
      "4    56\n",
      "5    45\n",
      "7    77\n",
      "Name: Age, dtype: int64\n"
     ]
    }
   ],
   "source": [
    "#평균보다 나이가 많은 사람 \n",
    "print(ages[ages>ages.mean()])\n",
    "print(\"------------------\")\n",
    "#위에서 참 인것만 추출된 것을 알 수 있음\n",
    "print(ages>ages.mean())\n",
    "print(\"------------------\")\n",
    "#참인 인덱스만 추출\n",
    "manual_bool_values=[True, True,False,False,True,True,False,True]\n",
    "print(ages[manual_bool_values])"
   ]
  },
  {
   "cell_type": "code",
   "execution_count": 70,
   "metadata": {},
   "outputs": [
    {
     "name": "stdout",
     "output_type": "stream",
     "text": [
      "0     74\n",
      "1    122\n",
      "2    180\n",
      "3    132\n",
      "4    112\n",
      "5     90\n",
      "6     82\n",
      "7    154\n",
      "Name: Age, dtype: int64\n",
      "------------------\n",
      "0    1369\n",
      "1    3721\n",
      "2    8100\n",
      "3    4356\n",
      "4    3136\n",
      "5    2025\n",
      "6    1681\n",
      "7    5929\n",
      "Name: Age, dtype: int64\n",
      "------------------\n",
      "0    137\n",
      "1    161\n",
      "2    190\n",
      "3    166\n",
      "4    156\n",
      "5    145\n",
      "6    141\n",
      "7    177\n",
      "Name: Age, dtype: int64\n",
      "------------------\n",
      "0     74\n",
      "1    122\n",
      "2    180\n",
      "3    132\n",
      "4    112\n",
      "5     90\n",
      "6     82\n",
      "7    154\n",
      "Name: Age, dtype: int64\n"
     ]
    }
   ],
   "source": [
    "#브로드캐스팅\n",
    "print(ages+ages)\n",
    "print(\"------------------\")\n",
    "print(ages*ages)\n",
    "print(\"------------------\")\n",
    "print(ages+100)\n",
    "print(\"------------------\")\n",
    "print(ages*2)"
   ]
  },
  {
   "cell_type": "code",
   "execution_count": 75,
   "metadata": {},
   "outputs": [
    {
     "name": "stdout",
     "output_type": "stream",
     "text": [
      "0      1\n",
      "1    100\n",
      "dtype: int64\n",
      "------------------\n",
      "0     38.0\n",
      "1    161.0\n",
      "2      NaN\n",
      "3      NaN\n",
      "4      NaN\n",
      "5      NaN\n",
      "6      NaN\n",
      "7      NaN\n",
      "dtype: float64\n"
     ]
    }
   ],
   "source": [
    "print(pd.Series([1,100]))\n",
    "print(\"------------------\")\n",
    "# 데이터개수가 2개인 시리즈와 8개인 시리즈를 계산하면 2개만 계산되고 나머지는 NAN 처리 된다.\n",
    "print(ages+pd.Series([1,100]))"
   ]
  },
  {
   "cell_type": "code",
   "execution_count": 76,
   "metadata": {},
   "outputs": [
    {
     "name": "stdout",
     "output_type": "stream",
     "text": [
      "7    77\n",
      "6    41\n",
      "5    45\n",
      "4    56\n",
      "3    66\n",
      "2    90\n",
      "1    61\n",
      "0    37\n",
      "Name: Age, dtype: int64\n"
     ]
    }
   ],
   "source": [
    "rev_ages=ages.sort_index(ascending=False)\n",
    "print(rev_ages)"
   ]
  },
  {
   "cell_type": "code",
   "execution_count": 77,
   "metadata": {},
   "outputs": [
    {
     "name": "stdout",
     "output_type": "stream",
     "text": [
      "0     74\n",
      "1    122\n",
      "2    180\n",
      "3    132\n",
      "4    112\n",
      "5     90\n",
      "6     82\n",
      "7    154\n",
      "Name: Age, dtype: int64\n"
     ]
    }
   ],
   "source": [
    "print(ages*2)"
   ]
  },
  {
   "cell_type": "code",
   "execution_count": 78,
   "metadata": {},
   "outputs": [
    {
     "name": "stdout",
     "output_type": "stream",
     "text": [
      "0     74\n",
      "1    122\n",
      "2    180\n",
      "3    132\n",
      "4    112\n",
      "5     90\n",
      "6     82\n",
      "7    154\n",
      "Name: Age, dtype: int64\n"
     ]
    }
   ],
   "source": [
    "print(ages+rev_ages)"
   ]
  },
  {
   "cell_type": "code",
   "execution_count": null,
   "metadata": {},
   "outputs": [],
   "source": []
  }
 ],
 "metadata": {
  "kernelspec": {
   "display_name": "Python 3",
   "language": "python",
   "name": "python3"
  },
  "language_info": {
   "codemirror_mode": {
    "name": "ipython",
    "version": 3
   },
   "file_extension": ".py",
   "mimetype": "text/x-python",
   "name": "python",
   "nbconvert_exporter": "python",
   "pygments_lexer": "ipython3",
   "version": "3.7.9"
  }
 },
 "nbformat": 4,
 "nbformat_minor": 4
}
