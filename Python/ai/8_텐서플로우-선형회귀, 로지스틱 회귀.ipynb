{
 "cells": [
  {
   "cell_type": "code",
   "execution_count": 1,
   "metadata": {},
   "outputs": [],
   "source": [
    "import tensorflow as tf\n",
    "import numpy as np\n",
    "import pandas as pd\n",
    "import matplotlib.pylab as plt\n",
    "import sys"
   ]
  },
  {
   "cell_type": "markdown",
   "metadata": {},
   "source": [
    "### 단순 선형 회귀 모델\n",
    "- wx + b"
   ]
  },
  {
   "cell_type": "code",
   "execution_count": 4,
   "metadata": {},
   "outputs": [
    {
     "data": {
      "image/png": "[encoded data removed]",
      "text/plain": [
       "<Figure size 432x288 with 1 Axes>"
      ]
     },
     "metadata": {
      "needs_background": "light"
     },
     "output_type": "display_data"
    }
   ],
   "source": [
    "# 데이터 준비 \n",
    "x_train = [1, 2, 3]   # 입력 데이터\n",
    "y_train = [1, 2, 3]   # 출력 데이터\n",
    "\n",
    "W = tf.placeholder(tf.float32)\n",
    "\n",
    "# 가설 준비( Wx + b )\n",
    "\n",
    "hypoth= W * x_train \n",
    "\n",
    "# 비용 함수 \n",
    "cost = tf.reduce_mean(tf.square(hypoth - y_train))\n",
    "#--------------------------- 텐서플로우의 그래프 완성 --------------------------------#\n",
    "\n",
    "# 비용함수를 그래프로 그려보기 \n",
    "sess = tf.Session()\n",
    "\n",
    "cost_val = []\n",
    "for i in range(-30, 50):\n",
    "    result = sess.run(cost, feed_dict={W : i*0.1})\n",
    "    cost_val.append(result)\n",
    "    \n",
    "plt.plot(cost_val)\n",
    "sess.close()"
   ]
  },
  {
   "cell_type": "markdown",
   "metadata": {},
   "source": [
    "### 경사 하강 알고리즘을 이용한 가중치 학습\n",
    "\n",
    "- 알파는 보폭 "
   ]
  },
  {
   "cell_type": "code",
   "execution_count": 28,
   "metadata": {},
   "outputs": [
    {
     "name": "stdout",
     "output_type": "stream",
     "text": [
      "0 [0.36181965] 7.140972\n",
      "1 [0.66969144] 2.0314686\n",
      "2 [0.8338897] 0.57809836\n",
      "3 [0.9214621] 0.16469516\n",
      "4 [0.9681674] 0.04710495\n",
      "5 [0.99307686] 0.0136570595\n",
      "6 [1.006362] 0.004143022\n",
      "7 [1.0134473] 0.0014367932\n",
      "8 [1.0172261] 0.00066702743\n",
      "9 [1.0192416] 0.00044807149\n",
      "10 [1.0203165] 0.00038578748\n",
      "11 [1.0208898] 0.00036807082\n",
      "12 [1.0211955] 0.00036303277\n",
      "13 [1.0213585] 0.00036160054\n",
      "14 [1.0214455] 0.00036119207\n",
      "15 [1.0214919] 0.00036107606\n",
      "16 [1.0215167] 0.00036104195\n",
      "17 [1.0215298] 0.00036103255\n",
      "18 [1.0215368] 0.0003610322\n",
      "19 [1.0215405] 0.00036103025\n",
      "20 [1.0215425] 0.0003610289\n"
     ]
    }
   ],
   "source": [
    "# 데이터 준비 \n",
    "x_train = [1, 2, 3]\n",
    "y_train = [1, 2, 3]\n",
    "\n",
    "# 왜 Variable를 사용해야 하는 가\n",
    "W = tf.Variable(tf.random_normal([1]), dtype = tf.float32, name=\"Weight\") #name은 생략가능\n",
    "b = tf.Variable(tf.random_normal([1]), dtype = tf.float32, name=\"bias\")\n",
    "\n",
    "# 가설 준비\n",
    "hypot = W * x_train + b\n",
    "\n",
    "# 비용 함수 (MSE 평균 제곱 오차)\n",
    "cost = tf.reduce_mean(tf.square(hypot - y_train))\n",
    "\n",
    "# 최저 비용 학습을 위한 경사 하강 알고리즘(Gradient Descent)\n",
    "gradient = tf.reduce_mean((hypot - y_train) * x_train)\n",
    "learning_rate = 0.1\n",
    "descent = W - (learning_rate * gradient) #  learning_rate은 하이퍼 파라미터\n",
    "update = W.assign(descent) # 텐서 플로우에서는 W = descent 직접적으로 넣을 수 없고 assign으로 간접적으로 넣어줘야한다.\n",
    "\n",
    "########## Graph 작업 완료 ##################\n",
    "\n",
    "sess = tf.Session()\n",
    "sess.run(tf.global_variables_initializer())\n",
    "#얼만큼 학습시킬 것인지\n",
    "for step in range(21):\n",
    "    _, weight, c=sess.run([update, W, cost])\n",
    "    print(step, weight, c)\n",
    "    \n",
    "    \n",
    "sess.close()"
   ]
  },
  {
   "cell_type": "code",
   "execution_count": 31,
   "metadata": {},
   "outputs": [
    {
     "name": "stdout",
     "output_type": "stream",
     "text": [
      "0 [1.2053505] 9.294002\n",
      "1 [1.1044114] 0.124163195\n",
      "2 [1.1145053] 0.032464862\n",
      "3 [1.113496] 0.03154788\n",
      "4 [1.1135969] 0.031538703\n",
      "5 [1.1135868] 0.031538613\n",
      "6 [1.1135877] 0.031538628\n",
      "7 [1.1135876] 0.03153863\n",
      "8 [1.1135877] 0.0315386\n",
      "9 [1.1135876] 0.03153863\n",
      "10 [1.1135877] 0.0315386\n",
      "11 [1.1135876] 0.03153863\n",
      "12 [1.1135877] 0.0315386\n",
      "13 [1.1135876] 0.03153863\n",
      "14 [1.1135877] 0.0315386\n",
      "15 [1.1135876] 0.03153863\n",
      "16 [1.1135877] 0.0315386\n",
      "17 [1.1135876] 0.03153863\n",
      "18 [1.1135877] 0.0315386\n",
      "19 [1.1135876] 0.03153863\n",
      "20 [1.1135877] 0.0315386\n"
     ]
    }
   ],
   "source": [
    "# 데이터 준비 \n",
    "x_train = tf.placeholder(tf.float32, shape=[None])\n",
    "y_train = tf.placeholder(tf.float32, shape=[None])\n",
    "\n",
    "# 왜 Variable를 사용해야 하는 가\n",
    "W = tf.Variable(tf.random_normal([1]), dtype = tf.float32, name=\"Weight\") #name은 생략가능\n",
    "b = tf.Variable(tf.random_normal([1]), dtype = tf.float32, name=\"bias\")\n",
    "\n",
    "# 가설 준비\n",
    "hypot = W * x_train + b\n",
    "\n",
    "# 비용 함수 (MSE 평균 제곱 오차)\n",
    "cost = tf.reduce_mean(tf.square(hypot - y_train))\n",
    "\n",
    "# 최저 비용 학습을 위한 경사 하강 알고리즘(Gradient Descent)\n",
    "gradient = tf.reduce_mean((hypot - y_train) * x_train)\n",
    "learning_rate = 0.1\n",
    "descent = W - (learning_rate * gradient) #  learning_rate은 하이퍼 파라미터\n",
    "update = W.assign(descent) # 텐서 플로우에서는 W = descent 직접적으로 넣을 수 없고 assign으로 간접적으로 넣어줘야한다.\n",
    "\n",
    "########## Graph 작업 완료 ##################\n",
    "\n",
    "sess = tf.Session()\n",
    "sess.run(tf.global_variables_initializer(), )\n",
    "#얼만큼 학습시킬 것인지\n",
    "for step in range(21):\n",
    "    _, weight, c=sess.run([update, W, cost], feed_dict={x_train:[1,2,3,4,5],y_train:[1,2,3,4,5] })\n",
    "    print(step, weight, c)\n",
    "    \n",
    "    \n",
    "sess.close()"
   ]
  },
  {
   "cell_type": "code",
   "execution_count": 34,
   "metadata": {},
   "outputs": [
    {
     "name": "stdout",
     "output_type": "stream",
     "text": [
      "0 [0.7578393] 5.553563\n",
      "1 [0.87456673] 3.2999973\n",
      "2 [0.9634733] 1.9863005\n",
      "3 [1.0311426] 1.2203162\n",
      "4 [1.0826005] 0.7735149\n",
      "5 [1.1216836] 0.5127202\n",
      "6 [1.1513207] 0.36032358\n",
      "7 [1.1737475] 0.2710989\n",
      "8 [1.1906708] 0.2186906\n",
      "9 [1.2033936] 0.18773986\n",
      "10 [1.2129103] 0.16929626\n",
      "11 [1.2199804] 0.15814397\n",
      "12 [1.2251832] 0.15124334\n",
      "13 [1.2289615] 0.14682324\n",
      "14 [1.2316527] 0.14385118\n",
      "15 [1.2335149] 0.14172575\n",
      "16 [1.2347449] 0.1400964\n",
      "17 [1.2354928] 0.13875864\n",
      "18 [1.2358735] 0.13759348\n",
      "19 [1.2359743] 0.13653155\n",
      "20 [1.2358623] 0.1355323\n"
     ]
    }
   ],
   "source": [
    "################### 경사하강 알고리즘 객체 사용 ##############################\n",
    "# 데이터 준비 \n",
    "x_train = tf.placeholder(tf.float32, shape=[None])\n",
    "y_train = tf.placeholder(tf.float32, shape=[None])\n",
    "\n",
    "# 왜 Variable를 사용해야 하는 가\n",
    "W = tf.Variable(tf.random_normal([1]), dtype = tf.float32, name=\"Weight\") #name은 생략가능\n",
    "b = tf.Variable(tf.random_normal([1]), dtype = tf.float32, name=\"bias\")\n",
    "\n",
    "# 가설 준비\n",
    "hypot = W * x_train + b\n",
    "\n",
    "# 비용 함수 (MSE 평균 제곱 오차)\n",
    "cost = tf.reduce_mean(tf.square(hypot - y_train))\n",
    "\n",
    "\n",
    "# 최저 비용 학습을 위한 경사 하강 알고리즘(Gradient Descent)\n",
    "optimizer = tf.train.GradientDescentOptimizer(learning_rate=0.01) #준비만 한것 \n",
    "train = optimizer.minimize(cost) #최소값을 찾아가는 동작을 하는 함수 \n",
    "\n",
    "########## Graph 작업 완료 ##################\n",
    "\n",
    "sess = tf.Session()\n",
    "sess.run(tf.global_variables_initializer(), )\n",
    "#얼만큼 학습시킬 것인지\n",
    "for step in range(21):\n",
    "    _, weight, c=sess.run([train, W, cost], feed_dict={x_train:[1,2,3,4,5],y_train:[1,2,3,4,5] })\n",
    "    print(step, weight, c)\n",
    "    \n",
    "    \n",
    "sess.close()"
   ]
  },
  {
   "cell_type": "code",
   "execution_count": 69,
   "metadata": {
    "collapsed": true
   },
   "outputs": [
    {
     "name": "stdout",
     "output_type": "stream",
     "text": [
      "0 36.040474 [2.5084605] [0.6368911]\n",
      "10 0.27686614 [1.3052192] [0.33294734]\n",
      "20 0.10785936 [1.2175653] [0.3370266]\n",
      "30 0.10011415 [1.2051125] [0.360991]\n",
      "40 0.09355445 [1.1979324] [0.3855029]\n",
      "50 0.08742756 [1.1913178] [0.409289]\n",
      "60 0.0817018 [1.1849453] [0.43228915]\n",
      "70 0.07635105 [1.1787865] [0.45452377]\n",
      "80 0.07135074 [1.172833] [0.47601804]\n",
      "90 0.06667791 [1.1670777] [0.49679652]\n",
      "100 0.062311154 [1.1615139] [0.51688313]\n",
      "110 0.058230348 [1.1561357] [0.5363008]\n",
      "120 0.054416757 [1.1509364] [0.555072]\n",
      "130 0.050852984 [1.1459101] [0.573218]\n",
      "140 0.047522575 [1.1410513] [0.5907599]\n",
      "150 0.044410266 [1.1363543] [0.60771763]\n",
      "160 0.041501783 [1.1318138] [0.62411046]\n",
      "170 0.0387838 [1.1274244] [0.63995755]\n",
      "180 0.03624383 [1.1231812] [0.6552769]\n",
      "190 0.033870153 [1.1190792] [0.6700862]\n",
      "200 0.031651966 [1.115114] [0.6844023]\n",
      "210 0.029579083 [1.1112806] [0.69824165]\n",
      "220 0.027641904 [1.1075749] [0.71162015]\n",
      "230 0.025831604 [1.1039928] [0.7245531]\n",
      "240 0.024139898 [1.1005298] [0.7370554]\n",
      "250 0.022558939 [1.0971822] [0.74914134]\n",
      "260 0.021081537 [1.0939461] [0.7608249]\n",
      "270 0.019700892 [1.0908177] [0.7721194]\n",
      "280 0.018410685 [1.0877935] [0.7830377]\n",
      "290 0.017204953 [1.08487] [0.79359245]\n",
      "300 0.01607819 [1.0820436] [0.8037959]\n",
      "310 0.015025197 [1.0793116] [0.81365955]\n",
      "320 0.014041165 [1.0766705] [0.8231947]\n",
      "330 0.013121608 [1.0741175] [0.83241224]\n",
      "340 0.012262253 [1.0716493] [0.8413229]\n",
      "350 0.011459201 [1.0692635] [0.84993684]\n",
      "360 0.010708733 [1.066957] [0.8582638]\n",
      "370 0.010007402 [1.0647273] [0.86631364]\n",
      "380 0.009352017 [1.0625719] [0.8740953]\n",
      "390 0.008739515 [1.0604882] [0.881618]\n",
      "400 0.008167184 [1.0584741] [0.88889]\n",
      "410 0.007632294 [1.0565268] [0.89592]\n",
      "420 0.0071324646 [1.0546446] [0.9027158]\n",
      "430 0.0066653565 [1.052825] [0.9092853]\n",
      "440 0.006228831 [1.051066] [0.91563594]\n",
      "450 0.005820915 [1.0493653] [0.9217752]\n",
      "460 0.0054396666 [1.0477214] [0.9277101]\n",
      "470 0.005083435 [1.0461323] [0.93344736]\n",
      "480 0.0047505177 [1.0445962] [0.9389935]\n",
      "490 0.0044394094 [1.0431112] [0.944355]\n",
      "500 0.004148668 [1.0416757] [0.94953793]\n",
      "510 0.0038769625 [1.0402877] [0.95454824]\n",
      "520 0.0036230604 [1.0389462] [0.95939183]\n",
      "530 0.0033857846 [1.0376493] [0.964074]\n",
      "540 0.0031640516 [1.0363955] [0.96860033]\n",
      "550 0.0029568453 [1.0351837] [0.97297585]\n",
      "560 0.0027631796 [1.0340121] [0.9772057]\n",
      "570 0.0025822236 [1.0328795] [0.98129463]\n",
      "580 0.0024131122 [1.0317847] [0.9852475]\n",
      "590 0.002255079 [1.0307262] [0.9890687]\n",
      "600 0.0021073935 [1.0297029] [0.99276274]\n",
      "610 0.0019693852 [1.0287138] [0.9963337]\n",
      "620 0.0018404031 [1.0277576] [0.99978584]\n",
      "630 0.0017198597 [1.0268333] [1.003123]\n",
      "640 0.0016072305 [1.0259398] [1.006349]\n",
      "650 0.0015019809 [1.025076] [1.0094675]\n",
      "660 0.0014036086 [1.024241] [1.0124823]\n",
      "670 0.0013116866 [1.0234338] [1.0153966]\n",
      "680 0.0012257874 [1.0226535] [1.0182135]\n",
      "690 0.0011455171 [1.0218992] [1.0209371]\n",
      "700 0.0010704931 [1.0211699] [1.0235698]\n",
      "710 0.001000385 [1.020465] [1.026115]\n",
      "720 0.00093487184 [1.0197835] [1.0285752]\n",
      "730 0.00087364495 [1.0191247] [1.0309536]\n",
      "740 0.0008164272 [1.0184878] [1.0332528]\n",
      "750 0.00076296227 [1.0178721] [1.0354756]\n",
      "760 0.00071299577 [1.017277] [1.0376242]\n",
      "770 0.0006662962 [1.0167018] [1.0397013]\n",
      "780 0.0006226643 [1.0161456] [1.0417092]\n",
      "790 0.0005818821 [1.015608] [1.0436503]\n",
      "800 0.00054378196 [1.0150882] [1.0455266]\n",
      "810 0.0005081664 [1.0145859] [1.0473406]\n",
      "820 0.00047488528 [1.0141002] [1.049094]\n",
      "830 0.00044378513 [1.0136305] [1.0507891]\n",
      "840 0.00041472362 [1.0131767] [1.0524279]\n",
      "850 0.00038755912 [1.0127379] [1.0540122]\n",
      "860 0.00036218038 [1.0123137] [1.0555434]\n",
      "870 0.00033846198 [1.0119036] [1.0570238]\n",
      "880 0.00031629595 [1.0115074] [1.0584548]\n",
      "890 0.0002955854 [1.0111241] [1.059838]\n",
      "900 0.00027622705 [1.0107539] [1.0611753]\n",
      "910 0.00025813546 [1.0103956] [1.0624682]\n",
      "920 0.00024122822 [1.0100493] [1.0637181]\n",
      "930 0.00022543079 [1.0097148] [1.0649264]\n",
      "940 0.00021066896 [1.0093912] [1.0660944]\n",
      "950 0.00019687127 [1.0090785] [1.0672235]\n",
      "960 0.00018397809 [1.0087762] [1.068315]\n",
      "970 0.00017192024 [1.008484] [1.0693705]\n",
      "980 0.0001606617 [1.0082014] [1.0703906]\n",
      "990 0.00015014074 [1.0079283] [1.0713766]\n",
      "1000 0.00014030944 [1.0076642] [1.0723296]\n"
     ]
    }
   ],
   "source": [
    "# 데이터 준비 \n",
    "x_train = tf.placeholder(tf.float32, shape=[None])\n",
    "y_train = tf.placeholder(tf.float32, shape=[None])\n",
    "\n",
    "# W=1 b = 1.1 \n",
    "W = tf.Variable(tf.random_normal([1]), dtype = tf.float32, name=\"Weight\") #name은 생략가능\n",
    "b = tf.Variable(tf.random_normal([1]), dtype = tf.float32, name=\"bias\")\n",
    "\n",
    "\n",
    "# 가설 준비\n",
    "hypot = W * x_train + b\n",
    "\n",
    "# 비용 함수 (MSE 평균 제곱 오차)\n",
    "cost = tf.reduce_mean(tf.square(hypot - y_train))\n",
    "\n",
    "\n",
    "# 최저 비용 학습을 위한 경사 하강 알고리즘(Gradient Descent)\n",
    "optimizer = tf.train.GradientDescentOptimizer(learning_rate=0.01) #준비만 한것 \n",
    "train = optimizer.minimize(cost) #최소값을 찾아가는 동작을 하는 함수 \n",
    "\n",
    "########## Graph 작업 완료 ##################\n",
    "\n",
    "sess = tf.Session()\n",
    "sess.run(tf.global_variables_initializer(), )\n",
    "#얼만큼 학습시킬 것인지\n",
    "for step in range(1001):\n",
    "    _, c, weight, bias=sess.run([train, cost, W, b], feed_dict={x_train:[1, 2, 3, 4, 5],\n",
    "                                                       y_train:[2.1, 3.1, 4.1, 5.1, 6.1] })\n",
    "    if step % 10 == 0 :\n",
    "        print(step, c, weight, bias)\n",
    "    \n",
    "    "
   ]
  },
  {
   "cell_type": "code",
   "execution_count": 70,
   "metadata": {},
   "outputs": [
    {
     "name": "stdout",
     "output_type": "stream",
     "text": [
      "[28.279264]\n",
      "[3.5914903 4.8006873]\n"
     ]
    }
   ],
   "source": [
    "# Testing \n",
    "print(sess.run(hypot, feed_dict={x_train : [27]}))\n",
    "print(sess.run(hypot, feed_dict={x_train : [2.5, 3.7]}))\n",
    "sess.close()"
   ]
  },
  {
   "cell_type": "code",
   "execution_count": 74,
   "metadata": {
    "collapsed": true
   },
   "outputs": [
    {
     "name": "stdout",
     "output_type": "stream",
     "text": [
      "0 13457222000.0 [10369.999] [2080.487]\n",
      "10 11322957.0 [24878.383] [4869.14]\n",
      "20 10859793.0 [24971.387] [4752.0713]\n",
      "30 10694651.0 [24997.057] [4626.539]\n",
      "40 10541754.0 [25021.46] [4505.692]\n",
      "50 10400193.0 [25044.941] [4389.4106]\n",
      "60 10269131.0 [25067.537] [4277.524]\n",
      "70 10147785.0 [25089.277] [4169.866]\n",
      "80 10035441.0 [25110.197] [4066.2761]\n",
      "90 9931427.0 [25130.326] [3966.6006]\n",
      "100 9835121.0 [25149.693] [3870.691]\n",
      "110 9745955.0 [25168.33] [3778.4058]\n",
      "120 9663407.0 [25186.262] [3689.6086]\n",
      "130 9586978.0 [25203.516] [3604.1667]\n",
      "140 9516215.0 [25220.117] [3521.954]\n",
      "150 9450697.0 [25236.092] [3442.8477]\n",
      "160 9390041.0 [25251.463] [3366.7302]\n",
      "170 9333884.0 [25266.254] [3293.489]\n",
      "180 9281885.0 [25280.486] [3223.0164]\n",
      "190 9233742.0 [25294.18] [3155.206]\n",
      "200 9189173.0 [25307.355] [3089.958]\n",
      "210 9147906.0 [25320.033] [3027.1758]\n",
      "220 9109703.0 [25332.232] [2966.7666]\n",
      "230 9074331.0 [25343.97] [2908.64]\n",
      "240 9041578.0 [25355.266] [2852.7102]\n",
      "250 9011259.0 [25366.133] [2798.8943]\n",
      "260 8983183.0 [25376.588] [2747.1113]\n",
      "270 8957193.0 [25386.652] [2697.2852]\n",
      "280 8933126.0 [25396.334] [2649.3416]\n",
      "290 8910850.0 [25405.65] [2603.2097]\n",
      "300 8890219.0 [25414.613] [2558.821]\n",
      "310 8871121.0 [25423.238] [2516.11]\n",
      "320 8853440.0 [25431.537] [2475.0134]\n",
      "330 8837071.0 [25439.523] [2435.4695]\n",
      "340 8821908.0 [25447.207] [2397.4202]\n",
      "350 8807875.0 [25454.6] [2360.8086]\n",
      "360 8794884.0 [25461.715] [2325.5808]\n",
      "370 8782851.0 [25468.559] [2291.6836]\n",
      "380 8771718.0 [25475.145] [2259.0684]\n",
      "390 8761405.0 [25481.482] [2227.6855]\n",
      "400 8751856.0 [25487.582] [2197.4878]\n",
      "410 8743018.0 [25493.45] [2168.4314]\n",
      "420 8734838.0 [25499.094] [2140.4731]\n",
      "430 8727259.0 [25504.527] [2113.5715]\n",
      "440 8720247.0 [25509.754] [2087.6865]\n",
      "450 8713755.0 [25514.783] [2062.78]\n",
      "460 8707737.0 [25519.625] [2038.8145]\n",
      "470 8702167.0 [25524.281] [2015.7534]\n",
      "480 8697018.0 [25528.762] [1993.5646]\n",
      "490 8692243.0 [25533.074] [1972.2137]\n",
      "500 8687826.0 [25537.223] [1951.67]\n",
      "510 8683734.0 [25541.215] [1931.9023]\n",
      "520 8679946.0 [25545.055] [1912.882]\n",
      "530 8676437.0 [25548.752] [1894.58]\n",
      "540 8673197.0 [25552.307] [1876.9703]\n",
      "550 8670187.0 [25555.729] [1860.0259]\n",
      "560 8667405.0 [25559.021] [1843.7213]\n",
      "570 8664830.0 [25562.19] [1828.0331]\n",
      "580 8662442.0 [25565.238] [1812.9375]\n",
      "590 8660235.0 [25568.172] [1798.4122]\n",
      "600 8658186.0 [25570.994] [1784.4363]\n",
      "610 8656295.0 [25573.709] [1770.9879]\n",
      "620 8654542.0 [25576.322] [1758.0483]\n",
      "630 8652918.0 [25578.836] [1745.598]\n",
      "640 8651419.0 [25581.256] [1733.6173]\n",
      "650 8650018.0 [25583.584] [1722.0902]\n",
      "660 8648737.0 [25585.824] [1710.998]\n",
      "670 8647543.0 [25587.979] [1700.3251]\n",
      "680 8646437.0 [25590.053] [1690.0557]\n",
      "690 8645415.0 [25592.049] [1680.174]\n",
      "700 8644464.0 [25593.969] [1670.6659]\n",
      "710 8643595.0 [25595.816] [1661.5173]\n",
      "720 8642782.0 [25597.594] [1652.7146]\n",
      "730 8642027.0 [25599.305] [1644.2443]\n",
      "740 8641336.0 [25600.951] [1636.0938]\n",
      "750 8640690.0 [25602.533] [1628.2515]\n",
      "760 8640099.0 [25604.057] [1620.7058]\n",
      "770 8639546.0 [25605.523] [1613.4453]\n",
      "780 8639030.0 [25606.934] [1606.4594]\n",
      "790 8638559.0 [25608.291] [1599.7374]\n",
      "800 8638121.0 [25609.598] [1593.2694]\n",
      "810 8637716.0 [25610.855] [1587.0458]\n",
      "820 8637341.0 [25612.064] [1581.057]\n",
      "830 8636995.0 [25613.229] [1575.2941]\n",
      "840 8636675.0 [25614.346] [1569.7496]\n",
      "850 8636375.0 [25615.424] [1564.4152]\n",
      "860 8636097.0 [25616.46] [1559.282]\n",
      "870 8635844.0 [25617.459] [1554.3427]\n",
      "880 8635606.0 [25618.418] [1549.5895]\n",
      "890 8635390.0 [25619.342] [1545.0164]\n",
      "900 8635187.0 [25620.23] [1540.6163]\n",
      "910 8634998.0 [25621.084] [1536.3826]\n",
      "920 8634819.0 [25621.908] [1532.3086]\n",
      "930 8634661.0 [25622.7] [1528.3893]\n",
      "940 8634509.0 [25623.463] [1524.6174]\n",
      "950 8634371.0 [25624.193] [1520.9879]\n",
      "960 8634251.0 [25624.898] [1517.4961]\n",
      "970 8634127.0 [25625.578] [1514.1359]\n",
      "980 8634021.0 [25626.23] [1510.9025]\n",
      "990 8633918.0 [25626.86] [1507.791]\n",
      "1000 8633822.0 [25627.463] [1504.7977]\n"
     ]
    }
   ],
   "source": [
    "# 아래의 데이터를 가지고 하루 8시간을 일했을 때 매출액이 얼마인지 예측하시오\n",
    "x_data = [1, 2, 3, 4, 5, 6, 7] #시간\n",
    "y_data = [25000, 55000, 75000, 110000, 128000, 155000, 180000] #매출액\n",
    "\n",
    "x_train = tf.placeholder(tf.float32, shape=[None])\n",
    "y_train = tf.placeholder(tf.float32, shape=[None])\n",
    "\n",
    "# W=1 b = 1.1 \n",
    "W = tf.Variable(tf.random_normal([1]), dtype = tf.float32, name=\"Weight\") #name은 생략가능\n",
    "b = tf.Variable(tf.random_normal([1]), dtype = tf.float32, name=\"bias\")\n",
    "\n",
    "\n",
    "# 가설 준비\n",
    "hypot = W * x_train + b\n",
    "\n",
    "# 비용 함수 (MSE 평균 제곱 오차)\n",
    "cost = tf.reduce_mean(tf.square(hypot - y_train))\n",
    "\n",
    "\n",
    "# 최저 비용 학습을 위한 경사 하강 알고리즘(Gradient Descent)\n",
    "optimizer = tf.train.GradientDescentOptimizer(learning_rate=0.01) #준비만 한것 \n",
    "train = optimizer.minimize(cost) #최소값을 찾아가는 동작을 하는 함수 \n",
    "\n",
    "########## Graph 작업 완료 ##################\n",
    "\n",
    "sess = tf.Session()\n",
    "sess.run(tf.global_variables_initializer(), )\n",
    "#얼만큼 학습시킬 것인지\n",
    "for step in range(1001):\n",
    "    _, c, weight, bias=sess.run([train, cost, W, b], feed_dict={x_train:x_data,\n",
    "                                                       y_train: y_data })\n",
    "    if step % 10 == 0 :\n",
    "        print(step, c, weight, bias)\n",
    "    "
   ]
  },
  {
   "cell_type": "code",
   "execution_count": 75,
   "metadata": {},
   "outputs": [
    {
     "name": "stdout",
     "output_type": "stream",
     "text": [
      "[206524.5]\n"
     ]
    }
   ],
   "source": [
    "print(sess.run(hypot, feed_dict={x_train : [8]}))\n",
    "sess.close()"
   ]
  },
  {
   "cell_type": "code",
   "execution_count": null,
   "metadata": {},
   "outputs": [],
   "source": []
  },
  {
   "cell_type": "code",
   "execution_count": 111,
   "metadata": {},
   "outputs": [
    {
     "name": "stdout",
     "output_type": "stream",
     "text": [
      "0 13454944000.0 [10371.243] [2080.6772]\n",
      "10 11322831.0 [24878.398] [4869.086]\n",
      "20 10859731.0 [24971.396] [4752.0195]\n",
      "30 10694587.0 [24997.066] [4626.49]\n",
      "40 10541698.0 [25021.47] [4505.6455]\n",
      "50 10400144.0 [25044.951] [4389.367]\n",
      "60 10269077.0 [25067.545] [4277.482]\n",
      "70 10147742.0 [25089.285] [4169.8247]\n",
      "80 10035397.0 [25110.205] [4066.2358]\n",
      "90 9931382.0 [25130.334] [3966.5618]\n",
      "100 9835082.0 [25149.701] [3870.6538]\n",
      "110 9745926.0 [25168.336] [3778.3699]\n",
      "120 9663374.0 [25186.268] [3689.574]\n",
      "130 9586945.0 [25203.521] [3604.1333]\n",
      "140 9516187.0 [25220.125] [3521.9211]\n",
      "150 9450671.0 [25236.1] [3442.8154]\n",
      "160 9390015.0 [25251.469] [3366.6995]\n",
      "170 9333861.0 [25266.26] [3293.46]\n",
      "180 9281864.0 [25280.49] [3222.989]\n",
      "190 9233727.0 [25294.184] [3155.1804]\n",
      "200 9189159.0 [25307.361] [3089.9338]\n",
      "210 9147889.0 [25320.04] [3027.1528]\n",
      "220 9109689.0 [25332.236] [2966.7449]\n",
      "230 9074316.0 [25343.977] [2908.6191]\n",
      "240 9041570.0 [25355.27] [2852.69]\n",
      "250 9011243.0 [25366.137] [2798.8743]\n",
      "260 8983177.0 [25376.592] [2747.0925]\n",
      "270 8957186.0 [25386.654] [2697.2686]\n",
      "280 8933114.0 [25396.338] [2649.326]\n",
      "290 8910844.0 [25405.652] [2603.1943]\n",
      "300 8890215.0 [25414.617] [2558.8066]\n",
      "310 8871117.0 [25423.242] [2516.096]\n",
      "320 8853429.0 [25431.541] [2474.999]\n",
      "330 8837062.0 [25439.525] [2435.4558]\n",
      "340 8821904.0 [25447.209] [2397.407]\n",
      "350 8807874.0 [25454.604] [2360.7961]\n",
      "360 8794881.0 [25461.717] [2325.5684]\n",
      "370 8782847.0 [25468.562] [2291.6719]\n",
      "380 8771714.0 [25475.146] [2259.0564]\n",
      "390 8761406.0 [25481.486] [2227.6736]\n",
      "400 8751854.0 [25487.584] [2197.4768]\n",
      "410 8743018.0 [25493.451] [2168.421]\n",
      "420 8734835.0 [25499.096] [2140.4634]\n",
      "430 8727254.0 [25504.53] [2113.5623]\n",
      "440 8720239.0 [25509.756] [2087.6777]\n",
      "450 8713748.0 [25514.785] [2062.7717]\n",
      "460 8707734.0 [25519.627] [2038.8063]\n",
      "470 8702163.0 [25524.281] [2015.7456]\n",
      "480 8697013.0 [25528.764] [1993.5571]\n",
      "490 8692243.0 [25533.074] [1972.2072]\n",
      "500 8687828.0 [25537.223] [1951.6636]\n",
      "510 8683733.0 [25541.215] [1931.8969]\n",
      "520 8679945.0 [25545.057] [1912.8767]\n",
      "530 8676435.0 [25548.752] [1894.5754]\n",
      "540 8673193.0 [25552.309] [1876.9653]\n",
      "550 8670187.0 [25555.73] [1860.0209]\n",
      "560 8667395.0 [25559.023] [1843.7164]\n",
      "570 8664827.0 [25562.19] [1828.0283]\n",
      "580 8662442.0 [25565.238] [1812.9335]\n",
      "590 8660235.0 [25568.172] [1798.4092]\n",
      "600 8658185.0 [25570.994] [1784.4331]\n",
      "610 8656294.0 [25573.709] [1770.9852]\n",
      "620 8654542.0 [25576.322] [1758.0459]\n",
      "630 8652910.0 [25578.838] [1745.5957]\n",
      "640 8651421.0 [25581.256] [1733.6152]\n",
      "650 8650018.0 [25583.584] [1722.0884]\n",
      "660 8648738.0 [25585.824] [1710.9963]\n",
      "670 8647546.0 [25587.979] [1700.3235]\n",
      "680 8646439.0 [25590.053] [1690.0542]\n",
      "690 8645416.0 [25592.049] [1680.173]\n",
      "700 8644467.0 [25593.969] [1670.6652]\n",
      "710 8643598.0 [25595.816] [1661.5168]\n",
      "720 8642782.0 [25597.594] [1652.7141]\n",
      "730 8642027.0 [25599.305] [1644.2439]\n",
      "740 8641338.0 [25600.951] [1636.0934]\n",
      "750 8640690.0 [25602.533] [1628.2511]\n",
      "760 8640099.0 [25604.057] [1620.7056]\n",
      "770 8639546.0 [25605.523] [1613.4451]\n",
      "780 8639030.0 [25606.934] [1606.4594]\n",
      "790 8638559.0 [25608.291] [1599.7374]\n",
      "800 8638121.0 [25609.598] [1593.2694]\n",
      "810 8637716.0 [25610.855] [1587.0458]\n",
      "820 8637341.0 [25612.064] [1581.057]\n",
      "830 8636995.0 [25613.229] [1575.2941]\n",
      "840 8636675.0 [25614.346] [1569.7496]\n",
      "850 8636375.0 [25615.424] [1564.4152]\n",
      "860 8636097.0 [25616.46] [1559.282]\n",
      "870 8635844.0 [25617.459] [1554.3427]\n",
      "880 8635606.0 [25618.418] [1549.5895]\n",
      "890 8635390.0 [25619.342] [1545.0164]\n",
      "900 8635187.0 [25620.23] [1540.6163]\n",
      "910 8634998.0 [25621.084] [1536.3826]\n",
      "920 8634819.0 [25621.908] [1532.3086]\n",
      "930 8634661.0 [25622.7] [1528.3893]\n",
      "940 8634509.0 [25623.463] [1524.6174]\n",
      "950 8634371.0 [25624.193] [1520.9879]\n",
      "960 8634251.0 [25624.898] [1517.4961]\n",
      "970 8634127.0 [25625.578] [1514.1359]\n",
      "980 8634021.0 [25626.23] [1510.9025]\n",
      "990 8633918.0 [25626.86] [1507.791]\n",
      "1000 8633822.0 [25627.463] [1504.7977]\n"
     ]
    }
   ],
   "source": [
    "# 아래의 데이터를 가지고 하루 8시간을 일했을 때 매출액이 얼마인지 예측하시오\n",
    "x_data = [1, 2, 3, 4, 5, 6, 7] #시간\n",
    "y_data = [25000, 55000, 75000, 110000, 128000, 155000, 180000] #매출액\n",
    "\n",
    "X = tf.placeholder(tf.float32, shape=[None])\n",
    "y = tf.placeholder(tf.float32, shape=[None])\n",
    "\n",
    "# W=1 b = 1.1 \n",
    "W = tf.Variable(tf.random_normal([1]), dtype = tf.float32, name=\"Weight\") #name은 생략가능\n",
    "b = tf.Variable(tf.random_normal([1]), dtype = tf.float32, name=\"bias\")\n",
    "\n",
    "\n",
    "# 가설 준비\n",
    "hypot = W * X + b\n",
    "\n",
    "# 비용 함수 (MSE 평균 제곱 오차)\n",
    "cost = tf.reduce_mean(tf.square(hypot - y))\n",
    "\n",
    "\n",
    "# 최저 비용 학습을 위한 경사 하강 알고리즘(Gradient Descent)\n",
    "optimizer = tf.train.GradientDescentOptimizer(learning_rate=0.01) #준비만 한것 \n",
    "train = optimizer.minimize(cost) #최소값을 찾아가는 동작을 하는 함수 \n",
    "\n",
    "########## Graph 작업 완료 ##################\n",
    "\n",
    "sess = tf.Session()\n",
    "sess.run(tf.global_variables_initializer(), )\n",
    "#얼만큼 학습시킬 것인지\n",
    "for step in range(1001):\n",
    "    _, c, weight, bias=sess.run([train, cost, W, b], feed_dict={X:x_data,\n",
    "                                                       y: y_data })\n",
    "    if step % 10 == 0 :\n",
    "        print(step, c, weight, bias)\n",
    "    "
   ]
  },
  {
   "cell_type": "code",
   "execution_count": 112,
   "metadata": {},
   "outputs": [
    {
     "name": "stdout",
     "output_type": "stream",
     "text": [
      "[206524.5]\n"
     ]
    }
   ],
   "source": [
    "print(sess.run(hypot, feed_dict={X : [8]}))\n",
    "sess.close()"
   ]
  },
  {
   "cell_type": "markdown",
   "metadata": {},
   "source": [
    "### 다중 선형 회귀 모델 "
   ]
  },
  {
   "cell_type": "code",
   "execution_count": 113,
   "metadata": {},
   "outputs": [],
   "source": [
    "x1_data = [73., 93., 89., 96., 73.]\n",
    "x2_data = [80., 88., 91., 98., 66.]\n",
    "x3_data = [75., 93., 90., 100., 70.]\n",
    "y_data = [152., 185., 180., 196., 142.]"
   ]
  },
  {
   "cell_type": "markdown",
   "metadata": {},
   "source": [
    "#### 1) 단순하게 처리하는 경우"
   ]
  },
  {
   "cell_type": "code",
   "execution_count": 117,
   "metadata": {},
   "outputs": [],
   "source": [
    "X1 = tf.placeholder(tf.float32, shape=[None])\n",
    "X2 = tf.placeholder(tf.float32, shape=[None])\n",
    "X3 = tf.placeholder(tf.float32, shape=[None])\n",
    "\n",
    "y = tf.placeholder(tf.float32, shape=[None])\n",
    "\n",
    "W1 = tf.Variable(tf.random_normal([1]), name='weight1')\n",
    "W2 = tf.Variable(tf.random_normal([1]), name='weight2')\n",
    "W3 = tf.Variable(tf.random_normal([1]), name='weight3')\n",
    "b = tf.Variable(tf.random_normal([1]), name='bias')\n",
    "\n",
    "# 가설 설정 \n",
    "hypot= W1*X1 + W2*X2 + W3*X3 + b\n",
    "\n",
    "# 비용 함수 \n",
    "cost = tf.reduce_mean(tf.square(hypot - y))\n",
    "\n",
    "# 최소 비용 계산\n",
    "train = tf.train.GradientDescentOptimizer(learning_rate=1e-5).minimize(cost)\n",
    "\n",
    "########## 그래프 완성 #############\n"
   ]
  },
  {
   "cell_type": "code",
   "execution_count": 118,
   "metadata": {},
   "outputs": [
    {
     "name": "stdout",
     "output_type": "stream",
     "text": [
      "0 90845.39 [-116.547485 -136.7447   -136.85687  -145.46507  -106.17913 ]\n",
      "500 4.2158737 [150.7729  184.76808 179.82782 199.3608  139.13727]\n",
      "1000 4.0327682 [150.67862 184.8373  179.80478 199.29866 139.2665 ]\n",
      "1500 3.874292 [150.59868 184.89664 179.78607 199.2402  139.3823 ]\n",
      "2000 3.735065 [150.53122 184.94737 179.77112 199.18501 139.48633]\n",
      "2500 3.6109009 [150.47467 184.99059 179.75945 199.13269 139.58005]\n",
      "3000 3.4987674 [150.42755 185.02727 179.75058 199.08298 139.66472]\n",
      "3500 3.3961148 [150.3887  185.05824 179.7442  199.03555 139.74149]\n",
      "4000 3.3012364 [150.357   185.08423 179.73991 198.99022 139.81126]\n",
      "4500 3.2125955 [150.33153 185.10591 179.73749 198.94673 139.87495]\n",
      "5000 3.1290398 [150.31151 185.12383 179.73666 198.90486 139.93329]\n",
      "5500 3.0498576 [150.29617 185.13846 179.73721 198.8645  139.98688]\n",
      "6000 2.9743226 [150.28493 185.1502  179.73894 198.82549 140.03632]\n",
      "6500 2.9019592 [150.27722 185.15952 179.7417  198.7877  140.08209]\n",
      "7000 2.8323567 [150.27258 185.1667  179.74535 198.75105 140.12466]\n",
      "7500 2.7651854 [150.2706  185.17197 179.74976 198.7154  140.16437]\n",
      "8000 2.7002196 [150.27092 185.17566 179.75479 198.68068 140.20157]\n",
      "8500 2.6372995 [150.27318 185.17792 179.76035 198.64682 140.23653]\n"
     ]
    }
   ],
   "source": [
    "with tf.Session() as sess:\n",
    "    sess.run(tf.global_variables_initializer())\n",
    "    \n",
    "    for step in range(9000):\n",
    "        _,  c, h = sess.run([train, cost, hypot], feed_dict={X1:x1_data, X2:x2_data, X3:x3_data, y: y_data})\n",
    "        if step % 500 == 0 :\n",
    "            print(step, c, h)    "
   ]
  },
  {
   "cell_type": "markdown",
   "metadata": {},
   "source": [
    "#### 2) Matrix로 처리하는 경우"
   ]
  },
  {
   "cell_type": "code",
   "execution_count": 122,
   "metadata": {},
   "outputs": [],
   "source": [
    "x1_data = [73., 93., 89., 96., 73.]\n",
    "x2_data = [80., 88., 91., 98., 66.]\n",
    "x3_data = [75., 93., 90., 100., 70.]\n",
    "y_data = [[152.], \n",
    "          [185.], \n",
    "          [180.], \n",
    "          [196.], \n",
    "          [142.]]\n",
    "\n",
    "x_data = [[73., 80., 75.], \n",
    "          [93., 88., 93.],\n",
    "          [89., 91., 90.], \n",
    "          [96., 98., 100.], \n",
    "          [73., 66., 70.]]"
   ]
  },
  {
   "cell_type": "code",
   "execution_count": 123,
   "metadata": {},
   "outputs": [],
   "source": [
    "X = tf.placeholder(tf.float32, shape=[None, 3])  #shape=[행, 렬] None=데이터의갯수와 상관없이 입력받고싶을때\n",
    "y = tf.placeholder(tf.float32, shape=[5, 1])\n",
    " \n",
    "W = tf.Variable(tf.random_normal([3, 1]), name='weight1') #입력된 갯수와 출력된 갯수와 같게\n",
    "b = tf.Variable(tf.random_normal([1]), name='bias') #최종 출력된 갯수와 같게\n",
    "\n",
    "# 가설 설정 \n",
    "hypot= tf.matmul(X, W) + b  # 행렬곱\n",
    "\n",
    "# 비용 함수 \n",
    "cost = tf.reduce_mean(tf.square(hypot - y))\n",
    "\n",
    "# 최소 비용 계산\n",
    "train = tf.train.GradientDescentOptimizer(learning_rate=1e-5).minimize(cost)\n",
    "\n",
    "########## 그래프 완성 #############\n"
   ]
  },
  {
   "cell_type": "code",
   "execution_count": 125,
   "metadata": {},
   "outputs": [
    {
     "name": "stdout",
     "output_type": "stream",
     "text": [
      "0 2013.2571\n",
      "500 6.685197\n",
      "1000 5.413623\n",
      "1500 4.4372296\n",
      "2000 3.686153\n",
      "2500 3.106981\n",
      "3000 2.6591122\n",
      "3500 2.311545\n",
      "4000 2.0405834\n",
      "4500 1.8281453\n",
      "5000 1.6605635\n",
      "5500 1.5272375\n",
      "6000 1.4202309\n",
      "6500 1.3334024\n",
      "7000 1.2620894\n",
      "7500 1.2027165\n",
      "8000 1.152593\n",
      "8500 1.1096164\n",
      "[[152.05235]\n",
      " [184.45467]\n",
      " [181.04834]\n",
      " [194.54178]\n",
      " [143.35497]]\n"
     ]
    }
   ],
   "source": [
    "with tf.Session() as sess:\n",
    "    sess.run(tf.global_variables_initializer())\n",
    "    \n",
    "    for step in range(9000):\n",
    "        _,  c, h = sess.run([train, cost, hypot], feed_dict={X:x_data, y:y_data})\n",
    "        \n",
    "        if step % 500 == 0 :\n",
    "            print(step, c)\n",
    "    print(h)"
   ]
  },
  {
   "cell_type": "markdown",
   "metadata": {},
   "source": [
    "### DASK\n",
    "\n",
    "+ 가상의 데이터 프레임 \n",
    "+ 병렬 처리용 작업 스케줄러를 샤용 (동시에 여러개를 같이 처리)"
   ]
  },
  {
   "cell_type": "code",
   "execution_count": 127,
   "metadata": {},
   "outputs": [
    {
     "name": "stdout",
     "output_type": "stream",
     "text": [
      "Writing data/sample1.csv\n"
     ]
    }
   ],
   "source": [
    "%%writefile \"data/sample1.csv\"\n",
    "c1, c2, c3\n",
    "1, 1.11, one\n",
    "2, 2.22, two\n",
    "3, 3.33, three"
   ]
  },
  {
   "cell_type": "code",
   "execution_count": 130,
   "metadata": {},
   "outputs": [
    {
     "data": {
      "text/plain": [
       "2.22"
      ]
     },
     "execution_count": 130,
     "metadata": {},
     "output_type": "execute_result"
    }
   ],
   "source": [
    "# 실제로 데이터를 메모리에 올려둔 것 \n",
    "df1 = pd.read_csv(\"data/sample1.csv\")\n",
    "df1\n",
    "# 실제 메모리에 올라와 있기때문에 평균등을 계산할 수 있다.\n",
    "df1[\" c2\"].mean()"
   ]
  },
  {
   "cell_type": "code",
   "execution_count": 2,
   "metadata": {},
   "outputs": [],
   "source": [
    "import dask.dataframe as dd"
   ]
  },
  {
   "cell_type": "code",
   "execution_count": 175,
   "metadata": {},
   "outputs": [
    {
     "data": {
      "text/html": [
       "<div><strong>Dask DataFrame Structure:</strong></div>\n",
       "<div>\n",
       "<style scoped>\n",
       "    .dataframe tbody tr th:only-of-type {\n",
       "        vertical-align: middle;\n",
       "    }\n",
       "\n",
       "    .dataframe tbody tr th {\n",
       "        vertical-align: top;\n",
       "    }\n",
       "\n",
       "    .dataframe thead th {\n",
       "        text-align: right;\n",
       "    }\n",
       "</style>\n",
       "<table border=\"1\" class=\"dataframe\">\n",
       "  <thead>\n",
       "    <tr style=\"text-align: right;\">\n",
       "      <th></th>\n",
       "      <th>c1</th>\n",
       "      <th>c2</th>\n",
       "      <th>c3</th>\n",
       "    </tr>\n",
       "    <tr>\n",
       "      <th>npartitions=1</th>\n",
       "      <th></th>\n",
       "      <th></th>\n",
       "      <th></th>\n",
       "    </tr>\n",
       "  </thead>\n",
       "  <tbody>\n",
       "    <tr>\n",
       "      <th></th>\n",
       "      <td>int64</td>\n",
       "      <td>float64</td>\n",
       "      <td>object</td>\n",
       "    </tr>\n",
       "    <tr>\n",
       "      <th></th>\n",
       "      <td>...</td>\n",
       "      <td>...</td>\n",
       "      <td>...</td>\n",
       "    </tr>\n",
       "  </tbody>\n",
       "</table>\n",
       "</div>\n",
       "<div>Dask Name: read-csv, 1 tasks</div>"
      ],
      "text/plain": [
       "Dask DataFrame Structure:\n",
       "                  c1       c2      c3\n",
       "npartitions=1                        \n",
       "               int64  float64  object\n",
       "                 ...      ...     ...\n",
       "Dask Name: read-csv, 1 tasks"
      ]
     },
     "execution_count": 175,
     "metadata": {},
     "output_type": "execute_result"
    }
   ],
   "source": [
    "df2 = dd.read_csv(\"data/sample1.csv\")\n",
    "df2\n",
    "# 데이터가 실제 불러온게 아니라 데이터가 보여지지 않음/ 데이터를 불러올 준비만 한것(메타정보만 가져옴)\n"
   ]
  },
  {
   "cell_type": "code",
   "execution_count": 144,
   "metadata": {},
   "outputs": [
    {
     "name": "stderr",
     "output_type": "stream",
     "text": [
      "C:\\Users\\Master\\anaconda3\\envs\\tf1\\lib\\site-packages\\dask\\dataframe\\core.py:6194: UserWarning: Insufficient elements for `head`. 5 elements requested, only 3 elements available. Try passing larger `npartitions` to `head`.\n",
      "  warnings.warn(msg.format(n, len(r)))\n"
     ]
    },
    {
     "data": {
      "text/html": [
       "<div>\n",
       "<style scoped>\n",
       "    .dataframe tbody tr th:only-of-type {\n",
       "        vertical-align: middle;\n",
       "    }\n",
       "\n",
       "    .dataframe tbody tr th {\n",
       "        vertical-align: top;\n",
       "    }\n",
       "\n",
       "    .dataframe thead th {\n",
       "        text-align: right;\n",
       "    }\n",
       "</style>\n",
       "<table border=\"1\" class=\"dataframe\">\n",
       "  <thead>\n",
       "    <tr style=\"text-align: right;\">\n",
       "      <th></th>\n",
       "      <th>c1</th>\n",
       "      <th>c2</th>\n",
       "      <th>c3</th>\n",
       "    </tr>\n",
       "  </thead>\n",
       "  <tbody>\n",
       "    <tr>\n",
       "      <th>0</th>\n",
       "      <td>1</td>\n",
       "      <td>1.11</td>\n",
       "      <td>one</td>\n",
       "    </tr>\n",
       "    <tr>\n",
       "      <th>1</th>\n",
       "      <td>2</td>\n",
       "      <td>2.22</td>\n",
       "      <td>two</td>\n",
       "    </tr>\n",
       "    <tr>\n",
       "      <th>2</th>\n",
       "      <td>3</td>\n",
       "      <td>3.33</td>\n",
       "      <td>three</td>\n",
       "    </tr>\n",
       "  </tbody>\n",
       "</table>\n",
       "</div>"
      ],
      "text/plain": [
       "   c1    c2      c3\n",
       "0   1  1.11     one\n",
       "1   2  2.22     two\n",
       "2   3  3.33   three"
      ]
     },
     "execution_count": 144,
     "metadata": {},
     "output_type": "execute_result"
    }
   ],
   "source": [
    "df2.head() #필요한 만큼만 조금씩 조금씩 가져온다."
   ]
  },
  {
   "cell_type": "code",
   "execution_count": 146,
   "metadata": {},
   "outputs": [
    {
     "data": {
      "text/plain": [
       "2.22"
      ]
     },
     "execution_count": 146,
     "metadata": {},
     "output_type": "execute_result"
    }
   ],
   "source": [
    "# compute()를 사용하지 않으면 형식만 보여주고 바로 처리되지 않음\n",
    "df2[\" c2\"].mean().compute()"
   ]
  },
  {
   "cell_type": "code",
   "execution_count": 147,
   "metadata": {},
   "outputs": [
    {
     "data": {
      "text/html": [
       "<div><strong>Dask DataFrame Structure:</strong></div>\n",
       "<div>\n",
       "<style scoped>\n",
       "    .dataframe tbody tr th:only-of-type {\n",
       "        vertical-align: middle;\n",
       "    }\n",
       "\n",
       "    .dataframe tbody tr th {\n",
       "        vertical-align: top;\n",
       "    }\n",
       "\n",
       "    .dataframe thead th {\n",
       "        text-align: right;\n",
       "    }\n",
       "</style>\n",
       "<table border=\"1\" class=\"dataframe\">\n",
       "  <thead>\n",
       "    <tr style=\"text-align: right;\">\n",
       "      <th></th>\n",
       "      <th>ID</th>\n",
       "      <th>Case Number</th>\n",
       "      <th>Date</th>\n",
       "      <th>Block</th>\n",
       "      <th>IUCR</th>\n",
       "      <th>Primary Type</th>\n",
       "      <th>Description</th>\n",
       "      <th>Location Description</th>\n",
       "      <th>Arrest</th>\n",
       "      <th>Domestic</th>\n",
       "      <th>Beat</th>\n",
       "      <th>District</th>\n",
       "      <th>Ward</th>\n",
       "      <th>Community Area</th>\n",
       "      <th>FBI Code</th>\n",
       "      <th>X Coordinate</th>\n",
       "      <th>Y Coordinate</th>\n",
       "      <th>Year</th>\n",
       "      <th>Updated On</th>\n",
       "      <th>Latitude</th>\n",
       "      <th>Longitude</th>\n",
       "      <th>Location</th>\n",
       "      <th>Historical Wards 2003-2015</th>\n",
       "      <th>Zip Codes</th>\n",
       "      <th>Community Areas</th>\n",
       "      <th>Census Tracts</th>\n",
       "      <th>Wards</th>\n",
       "      <th>Boundaries - ZIP Codes</th>\n",
       "      <th>Police Districts</th>\n",
       "      <th>Police Beats</th>\n",
       "    </tr>\n",
       "    <tr>\n",
       "      <th>npartitions=29</th>\n",
       "      <th></th>\n",
       "      <th></th>\n",
       "      <th></th>\n",
       "      <th></th>\n",
       "      <th></th>\n",
       "      <th></th>\n",
       "      <th></th>\n",
       "      <th></th>\n",
       "      <th></th>\n",
       "      <th></th>\n",
       "      <th></th>\n",
       "      <th></th>\n",
       "      <th></th>\n",
       "      <th></th>\n",
       "      <th></th>\n",
       "      <th></th>\n",
       "      <th></th>\n",
       "      <th></th>\n",
       "      <th></th>\n",
       "      <th></th>\n",
       "      <th></th>\n",
       "      <th></th>\n",
       "      <th></th>\n",
       "      <th></th>\n",
       "      <th></th>\n",
       "      <th></th>\n",
       "      <th></th>\n",
       "      <th></th>\n",
       "      <th></th>\n",
       "      <th></th>\n",
       "    </tr>\n",
       "  </thead>\n",
       "  <tbody>\n",
       "    <tr>\n",
       "      <th></th>\n",
       "      <td>object</td>\n",
       "      <td>object</td>\n",
       "      <td>object</td>\n",
       "      <td>object</td>\n",
       "      <td>object</td>\n",
       "      <td>object</td>\n",
       "      <td>object</td>\n",
       "      <td>object</td>\n",
       "      <td>object</td>\n",
       "      <td>object</td>\n",
       "      <td>object</td>\n",
       "      <td>object</td>\n",
       "      <td>object</td>\n",
       "      <td>object</td>\n",
       "      <td>object</td>\n",
       "      <td>object</td>\n",
       "      <td>object</td>\n",
       "      <td>object</td>\n",
       "      <td>object</td>\n",
       "      <td>object</td>\n",
       "      <td>object</td>\n",
       "      <td>object</td>\n",
       "      <td>object</td>\n",
       "      <td>object</td>\n",
       "      <td>object</td>\n",
       "      <td>object</td>\n",
       "      <td>object</td>\n",
       "      <td>object</td>\n",
       "      <td>object</td>\n",
       "      <td>object</td>\n",
       "    </tr>\n",
       "    <tr>\n",
       "      <th></th>\n",
       "      <td>...</td>\n",
       "      <td>...</td>\n",
       "      <td>...</td>\n",
       "      <td>...</td>\n",
       "      <td>...</td>\n",
       "      <td>...</td>\n",
       "      <td>...</td>\n",
       "      <td>...</td>\n",
       "      <td>...</td>\n",
       "      <td>...</td>\n",
       "      <td>...</td>\n",
       "      <td>...</td>\n",
       "      <td>...</td>\n",
       "      <td>...</td>\n",
       "      <td>...</td>\n",
       "      <td>...</td>\n",
       "      <td>...</td>\n",
       "      <td>...</td>\n",
       "      <td>...</td>\n",
       "      <td>...</td>\n",
       "      <td>...</td>\n",
       "      <td>...</td>\n",
       "      <td>...</td>\n",
       "      <td>...</td>\n",
       "      <td>...</td>\n",
       "      <td>...</td>\n",
       "      <td>...</td>\n",
       "      <td>...</td>\n",
       "      <td>...</td>\n",
       "      <td>...</td>\n",
       "    </tr>\n",
       "    <tr>\n",
       "      <th>...</th>\n",
       "      <td>...</td>\n",
       "      <td>...</td>\n",
       "      <td>...</td>\n",
       "      <td>...</td>\n",
       "      <td>...</td>\n",
       "      <td>...</td>\n",
       "      <td>...</td>\n",
       "      <td>...</td>\n",
       "      <td>...</td>\n",
       "      <td>...</td>\n",
       "      <td>...</td>\n",
       "      <td>...</td>\n",
       "      <td>...</td>\n",
       "      <td>...</td>\n",
       "      <td>...</td>\n",
       "      <td>...</td>\n",
       "      <td>...</td>\n",
       "      <td>...</td>\n",
       "      <td>...</td>\n",
       "      <td>...</td>\n",
       "      <td>...</td>\n",
       "      <td>...</td>\n",
       "      <td>...</td>\n",
       "      <td>...</td>\n",
       "      <td>...</td>\n",
       "      <td>...</td>\n",
       "      <td>...</td>\n",
       "      <td>...</td>\n",
       "      <td>...</td>\n",
       "      <td>...</td>\n",
       "    </tr>\n",
       "    <tr>\n",
       "      <th></th>\n",
       "      <td>...</td>\n",
       "      <td>...</td>\n",
       "      <td>...</td>\n",
       "      <td>...</td>\n",
       "      <td>...</td>\n",
       "      <td>...</td>\n",
       "      <td>...</td>\n",
       "      <td>...</td>\n",
       "      <td>...</td>\n",
       "      <td>...</td>\n",
       "      <td>...</td>\n",
       "      <td>...</td>\n",
       "      <td>...</td>\n",
       "      <td>...</td>\n",
       "      <td>...</td>\n",
       "      <td>...</td>\n",
       "      <td>...</td>\n",
       "      <td>...</td>\n",
       "      <td>...</td>\n",
       "      <td>...</td>\n",
       "      <td>...</td>\n",
       "      <td>...</td>\n",
       "      <td>...</td>\n",
       "      <td>...</td>\n",
       "      <td>...</td>\n",
       "      <td>...</td>\n",
       "      <td>...</td>\n",
       "      <td>...</td>\n",
       "      <td>...</td>\n",
       "      <td>...</td>\n",
       "    </tr>\n",
       "    <tr>\n",
       "      <th></th>\n",
       "      <td>...</td>\n",
       "      <td>...</td>\n",
       "      <td>...</td>\n",
       "      <td>...</td>\n",
       "      <td>...</td>\n",
       "      <td>...</td>\n",
       "      <td>...</td>\n",
       "      <td>...</td>\n",
       "      <td>...</td>\n",
       "      <td>...</td>\n",
       "      <td>...</td>\n",
       "      <td>...</td>\n",
       "      <td>...</td>\n",
       "      <td>...</td>\n",
       "      <td>...</td>\n",
       "      <td>...</td>\n",
       "      <td>...</td>\n",
       "      <td>...</td>\n",
       "      <td>...</td>\n",
       "      <td>...</td>\n",
       "      <td>...</td>\n",
       "      <td>...</td>\n",
       "      <td>...</td>\n",
       "      <td>...</td>\n",
       "      <td>...</td>\n",
       "      <td>...</td>\n",
       "      <td>...</td>\n",
       "      <td>...</td>\n",
       "      <td>...</td>\n",
       "      <td>...</td>\n",
       "    </tr>\n",
       "  </tbody>\n",
       "</table>\n",
       "</div>\n",
       "<div>Dask Name: read-csv, 29 tasks</div>"
      ],
      "text/plain": [
       "Dask DataFrame Structure:\n",
       "                    ID Case Number    Date   Block    IUCR Primary Type Description Location Description  Arrest Domestic    Beat District    Ward Community Area FBI Code X Coordinate Y Coordinate    Year Updated On Latitude Longitude Location Historical Wards 2003-2015 Zip Codes Community Areas Census Tracts   Wards Boundaries - ZIP Codes Police Districts Police Beats\n",
       "npartitions=29                                                                                                                                                                                                                                                                                                                                                                     \n",
       "                object      object  object  object  object       object      object               object  object   object  object   object  object         object   object       object       object  object     object   object    object   object                     object    object          object        object  object                 object           object       object\n",
       "                   ...         ...     ...     ...     ...          ...         ...                  ...     ...      ...     ...      ...     ...            ...      ...          ...          ...     ...        ...      ...       ...      ...                        ...       ...             ...           ...     ...                    ...              ...          ...\n",
       "...                ...         ...     ...     ...     ...          ...         ...                  ...     ...      ...     ...      ...     ...            ...      ...          ...          ...     ...        ...      ...       ...      ...                        ...       ...             ...           ...     ...                    ...              ...          ...\n",
       "                   ...         ...     ...     ...     ...          ...         ...                  ...     ...      ...     ...      ...     ...            ...      ...          ...          ...     ...        ...      ...       ...      ...                        ...       ...             ...           ...     ...                    ...              ...          ...\n",
       "                   ...         ...     ...     ...     ...          ...         ...                  ...     ...      ...     ...      ...     ...            ...      ...          ...          ...     ...        ...      ...       ...      ...                        ...       ...             ...           ...     ...                    ...              ...          ...\n",
       "Dask Name: read-csv, 29 tasks"
      ]
     },
     "execution_count": 147,
     "metadata": {},
     "output_type": "execute_result"
    }
   ],
   "source": [
    "df3 = dd.read_csv(\"data/crime.csv\", dtype = str, error_bad_lines = False, \n",
    "                  warn_bad_lines=False)\n",
    "\n",
    "df3"
   ]
  },
  {
   "cell_type": "code",
   "execution_count": 150,
   "metadata": {
    "collapsed": true
   },
   "outputs": [
    {
     "data": {
      "text/plain": [
       "ID                            6954279\n",
       "Case Number                   6954275\n",
       "Date                          6954279\n",
       "Block                         6954279\n",
       "IUCR                          6954279\n",
       "Primary Type                  6954279\n",
       "Description                   6954279\n",
       "Location Description          6948835\n",
       "Arrest                        6954279\n",
       "Domestic                      6954279\n",
       "Beat                          6954279\n",
       "District                      6954232\n",
       "Ward                          6339453\n",
       "Community Area                6340784\n",
       "FBI Code                      6954279\n",
       "X Coordinate                  6888372\n",
       "Y Coordinate                  6888372\n",
       "Year                          6954279\n",
       "Updated On                    6954279\n",
       "Latitude                      6888372\n",
       "Longitude                     6888372\n",
       "Location                      6888372\n",
       "Historical Wards 2003-2015    6868367\n",
       "Zip Codes                     6888372\n",
       "Community Areas               6871115\n",
       "Census Tracts                 6873256\n",
       "Wards                         6871227\n",
       "Boundaries - ZIP Codes        6871162\n",
       "Police Districts              6872194\n",
       "Police Beats                  6872217\n",
       "dtype: int64"
      ]
     },
     "execution_count": 150,
     "metadata": {},
     "output_type": "execute_result"
    }
   ],
   "source": [
    "df3.head()\n",
    "df3.tail()\n",
    "df3.count().compute()"
   ]
  },
  {
   "cell_type": "code",
   "execution_count": 3,
   "metadata": {},
   "outputs": [],
   "source": [
    "from dask.diagnostics import ProgressBar\n",
    "pbar = ProgressBar()\n",
    "pbar.register()"
   ]
  },
  {
   "cell_type": "code",
   "execution_count": 155,
   "metadata": {
    "scrolled": true
   },
   "outputs": [
    {
     "name": "stdout",
     "output_type": "stream",
     "text": [
      "[########################################] | 100% Completed | 39.1s\n",
      "Wall time: 39.1 s\n"
     ]
    },
    {
     "data": {
      "text/plain": [
       "ID                            6954279\n",
       "Case Number                   6954275\n",
       "Date                          6954279\n",
       "Block                         6954279\n",
       "IUCR                          6954279\n",
       "Primary Type                  6954279\n",
       "Description                   6954279\n",
       "Location Description          6948835\n",
       "Arrest                        6954279\n",
       "Domestic                      6954279\n",
       "Beat                          6954279\n",
       "District                      6954232\n",
       "Ward                          6339453\n",
       "Community Area                6340784\n",
       "FBI Code                      6954279\n",
       "X Coordinate                  6888372\n",
       "Y Coordinate                  6888372\n",
       "Year                          6954279\n",
       "Updated On                    6954279\n",
       "Latitude                      6888372\n",
       "Longitude                     6888372\n",
       "Location                      6888372\n",
       "Historical Wards 2003-2015    6868367\n",
       "Zip Codes                     6888372\n",
       "Community Areas               6871115\n",
       "Census Tracts                 6873256\n",
       "Wards                         6871227\n",
       "Boundaries - ZIP Codes        6871162\n",
       "Police Districts              6872194\n",
       "Police Beats                  6872217\n",
       "dtype: int64"
      ]
     },
     "execution_count": 155,
     "metadata": {},
     "output_type": "execute_result"
    }
   ],
   "source": [
    "%%time\n",
    "df3.count().compute()"
   ]
  },
  {
   "cell_type": "code",
   "execution_count": 158,
   "metadata": {},
   "outputs": [
    {
     "name": "stderr",
     "output_type": "stream",
     "text": [
      "UsageError: Line magic function `%%time` not found.\n"
     ]
    }
   ],
   "source": [
    "# 병렬처리\n",
    "%%time\n",
    "df3.count().compute(scheduler=\"processes\", num_workers=4)"
   ]
  },
  {
   "cell_type": "code",
   "execution_count": 159,
   "metadata": {
    "collapsed": true
   },
   "outputs": [
    {
     "name": "stdout",
     "output_type": "stream",
     "text": [
      "[########################################] | 100% Completed | 13.6s\n",
      "Wall time: 13.6 s\n"
     ]
    },
    {
     "data": {
      "text/plain": [
       "ID                            6954279\n",
       "Case Number                   6954275\n",
       "Date                          6954279\n",
       "Block                         6954279\n",
       "IUCR                          6954279\n",
       "Primary Type                  6954279\n",
       "Description                   6954279\n",
       "Location Description          6948835\n",
       "Arrest                        6954279\n",
       "Domestic                      6954279\n",
       "Beat                          6954279\n",
       "District                      6954232\n",
       "Ward                          6339453\n",
       "Community Area                6340784\n",
       "FBI Code                      6954279\n",
       "X Coordinate                  6888372\n",
       "Y Coordinate                  6888372\n",
       "Year                          6954279\n",
       "Updated On                    6954279\n",
       "Latitude                      6888372\n",
       "Longitude                     6888372\n",
       "Location                      6888372\n",
       "Historical Wards 2003-2015    6868367\n",
       "Zip Codes                     6888372\n",
       "Community Areas               6871115\n",
       "Census Tracts                 6873256\n",
       "Wards                         6871227\n",
       "Boundaries - ZIP Codes        6871162\n",
       "Police Districts              6872194\n",
       "Police Beats                  6872217\n",
       "dtype: int64"
      ]
     },
     "execution_count": 159,
     "metadata": {},
     "output_type": "execute_result"
    }
   ],
   "source": [
    "%%time\n",
    "df3.count().compute(scheduler=\"processes\", num_workers=6)"
   ]
  },
  {
   "cell_type": "code",
   "execution_count": 161,
   "metadata": {},
   "outputs": [
    {
     "name": "stdout",
     "output_type": "stream",
     "text": [
      "[########################################] | 100% Completed |  0.1s\n",
      "Wall time: 114 ms\n"
     ]
    },
    {
     "data": {
      "text/plain": [
       "0    4\n",
       "1    5\n",
       "2    6\n",
       "Name: c1, dtype: int64"
      ]
     },
     "execution_count": 161,
     "metadata": {},
     "output_type": "execute_result"
    }
   ],
   "source": [
    "%%time\n",
    "(df2[\"c1\"] + 3).compute()"
   ]
  },
  {
   "cell_type": "code",
   "execution_count": 176,
   "metadata": {},
   "outputs": [],
   "source": [
    "#c1 = df2 = df2[\"c1\"]-3\n",
    "#df2 = c1\n",
    "\n",
    "df2 = df2.assign(c1 = df2[\"c1\"]-3)"
   ]
  },
  {
   "cell_type": "code",
   "execution_count": 177,
   "metadata": {},
   "outputs": [
    {
     "name": "stdout",
     "output_type": "stream",
     "text": [
      "[########################################] | 100% Completed |  0.1s\n"
     ]
    },
    {
     "name": "stderr",
     "output_type": "stream",
     "text": [
      "C:\\Users\\Master\\anaconda3\\envs\\tf1\\lib\\site-packages\\dask\\dataframe\\core.py:6194: UserWarning: Insufficient elements for `head`. 5 elements requested, only 3 elements available. Try passing larger `npartitions` to `head`.\n",
      "  warnings.warn(msg.format(n, len(r)))\n"
     ]
    },
    {
     "data": {
      "text/html": [
       "<div>\n",
       "<style scoped>\n",
       "    .dataframe tbody tr th:only-of-type {\n",
       "        vertical-align: middle;\n",
       "    }\n",
       "\n",
       "    .dataframe tbody tr th {\n",
       "        vertical-align: top;\n",
       "    }\n",
       "\n",
       "    .dataframe thead th {\n",
       "        text-align: right;\n",
       "    }\n",
       "</style>\n",
       "<table border=\"1\" class=\"dataframe\">\n",
       "  <thead>\n",
       "    <tr style=\"text-align: right;\">\n",
       "      <th></th>\n",
       "      <th>c1</th>\n",
       "      <th>c2</th>\n",
       "      <th>c3</th>\n",
       "    </tr>\n",
       "  </thead>\n",
       "  <tbody>\n",
       "    <tr>\n",
       "      <th>0</th>\n",
       "      <td>-2</td>\n",
       "      <td>1.11</td>\n",
       "      <td>one</td>\n",
       "    </tr>\n",
       "    <tr>\n",
       "      <th>1</th>\n",
       "      <td>-1</td>\n",
       "      <td>2.22</td>\n",
       "      <td>two</td>\n",
       "    </tr>\n",
       "    <tr>\n",
       "      <th>2</th>\n",
       "      <td>0</td>\n",
       "      <td>3.33</td>\n",
       "      <td>three</td>\n",
       "    </tr>\n",
       "  </tbody>\n",
       "</table>\n",
       "</div>"
      ],
      "text/plain": [
       "   c1    c2      c3\n",
       "0  -2  1.11     one\n",
       "1  -1  2.22     two\n",
       "2   0  3.33   three"
      ]
     },
     "execution_count": 177,
     "metadata": {},
     "output_type": "execute_result"
    }
   ],
   "source": [
    "df2.head()"
   ]
  },
  {
   "cell_type": "code",
   "execution_count": 179,
   "metadata": {},
   "outputs": [
    {
     "name": "stdout",
     "output_type": "stream",
     "text": [
      "[########################################] | 100% Completed |  0.1s\n"
     ]
    },
    {
     "name": "stderr",
     "output_type": "stream",
     "text": [
      "C:\\Users\\Master\\anaconda3\\envs\\tf1\\lib\\site-packages\\dask\\dataframe\\core.py:6194: UserWarning: Insufficient elements for `head`. 5 elements requested, only 3 elements available. Try passing larger `npartitions` to `head`.\n",
      "  warnings.warn(msg.format(n, len(r)))\n"
     ]
    },
    {
     "data": {
      "text/html": [
       "<div>\n",
       "<style scoped>\n",
       "    .dataframe tbody tr th:only-of-type {\n",
       "        vertical-align: middle;\n",
       "    }\n",
       "\n",
       "    .dataframe tbody tr th {\n",
       "        vertical-align: top;\n",
       "    }\n",
       "\n",
       "    .dataframe thead th {\n",
       "        text-align: right;\n",
       "    }\n",
       "</style>\n",
       "<table border=\"1\" class=\"dataframe\">\n",
       "  <thead>\n",
       "    <tr style=\"text-align: right;\">\n",
       "      <th></th>\n",
       "      <th>c1</th>\n",
       "      <th>c2</th>\n",
       "      <th>c3</th>\n",
       "      <th>title</th>\n",
       "    </tr>\n",
       "  </thead>\n",
       "  <tbody>\n",
       "    <tr>\n",
       "      <th>0</th>\n",
       "      <td>-2</td>\n",
       "      <td>1.11</td>\n",
       "      <td>one</td>\n",
       "      <td>-2%</td>\n",
       "    </tr>\n",
       "    <tr>\n",
       "      <th>1</th>\n",
       "      <td>-1</td>\n",
       "      <td>2.22</td>\n",
       "      <td>two</td>\n",
       "      <td>-1%</td>\n",
       "    </tr>\n",
       "    <tr>\n",
       "      <th>2</th>\n",
       "      <td>0</td>\n",
       "      <td>3.33</td>\n",
       "      <td>three</td>\n",
       "      <td>0%</td>\n",
       "    </tr>\n",
       "  </tbody>\n",
       "</table>\n",
       "</div>"
      ],
      "text/plain": [
       "   c1    c2      c3 title\n",
       "0  -2  1.11     one   -2%\n",
       "1  -1  2.22     two   -1%\n",
       "2   0  3.33   three    0%"
      ]
     },
     "execution_count": 179,
     "metadata": {},
     "output_type": "execute_result"
    }
   ],
   "source": [
    "########### 새로운 컬럼 추가\n",
    "df2 = df2.assign(title = df2[\"c1\"].astype(str) + \"%\")\n",
    "df2.head()"
   ]
  },
  {
   "cell_type": "code",
   "execution_count": null,
   "metadata": {},
   "outputs": [],
   "source": [
    "####### 복수 개의 데이터 처리 "
   ]
  },
  {
   "cell_type": "code",
   "execution_count": 180,
   "metadata": {},
   "outputs": [
    {
     "name": "stdout",
     "output_type": "stream",
     "text": [
      "Writing data/sample2.csv\n"
     ]
    }
   ],
   "source": [
    "%%writefile \"data/sample2.csv\"\n",
    "c1, c2, c3 \n",
    "4, 4.11, one\n",
    "5, 5.22, two\n",
    "6, 6.33, three"
   ]
  },
  {
   "cell_type": "code",
   "execution_count": 181,
   "metadata": {},
   "outputs": [
    {
     "name": "stdout",
     "output_type": "stream",
     "text": [
      "[########################################] | 100% Completed |  0.1s\n"
     ]
    },
    {
     "name": "stderr",
     "output_type": "stream",
     "text": [
      "C:\\Users\\Master\\anaconda3\\envs\\tf1\\lib\\site-packages\\dask\\dataframe\\core.py:6194: UserWarning: Insufficient elements for `head`. 5 elements requested, only 3 elements available. Try passing larger `npartitions` to `head`.\n",
      "  warnings.warn(msg.format(n, len(r)))\n"
     ]
    },
    {
     "data": {
      "text/html": [
       "<div>\n",
       "<style scoped>\n",
       "    .dataframe tbody tr th:only-of-type {\n",
       "        vertical-align: middle;\n",
       "    }\n",
       "\n",
       "    .dataframe tbody tr th {\n",
       "        vertical-align: top;\n",
       "    }\n",
       "\n",
       "    .dataframe thead th {\n",
       "        text-align: right;\n",
       "    }\n",
       "</style>\n",
       "<table border=\"1\" class=\"dataframe\">\n",
       "  <thead>\n",
       "    <tr style=\"text-align: right;\">\n",
       "      <th></th>\n",
       "      <th>c1</th>\n",
       "      <th>c2</th>\n",
       "      <th>c3</th>\n",
       "    </tr>\n",
       "  </thead>\n",
       "  <tbody>\n",
       "    <tr>\n",
       "      <th>0</th>\n",
       "      <td>1</td>\n",
       "      <td>1.11</td>\n",
       "      <td>one</td>\n",
       "    </tr>\n",
       "    <tr>\n",
       "      <th>1</th>\n",
       "      <td>2</td>\n",
       "      <td>2.22</td>\n",
       "      <td>two</td>\n",
       "    </tr>\n",
       "    <tr>\n",
       "      <th>2</th>\n",
       "      <td>3</td>\n",
       "      <td>3.33</td>\n",
       "      <td>three</td>\n",
       "    </tr>\n",
       "  </tbody>\n",
       "</table>\n",
       "</div>"
      ],
      "text/plain": [
       "   c1    c2      c3\n",
       "0   1  1.11     one\n",
       "1   2  2.22     two\n",
       "2   3  3.33   three"
      ]
     },
     "execution_count": 181,
     "metadata": {},
     "output_type": "execute_result"
    }
   ],
   "source": [
    "df4 = dd.read_csv(\"data/sample*.csv\")"
   ]
  },
  {
   "cell_type": "code",
   "execution_count": 182,
   "metadata": {},
   "outputs": [
    {
     "name": "stdout",
     "output_type": "stream",
     "text": [
      "[########################################] | 100% Completed |  0.1s\n"
     ]
    },
    {
     "data": {
      "text/plain": [
       "c1     6\n",
       " c2    6\n",
       " c3    6\n",
       "dtype: int64"
      ]
     },
     "execution_count": 182,
     "metadata": {},
     "output_type": "execute_result"
    }
   ],
   "source": [
    "df4.count().compute() #여러개의 파일도 한번에 동시에 불러들여 처리"
   ]
  },
  {
   "cell_type": "markdown",
   "metadata": {},
   "source": [
    "### Queue Runner"
   ]
  },
  {
   "cell_type": "code",
   "execution_count": 15,
   "metadata": {
    "collapsed": true
   },
   "outputs": [
    {
     "name": "stdout",
     "output_type": "stream",
     "text": [
      "1.0\n",
      "2.0\n",
      "3.0\n",
      "4.0\n",
      "5.0\n",
      "6.0\n",
      "7.0\n",
      "8.0\n",
      "9.0\n",
      "1.0\n",
      "2.0\n",
      "3.0\n",
      "7.0\n",
      "8.0\n",
      "9.0\n",
      "1.0\n",
      "2.0\n",
      "3.0\n",
      "4.0\n",
      "5.0\n"
     ]
    }
   ],
   "source": [
    "\n",
    "\n",
    "q = tf.FIFOQueue(20, \"float\") #(Queue의길이, 저장될 데이터 형식)\n",
    "#enq_ops = q.enqueue_many(([1.0, 2.0, 3.0, 4.0],))\n",
    "#qr = tf.train.QueueRunner(q, [enq_ops]*3)\n",
    "#qr = tf.train.QueueRunner(q, [enq_ops, enq_ops, enq_ops]) # QueueRenner는 멀티스레드를 지원 하나씩 하나씩 저정하는 것이 아니다.\n",
    "\n",
    "enq_ops1 = q.enqueue_many(([1.0, 2.0, 3.0],))\n",
    "enq_ops2 = q.enqueue_many(([4.0, 5.0, 6.0],))\n",
    "enq_ops3 = q.enqueue_many(([7.0, 8.0, 9.0],))\n",
    "qr = tf.train.QueueRunner(q, [enq_ops1, enq_ops2, enq_ops3])\n",
    "# 스레드가 별도로 움직이기 때문에 값이 다르게 , 랜덤하게 결과가 나온다. \n",
    "\n",
    "# 동시에 작업한다 = 시간을 나눠서 공평하게 각각 실행될 수 있게 (스케쥴러)\n",
    "sess= tf.Session()\n",
    "\n",
    "# 코디네이터 만들기\n",
    "coordi = tf.train.Coordinator()\n",
    "# 스레드 만들기\n",
    "threads = qr.create_threads(sess, coord = coordi, start=True)\n",
    "\n",
    "for step in range(20): \n",
    "    print(sess.run(q.dequeue()))\n",
    "\n",
    "coordi.request_stop() # 코디가 하던 작업 종료\n",
    "coordi.join(threads) \n",
    "sess.close()\n",
    "# 3개의 스레드가 실행될때 물리적으로로 동시에 실행되는 것은 아니기 때문에 동시에 종료되지 않는다.\n",
    "# join을 통해 다른 것들이 끝날때까지 기다렸다가 같이 실행 \n",
    "\n",
    "\n",
    "\n",
    "    \n",
    "# 스레드 : 독립적으로 처리하는 하나의 작업 단위\n",
    "# 프로그램 :  ...\n",
    "# 프로세스 : 프로그램이 메모리에 올라 갔을때(실행되었을때)\n",
    "# 멀티 프로세스 : 동시에 여러프로그램이 실행될 수 있는\n",
    "\n",
    "#FIFO 먼저 들어온애가 먼저 나간다 (Queue Runner는 FIFO방식)\n",
    "#LIFO 나중에 들어온애가 먼저 나간다."
   ]
  },
  {
   "cell_type": "code",
   "execution_count": 30,
   "metadata": {
    "collapsed": true
   },
   "outputs": [
    {
     "name": "stdout",
     "output_type": "stream",
     "text": [
      "[1, 1.11, b' one']\n",
      "[2, 2.22, b' two']\n",
      "[3, 3.33, b' three']\n",
      "[4, 4.11, b' one']\n",
      "[5, 5.22, b' two']\n",
      "[6, 6.33, b' three']\n",
      "[1, 1.11, b' one']\n",
      "[2, 2.22, b' two']\n",
      "[3, 3.33, b' three']\n",
      "[4, 4.11, b' one']\n",
      "[5, 5.22, b' two']\n",
      "[6, 6.33, b' three']\n",
      "[1, 1.11, b' one']\n",
      "[2, 2.22, b' two']\n",
      "[3, 3.33, b' three']\n",
      "[4, 4.11, b' one']\n",
      "[5, 5.22, b' two']\n",
      "[6, 6.33, b' three']\n",
      "[1, 1.11, b' one']\n",
      "[2, 2.22, b' two']\n",
      "[3, 3.33, b' three']\n",
      "[4, 4.11, b' one']\n",
      "[5, 5.22, b' two']\n",
      "[6, 6.33, b' three']\n",
      "[1, 1.11, b' one']\n",
      "[2, 2.22, b' two']\n",
      "[3, 3.33, b' three']\n",
      "[4, 4.11, b' one']\n",
      "[5, 5.22, b' two']\n",
      "[6, 6.33, b' three']\n"
     ]
    }
   ],
   "source": [
    "# 파일로 부터 데이터를 읽어오기\n",
    "filename_queue = tf.train.string_input_producer([\"data/sample1.csv\", \"data/sample2.csv\"], \n",
    "                                                shuffle=False, name=\"filename_queue\")\n",
    "\n",
    "reader = tf.TextLineReader() \n",
    "key, value = reader.read(filename_queue)\n",
    "# 디코딩 : 내가 쓰고하자하는 형식으로 맞춰주는 작업\n",
    "recored_defaults = [[0],[0.0],[\"null\"]] #defaults 값이기 때문에 내가 필요한 값으로 정의하면된다.(데이터 타입도 같이 정의된다.)\n",
    "c1, c2, c3 = tf.decode_csv(value, record_defaults=recored_defaults, field_delim=\",\")\n",
    "\n",
    "with tf.Session() as sess:\n",
    "    coordi = tf.train.Coordinator()\n",
    "    threads = tf.train.start_queue_runners(sess = sess, coord = coordi)\n",
    "    \n",
    "    for i in range(30):\n",
    "        print(sess.run([c1, c2, c3]))\n",
    "    \n",
    "    coordi.request_stop()\n",
    "    coordi.join(threads)"
   ]
  },
  {
   "cell_type": "code",
   "execution_count": 32,
   "metadata": {},
   "outputs": [
    {
     "data": {
      "text/plain": [
       "[<tf.Tensor 'DecodeCSV_7:0' shape=() dtype=float32>,\n",
       " <tf.Tensor 'DecodeCSV_7:1' shape=() dtype=float32>,\n",
       " <tf.Tensor 'DecodeCSV_7:2' shape=() dtype=float32>,\n",
       " <tf.Tensor 'DecodeCSV_7:3' shape=() dtype=float32>]"
      ]
     },
     "execution_count": 32,
     "metadata": {},
     "output_type": "execute_result"
    }
   ],
   "source": [
    "# 슬라이드 소스\n",
    "\n",
    "filename_queue = tf.train.string_input_producer([\"data/data-01-test-score1.csv\"])\n",
    "key, value = tf.TextLineReader().read(filename_queue)\n",
    "xy = tf.decode_csv(value, record_defaults=[[0.], [0.], [0.], [0.]]) #defaults는 따로 변수에 넣어도 되고 안넣어도 된다.\n",
    "xy"
   ]
  },
  {
   "cell_type": "code",
   "execution_count": null,
   "metadata": {},
   "outputs": [],
   "source": [
    "\"\"\"\n",
    "BATCH (모아놓았다가 한 번에 처리, 데이터를 어떻게 쪼갤 것인가.)\n",
    "----------------\n",
    "- Batch : 전체 데이터를 다 가져와서 한번에 처리 \n",
    "- Stochastic : 한개의 데이터를 가져와서 하나씩 처리 \n",
    "- Mini Batch : Batch와 Stochastic의 절충안으로 적당한 갯수(정할 수 있음)로 쪼개서 처리\n",
    "\"\"\""
   ]
  },
  {
   "cell_type": "code",
   "execution_count": 33,
   "metadata": {},
   "outputs": [
    {
     "name": "stdout",
     "output_type": "stream",
     "text": [
      "WARNING:tensorflow:From <ipython-input-33-16ccd063f6b2>:2: batch (from tensorflow.python.training.input) is deprecated and will be removed in a future version.\n",
      "Instructions for updating:\n",
      "Queue-based input pipelines have been replaced by `tf.data`. Use `tf.data.Dataset.batch(batch_size)` (or `padded_batch(...)` if `dynamic_pad=True`).\n"
     ]
    }
   ],
   "source": [
    "# 배치\n",
    "train_x_batch, train_y_batch = tf.train.batch([xy[0:-1], xy[-1:]], batch_size = 10)"
   ]
  },
  {
   "cell_type": "code",
   "execution_count": 34,
   "metadata": {},
   "outputs": [],
   "source": [
    "X = tf.placeholder(tf.float32, shape=[None, 3])\n",
    "y = tf.placeholder(tf.float32, shape=[None, 1])\n",
    "\n",
    "W = tf.Variable(tf.random_normal([3, 1]))\n",
    "b = tf.Variable(tf.random_normal([1]))\n",
    "\n",
    "hypot = tf.matmul(X, W) + b\n",
    "\n",
    "cost = tf.reduce_mean(tf.square(hypot - y))\n",
    "\n",
    "train = tf.train.GradientDescentOptimizer(learning_rate=1e-5).minimize(cost)"
   ]
  },
  {
   "cell_type": "code",
   "execution_count": 38,
   "metadata": {},
   "outputs": [
    {
     "name": "stdout",
     "output_type": "stream",
     "text": [
      "당신의 성적은 : [[199.22885]]\n",
      "다른 사람의 성적은 : [[176.26627]\n",
      " [171.9417 ]]\n"
     ]
    }
   ],
   "source": [
    "with tf.Session() as sess:\n",
    "    sess.run(tf.global_variables_initializer())\n",
    "    \n",
    "    coordi = tf.train.Coordinator()\n",
    "    threads = tf.train.start_queue_runners(sess = sess, coord = coordi)\n",
    "    \n",
    "    for step in range(2001):\n",
    "        x_batch, y_batch = sess.run([train_x_batch, train_y_batch])  \n",
    "        sess.run(train, feed_dict={X:x_batch, y:y_batch})\n",
    "        # for 문안에서는 10번 반복한 것이 하나의 데이터가 끝/ 즉 10번씩 도는것을 2000번 도는 것\n",
    "        # 배치는 데이터가 아주 크고 많을때 사용 \n",
    "        # Epoch 배치에서 전체 데이터에서 한 번 실행되는 단위(for문에서 한번 도는 것)\n",
    "        # 지금은 2000 Ephoch가 되는 것 \n",
    "        # 가중치에 대한 충분한 학습효과를 얻을 수 있다.\n",
    "        # 너무 많이 하면 부하가 올 수 있기 때문에 적절한 조화가 필요하다.\n",
    "    \n",
    "    coordi.request_stop()\n",
    "    coordi.join(threads)\n",
    "    \n",
    "    print(\"당신의 성적은 :\", sess.run(hypot, feed_dict={X : [[100, 70, 101]]}))\n",
    "    print(\"다른 사람의 성적은 :\", sess.run(hypot, feed_dict={X : [[60, 70, 110],[90, 100, 80]]}))"
   ]
  },
  {
   "cell_type": "code",
   "execution_count": 35,
   "metadata": {},
   "outputs": [
    {
     "data": {
      "text/plain": [
       "''"
      ]
     },
     "execution_count": 35,
     "metadata": {},
     "output_type": "execute_result"
    }
   ],
   "source": [
    "\"\"\"\n",
    "전체 데이터 갯수 : 200\n",
    "batch_size = 5\n",
    "ephoch의 갯수 : 1000\n",
    "총 가중치 업데이트 횟수 : 40000\n",
    "40개씩 천번을 도니까 4만번 돈다\n",
    "\"\"\""
   ]
  },
  {
   "cell_type": "markdown",
   "metadata": {},
   "source": [
    "---\n",
    "### 로지스틱 회귀 모델 "
   ]
  },
  {
   "cell_type": "code",
   "execution_count": 15,
   "metadata": {},
   "outputs": [],
   "source": [
    "x_data = [[1, 2], [2, 3], [3, 1], [4, 3], [5, 3], [6, 2]]\n",
    "y_data = [[0],[0],[0],[1],[1],[1]]\n",
    "\n",
    "X = tf.placeholder(tf.float32, shape = [None, 2])\n",
    "y = tf.placeholder(tf.float32, shape = [None, 1])\n",
    "\n",
    "W = tf.Variable(tf.random_normal([2, 1]))\n",
    "b = tf.Variable(tf.random_normal([1]))\n",
    "\n",
    "# 가설 \n",
    "hypot = tf.sigmoid(tf.matmul(X, W) + b) # 기존 선형모델을 한번더 시그모이드라는 함수로 \n",
    "\n",
    "# 비용 함수\n",
    "cost = -tf.reduce_mean(y * tf.log(hypot) + (1 - y) * tf.log(1 - hypot))\n",
    "\n",
    "# 최소 비용(선형모델과 동일)\n",
    "train = tf.train.GradientDescentOptimizer(learning_rate=0.01).minimize(cost)"
   ]
  },
  {
   "cell_type": "code",
   "execution_count": 16,
   "metadata": {},
   "outputs": [],
   "source": [
    "sess = tf.Session()\n",
    "sess.run(tf.global_variables_initializer())\n",
    "for step in range(10001):\n",
    "    sess.run(train, feed_dict={X:x_data, y:y_data})"
   ]
  },
  {
   "cell_type": "code",
   "execution_count": 55,
   "metadata": {},
   "outputs": [],
   "source": [
    "# 정확도 측정 (hypot이0.5보다 크면 1 / hypot이0.5보다 작으면 0)\n",
    "pred = tf.cast(hypot>0.5, dtype=tf.float32)\n",
    "accuracy = tf.reduce_mean(tf.cast(tf.equal(pred, y), dtype=tf.float32)) #정확도 계산"
   ]
  },
  {
   "cell_type": "code",
   "execution_count": 56,
   "metadata": {},
   "outputs": [
    {
     "data": {
      "text/plain": [
       "[array([[0.02614126],\n",
       "        [0.15210444],\n",
       "        [0.28203934],\n",
       "        [0.79201365],\n",
       "        [0.94607645],\n",
       "        [0.9823721 ]], dtype=float32),\n",
       " array([[0.],\n",
       "        [0.],\n",
       "        [0.],\n",
       "        [1.],\n",
       "        [1.],\n",
       "        [1.]], dtype=float32),\n",
       " 1.0]"
      ]
     },
     "execution_count": 56,
     "metadata": {},
     "output_type": "execute_result"
    }
   ],
   "source": [
    "# 예측 실행\n",
    "sess.run([hypot,pred, accuracy], feed_dict = {X:x_data, y:y_data})"
   ]
  },
  {
   "cell_type": "code",
   "execution_count": 58,
   "metadata": {},
   "outputs": [],
   "source": [
    "sess.close()"
   ]
  },
  {
   "cell_type": "markdown",
   "metadata": {},
   "source": [
    "### Softmax Classifier"
   ]
  },
  {
   "cell_type": "code",
   "execution_count": 17,
   "metadata": {},
   "outputs": [],
   "source": [
    "x_data = [[1, 2, 1, 1], [2, 1, 3, 2], [3, 1, 3, 4], [4, 1, 5, 5], [1, 7, 5, 5], \n",
    "          [1, 2, 5, 6], [1, 6, 6, 6], [1, 7, 7, 7]]\n",
    "y_data = [[0, 0, 1], [0, 0, 1], [0, 0, 1], [0, 1, 0], [0, 1, 0], [0, 1, 0], [1, 0, 0], [1, 0, 0]]\n",
    "# one-hot encoding이 되어 있는 상태\n"
   ]
  },
  {
   "cell_type": "code",
   "execution_count": 9,
   "metadata": {},
   "outputs": [],
   "source": [
    "X = tf.placeholder(tf.float32, shape = [None, 4])\n",
    "y = tf.placeholder(tf.float32, shape = [None, 3])\n",
    "\n",
    "W = tf.Variable(tf.random_normal([4, 3]))\n",
    "b = tf.Variable(tf.random_normal([3]))\n",
    "\n",
    "# 가설 준비 (결과값이 여러개일 때 시그모이드를 쓰면 성능이 굉장히 떨어진다.)\n",
    "hypot = tf.nn.softmax(tf.matmul(X, W) + b) # nn 인공신경망과 관련된 패키지\n",
    "\n",
    "cost = -tf.reduce_mean(y * tf.log(hypot) + (1 - y) * tf.log(1 - hypot))\n",
    "train = tf.train.GradientDescentOptimizer(learning_rate=0.1).minimize(cost)"
   ]
  },
  {
   "cell_type": "code",
   "execution_count": 10,
   "metadata": {},
   "outputs": [
    {
     "name": "stdout",
     "output_type": "stream",
     "text": [
      "[[1.1426283e-03 9.9885559e-01 1.7753500e-06]]\n",
      "[1]\n"
     ]
    }
   ],
   "source": [
    "with tf.Session() as sess:\n",
    "    sess.run(tf.global_variables_initializer())\n",
    "    for step in range(5001):\n",
    "        _, c= sess.run([train,cost], feed_dict={X:x_data, y:y_data})\n",
    "        #if step %500 == 0:\n",
    "            #print(step,c)\n",
    "    #테스트\n",
    "    result = sess.run(hypot, feed_dict={X:[[1, 11, 7, 9]]})\n",
    "    print(result)\n",
    "    print(sess.run(tf.arg_max(result, 1)))"
   ]
  },
  {
   "cell_type": "markdown",
   "metadata": {},
   "source": [
    "#### Fancy Softmax :softmax_cross_entropy_with_logits()"
   ]
  },
  {
   "cell_type": "code",
   "execution_count": 19,
   "metadata": {},
   "outputs": [
    {
     "name": "stdout",
     "output_type": "stream",
     "text": [
      "WARNING:tensorflow:From <ipython-input-19-dff330352936>:12: softmax_cross_entropy_with_logits (from tensorflow.python.ops.nn_ops) is deprecated and will be removed in a future version.\n",
      "Instructions for updating:\n",
      "\n",
      "Future major versions of TensorFlow will allow gradients to flow\n",
      "into the labels input on backprop by default.\n",
      "\n",
      "See `tf.nn.softmax_cross_entropy_with_logits_v2`.\n",
      "\n",
      "[[3.5825897e-13 1.0000000e+00 6.0167230e-14]]\n",
      "[1]\n"
     ]
    }
   ],
   "source": [
    "X = tf.placeholder(tf.float32, shape = [None, 4])\n",
    "y = tf.placeholder(tf.float32, shape = [None, 3])\n",
    "\n",
    "W = tf.Variable(tf.random_normal([4, 3]))\n",
    "b = tf.Variable(tf.random_normal([3]))\n",
    "\n",
    "# 가설 준비 (결과값이 여러개일 때 시그모이드를 쓰면 성능이 굉장히 떨어진다.)\n",
    "#cost를 직접 만들지 말고 코드로\n",
    "logit = tf.matmul(X, W) + b # 0 과 1로 분류되기전에 입력되는 실제 입력값(시그모이드를 걸치기 전)\n",
    "hypot = tf.nn.softmax(logit) # logit공식만 따로 필요한 곳이 있기때문에 따로 변수화\n",
    "\n",
    "cost = tf.nn.softmax_cross_entropy_with_logits(logits = logit, labels = y_data ) \n",
    "train = tf.train.GradientDescentOptimizer(learning_rate=0.1).minimize(cost)\n",
    "\n",
    "with tf.Session() as sess:\n",
    "    sess.run(tf.global_variables_initializer())\n",
    "    for step in range(5001):\n",
    "        _, c= sess.run([train,cost], feed_dict={X:x_data, y:y_data})\n",
    "        #if step %500 == 0:\n",
    "            #print(step,c)\n",
    "    #테스트\n",
    "    result = sess.run(hypot, feed_dict={X:[[1, 11, 7, 9]]})\n",
    "    print(result)\n",
    "    print(sess.run(tf.arg_max(result, 1)))"
   ]
  },
  {
   "cell_type": "code",
   "execution_count": 21,
   "metadata": {},
   "outputs": [
    {
     "data": {
      "text/plain": [
       "array([[[1., 0., 0.]],\n",
       "\n",
       "       [[0., 1., 0.]],\n",
       "\n",
       "       [[0., 0., 1.]],\n",
       "\n",
       "       [[1., 0., 0.]]], dtype=float32)"
      ]
     },
     "execution_count": 21,
     "metadata": {},
     "output_type": "execute_result"
    }
   ],
   "source": [
    "# eval() 사용법. \n",
    "sess = tf.Session()\n",
    "#one = tf.one_hot([[0], [1], [2], [0]], depth = 3)\n",
    "#sess.run(one)\n",
    "tf.one_hot([[0], [1], [2], [0]], depth = 3).eval(session=sess)"
   ]
  },
  {
   "cell_type": "markdown",
   "metadata": {},
   "source": [
    "### 사례1 : 동물 분류 예측 "
   ]
  },
  {
   "cell_type": "code",
   "execution_count": 58,
   "metadata": {
    "scrolled": true
   },
   "outputs": [
    {
     "data": {
      "text/plain": [
       "(101, 17)"
      ]
     },
     "execution_count": 58,
     "metadata": {},
     "output_type": "execute_result"
    }
   ],
   "source": [
    "xy = np.loadtxt('data/data-04-zoo.csv', delimiter=',', dtype=np.float32)\n",
    "x_data = xy[:,0:-1]\n",
    "y_data = xy[:,[-1]]\n",
    "xy.shape"
   ]
  },
  {
   "cell_type": "code",
   "execution_count": 59,
   "metadata": {},
   "outputs": [],
   "source": [
    "X = tf.placeholder(tf.float32, shape=[None,16])\n",
    "y = tf.placeholder(tf.int32, shape=[None,1])\n",
    "\n",
    "sess=tf.Session()\n",
    "# y값을 원핫인코딩 해주어야 한다.\n",
    "y_onehot = tf.one_hot(y, 7) \n",
    "#print(y_onehot.eval(session=sess, feed_dict={y:y_data})) \n",
    "# 원핫인코딩만 하면 3차원이 되므로 2차원으로 바꿔줘야한다.\n",
    "\n",
    "y_onehot = tf.reshape(y_onehot, [-1, 7]) # -1은 갯수를 알아서 맞추라는 의미(None과 같은의미 )\n",
    "#print(y_onehot.eval(session=sess, feed_dict={y:y_data})) \n",
    "\n",
    "W = tf.Variable(tf.random_normal([16, 7]))\n",
    "b = tf.Variable(tf.random_normal([7]))\n"
   ]
  },
  {
   "cell_type": "code",
   "execution_count": 60,
   "metadata": {},
   "outputs": [],
   "source": [
    "logit = tf.matmul(X, W) + b\n",
    "hypot = tf.nn.softmax(logit)\n",
    "\n",
    "cost = tf.nn.softmax_cross_entropy_with_logits(logits = logit, labels = y_onehot) \n",
    "train = tf.train.GradientDescentOptimizer(learning_rate=0.1).minimize(cost)\n"
   ]
  },
  {
   "cell_type": "code",
   "execution_count": 61,
   "metadata": {},
   "outputs": [],
   "source": [
    "pred = tf.argmax(hypot, 1)\n",
    "correct = tf.equal(pred, tf.argmax(y_onehot, 1)) #정확도 계산\n",
    "accuracy = tf.reduce_mean(tf.cast(correct, tf.float32))"
   ]
  },
  {
   "cell_type": "code",
   "execution_count": 62,
   "metadata": {},
   "outputs": [
    {
     "name": "stdout",
     "output_type": "stream",
     "text": [
      "8.371756 0.089108914\n",
      "1.6358963 0.8613861\n",
      "0.49106842 0.9108911\n",
      "0.013876059 1.0\n",
      "0.0069785556 1.0\n",
      "0.005496218 1.0\n",
      "0.0047747735 1.0\n",
      "0.004308495 1.0\n",
      "0.0039653913 1.0\n",
      "0.003693752 1.0\n",
      "0.003468645 1.0\n",
      "0.0032763714 1.0\n",
      "0.0031087003 1.0\n",
      "0.002960297 1.0\n",
      "0.0028274455 1.0\n",
      "0.0027074679 1.0\n",
      "0.002598327 1.0\n",
      "0.0024985122 1.0\n",
      "0.0024067191 1.0\n",
      "0.0023219786 1.0\n"
     ]
    }
   ],
   "source": [
    "sess.run(tf.global_variables_initializer())\n",
    "for step in range(200):\n",
    "    _, c, a= sess.run([train, tf.reduce_mean(cost), accuracy], feed_dict={X:x_data, y:y_data})\n",
    "    if step %10 == 0:\n",
    "        print(c, a)\n",
    "        \n",
    "    #테스트\n",
    "    #result = sess.run(hypot, feed_dict={X:[[1, 11, 7, 9]]})\n",
    "    #print(result)\n",
    "    #print(sess.run(tf.arg_max(result, 1)))"
   ]
  },
  {
   "cell_type": "code",
   "execution_count": 66,
   "metadata": {
    "collapsed": true
   },
   "outputs": [
    {
     "name": "stdout",
     "output_type": "stream",
     "text": [
      "True \t 0 \t 0\n",
      "True \t 0 \t 0\n",
      "True \t 3 \t 3\n",
      "True \t 0 \t 0\n",
      "True \t 0 \t 0\n",
      "True \t 0 \t 0\n",
      "True \t 0 \t 0\n",
      "True \t 3 \t 3\n",
      "True \t 3 \t 3\n",
      "True \t 0 \t 0\n",
      "True \t 0 \t 0\n",
      "True \t 1 \t 1\n",
      "True \t 3 \t 3\n",
      "True \t 6 \t 6\n",
      "True \t 6 \t 6\n",
      "True \t 6 \t 6\n",
      "True \t 1 \t 1\n",
      "True \t 0 \t 0\n",
      "True \t 3 \t 3\n",
      "True \t 0 \t 0\n",
      "True \t 1 \t 1\n",
      "True \t 1 \t 1\n",
      "True \t 0 \t 0\n",
      "True \t 1 \t 1\n",
      "True \t 5 \t 5\n",
      "True \t 4 \t 4\n",
      "True \t 4 \t 4\n",
      "True \t 0 \t 0\n",
      "True \t 0 \t 0\n",
      "True \t 0 \t 0\n",
      "True \t 5 \t 5\n",
      "True \t 0 \t 0\n",
      "True \t 0 \t 0\n",
      "True \t 1 \t 1\n",
      "True \t 3 \t 3\n",
      "True \t 0 \t 0\n",
      "True \t 0 \t 0\n",
      "True \t 1 \t 1\n",
      "True \t 3 \t 3\n",
      "True \t 5 \t 5\n",
      "True \t 5 \t 5\n",
      "True \t 1 \t 1\n",
      "True \t 5 \t 5\n",
      "True \t 1 \t 1\n",
      "True \t 0 \t 0\n",
      "True \t 0 \t 0\n",
      "True \t 6 \t 6\n",
      "True \t 0 \t 0\n",
      "True \t 0 \t 0\n",
      "True \t 0 \t 0\n",
      "True \t 0 \t 0\n",
      "True \t 5 \t 5\n",
      "True \t 4 \t 4\n",
      "True \t 6 \t 6\n",
      "True \t 0 \t 0\n",
      "True \t 0 \t 0\n",
      "True \t 1 \t 1\n",
      "True \t 1 \t 1\n",
      "True \t 1 \t 1\n",
      "True \t 1 \t 1\n",
      "True \t 3 \t 3\n",
      "True \t 3 \t 3\n",
      "True \t 2 \t 2\n",
      "True \t 0 \t 0\n",
      "True \t 0 \t 0\n",
      "True \t 0 \t 0\n",
      "True \t 0 \t 0\n",
      "True \t 0 \t 0\n",
      "True \t 0 \t 0\n",
      "True \t 0 \t 0\n",
      "True \t 0 \t 0\n",
      "True \t 1 \t 1\n",
      "True \t 6 \t 6\n",
      "True \t 3 \t 3\n",
      "True \t 0 \t 0\n",
      "True \t 0 \t 0\n",
      "True \t 2 \t 2\n",
      "True \t 6 \t 6\n",
      "True \t 1 \t 1\n",
      "True \t 1 \t 1\n",
      "True \t 2 \t 2\n",
      "True \t 6 \t 6\n",
      "True \t 3 \t 3\n",
      "True \t 1 \t 1\n",
      "True \t 0 \t 0\n",
      "True \t 6 \t 6\n",
      "True \t 3 \t 3\n",
      "True \t 1 \t 1\n",
      "True \t 5 \t 5\n",
      "True \t 4 \t 4\n",
      "True \t 2 \t 2\n",
      "True \t 2 \t 2\n",
      "True \t 3 \t 3\n",
      "True \t 0 \t 0\n",
      "True \t 0 \t 0\n",
      "True \t 1 \t 1\n",
      "True \t 0 \t 0\n",
      "True \t 5 \t 5\n",
      "True \t 0 \t 0\n",
      "True \t 6 \t 6\n",
      "True \t 1 \t 1\n"
     ]
    }
   ],
   "source": [
    "pred1 = sess.run(pred, feed_dict={X:x_data})\n",
    "\n",
    "for p, y in zip(pred1, y_data.flatten()):\n",
    "    #print(p,y)\n",
    "    print(p==int(y), \"\\t\", p, \"\\t\", int(y))  #예측값, 실제값 "
   ]
  },
  {
   "cell_type": "markdown",
   "metadata": {},
   "source": [
    "### 사례2 : MNIST 손글씨 예제"
   ]
  },
  {
   "cell_type": "code",
   "execution_count": 70,
   "metadata": {},
   "outputs": [
    {
     "name": "stdout",
     "output_type": "stream",
     "text": [
      "Extracting data/MNIST_data/train-images-idx3-ubyte.gz\n",
      "Extracting data/MNIST_data/train-labels-idx1-ubyte.gz\n",
      "Extracting data/MNIST_data/t10k-images-idx3-ubyte.gz\n",
      "Extracting data/MNIST_data/t10k-labels-idx1-ubyte.gz\n"
     ]
    }
   ],
   "source": [
    "from tensorflow.examples.tutorials.mnist import input_data\n",
    "\n",
    "mnist = input_data.read_data_sets(\"data/MNIST_data/\", one_hot = True) "
   ]
  },
  {
   "cell_type": "code",
   "execution_count": 75,
   "metadata": {
    "scrolled": true
   },
   "outputs": [
    {
     "data": {
      "text/plain": [
       "10000"
      ]
     },
     "execution_count": 75,
     "metadata": {},
     "output_type": "execute_result"
    }
   ],
   "source": [
    "type(mnist)\n",
    "dir(mnist)\n",
    "mnist.train.labels\n",
    "mnist.train.num_examples\n",
    "mnist.test.num_examples"
   ]
  },
  {
   "cell_type": "code",
   "execution_count": 95,
   "metadata": {},
   "outputs": [],
   "source": [
    "X = tf.placeholder(tf.float32, shape = [None, 28*28]) # 한장의 이미지 : 가로 28 세로 28 28*28=784 (임력데이터)\n",
    "y = tf.placeholder(tf.float32, shape = [None, 10])\n",
    "\n",
    "W = tf.Variable(tf.random_normal([28*28, 10]))\n",
    "b = tf.Variable(tf.random_normal([10]))\n",
    "\n",
    "logit = tf.matmul(X, W) + b \n",
    "hypot = tf.nn.softmax(logit)\n",
    "\n",
    "cost = tf.nn.softmax_cross_entropy_with_logits(logits = logit, labels = y) \n",
    "train = tf.train.GradientDescentOptimizer(learning_rate=0.1).minimize(cost)"
   ]
  },
  {
   "cell_type": "code",
   "execution_count": 96,
   "metadata": {},
   "outputs": [],
   "source": [
    "correct = tf.equal(tf.argmax(hypot, 1), tf.argmax(y, 1)) # 실제값 / 예측값\n",
    "accuracy = tf.reduce_mean(tf.cast(correct, tf.float32))"
   ]
  },
  {
   "cell_type": "code",
   "execution_count": 101,
   "metadata": {
    "scrolled": true
   },
   "outputs": [
    {
     "name": "stdout",
     "output_type": "stream",
     "text": [
      "3.747312266501511 \t 0.87\n",
      "2.086050965162841 \t 0.89\n",
      "2.0893489296869796 \t 0.91\n",
      "1.9560163464871352 \t 0.93\n",
      "1.9175462874770153 \t 0.89\n"
     ]
    }
   ],
   "source": [
    "sess = tf.Session()\n",
    "sess.run(tf.global_variables_initializer())\n",
    "\n",
    "# for step in range(200) :\n",
    "#     _, c, a = sess.run([train, tf.reduce_mean(cost), accuracy], \n",
    "#                        feed_dict={X:mnist.train.images, y:mnist.train.labels})\n",
    "#     if step%20 == 0:\n",
    "#         print(c, \"\\t\", a)\n",
    "\n",
    "training_epochs =5\n",
    "batch_size = 100 # 데이터를 몇개로 쪼갤 것인가\n",
    "\n",
    "for epoch in range(training_epochs):\n",
    "    total_batch = int(mnist.train.num_examples/batch_size)\n",
    "    avg_cost = 0\n",
    "    for i in range(total_batch):\n",
    "        batch_xs, batch_ys = mnist.train.next_batch(batch_size)\n",
    "        \n",
    "        _, c, a = sess.run([train, tf.reduce_mean(cost), accuracy], \n",
    "                           feed_dict={X:batch_xs, y:batch_ys})\n",
    "        avg_cost += c/total_batch # epoch 하나당 cost의 평균\n",
    "        \n",
    "    print(avg_cost,\"\\t\", a)\n",
    "        "
   ]
  },
  {
   "cell_type": "code",
   "execution_count": 103,
   "metadata": {},
   "outputs": [
    {
     "name": "stdout",
     "output_type": "stream",
     "text": [
      "정확도 : 0.90854543\n"
     ]
    }
   ],
   "source": [
    "print(\"정확도 :\", sess.run(accuracy, feed_dict={X:mnist.train.images, y:mnist.train.labels}))"
   ]
  },
  {
   "cell_type": "code",
   "execution_count": 108,
   "metadata": {},
   "outputs": [
    {
     "data": {
      "text/plain": [
       "5024"
      ]
     },
     "execution_count": 108,
     "metadata": {},
     "output_type": "execute_result"
    }
   ],
   "source": [
    "# 랜덤하게 데이터를 가져와서 맞게 예측했는지 확인\n",
    "import random \n",
    "r = random.randint(0, mnist.test.num_examples-1)\n",
    "r"
   ]
  },
  {
   "cell_type": "code",
   "execution_count": 109,
   "metadata": {},
   "outputs": [
    {
     "name": "stdout",
     "output_type": "stream",
     "text": [
      "label : [2]\n"
     ]
    }
   ],
   "source": [
    "print(\"label :\", sess.run(tf.argmax(mnist.test.labels[r:r+1], 1)))"
   ]
  },
  {
   "cell_type": "code",
   "execution_count": 110,
   "metadata": {},
   "outputs": [
    {
     "name": "stdout",
     "output_type": "stream",
     "text": [
      "prediction : [2]\n"
     ]
    }
   ],
   "source": [
    "print(\"prediction :\", sess.run(tf.argmax(hypot, 1), \n",
    "                               feed_dict={X:mnist.test.images[r:r+1]}))"
   ]
  },
  {
   "cell_type": "code",
   "execution_count": 111,
   "metadata": {},
   "outputs": [
    {
     "data": {
      "text/plain": [
       "<matplotlib.image.AxesImage at 0x1461a8040c8>"
      ]
     },
     "execution_count": 111,
     "metadata": {},
     "output_type": "execute_result"
    },
    {
     "data": {
      "image/png": "[encoded data removed]",
      "text/plain": [
       "<Figure size 432x288 with 1 Axes>"
      ]
     },
     "metadata": {
      "needs_background": "light"
     },
     "output_type": "display_data"
    }
   ],
   "source": [
    "plt.imshow(mnist.test.images[r:r+1].reshape(28,28))"
   ]
  },
  {
   "cell_type": "code",
   "execution_count": 2,
   "metadata": {},
   "outputs": [],
   "source": [
    "x_data = [1, 2, 3, 4, 5, 6, 7]\n",
    "y_data = [25000, 55000, 75000, 110000, 128000, 155000, 180000]"
   ]
  },
  {
   "cell_type": "code",
   "execution_count": 3,
   "metadata": {},
   "outputs": [
    {
     "name": "stdout",
     "output_type": "stream",
     "text": [
      "[206524.5]\n"
     ]
    }
   ],
   "source": [
    "X = tf.placeholder(tf.float32, shape=[None])\n",
    "y = tf.placeholder(tf.float32, shape=[None])\n",
    "W = tf.Variable(tf.random_normal([1]), dtype = tf.float32)\n",
    "b = tf.Variable(tf.random_normal([1]), dtype = tf.float32)\n",
    "hypot = W * X + b\n",
    "cost = tf.reduce_mean(tf.square(hypot - y))\n",
    "optimizer = tf.train.GradientDescentOptimizer(learning_rate=0.01)\n",
    "train = optimizer.minimize(cost)\n",
    "sess = tf.Session()\n",
    "sess.run(tf.global_variables_initializer())\n",
    "for step in range(1001):\n",
    "    _, c, weight, bias=sess.run([train, cost, W, b], feed_dict={X:x_data,\n",
    "                                                       y: y_data })\n",
    "print(sess.run(hypot, feed_dict={X : [8]}))\n",
    "sess.close()"
   ]
  },
  {
   "cell_type": "code",
   "execution_count": 7,
   "metadata": {},
   "outputs": [],
   "source": [
    "x_data = [[1, 2], [2, 3], [3, 1], [4, 3], [5, 3], [6, 2]]\n",
    "y_data = [[0], [0], [0], [1], [1], [1]]"
   ]
  },
  {
   "cell_type": "code",
   "execution_count": 10,
   "metadata": {},
   "outputs": [
    {
     "data": {
      "text/plain": [
       "[array([[0.],\n",
       "        [0.],\n",
       "        [0.],\n",
       "        [1.],\n",
       "        [1.],\n",
       "        [1.]], dtype=float32),\n",
       " 1.0]"
      ]
     },
     "execution_count": 10,
     "metadata": {},
     "output_type": "execute_result"
    }
   ],
   "source": [
    "X = tf.placeholder(tf.float32, shape = [None, 2])\n",
    "y = tf.placeholder(tf.float32, shape = [None, 1])\n",
    "\n",
    "W = tf.Variable(tf.random_normal([2, 1]))\n",
    "b = tf.Variable(tf.random_normal([1]))\n",
    "\n",
    "hypot = tf.sigmoid(tf.matmul(X, W) + b)\n",
    "\n",
    "cost = -tf.reduce_mean(y * tf.log(hypot) + (1 - y) * tf.log(1 - hypot))\n",
    "train = tf.train.GradientDescentOptimizer(learning_rate=0.01).minimize(cost)\n",
    "\n",
    "sess = tf.Session()\n",
    "sess.run(tf.global_variables_initializer())\n",
    "for step in range(10001):\n",
    "    sess.run(train, feed_dict={X:x_data, y:y_data})\n",
    "pred = tf.cast(hypot>0.5, dtype=tf.float32)\n",
    "accuracy = tf.reduce_mean(tf.cast(tf.equal(pred, y), dtype=tf.float32))\n",
    "sess.run([pred, accuracy], feed_dict = {X:x_data, y:y_data})\n"
   ]
  },
  {
   "cell_type": "code",
   "execution_count": null,
   "metadata": {},
   "outputs": [],
   "source": [
    "sess.close()"
   ]
  },
  {
   "cell_type": "code",
   "execution_count": null,
   "metadata": {},
   "outputs": [],
   "source": []
  },
  {
   "cell_type": "code",
   "execution_count": null,
   "metadata": {},
   "outputs": [],
   "source": []
  },
  {
   "cell_type": "code",
   "execution_count": null,
   "metadata": {},
   "outputs": [],
   "source": []
  },
  {
   "cell_type": "code",
   "execution_count": null,
   "metadata": {},
   "outputs": [],
   "source": []
  },
  {
   "cell_type": "code",
   "execution_count": null,
   "metadata": {},
   "outputs": [],
   "source": []
  },
  {
   "cell_type": "code",
   "execution_count": null,
   "metadata": {},
   "outputs": [],
   "source": []
  },
  {
   "cell_type": "code",
   "execution_count": null,
   "metadata": {},
   "outputs": [],
   "source": []
  },
  {
   "cell_type": "code",
   "execution_count": null,
   "metadata": {},
   "outputs": [],
   "source": []
  },
  {
   "cell_type": "code",
   "execution_count": null,
   "metadata": {},
   "outputs": [],
   "source": []
  }
 ],
 "metadata": {
  "kernelspec": {
   "display_name": "Python 3",
   "language": "python",
   "name": "python3"
  },
  "language_info": {
   "codemirror_mode": {
    "name": "ipython",
    "version": 3
   },
   "file_extension": ".py",
   "mimetype": "text/x-python",
   "name": "python",
   "nbconvert_exporter": "python",
   "pygments_lexer": "ipython3",
   "version": "3.8.3"
  }
 },
 "nbformat": 4,
 "nbformat_minor": 4
}
