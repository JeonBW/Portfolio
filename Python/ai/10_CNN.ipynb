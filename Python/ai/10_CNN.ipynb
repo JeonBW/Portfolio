{
 "cells": [
  {
   "cell_type": "code",
   "execution_count": 1,
   "metadata": {},
   "outputs": [],
   "source": [
    "import tensorflow as tf\n",
    "import numpy as np\n",
    "import pandas as pd\n",
    "import matplotlib.pylab as plt\n",
    "import sys"
   ]
  },
  {
   "cell_type": "code",
   "execution_count": null,
   "metadata": {},
   "outputs": [],
   "source": [
    "# 한장의 이미지에서 다시 쪼개서 입력을 받아옴\n",
    "# 단순히 쪼개는 것이 아니라 특징적이고 임팩트 있는것만 추려서 온다, (ex 전체 784개중 500개가 특징이 있다면 500개만 가져오는)\n",
    "# 특정한 연산을 통해 뽑는다. (Convolutional)\n",
    "\n",
    "# 필터 : 가중치\n",
    "# strde : 원본이미지에서 필터가 몇칸씩 움직이는지 (움직이는 단위)\n",
    "# pad : 이미지 테두리에 의미없는 값을 넣는 것\n",
    "# POOL(Pooling) : 샘플링 (크기를 줄여)(대표적으로 하나를 강조하기위해 특정부분을 따오는 것)\n",
    "# Pool : 이미지의 손실을 최소하하며 크기를 작게해 효율을 극대화 할 수 있다.\n",
    "# feature : 컬럼들 중에서 훈련할때 충분한 기여도가 있는 컬럼들 \n",
    "# CNN은 이미지 분류에만 쓰이는 것이 아니다."
   ]
  },
  {
   "cell_type": "markdown",
   "metadata": {},
   "source": [
    "#### 샘플1 : 3 * 3 * 1 * 1 이미지 준비, 2 * 2 * 1 필터 준비   \n",
    "- 3 * 3 이미지 , 1색상(흑백), 1장 (기본적으로 이미지는 4차원)\n",
    "- 2 * 필터, 1장"
   ]
  },
  {
   "cell_type": "code",
   "execution_count": 4,
   "metadata": {},
   "outputs": [
    {
     "data": {
      "text/plain": [
       "<matplotlib.image.AxesImage at 0x27ee5cd6f08>"
      ]
     },
     "execution_count": 4,
     "metadata": {},
     "output_type": "execute_result"
    },
    {
     "data": {
      "image/png": "[encoded data removed]",
      "text/plain": [
       "<Figure size 432x288 with 1 Axes>"
      ]
     },
     "metadata": {
      "needs_background": "light"
     },
     "output_type": "display_data"
    }
   ],
   "source": [
    "image = np.array([[[[1],[2],[3]],\n",
    "                   [[4],[5],[6]], \n",
    "                   [[7],[8],[9]]]], dtype = np.float32)\n",
    "image.shape\n",
    "# 갯수 / 크기 3*3 / 색상수\n",
    "plt.imshow(image.reshape(3, 3), cmap=\"Greys\")"
   ]
  },
  {
   "cell_type": "code",
   "execution_count": 9,
   "metadata": {},
   "outputs": [
    {
     "name": "stdout",
     "output_type": "stream",
     "text": [
      "(1, 2, 2, 1)\n",
      "[[12. 16.]\n",
      " [24. 28.]]\n"
     ]
    },
    {
     "data": {
      "image/png": "[encoded data removed]",
      "text/plain": [
       "<Figure size 432x288 with 1 Axes>"
      ]
     },
     "metadata": {
      "needs_background": "light"
     },
     "output_type": "display_data"
    }
   ],
   "source": [
    "# padding 없이 convolution layer 추출\n",
    "\n",
    "filter = tf.constant([[[[1.]],[[1.]]],\n",
    "                      [[[1.]],[[1.]]]]) #원래 필터는 스스로 학습하는 것이기 때문에 임의로 넣어준 값\n",
    "filter.shape\n",
    "conv2d = tf.nn.conv2d(image, filter, strides=[1, 1, 1, 1], padding=\"VALID\") \n",
    "# strides = 의미없는1 / 가로 한간 /세로 한칸 / 의미없는 1(차원을 맞추기 위해서)\n",
    "# padding 을 넣지 않을때는 VALID\n",
    "\n",
    "sess = tf.Session()\n",
    "conv2d_img = sess.run(conv2d)\n",
    "print(conv2d_img.shape)\n",
    "# 1+2+4+5 / 2+3+5+6 / 4+5+7+8 / 5+6+8+9 \n",
    "# 12 /16 / 24 / 28 \n",
    "\n",
    "conv2d_img = np.swapaxes(conv2d_img, 0, 3)\n",
    "for i, one_img in enumerate(conv2d_img):\n",
    "    print(one_img.reshape(2, 2))\n",
    "    plt.subplot(1, 2, i+1)\n",
    "    plt.imshow(one_img.reshape(2,2), cmap=\"Greys\")\n"
   ]
  },
  {
   "cell_type": "code",
   "execution_count": 10,
   "metadata": {},
   "outputs": [
    {
     "name": "stdout",
     "output_type": "stream",
     "text": [
      "(1, 3, 3, 1)\n",
      "[[12. 16.  9.]\n",
      " [24. 28. 15.]\n",
      " [15. 17.  9.]]\n"
     ]
    },
    {
     "data": {
      "image/png": "[encoded data removed]",
      "text/plain": [
       "<Figure size 432x288 with 1 Axes>"
      ]
     },
     "metadata": {
      "needs_background": "light"
     },
     "output_type": "display_data"
    }
   ],
   "source": [
    "# padding을 이용한 convolution layer 추출\n",
    "\n",
    "filter = tf.constant([[[[1.]],[[1.]]],\n",
    "                      [[[1.]],[[1.]]]]) #원래 필터는 스스로 학습하는 것이기 때문에 임의로 넣어준 값\n",
    "filter.shape\n",
    "conv2d = tf.nn.conv2d(image, filter, strides=[1, 1, 1, 1], padding=\"SAME\") \n",
    "# strides = 의미없는1 / 가로 한간 /세로 한칸 / 의미없는 1(차원을 맞추기 위해서)\n",
    "# padding 을 넣을 때는 SAME (가로 세로 똑같이 0으로 채우겠다)\n",
    "\n",
    "sess = tf.Session()\n",
    "conv2d_img = sess.run(conv2d)\n",
    "print(conv2d_img.shape)\n",
    "# 1+2+4+5 / 2+3+5+6 / 4+5+7+8 / 5+6+8+9 \n",
    "# 12 /16 / 24 / 28 \n",
    "\n",
    "conv2d_img = np.swapaxes(conv2d_img, 0, 3)\n",
    "for i, one_img in enumerate(conv2d_img):\n",
    "    print(one_img.reshape(3, 3))\n",
    "    plt.subplot(1, 2, i+1)\n",
    "    plt.imshow(one_img.reshape(3,3), cmap=\"Greys\")\n"
   ]
  },
  {
   "cell_type": "code",
   "execution_count": 12,
   "metadata": {},
   "outputs": [
    {
     "name": "stdout",
     "output_type": "stream",
     "text": [
      "(1, 3, 3, 3)\n",
      "[[12. 16.  9.]\n",
      " [24. 28. 15.]\n",
      " [15. 17.  9.]]\n",
      "[[120. 160.  90.]\n",
      " [240. 280. 150.]\n",
      " [150. 170.  90.]]\n",
      "[[-12. -16.  -9.]\n",
      " [-24. -28. -15.]\n",
      " [-15. -17.  -9.]]\n"
     ]
    },
    {
     "data": {
      "image/png": "[encoded data removed]",
      "text/plain": [
       "<Figure size 432x288 with 3 Axes>"
      ]
     },
     "metadata": {
      "needs_background": "light"
     },
     "output_type": "display_data"
    }
   ],
   "source": [
    "# 3개의 필터사용(2 * 2 * 1 * 3)  -> 레이어가 3장 만들어져야 한다.\n",
    "\n",
    "filter = tf.constant([[[[1., 10, -1]],[[1., 10, -1]]],\n",
    "                      [[[1., 10, -1]],[[1., 10, -1]]]]) #원래 필터는 스스로 학습하는 것이기 때문에 임의로 넣어준 값\n",
    "filter.shape\n",
    "conv2d = tf.nn.conv2d(image, filter, strides=[1, 1, 1, 1], padding=\"SAME\") \n",
    "# strides = 의미없는1 / 가로 한간 /세로 한칸 / 의미없는 1(차원을 맞추기 위해서)\n",
    "# padding 을 넣을 때는 SAME (가로 세로 똑같이 0으로 채우겠다)\n",
    "\n",
    "sess = tf.Session()\n",
    "conv2d_img = sess.run(conv2d)\n",
    "print(conv2d_img.shape)\n",
    "# 1+2+4+5 / 2+3+5+6 / 4+5+7+8 / 5+6+8+9 \n",
    "# 12 /16 / 24 / 28 \n",
    "\n",
    "conv2d_img = np.swapaxes(conv2d_img, 0, 3)\n",
    "for i, one_img in enumerate(conv2d_img):\n",
    "    print(one_img.reshape(3, 3))\n",
    "    plt.subplot(1, 3, i+1)\n",
    "    plt.imshow(one_img.reshape(3,3), cmap=\"Greys\")"
   ]
  },
  {
   "cell_type": "code",
   "execution_count": 17,
   "metadata": {},
   "outputs": [
    {
     "name": "stdout",
     "output_type": "stream",
     "text": [
      "(1, 1, 1, 1)\n",
      "[[[[4]]]]\n"
     ]
    }
   ],
   "source": [
    "# MaxPooling(2 * 2)\n",
    "\n",
    "image2 = tf.constant([[[[4],[3]],\n",
    "                        [[2],[1]]]])\n",
    "\n",
    "pool = tf.nn.max_pool(image2, ksize=[1, 2, 2, 1], strides=[1, 1, 1, 1], padding=\"VALID\" ) #maxpooling 크기만 지정해주어도 된다.\n",
    "sess=tf.Session()\n",
    "p = sess.run(pool)\n",
    "print(p.shape)\n",
    "print(p)\n"
   ]
  },
  {
   "cell_type": "code",
   "execution_count": 18,
   "metadata": {},
   "outputs": [
    {
     "name": "stdout",
     "output_type": "stream",
     "text": [
      "(1, 2, 2, 1)\n",
      "[[[[4]\n",
      "   [3]]\n",
      "\n",
      "  [[2]\n",
      "   [1]]]]\n"
     ]
    }
   ],
   "source": [
    "# MaxPooling(2 * 2)\n",
    "\n",
    "image2 = tf.constant([[[[4],[3]],\n",
    "                        [[2],[1]]]])\n",
    "\n",
    "pool = tf.nn.max_pool(image2, ksize=[1, 2, 2, 1], strides=[1, 1, 1, 1], padding=\"SAME\" ) #maxpooling 크기만 지정해주어도 된다.\n",
    "sess=tf.Session()\n",
    "p = sess.run(pool)\n",
    "print(p.shape)\n",
    "print(p)\n"
   ]
  },
  {
   "cell_type": "markdown",
   "metadata": {},
   "source": [
    "### MNIST를 이용한 CNN"
   ]
  },
  {
   "cell_type": "code",
   "execution_count": 4,
   "metadata": {},
   "outputs": [
    {
     "name": "stdout",
     "output_type": "stream",
     "text": [
      "WARNING:tensorflow:From <ipython-input-4-91728e189d13>:2: read_data_sets (from tensorflow.contrib.learn.python.learn.datasets.mnist) is deprecated and will be removed in a future version.\n",
      "Instructions for updating:\n",
      "Please use alternatives such as official/mnist/dataset.py from tensorflow/models.\n",
      "WARNING:tensorflow:From C:\\Users\\Master\\anaconda3\\envs\\tf1\\lib\\site-packages\\tensorflow_core\\contrib\\learn\\python\\learn\\datasets\\mnist.py:260: maybe_download (from tensorflow.contrib.learn.python.learn.datasets.base) is deprecated and will be removed in a future version.\n",
      "Instructions for updating:\n",
      "Please write your own downloading logic.\n",
      "WARNING:tensorflow:From C:\\Users\\Master\\anaconda3\\envs\\tf1\\lib\\site-packages\\tensorflow_core\\contrib\\learn\\python\\learn\\datasets\\mnist.py:262: extract_images (from tensorflow.contrib.learn.python.learn.datasets.mnist) is deprecated and will be removed in a future version.\n",
      "Instructions for updating:\n",
      "Please use tf.data to implement this functionality.\n",
      "Extracting data/MNIST_data/train-images-idx3-ubyte.gz\n",
      "WARNING:tensorflow:From C:\\Users\\Master\\anaconda3\\envs\\tf1\\lib\\site-packages\\tensorflow_core\\contrib\\learn\\python\\learn\\datasets\\mnist.py:267: extract_labels (from tensorflow.contrib.learn.python.learn.datasets.mnist) is deprecated and will be removed in a future version.\n",
      "Instructions for updating:\n",
      "Please use tf.data to implement this functionality.\n",
      "Extracting data/MNIST_data/train-labels-idx1-ubyte.gz\n",
      "WARNING:tensorflow:From C:\\Users\\Master\\anaconda3\\envs\\tf1\\lib\\site-packages\\tensorflow_core\\contrib\\learn\\python\\learn\\datasets\\mnist.py:110: dense_to_one_hot (from tensorflow.contrib.learn.python.learn.datasets.mnist) is deprecated and will be removed in a future version.\n",
      "Instructions for updating:\n",
      "Please use tf.one_hot on tensors.\n",
      "Extracting data/MNIST_data/t10k-images-idx3-ubyte.gz\n",
      "Extracting data/MNIST_data/t10k-labels-idx1-ubyte.gz\n",
      "WARNING:tensorflow:From C:\\Users\\Master\\anaconda3\\envs\\tf1\\lib\\site-packages\\tensorflow_core\\contrib\\learn\\python\\learn\\datasets\\mnist.py:290: DataSet.__init__ (from tensorflow.contrib.learn.python.learn.datasets.mnist) is deprecated and will be removed in a future version.\n",
      "Instructions for updating:\n",
      "Please use alternatives such as official/mnist/dataset.py from tensorflow/models.\n"
     ]
    }
   ],
   "source": [
    "from tensorflow.examples.tutorials.mnist import input_data\n",
    "mnist = input_data.read_data_sets(\"data/MNIST_data/\", one_hot=True)\n"
   ]
  },
  {
   "cell_type": "code",
   "execution_count": 10,
   "metadata": {},
   "outputs": [
    {
     "name": "stdout",
     "output_type": "stream",
     "text": [
      "(784,)\n"
     ]
    },
    {
     "data": {
      "text/plain": [
       "<matplotlib.image.AxesImage at 0x1c47c32ff08>"
      ]
     },
     "execution_count": 10,
     "metadata": {},
     "output_type": "execute_result"
    },
    {
     "data": {
      "image/png": "[encoded data removed]",
      "text/plain": [
       "<Figure size 432x288 with 1 Axes>"
      ]
     },
     "metadata": {
      "needs_background": "light"
     },
     "output_type": "display_data"
    }
   ],
   "source": [
    "# 데이터 확인 \n",
    "img = mnist.train.images[0]\n",
    "print(img.shape)\n",
    "\n",
    "plt.imshow(img.reshape(28, 28))"
   ]
  },
  {
   "cell_type": "code",
   "execution_count": 61,
   "metadata": {},
   "outputs": [],
   "source": [
    "# 입력값 준비\n",
    "tf.reset_default_graph()\n",
    "X = tf.placeholder(tf.float32, shape = [None, 784])\n",
    "y = tf.placeholder(tf.float32, shape = [None, 10])"
   ]
  },
  {
   "cell_type": "code",
   "execution_count": 62,
   "metadata": {},
   "outputs": [
    {
     "name": "stdout",
     "output_type": "stream",
     "text": [
      "Tensor(\"Conv2D:0\", shape=(?, 28, 28, 32), dtype=float32)\n",
      "Tensor(\"Relu:0\", shape=(?, 28, 28, 32), dtype=float32)\n",
      "Tensor(\"MaxPool:0\", shape=(?, 14, 14, 32), dtype=float32)\n"
     ]
    }
   ],
   "source": [
    "# 첫번째 Convolution Layer 준비 (28*28이미지에서 특징을 뽑아내 새로운 이미지를 만들기)\n",
    "# 필터 : 크기는 3*3 갯수는 32, 색상수는 1\n",
    "\n",
    "# image는 1차원이므로 4차원으로 바꿔주어야 한다. / 그냥 X값으로 넘겨주면 차원이 다르기 때문에 안된다.\n",
    "X_img = tf.reshape(X, [-1, 28, 28, 1])\n",
    "W1 = tf.Variable(tf.random_normal([3, 3, 1, 32], stddev=0.01)) # 필터는 가중치이므로 W1은 필터가 된다.\n",
    "L1 = tf.nn.conv2d(X_img, W1, strides=[1, 1, 1, 1], padding=\"SAME\")\n",
    "print(L1) # 패딩을하면 크기가 똑같이 유지되고 안하면 줄어든다.\n",
    "\n",
    "L1 = tf.nn.relu(L1) # relu로 한번 보정\n",
    "print(L1)\n",
    "\n",
    "# 풀링 작업도 꼭 할 필요는 없다\n",
    "L1 = tf.nn.max_pool(L1, ksize=[1, 2, 2, 1], strides = [1, 2, 2, 1], padding = \"SAME\")\n",
    "print(L1)"
   ]
  },
  {
   "cell_type": "code",
   "execution_count": 63,
   "metadata": {},
   "outputs": [
    {
     "name": "stdout",
     "output_type": "stream",
     "text": [
      "Tensor(\"Conv2D_1:0\", shape=(?, 14, 14, 64), dtype=float32)\n",
      "Tensor(\"Relu_1:0\", shape=(?, 14, 14, 64), dtype=float32)\n",
      "Tensor(\"MaxPool_1:0\", shape=(?, 7, 7, 64), dtype=float32)\n"
     ]
    }
   ],
   "source": [
    "# 두 번째 Convolution Layer 준비\n",
    "# 필터 : 크기는 3*3, 갯수 64 색상수는 1\n",
    "W2 = tf.Variable(tf.random_normal([3,3, 32, 64], stddev=0.01)) # 색상수는 계속 가져가므로 갯수를 입력해야한다.\n",
    "L2 = tf.nn.conv2d(L1, W2, strides=[1, 1, 1, 1], padding=\"SAME\")\n",
    "print(L2)\n",
    "L2 = tf.nn.relu(L2)\n",
    "print(L2)\n",
    "L2=tf.nn.max_pool(L2, ksize=[1, 2, 2, 1], strides = [1, 2, 2, 1], padding = \"SAME\")\n",
    "print(L2)"
   ]
  },
  {
   "cell_type": "markdown",
   "metadata": {},
   "source": [
    "### Simple Fc"
   ]
  },
  {
   "cell_type": "code",
   "execution_count": 23,
   "metadata": {},
   "outputs": [
    {
     "name": "stdout",
     "output_type": "stream",
     "text": [
      "epoch: 0001     cost= 0.625850211\n",
      "epoch: 0002     cost= 0.164451006\n",
      "epoch: 0003     cost= 0.118556232\n",
      "epoch: 0004     cost= 0.091621856\n",
      "epoch: 0005     cost= 0.076944822\n",
      "epoch: 0006     cost= 0.067492080\n",
      "epoch: 0007     cost= 0.058324449\n",
      "epoch: 0008     cost= 0.053118666\n",
      "epoch: 0009     cost= 0.046739729\n",
      "epoch: 0010     cost= 0.043410151\n",
      "epoch: 0011     cost= 0.040252793\n",
      "epoch: 0012     cost= 0.036505408\n",
      "epoch: 0013     cost= 0.033224731\n",
      "epoch: 0014     cost= 0.032821807\n",
      "epoch: 0015     cost= 0.029007500\n",
      "epoch: 0016     cost= 0.026288938\n",
      "epoch: 0017     cost= 0.024646659\n",
      "epoch: 0018     cost= 0.022953927\n",
      "epoch: 0019     cost= 0.021393558\n",
      "epoch: 0020     cost= 0.020679104\n",
      "훈련 종료\n"
     ]
    },
    {
     "ename": "NameError",
     "evalue": "name 'accuracy' is not defined",
     "output_type": "error",
     "traceback": [
      "\u001b[1;31m---------------------------------------------------------------------------\u001b[0m",
      "\u001b[1;31mNameError\u001b[0m                                 Traceback (most recent call last)",
      "\u001b[1;32m<ipython-input-23-c81ff099cafe>\u001b[0m in \u001b[0;36m<module>\u001b[1;34m\u001b[0m\n\u001b[0;32m     37\u001b[0m \u001b[0mprint\u001b[0m\u001b[1;33m(\u001b[0m\u001b[1;34m\"훈련 종료\"\u001b[0m\u001b[1;33m)\u001b[0m\u001b[1;33m\u001b[0m\u001b[1;33m\u001b[0m\u001b[0m\n\u001b[0;32m     38\u001b[0m \u001b[1;33m\u001b[0m\u001b[0m\n\u001b[1;32m---> 39\u001b[1;33m print(\"정확도 : \", sess.run(accuracy, feed_dict={X:mnist.test.images,\n\u001b[0m\u001b[0;32m     40\u001b[0m                                              y:mnist.test.labels, prob:1}))\n",
      "\u001b[1;31mNameError\u001b[0m: name 'accuracy' is not defined"
     ]
    }
   ],
   "source": [
    "#### Fully Connected Layer (Dense Layer)\n",
    "\n",
    "# 하이퍼 파라미터(hyper parameter) 준비\n",
    "learning_rate = 0.001\n",
    "training_epoch = 20\n",
    "batch_size = 500 \n",
    "\n",
    "# tensor graph 작성 (y는 위에 미리 작성해놓음)\n",
    "L2 = tf.reshape(L2,[-1, 7*7*64]) # 4차원을 2차원으로 바꿔주어야한다. -> 평면화작업\n",
    "\n",
    "W3 = tf.Variable(tf.random_normal([7*7*64, 10]))\n",
    "b = tf.Variable(tf.random_normal([10]))\n",
    "\n",
    "# 비용 계산\n",
    "logit = tf.matmul(L2, W3) + b\n",
    "\n",
    "cost = tf.reduce_mean(tf.nn.softmax_cross_entropy_with_logits_v2(logits=logit, labels=y))\n",
    "\n",
    "#최저 비용 구하기\n",
    "train = tf.train.AdamOptimizer(learning_rate=learning_rate).minimize(cost)\n",
    "\n",
    "### tensor graph 실행\n",
    "sess = tf.Session()\n",
    "sess.run(tf.global_variables_initializer())\n",
    "\n",
    "for epoch in range(training_epoch):\n",
    "    total_batch = int(mnist.train.num_examples / batch_size)\n",
    "    avg_cost = 0\n",
    "    \n",
    "    for i in range(total_batch):\n",
    "        batch_xs, batch_ys = mnist.train.next_batch(batch_size)\n",
    "        _, c = sess.run([train, cost], feed_dict={X:batch_xs, y:batch_ys})\n",
    "        avg_cost += c/total_batch\n",
    "        \n",
    "    print(\"epoch:\", \"%04d\"%(epoch+1), \"    cost=\", \"{:.9f}\".format(avg_cost))\n",
    "\n",
    "print(\"훈련 종료\")\n"
   ]
  },
  {
   "cell_type": "code",
   "execution_count": 24,
   "metadata": {},
   "outputs": [
    {
     "name": "stdout",
     "output_type": "stream",
     "text": [
      "정확도 :  0.985\n"
     ]
    }
   ],
   "source": [
    "# 정확도\n",
    "is_correct = tf.equal(tf.argmax(logit,1), tf.argmax(y, 1))\n",
    "accuracy = tf.reduce_mean(tf.cast(is_correct, tf.float32))\n",
    "\n",
    "print(\"정확도 : \", sess.run(accuracy, feed_dict={X:mnist.test.images,\n",
    "                                             y:mnist.test.labels}))"
   ]
  },
  {
   "cell_type": "markdown",
   "metadata": {},
   "source": [
    "#### Deep FC\n",
    "\n",
    "+ 레이어 총 3개  사용, 입출력 갯수 128개 사용\n",
    "+ xavier 초기화\n",
    "+ dropout 사용\n",
    "+ training_epoch : 15\n",
    "+ batch_size = 100"
   ]
  },
  {
   "cell_type": "code",
   "execution_count": 59,
   "metadata": {},
   "outputs": [
    {
     "name": "stdout",
     "output_type": "stream",
     "text": [
      "epoch: 0001     cost= 0.544909968\n",
      "epoch: 0002     cost= 0.161731830\n",
      "epoch: 0003     cost= 0.115805328\n",
      "epoch: 0004     cost= 0.093398213\n",
      "epoch: 0005     cost= 0.081681222\n",
      "epoch: 0006     cost= 0.068695409\n",
      "epoch: 0007     cost= 0.063793909\n",
      "epoch: 0008     cost= 0.055340048\n",
      "epoch: 0009     cost= 0.052345800\n",
      "epoch: 0010     cost= 0.046436896\n",
      "epoch: 0011     cost= 0.042370629\n",
      "epoch: 0012     cost= 0.038211859\n",
      "epoch: 0013     cost= 0.035825579\n",
      "epoch: 0014     cost= 0.033413967\n",
      "epoch: 0015     cost= 0.031664058\n",
      "훈련 종료\n",
      "정확도 :  0.9905\n"
     ]
    }
   ],
   "source": [
    "#### Fully Connected Layer (Dense Layer)\n",
    "# 하이퍼 파라미터(hyper parameter) 준비\n",
    "learning_rate = 0.001\n",
    "training_epoch = 15\n",
    "batch_size = 100 \n",
    "prob = tf.placeholder(tf.float32)\n",
    "\n",
    "# tensor graph 작성 \n",
    "L2 = tf.reshape(L2,[-1, 7*7*64]) \n",
    "W3 = tf.get_variable(\"W3\", shape = [7*7*64, 128], initializer=tf.contrib.layers.xavier_initializer())\n",
    "b = tf.Variable(tf.random_normal([128]))\n",
    "logit = tf.matmul(L2, W3) + b\n",
    "hypot1 = tf.nn.relu(logit)\n",
    "hypot1 = tf.nn.dropout(hypot1, keep_prob=prob)\n",
    "\n",
    "W4 = tf.get_variable(\"W4\", shape = [128, 128], initializer=tf.contrib.layers.xavier_initializer())\n",
    "b2 = tf.Variable(tf.random_normal([128]))\n",
    "logit2 = tf.matmul(hypot1, W4) + b2\n",
    "hypot2 = tf.nn.relu(logit2)\n",
    "hypot2 = tf.nn.dropout(hypot2, keep_prob=prob)\n",
    "\n",
    "W5 = tf.get_variable(\"W5\", shape = [128, 10],initializer=tf.contrib.layers.xavier_initializer())\n",
    "b3 = tf.Variable(tf.random_normal([10]))\n",
    "logit3 = tf.matmul(hypot2, W5) + b3\n",
    "hypot3 = tf.nn.softmax(logit3)\n",
    "hypot3 = tf.nn.dropout(hypot3, keep_prob=prob)\n",
    "\n",
    "# 비용 계산\n",
    "\n",
    "\n",
    "cost = tf.reduce_mean(tf.nn.softmax_cross_entropy_with_logits_v2(logits=logit3, labels=y))\n",
    "\n",
    "#최저 비용 구하기\n",
    "train = tf.train.AdamOptimizer(learning_rate=learning_rate).minimize(cost)\n",
    "\n",
    "\n",
    "is_correct = tf.equal(tf.argmax(hypot3,1), tf.argmax(y, 1))\n",
    "accuracy = tf.reduce_mean(tf.cast(is_correct, tf.float32))\n",
    "\n",
    "### tensor graph 실행\n",
    "sess = tf.Session()\n",
    "sess.run(tf.global_variables_initializer())\n",
    "\n",
    "for epoch in range(training_epoch):\n",
    "    total_batch = int(mnist.train.num_examples / batch_size)\n",
    "    avg_cost = 0\n",
    "    \n",
    "    for i in range(total_batch):\n",
    "        batch_xs, batch_ys = mnist.train.next_batch(batch_size)\n",
    "        _, c = sess.run([train, cost], feed_dict={X:batch_xs, y:batch_ys, prob:0.7})\n",
    "        avg_cost += c/total_batch\n",
    "        \n",
    "    print(\"epoch:\", \"%04d\"%(epoch+1), \"    cost=\", \"{:.9f}\".format(avg_cost))\n",
    "\n",
    "print(\"훈련 종료\")\n",
    "print(\"정확도 : \", sess.run(accuracy, feed_dict={X:mnist.test.images,\n",
    "                                             y:mnist.test.labels, prob:1}))"
   ]
  },
  {
   "cell_type": "code",
   "execution_count": null,
   "metadata": {},
   "outputs": [],
   "source": [
    "# 선생님 코드\n",
    "\n",
    "learning_rate = 0.001\n",
    "training_epoch = 15\n",
    "batch_size = 100 \n",
    "prob = tf.placeholder(tf.float32)\n",
    "\n",
    "L2 = tf.reshape(L2,[-1, 7*7*64]) # 4차원을 2차원으로 바꿔주어야한다.\n",
    "W3 = tf.get_variable(\"W3\", shape = [7*7*64, 128], initializer=tf.contrib.layers.xavier_initializer())\n",
    "b3 = tf.Variable(tf.random_normal([128]))\n",
    "logit3 = tf.matmul(L2, W3) + b3\n",
    "L3 = tf.nn.relu(logit3)\n",
    "L3 = tf.nn.dropout(L3, keep_prob=prob)\n",
    "\n",
    "W4 = tf.get_variable(\"W4\", shape = [128, 128], initializer=tf.contrib.layers.xavier_initializer())\n",
    "b4 = tf.Variable(tf.random_normal([128]))\n",
    "logit4 = tf.matmul(L3, W4) + b4\n",
    "L4 = tf.nn.relu(logit4)\n",
    "L4 = tf.nn.dropout(L4, keep_prob=prob)\n",
    "\n",
    "W5 = tf.get_variable(\"W5\", shape = [128, 10], initializer=tf.contrib.layers.xavier_initializer())\n",
    "b5 = tf.Variable(tf.random_normal([10]))\n",
    "logit5 = tf.matmul(L4, W5) + b5\n",
    "# cost 함수에 softmax_cross_entropy_with_logits_v2 를 썼기 때문에 softmax를 사용하지 않아도 된다.\n",
    "\n",
    "cost = tf.reduce_mean(tf.nn.softmax_cross_entropy_with_logits_v2(logits=logit5, labels=y))\n",
    "\n",
    "#최저 비용 구하기\n",
    "train = tf.train.AdamOptimizer(learning_rate=learning_rate).minimize(cost)\n",
    "\n",
    "\n",
    "is_correct = tf.equal(tf.argmax(hypot3,1), tf.argmax(y, 1))\n",
    "accuracy = tf.reduce_mean(tf.cast(is_correct, tf.float32))\n",
    "\n",
    "### tensor graph 실행\n",
    "sess = tf.Session()\n",
    "sess.run(tf.global_variables_initializer())\n",
    "\n",
    "for epoch in range(training_epoch):\n",
    "    total_batch = int(mnist.train.num_examples / batch_size)\n",
    "    avg_cost = 0\n",
    "    \n",
    "    for i in range(total_batch):\n",
    "        batch_xs, batch_ys = mnist.train.next_batch(batch_size)\n",
    "        _, c = sess.run([train, cost], feed_dict={X:batch_xs, y:batch_ys, prob:0.7})\n",
    "        avg_cost += c/total_batch\n",
    "        \n",
    "    print(\"epoch:\", \"%04d\"%(epoch+1), \"    cost=\", \"{:.9f}\".format(avg_cost))\n",
    "\n",
    "print(\"훈련 종료\")\n",
    "print(\"정확도 : \", sess.run(accuracy, feed_dict={X:mnist.test.images,\n",
    "                                             y:mnist.test.labels, prob:1}))"
   ]
  },
  {
   "cell_type": "code",
   "execution_count": 64,
   "metadata": {},
   "outputs": [
    {
     "name": "stdout",
     "output_type": "stream",
     "text": [
      "epoch: 0001     cost= 0.485278321\n",
      "epoch: 0002     cost= 0.146720408\n",
      "epoch: 0003     cost= 0.107343161\n",
      "epoch: 0004     cost= 0.083774315\n",
      "epoch: 0005     cost= 0.073182316\n",
      "epoch: 0006     cost= 0.063688113\n",
      "epoch: 0007     cost= 0.056602669\n",
      "epoch: 0008     cost= 0.050502903\n",
      "epoch: 0009     cost= 0.045932692\n",
      "epoch: 0010     cost= 0.039452361\n",
      "epoch: 0011     cost= 0.038640013\n",
      "epoch: 0012     cost= 0.033585322\n",
      "epoch: 0013     cost= 0.031616145\n",
      "epoch: 0014     cost= 0.030892855\n",
      "epoch: 0015     cost= 0.026682566\n",
      "훈련 종료\n",
      "정확도 :  0.9916\n"
     ]
    }
   ],
   "source": []
  },
  {
   "cell_type": "markdown",
   "metadata": {},
   "source": [
    "### 교통표지판 인식 \n",
    "\n",
    "+ https://benchmark.ini.rub.de/gtsrb_dataset.html\n",
    "    + GTSRB_Final_Test_Images.zip\n",
    "    + GTSRB_Final_Training_Images.zip (표지판의 종류 43개)\n",
    "    \n",
    "\n",
    "+ 이미지는(32 * 32) > Conv Layer 1 (Pooling) > Conv Layer 2 (Pooling) > FC"
   ]
  },
  {
   "cell_type": "markdown",
   "metadata": {},
   "source": [
    "#### 이미지 전처리 "
   ]
  },
  {
   "cell_type": "code",
   "execution_count": 2,
   "metadata": {},
   "outputs": [],
   "source": [
    "import glob \n",
    "from skimage.color import rgb2lab # 컬러색상을 lab형태로 바꿔 단순화 시킨다.\n",
    "from skimage.transform import resize # 이미지의 사이즈 조절 \n",
    "from collections import namedtuple  # 읽기 전용 dict\n",
    "np.random.seed(101)"
   ]
  },
  {
   "cell_type": "code",
   "execution_count": 3,
   "metadata": {},
   "outputs": [],
   "source": [
    "# 상수 정의  (절대로 변하지 않는 값)\n",
    "N_CLASSES = 43   # 상수는 대문자로 쓰는 것이 관례 \n",
    "RESIZED_IMAGE = (32, 32)"
   ]
  },
  {
   "cell_type": "code",
   "execution_count": 4,
   "metadata": {
    "collapsed": true
   },
   "outputs": [
    {
     "data": {
      "text/plain": [
       "['X',\n",
       " '__add__',\n",
       " '__class__',\n",
       " '__contains__',\n",
       " '__delattr__',\n",
       " '__dir__',\n",
       " '__doc__',\n",
       " '__eq__',\n",
       " '__format__',\n",
       " '__ge__',\n",
       " '__getattribute__',\n",
       " '__getitem__',\n",
       " '__getnewargs__',\n",
       " '__gt__',\n",
       " '__hash__',\n",
       " '__init__',\n",
       " '__init_subclass__',\n",
       " '__iter__',\n",
       " '__le__',\n",
       " '__len__',\n",
       " '__lt__',\n",
       " '__module__',\n",
       " '__mul__',\n",
       " '__ne__',\n",
       " '__new__',\n",
       " '__reduce__',\n",
       " '__reduce_ex__',\n",
       " '__repr__',\n",
       " '__rmul__',\n",
       " '__setattr__',\n",
       " '__sizeof__',\n",
       " '__slots__',\n",
       " '__str__',\n",
       " '__subclasshook__',\n",
       " '_asdict',\n",
       " '_field_defaults',\n",
       " '_fields',\n",
       " '_fields_defaults',\n",
       " '_make',\n",
       " '_replace',\n",
       " 'count',\n",
       " 'index',\n",
       " 'y']"
      ]
     },
     "execution_count": 4,
     "metadata": {},
     "output_type": "execute_result"
    }
   ],
   "source": [
    "Dataset = namedtuple(\"Dataset\", [\"X\", \"y\"]) \n",
    "# dict로 해도 되지만 namedtuple를 쓰면 값을 바꿀수 없어 안전하게 사용할 수 있다.\n",
    "dir(Dataset)"
   ]
  },
  {
   "cell_type": "code",
   "execution_count": 2,
   "metadata": {},
   "outputs": [
    {
     "ename": "NameError",
     "evalue": "name 'N_CLASSES' is not defined",
     "output_type": "error",
     "traceback": [
      "\u001b[1;31m---------------------------------------------------------------------------\u001b[0m",
      "\u001b[1;31mNameError\u001b[0m                                 Traceback (most recent call last)",
      "\u001b[1;32m<ipython-input-2-2dac90b96b12>\u001b[0m in \u001b[0;36m<module>\u001b[1;34m\u001b[0m\n\u001b[0;32m     30\u001b[0m     \u001b[1;32mreturn\u001b[0m \u001b[0mDataset\u001b[0m\u001b[1;33m(\u001b[0m\u001b[0mX\u001b[0m\u001b[1;33m=\u001b[0m\u001b[0mto_tf_format\u001b[0m\u001b[1;33m(\u001b[0m\u001b[0mimages\u001b[0m\u001b[1;33m)\u001b[0m\u001b[1;33m,\u001b[0m \u001b[0my\u001b[0m\u001b[1;33m=\u001b[0m\u001b[0mnp\u001b[0m\u001b[1;33m.\u001b[0m\u001b[0marray\u001b[0m\u001b[1;33m(\u001b[0m\u001b[0mlabels\u001b[0m\u001b[1;33m)\u001b[0m\u001b[1;33m)\u001b[0m\u001b[1;33m\u001b[0m\u001b[1;33m\u001b[0m\u001b[0m\n\u001b[0;32m     31\u001b[0m \u001b[1;31m#--------------------------------------------------------\u001b[0m\u001b[1;33m\u001b[0m\u001b[1;33m\u001b[0m\u001b[1;33m\u001b[0m\u001b[0m\n\u001b[1;32m---> 32\u001b[1;33m \u001b[0mds\u001b[0m \u001b[1;33m=\u001b[0m \u001b[0mread_dataset_ppm\u001b[0m\u001b[1;33m(\u001b[0m\u001b[1;34m\"data/GTSRB/Final_Training/Images\"\u001b[0m\u001b[1;33m,\u001b[0m \u001b[0mN_CLASSES\u001b[0m\u001b[1;33m,\u001b[0m \u001b[0mRESIZED_IMAGE\u001b[0m\u001b[1;33m)\u001b[0m\u001b[1;33m\u001b[0m\u001b[1;33m\u001b[0m\u001b[0m\n\u001b[0m\u001b[0;32m     33\u001b[0m \u001b[1;33m\u001b[0m\u001b[0m\n\u001b[0;32m     34\u001b[0m \u001b[0mprint\u001b[0m\u001b[1;33m(\u001b[0m\u001b[0mds\u001b[0m\u001b[1;33m.\u001b[0m\u001b[0mX\u001b[0m\u001b[1;33m.\u001b[0m\u001b[0mshape\u001b[0m\u001b[1;33m)\u001b[0m \u001b[1;31m#텐서플로우에서 입력받는 이미지값은 4차원이여야 한다.\u001b[0m\u001b[1;33m\u001b[0m\u001b[1;33m\u001b[0m\u001b[0m\n",
      "\u001b[1;31mNameError\u001b[0m: name 'N_CLASSES' is not defined"
     ]
    }
   ],
   "source": [
    "# 가급적이면 클래스로 관리하는 것이 편하다 .\n",
    "\n",
    "# 4차원으로 만들어주는 함수 \n",
    "def to_tf_format(imgs):\n",
    "    return np.stack([img[:,:,np.newaxis]for img in imgs], axis=0).astype(np.float32) \n",
    "#3차원을 계속 쌓아서 4차원으로 만든다.\n",
    "\n",
    "\n",
    "# 이미지 크기를 재조정하고 색상은 회색조로 변경하기 위한 함수, one-hot encoding\n",
    "def read_dataset_ppm(rootpath, n_labels, resize_to):\n",
    "    images = [] # X 값\n",
    "    labels = [] # y 값\n",
    "    \n",
    "    for c in range(n_labels):\n",
    "        full_path = rootpath +\"/\" + format(c, \"05d\") + \"/\" # rootpath경로안에 5자리만큼 0을채우고 끝에서부터 C라는 값이 채워지는\n",
    "        \n",
    "        for img_name in glob.glob(full_path+\"*.ppm\"):\n",
    "            img = plt.imread(img_name).astype(np.float32)\n",
    "            # 회색조 (최대한 컬러색상을 제거)\n",
    "            img = rgb2lab(img/255.0)[:,:,0] \n",
    "            \n",
    "            img = resize(img, resize_to, mode=\"reflect\")\n",
    "            \n",
    "            label = np.zeros((n_labels, ), dtype=np.float32) # n_labels의 갯수만큼 0으로 채워주곘다.\n",
    "            label[c] = 1.0\n",
    "            \n",
    "            images.append(img.astype(np.float32))\n",
    "            labels.append(label)\n",
    "            \n",
    "    return Dataset(X=to_tf_format(images), y=np.array(labels))\n",
    "#--------------------------------------------------------\n",
    "ds = read_dataset_ppm(\"data/GTSRB/Final_Training/Images\", N_CLASSES, RESIZED_IMAGE)\n",
    "\n",
    "print(ds.X.shape) #텐서플로우에서 입력받는 이미지값은 4차원이여야 한다.\n",
    "print(ds.y.shape)\n"
   ]
  },
  {
   "cell_type": "code",
   "execution_count": 6,
   "metadata": {},
   "outputs": [
    {
     "name": "stdout",
     "output_type": "stream",
     "text": [
      "[1. 0. 0. 0. 0. 0. 0. 0. 0. 0. 0. 0. 0. 0. 0. 0. 0. 0. 0. 0. 0. 0. 0. 0.\n",
      " 0. 0. 0. 0. 0. 0. 0. 0. 0. 0. 0. 0. 0. 0. 0. 0. 0. 0. 0.]\n",
      "[0. 0. 0. 0. 0. 0. 0. 0. 0. 0. 0. 0. 0. 0. 0. 0. 0. 0. 0. 0. 0. 0. 0. 0.\n",
      " 0. 0. 0. 0. 0. 0. 0. 0. 0. 0. 0. 0. 0. 0. 0. 0. 0. 0. 1.]\n"
     ]
    },
    {
     "data": {
      "image/png": "[encoded data removed]",
      "text/plain": [
       "<Figure size 432x288 with 1 Axes>"
      ]
     },
     "metadata": {
      "needs_background": "light"
     },
     "output_type": "display_data"
    }
   ],
   "source": [
    "# 데이터 확인\n",
    "plt.imshow(ds.X[0,:,:,:].reshape(RESIZED_IMAGE))\n",
    "print(ds.y[0,:])\n",
    "\n",
    "plt.imshow(ds.X[-1,:,:,:].reshape(RESIZED_IMAGE))\n",
    "print(ds.y[-1,:])"
   ]
  },
  {
   "cell_type": "code",
   "execution_count": 8,
   "metadata": {},
   "outputs": [
    {
     "name": "stdout",
     "output_type": "stream",
     "text": [
      "(29406, 32, 32, 1)\n",
      "(9803, 32, 32, 1)\n",
      "(29406, 43)\n",
      "(9803, 43)\n"
     ]
    }
   ],
   "source": [
    "# 훈련 데이터와 테스트 데이터 분리\n",
    "\n",
    "from sklearn.model_selection import train_test_split\n",
    "#X_train, X_test, y_train, y_test = train_test_split(range(ds.X.shape[0]), ds.y, test_size=0.25, random_state=101) \n",
    "\n",
    "\n",
    "#np.array(X_train).shape   예전처럼 하면 안된다\n",
    "\n",
    "idx_train, idx_test = train_test_split(range(ds.X.shape[0]), test_size=0.25, random_state =101)\n",
    "X_train = ds.X[idx_train, :, :, :]\n",
    "X_test = ds.X[idx_test, :, :, :]\n",
    "y_train = ds.y[idx_train, :]\n",
    "y_test = ds.y[idx_test,:]\n",
    "\n",
    "print(X_train.shape)\n",
    "print(X_test.shape)\n",
    "print(y_train.shape)\n",
    "print(y_test.shape)\n",
    "\n"
   ]
  },
  {
   "cell_type": "markdown",
   "metadata": {},
   "source": [
    "#### 훈련(학습)과 예측"
   ]
  },
  {
   "cell_type": "code",
   "execution_count": 24,
   "metadata": {},
   "outputs": [],
   "source": [
    "#### 미니배치 준비\n",
    "def minibatcher(X, y, batch_size, shuffle):\n",
    "    assert X.shape[0] == y.shape[0] # X 와 y의 갯수는 똑같아야 한다. \n",
    "    n_samples = X.shape[0] #전체 데이터의 갯수 29406개\n",
    "    \n",
    "    if shuffle :\n",
    "        idx = np.random.permutation(n_samples) \n",
    "    else:\n",
    "        idx = range(n_samples)\n",
    "    \n",
    "    for i in range(int(np.ceil(n_samples/batch_size))): # mnist의 next_batch함수와 같은 원리\n",
    "        from_idx = i * batch_size\n",
    "        to_idx = (i + 1) * batch_size\n",
    "        yield X[idx[from_idx : to_idx],:,:,:], y[idx[from_idx:to_idx],:]\n",
    "        #yield를 쓰는 이유 return을 쓰면 한번만 돌고 끝남 "
   ]
  },
  {
   "cell_type": "code",
   "execution_count": 27,
   "metadata": {},
   "outputs": [
    {
     "name": "stdout",
     "output_type": "stream",
     "text": [
      "(10000, 32, 32, 1) (10000, 43)\n",
      "(10000, 32, 32, 1) (10000, 43)\n",
      "(9406, 32, 32, 1) (9406, 43)\n"
     ]
    }
   ],
   "source": [
    "#### 미니배치 함수 테스트\n",
    "for i in minibatcher(X_train, y_train,10000, True): # True 값은 섞을것인지 말것인지를 결정하는 인자\n",
    "    print(i[0].shape, i[1].shape)"
   ]
  },
  {
   "cell_type": "code",
   "execution_count": 28,
   "metadata": {},
   "outputs": [],
   "source": [
    "# 모듈화 \n",
    "def fc_no_activation_layer(in_tensors, n_units):\n",
    "    W = tf.get_variable(\"fc_W\", shape = [in_tensors.get_shape()[1], n_units], \n",
    "                        initializer=tf.contrib.layers.xavier_initializer())\n",
    "    b = tf.get_variable(\"fc_b\", shape = [n_units], initializer=tf.constant_initializer(0.0)) #0으로 초기화\n",
    "    return tf.matmul(in_tensors, W) + b"
   ]
  },
  {
   "cell_type": "code",
   "execution_count": 29,
   "metadata": {},
   "outputs": [],
   "source": [
    "# activation 모듈\n",
    "def fc_layer(in_tensors, n_units):\n",
    "    return tf.nn.leaky_relu(fc_no_activation_layer(in_tensors, n_units))"
   ]
  },
  {
   "cell_type": "code",
   "execution_count": 31,
   "metadata": {},
   "outputs": [],
   "source": [
    "# Convolution Layer 모듈화\n",
    "def conv_layer(in_tensors, kernel_size, n_units):\n",
    "    W = tf.get_variable(\"conv_W\", [kernel_size, kernel_size, in_tensors.get_shape()[3], n_units], \n",
    "                        initializer=tf.contrib.layers.xavier_initializer())\n",
    "    b = tf.get_variable(\"conv_b\", shape = [n_units], initializer=tf.constant_initializer(0.0))\n",
    "    return tf.nn.leaky_relu(tf.nn.conv2d(in_tensors, W, [1, 1, 1, 1], \"SAME\") + b) "
   ]
  },
  {
   "cell_type": "code",
   "execution_count": 32,
   "metadata": {},
   "outputs": [],
   "source": [
    "def maxpool_layer(in_tensors, sampling ):\n",
    "    return tf.nn.max_pool(in_tensors, [1, sampling, sampling, 1], \n",
    "                          [1, sampling, sampling, 1], \"SAME\")\n",
    "    "
   ]
  },
  {
   "cell_type": "code",
   "execution_count": 42,
   "metadata": {},
   "outputs": [],
   "source": [
    "def dropout(in_tensors, keep_proba, is_training):\n",
    "    return tf.cond(is_training, lambda:tf.nn.dropout(in_tensors, keep_proba),lambda:in_tensors)"
   ]
  },
  {
   "cell_type": "markdown",
   "metadata": {},
   "source": [
    "#### Model Specification\n",
    "\n",
    "+ 2차원 convolution 5 * 5 , 32 필터를 준비\n",
    "+ 2차원 convolution 5 * 5 , 64 필터를 준비\n",
    "+ 평면화 계층 (Flat layer)\n",
    "+ Full Connected Layer, 1024개의 이미지 (입출력갯수를 1024개)\n",
    "+ dropout 40% \n",
    "+ Softmax "
   ]
  },
  {
   "cell_type": "code",
   "execution_count": 43,
   "metadata": {},
   "outputs": [],
   "source": [
    "def model(in_tensors, is_training):\n",
    "    # First Layer : 5 * 5 2d convolution layer, 32 filters, 2x maxpool, 20% dropout\n",
    "    with tf.variable_scope(\"L1\"):\n",
    "        l1 = maxpool_layer(conv_layer(in_tensors, 5, 32),2)\n",
    "        l1_out = dropout(l1, 0.8, is_training)\n",
    "    \n",
    "    # Second Layer : 5 * 5 2d convolution layer, 64 filters, 2x maxpool, 20% dropout\n",
    "    with tf.variable_scope(\"L2\"):\n",
    "        l2 = maxpool_layer(conv_layer(in_tensors, 5, 64),2)\n",
    "        l2_out = dropout(l2, 0.8, is_training)\n",
    "    \n",
    "    # 평면화 작업(Flat Layer)\n",
    "    with tf.variable_scope(\"flatten\"):\n",
    "        l2_out_flat = tf.layers.flatten(l2_out)\n",
    "        \n",
    "    # Fully Connected Layer, 1024 neurons, 40% dropout\n",
    "    with tf.variable_scope(\"L3\"):\n",
    "        l3 = fc_layer(l2_out_flat, 1024)\n",
    "        l3_out= dropout(l3, 0.6, is_training)\n",
    "        \n",
    "    # output\n",
    "    with tf.variable_scope(\"out\"):\n",
    "        out_tensors = fc_no_activation_layer(l3_out, N_CLASSES) \n",
    "        # 여기 들어가는 units는 분류(전체 종류)의 갯수 43개\n",
    "    \n",
    "    return out_tensors"
   ]
  },
  {
   "cell_type": "code",
   "execution_count": 44,
   "metadata": {},
   "outputs": [],
   "source": [
    "from sklearn.metrics import classification_report, confusion_matrix"
   ]
  },
  {
   "cell_type": "code",
   "execution_count": 53,
   "metadata": {},
   "outputs": [],
   "source": [
    "def train_model(X_train, y_train, learning_rate, max_epochs, batch_size):\n",
    "    in_X_tensors_batch = tf.placeholder(tf.float32, \n",
    "                                        shape = (None, RESIZED_IMAGE[0], RESIZED_IMAGE[1], 1)) \n",
    "    # 훈련데이터를 가져오는 것이기 때문에 29406개 (데이터의 갯수를 생각할 필요없기 때문에 None으로 처리)\n",
    "    # 위에서 RESIZED_IMAGE를 (32, 32)로 선언했기 때문에 RESIZED_IMAGE를 사용가능\n",
    "    # 함수는 한번 선언하고 실행만 하는 것이 좋기때문에 변수로 처리하는 것이 좋다 \n",
    "    in_y_tensors_batch = tf.placeholder(tf.float32, shape = (None, N_CLASSES))\n",
    "    is_training = tf.placeholder(tf.bool)\n",
    "    \n",
    "    logit = model(in_X_tensors_batch, is_training) # 기본적인 선형함수 모델이 들어가게 된다.\n",
    "    cost = tf.reduce_mean(tf.nn.softmax_cross_entropy_with_logits_v2(logits=logit, labels=in_y_tensors_batch))\n",
    "    train = tf.train.AdamOptimizer(learning_rate=learning_rate).minimize(cost)\n",
    "    with tf.Session() as sess:\n",
    "        sess.run(tf.global_variables_initializer())\n",
    "        \n",
    "        for epoch in range(max_epochs):\n",
    "            print(\"Epoch=\", epoch)\n",
    "            tf_score = [] \n",
    "            \n",
    "            for mb in minibatcher(X_train, y_train, batch_size, shuffle=True):\n",
    "                _, c, = sess.run([train,cost], feed_dict={in_X_tensors_batch:mb[0], \n",
    "                                                          in_y_tensors_batch:mb[1],\n",
    "                                                          is_training : True})\n",
    "                tf_score.append(c)\n",
    "            print(\" train loss score=\", np.mean(tf_score))\n",
    "            \n",
    "        # 훈련이 끝난 후 테스트\n",
    "        print(\"TEST SET PERFORMANCE\")\n",
    "        out_y_pred = tf.nn.softmax(logit) # hypotsis\n",
    "        y_test_pred, test_cost = sess.run([out_y_pred, cost], \n",
    "                                          feed_dict={in_X_tensors_batch:X_test, \n",
    "                                                     in_y_tensors_batch:y_test,\n",
    "                                                     is_training : False}) # 테스트용이기 떄문에 dropout은 하면 안된다.\n",
    "        print(\" test_loss_score=\", test_cost)\n",
    "        y_test_pred_classified = np.argmax(y_test_pred, axis=1).astype(np.int32)\n",
    "        y_test_true_classified = np.argmax(y_test, axis=1).astype(np.int32)\n",
    "        print(classification_report(y_test_true_classified, y_test_pred_classified))\n",
    "    \n",
    "        cm = confusion_matrix(y_test_true_classified, y_test_pred_classified)\n",
    "    \n",
    "        plt.imshow(cm, interpolation='nearest', cmap=plt.cm.Blues)\n",
    "        plt.colorbar()\n",
    "        plt.tight_layout()\n",
    "        plt.show()\n",
    "    \n",
    "        # And the log2 version, to enphasize the misclassifications\n",
    "        plt.imshow(np.log2(cm + 1), interpolation='nearest', cmap=plt.get_cmap(\"tab20\"))\n",
    "        plt.colorbar()\n",
    "        plt.tight_layout()\n",
    "        plt.show()"
   ]
  },
  {
   "cell_type": "code",
   "execution_count": 54,
   "metadata": {
    "scrolled": true
   },
   "outputs": [
    {
     "name": "stdout",
     "output_type": "stream",
     "text": [
      "Epoch= 0\n",
      " train loss score= 16.312155\n",
      "Epoch= 1\n",
      " train loss score= 0.8810675\n",
      "Epoch= 2\n",
      " train loss score= 0.5806839\n",
      "Epoch= 3\n",
      " train loss score= 0.39136496\n",
      "Epoch= 4\n",
      " train loss score= 0.32913098\n",
      "Epoch= 5\n",
      " train loss score= 0.2598629\n",
      "Epoch= 6\n",
      " train loss score= 0.21548681\n",
      "Epoch= 7\n",
      " train loss score= 0.1842296\n",
      "Epoch= 8\n",
      " train loss score= 0.136755\n",
      "Epoch= 9\n",
      " train loss score= 0.17616442\n",
      "TEST SET PERFORMANCE\n",
      " test_loss_score= 0.17923826\n",
      "              precision    recall  f1-score   support\n",
      "\n",
      "           0       0.92      0.99      0.95        67\n",
      "           1       0.98      0.89      0.93       539\n",
      "           2       0.84      0.98      0.90       558\n",
      "           3       0.97      0.92      0.94       364\n",
      "           4       0.96      0.95      0.95       487\n",
      "           5       0.98      0.90      0.94       479\n",
      "           6       0.99      0.99      0.99       105\n",
      "           7       0.95      0.95      0.95       364\n",
      "           8       0.95      0.98      0.96       340\n",
      "           9       0.96      0.99      0.97       384\n",
      "          10       0.99      0.96      0.97       513\n",
      "          11       0.96      0.99      0.97       334\n",
      "          12       0.98      0.99      0.98       545\n",
      "          13       0.99      0.99      0.99       537\n",
      "          14       0.99      0.98      0.98       213\n",
      "          15       0.98      0.98      0.98       164\n",
      "          16       1.00      0.99      0.99        98\n",
      "          17       1.00      0.99      0.99       281\n",
      "          18       0.96      1.00      0.98       286\n",
      "          19       1.00      0.86      0.92        56\n",
      "          20       0.99      0.87      0.93        78\n",
      "          21       0.96      0.98      0.97        95\n",
      "          22       0.95      1.00      0.97        97\n",
      "          23       0.95      0.93      0.94       123\n",
      "          24       0.97      0.99      0.98        77\n",
      "          25       0.98      0.96      0.97       401\n",
      "          26       0.96      0.98      0.97       135\n",
      "          27       0.98      0.95      0.97        60\n",
      "          28       0.95      0.98      0.96       123\n",
      "          29       0.93      0.94      0.94        69\n",
      "          30       0.90      0.98      0.94       115\n",
      "          31       0.99      0.98      0.98       178\n",
      "          32       0.94      0.91      0.93        55\n",
      "          33       0.99      0.99      0.99       177\n",
      "          34       0.94      0.98      0.96       103\n",
      "          35       0.98      0.99      0.98       277\n",
      "          36       1.00      0.97      0.99        78\n",
      "          37       1.00      0.97      0.98        63\n",
      "          38       0.99      0.98      0.99       540\n",
      "          39       0.98      0.95      0.97        60\n",
      "          40       0.91      0.93      0.92        85\n",
      "          41       0.90      1.00      0.95        47\n",
      "          42       1.00      0.94      0.97        53\n",
      "\n",
      "    accuracy                           0.96      9803\n",
      "   macro avg       0.97      0.96      0.96      9803\n",
      "weighted avg       0.96      0.96      0.96      9803\n",
      "\n"
     ]
    },
    {
     "data": {
      "image/png": "[encoded data removed]",
      "text/plain": [
       "<Figure size 432x288 with 2 Axes>"
      ]
     },
     "metadata": {
      "needs_background": "light"
     },
     "output_type": "display_data"
    },
    {
     "data": {
      "image/png": "[encoded data removed]",
      "text/plain": [
       "<Figure size 432x288 with 2 Axes>"
      ]
     },
     "metadata": {
      "needs_background": "light"
     },
     "output_type": "display_data"
    }
   ],
   "source": [
    "tf.reset_default_graph()\n",
    "train_model(X_train, y_train, 0.001, 10, 256) #epoch 전체 데이터셋의 반복 횟수\n",
    "# F1 과 리콜이 크게 차이가 나지 않기 때문에 과대적합이나 과소적합이 보이지는 않음"
   ]
  },
  {
   "cell_type": "code",
   "execution_count": null,
   "metadata": {},
   "outputs": [],
   "source": [
    "\"\"\"\n",
    "1. 일부 CNN계층과 FC 계층을 추가/ 삭제를 통해서 성능이 어떻게 변하는지 확인\n",
    "2. drop의 비율을 변경해보면서 결과가 과소적합 또는 과대적합 되는지 확인\n",
    "3. 전체 epoch 횟수와 batch size도 변경해서 결과 확인 \n",
    "4. 실제 테스트 이미지를 통해서 사용할 수 있는 프로그램 작성\n",
    "\"\"\"\n"
   ]
  },
  {
   "cell_type": "code",
   "execution_count": null,
   "metadata": {},
   "outputs": [],
   "source": []
  },
  {
   "cell_type": "code",
   "execution_count": null,
   "metadata": {},
   "outputs": [],
   "source": []
  },
  {
   "cell_type": "code",
   "execution_count": null,
   "metadata": {},
   "outputs": [],
   "source": []
  },
  {
   "cell_type": "code",
   "execution_count": null,
   "metadata": {},
   "outputs": [],
   "source": []
  },
  {
   "cell_type": "code",
   "execution_count": null,
   "metadata": {},
   "outputs": [],
   "source": []
  },
  {
   "cell_type": "code",
   "execution_count": null,
   "metadata": {},
   "outputs": [],
   "source": []
  },
  {
   "cell_type": "code",
   "execution_count": null,
   "metadata": {},
   "outputs": [],
   "source": []
  },
  {
   "cell_type": "code",
   "execution_count": null,
   "metadata": {},
   "outputs": [],
   "source": []
  },
  {
   "cell_type": "code",
   "execution_count": null,
   "metadata": {},
   "outputs": [],
   "source": []
  },
  {
   "cell_type": "code",
   "execution_count": null,
   "metadata": {},
   "outputs": [],
   "source": []
  },
  {
   "cell_type": "code",
   "execution_count": null,
   "metadata": {},
   "outputs": [],
   "source": []
  },
  {
   "cell_type": "code",
   "execution_count": null,
   "metadata": {},
   "outputs": [],
   "source": []
  },
  {
   "cell_type": "code",
   "execution_count": null,
   "metadata": {},
   "outputs": [],
   "source": []
  }
 ],
 "metadata": {
  "kernelspec": {
   "display_name": "Python 3",
   "language": "python",
   "name": "python3"
  },
  "language_info": {
   "codemirror_mode": {
    "name": "ipython",
    "version": 3
   },
   "file_extension": ".py",
   "mimetype": "text/x-python",
   "name": "python",
   "nbconvert_exporter": "python",
   "pygments_lexer": "ipython3",
   "version": "3.8.3"
  }
 },
 "nbformat": 4,
 "nbformat_minor": 4
}
