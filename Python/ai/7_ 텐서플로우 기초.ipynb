{
 "cells": [
  {
   "cell_type": "code",
   "execution_count": null,
   "metadata": {},
   "outputs": [],
   "source": [
    "# 가상환경 준비 텐서플로우 1과 2를 자유롭게 쓰기 위해서 "
   ]
  },
  {
   "cell_type": "markdown",
   "metadata": {},
   "source": [
    "#### 참고\n",
    "\n",
    "+ http://www.tensorflow.org\n",
    "+ http://hunkim.github.io/ml/\n",
    "\n",
    "\n",
    "#### 가상 환경 준비\n",
    "\n",
    "+ conda create -n 가상환경이름 \n",
    "    - conda create -n tf1 python=3.7 anaconda\n",
    "    \n",
    "+ activate 가상환경이름 \n",
    "+ conda deactivate \n",
    "+ 삭제 : conda remove --name 가상환경이름 --all\n",
    "\n",
    "#### 설치 \n",
    "\n",
    "+ pip install tesorflow\n",
    "+ pip install tesorflow==1.15.0\n",
    "\n",
    "+ conda install tesorflow==1.15.0\n",
    "\n",
    "\n",
    "#### 특징\n",
    "\n",
    "+ 구글에서 만든 오픈소스 머신러닝 프레임워크\n",
    "+ 다양한 언어를 제공(java, c언어, 스파크,...)하며 파이썬이 가장 많이 사용됨\n",
    "+ 기본적으로 텐서(배열데이터)를 활용한 그래프 수치 연산을 하는 도구 \n",
    "\n",
    "\n",
    "#### 머신러닝 프레임워크 종류들\n",
    "\n",
    "+ Theano \n",
    "+ Pytorch\n",
    "+ Troch\n",
    "+ Caffe\n",
    "+ Keras\n",
    "+ ...\n",
    "\n",
    "#### 기본용어\n",
    "\n",
    "+ 그래프(graph) : 수학적인 의미에서 노드와 엣지로 구성된 기하 모형\n",
    "+ 노드(node) : 연산 및 데이터 정의 (처리 단위) \n",
    "+ 엣지(edge) : 노드를 연결하는 선  (데이터의 흐름)\n",
    "+ 텐서(tensor) : 다차원 데이터 배열 \n",
    "+ 세션(session) : 그래프를 실행시키기 위해서 필요한 객체"
   ]
  },
  {
   "cell_type": "code",
   "execution_count": 1,
   "metadata": {},
   "outputs": [
    {
     "name": "stdout",
     "output_type": "stream",
     "text": [
      "1.15.0\n"
     ]
    }
   ],
   "source": [
    "import tensorflow as tf\n",
    "\n",
    "print(tf.__version__)"
   ]
  },
  {
   "cell_type": "code",
   "execution_count": 2,
   "metadata": {},
   "outputs": [
    {
     "name": "stdout",
     "output_type": "stream",
     "text": [
      "3.7.9 (default, Aug 31 2020, 17:10:11) [MSC v.1916 64 bit (AMD64)]\n"
     ]
    }
   ],
   "source": [
    "import sys\n",
    "\n",
    "print(sys.version)"
   ]
  },
  {
   "cell_type": "markdown",
   "metadata": {},
   "source": [
    "### 1. 텐서\n",
    "\n",
    "0D텐서, 1D텐서, 2D텐서, 3D텐서, 고차원텐서"
   ]
  },
  {
   "cell_type": "code",
   "execution_count": 8,
   "metadata": {},
   "outputs": [
    {
     "data": {
      "text/plain": [
       "dtype('int32')"
      ]
     },
     "execution_count": 8,
     "metadata": {},
     "output_type": "execute_result"
    }
   ],
   "source": [
    "import numpy as np\n",
    "\n",
    "# 0D 텐서(스칼라)\n",
    "x = np.array(10)\n",
    "x\n",
    "x.ndim\n",
    "x.shape\n",
    "x.dtype"
   ]
  },
  {
   "cell_type": "code",
   "execution_count": 12,
   "metadata": {},
   "outputs": [
    {
     "data": {
      "text/plain": [
       "(1,)"
      ]
     },
     "execution_count": 12,
     "metadata": {},
     "output_type": "execute_result"
    }
   ],
   "source": [
    "# 1D 텐서 (벡터)\n",
    "x = np.array([10])\n",
    "x\n",
    "#x.ndim\n",
    "x.shape\n",
    "#x.dtype"
   ]
  },
  {
   "cell_type": "code",
   "execution_count": 14,
   "metadata": {},
   "outputs": [
    {
     "data": {
      "text/plain": [
       "(3, 4)"
      ]
     },
     "execution_count": 14,
     "metadata": {},
     "output_type": "execute_result"
    }
   ],
   "source": [
    "# 2D 텐서 (행렬)\n",
    "x = np.array([[1,2,3,4],[5,6,7,8],[9,10,11,12]])\n",
    "x\n",
    "#x.ndim\n",
    "x.shape\n",
    "#x.dtype"
   ]
  },
  {
   "cell_type": "code",
   "execution_count": null,
   "metadata": {},
   "outputs": [],
   "source": [
    "# 3D 텐서, 고차원 텐서\n",
    "# 딥러닝에서는 0D ~ 4d까지 주로사용\n",
    "(2, 3, 4, 5)  # 4차원 데이터 / 2,3 이미지의 크기(높이, 너비) /4 이미지의 색상 /5 이미지의 갯수\n",
    "# 동영상을 다룰때에는 5D 텐서까지 사용 (동영상은 프레임이 추가)\n",
    "\n",
    "# 자주 사용하는 속성\n",
    "    # 1. 축의 갯수 (rank) : ndim\n",
    "    # 2. 크기 : shape\n",
    "    # 3. 타입 : dtype"
   ]
  },
  {
   "cell_type": "markdown",
   "metadata": {},
   "source": [
    "### 2. 기본 구성 요소 \n",
    "\n",
    "+ placeholder()\n",
    "\n",
    "\n",
    "+ constant()\n",
    "    - tf.constant (value, dtype=None, shape=None, name='Const', verify_shape=False)\n",
    "\n",
    "\n",
    "+ Variable() -> 클래스로 만들어져 있으며 가장 핵심도구이다.\n",
    "    - tf.Variable(\n",
    "        initial_value=None, trainable=None, collections=None, validate_shape=True,\n",
    "        caching_device=None, name=None, variable_def=None, dtype=None,\n",
    "        expected_shape=None, import_scope=None, constraint=None, use_resource=None,\n",
    "        synchronization=tf.VariableSynchronization.AUTO,\n",
    "        aggregation=tf.VariableAggregation.NONE, shape=None)\n"
   ]
  },
  {
   "cell_type": "markdown",
   "metadata": {},
   "source": [
    "#### 1) constant\n",
    "\n",
    "+ 절대 변하지 않는 상수를 의미 \n",
    "+ 자체적으로 그래프를 가진다 \n",
    "+ 메서드"
   ]
  },
  {
   "cell_type": "code",
   "execution_count": 20,
   "metadata": {},
   "outputs": [
    {
     "name": "stdout",
     "output_type": "stream",
     "text": [
      "Tensor(\"Const_5:0\", shape=(), dtype=int32)\n",
      "Tensor(\"Const_6:0\", shape=(), dtype=int32)\n",
      "Tensor(\"Add_1:0\", shape=(), dtype=int32)\n"
     ]
    }
   ],
   "source": [
    "a = tf.constant(10)\n",
    "print(a)\n",
    "\n",
    "b = tf.constant(20)\n",
    "print(b)\n",
    "# a, b 변수는 현재 비어있는 상태 / 준비만 한 것 \n",
    "\n",
    "c = tf.add(a, b)\n",
    "print(c)"
   ]
  },
  {
   "cell_type": "code",
   "execution_count": 21,
   "metadata": {},
   "outputs": [
    {
     "name": "stdout",
     "output_type": "stream",
     "text": [
      "10\n",
      "20\n",
      "30\n"
     ]
    }
   ],
   "source": [
    "sess = tf.Session()  # Session : 작업을 하기 위한 공간 \n",
    "print(sess.run(a)) # a 라는 것을 실제로 실행하겠다 ./ 10이라는 값이 이제 넘어간다.\n",
    "print(sess.run(b))\n",
    "# a라는 노드와 b라는 노드가 만들어짐 / sess라는 공간이 만들어져야 작업을 실행 \n",
    "print(sess.run(c))\n",
    "# a 와 b는 굳이 실행할 필요는 없이 c 만 실행해도 된다. "
   ]
  },
  {
   "cell_type": "code",
   "execution_count": null,
   "metadata": {},
   "outputs": [],
   "source": [
    "# 결과 값이 : 5 * 4 * 3 * 2 * 1"
   ]
  },
  {
   "cell_type": "code",
   "execution_count": 23,
   "metadata": {},
   "outputs": [
    {
     "data": {
      "text/plain": [
       "<tensorflow.python.summary.writer.writer.FileWriter at 0x1d49820c7c8>"
      ]
     },
     "execution_count": 23,
     "metadata": {},
     "output_type": "execute_result"
    }
   ],
   "source": [
    "#TensorBoard\n",
    "tf.summary.FileWriter(\"log_dir\", graph=sess.graph)\n",
    "\n",
    "# 도스창에서 tensorboard --logdir=log_dir\n",
    "\n",
    "# 주소복사해서 Desktop-..... 를 localhost로 변경\n",
    "# OpNode 연산자\n",
    "#"
   ]
  },
  {
   "cell_type": "code",
   "execution_count": 29,
   "metadata": {},
   "outputs": [],
   "source": [
    "sess.close()"
   ]
  },
  {
   "cell_type": "code",
   "execution_count": 3,
   "metadata": {},
   "outputs": [],
   "source": [
    "# (5 + 2) * 3\n",
    "a = tf.constant([5])\n",
    "b = tf.constant([2])\n",
    "c = tf.add(a, b)\n",
    "d = tf.constant([3])\n",
    "e = tf.multiply(c, d)"
   ]
  },
  {
   "cell_type": "code",
   "execution_count": 4,
   "metadata": {},
   "outputs": [
    {
     "data": {
      "text/plain": [
       "array([21])"
      ]
     },
     "execution_count": 4,
     "metadata": {},
     "output_type": "execute_result"
    }
   ],
   "source": [
    "sess = tf.Session()\n",
    "sess.run(e)"
   ]
  },
  {
   "cell_type": "code",
   "execution_count": 5,
   "metadata": {},
   "outputs": [
    {
     "data": {
      "text/plain": [
       "<tensorflow.python.summary.writer.writer.FileWriter at 0x241609d7088>"
      ]
     },
     "execution_count": 5,
     "metadata": {},
     "output_type": "execute_result"
    }
   ],
   "source": [
    "tf.summary.FileWriter(\"log_dir\", graph=sess.graph)"
   ]
  },
  {
   "cell_type": "code",
   "execution_count": 7,
   "metadata": {},
   "outputs": [],
   "source": [
    "sess.close()"
   ]
  },
  {
   "cell_type": "markdown",
   "metadata": {},
   "source": [
    "#### 2) Variable()\n",
    "\n",
    "+ 객체로 정의되어 있다.\n",
    "+ weight(가중치)를 저장하는 변수로 사용 \n",
    "+ 사용전에 반드시 초기화를 해야한다 (global_variables_initializer() 호출) 안하면 에러"
   ]
  },
  {
   "cell_type": "code",
   "execution_count": 6,
   "metadata": {},
   "outputs": [
    {
     "name": "stdout",
     "output_type": "stream",
     "text": [
      "Tensor(\"add_2:0\", shape=(1,), dtype=int32)\n"
     ]
    }
   ],
   "source": [
    "v1 = tf.Variable(initial_value=[5]) #initial_value 은 생략 가능 \n",
    "v2 = tf.Variable([3])\n",
    "v3 = tf.Variable([2])\n",
    "\n",
    "v4 = v1 + v2 + v3 #add를 써도 됨\n",
    "print(v4)"
   ]
  },
  {
   "cell_type": "code",
   "execution_count": 10,
   "metadata": {},
   "outputs": [
    {
     "data": {
      "text/plain": [
       "array([10])"
      ]
     },
     "execution_count": 10,
     "metadata": {},
     "output_type": "execute_result"
    }
   ],
   "source": [
    "sess = tf.Session()\n",
    "sess.run(tf.global_variables_initializer())  # 초기화를 해야한다.\n",
    "sess.run(v4)"
   ]
  },
  {
   "cell_type": "code",
   "execution_count": 11,
   "metadata": {},
   "outputs": [
    {
     "data": {
      "text/plain": [
       "<tensorflow.python.summary.writer.writer.FileWriter at 0x2416c2891c8>"
      ]
     },
     "execution_count": 11,
     "metadata": {},
     "output_type": "execute_result"
    }
   ],
   "source": [
    "tf.summary.FileWriter(\"log_dir\", graph=sess.graph)"
   ]
  },
  {
   "cell_type": "code",
   "execution_count": 12,
   "metadata": {},
   "outputs": [],
   "source": [
    "sess.close()"
   ]
  },
  {
   "cell_type": "markdown",
   "metadata": {},
   "source": [
    "#### 3) placeholder\n",
    "\n",
    "+ 그래프를 따로 만들지 않음 (값을 보관하는 것이 아니라 자리만 잡아주는 것)\n",
    "+ 입력된 데이터를 텐서와 매핑하는 역할"
   ]
  },
  {
   "cell_type": "code",
   "execution_count": 14,
   "metadata": {},
   "outputs": [],
   "source": [
    "\n",
    "p1 = tf.placeholder(dtype = tf.float32) #값의 형식만 정해놓고 나중에 값만 받아오는\n",
    "p2 = tf.placeholder(dtype = tf.float32)\n",
    "p3 = tf.placeholder(dtype = tf.float32)\n",
    "\n",
    "result = p1 + p2 + p3 \n"
   ]
  },
  {
   "cell_type": "code",
   "execution_count": 16,
   "metadata": {},
   "outputs": [
    {
     "data": {
      "text/plain": [
       "10.0"
      ]
     },
     "execution_count": 16,
     "metadata": {},
     "output_type": "execute_result"
    }
   ],
   "source": [
    "v1 = 5\n",
    "v2 = 3\n",
    "v3 = 2\n",
    "\n",
    "sess = tf.Session()\n",
    "sess.run(result, feed_dict={p1:v1, p2:v2, p3:v3})"
   ]
  },
  {
   "cell_type": "code",
   "execution_count": 31,
   "metadata": {},
   "outputs": [],
   "source": [
    "# 구구단 프로그램 \n",
    "def gugu(dan):\n",
    "    left = tf.placeholder(tf.int32)\n",
    "    right = tf.placeholder(tf.int32)\n",
    "    calc = tf.multiply(left, right)\n",
    "    sess = tf.Session()\n",
    "    for i in range(1, 10):\n",
    "        result = sess.run(calc, feed_dict={left:dan, right:i})\n",
    "        print(\"{} X {} = {}\".format(dan, i, result))\n",
    "    sess.close()"
   ]
  },
  {
   "cell_type": "code",
   "execution_count": 33,
   "metadata": {},
   "outputs": [
    {
     "name": "stdout",
     "output_type": "stream",
     "text": [
      "9 X 1 = 9\n",
      "9 X 2 = 18\n",
      "9 X 3 = 27\n",
      "9 X 4 = 36\n",
      "9 X 5 = 45\n",
      "9 X 6 = 54\n",
      "9 X 7 = 63\n",
      "9 X 8 = 72\n",
      "9 X 9 = 81\n"
     ]
    }
   ],
   "source": []
  },
  {
   "cell_type": "code",
   "execution_count": null,
   "metadata": {},
   "outputs": [],
   "source": []
  },
  {
   "cell_type": "code",
   "execution_count": null,
   "metadata": {},
   "outputs": [],
   "source": []
  },
  {
   "cell_type": "code",
   "execution_count": null,
   "metadata": {},
   "outputs": [],
   "source": []
  },
  {
   "cell_type": "code",
   "execution_count": null,
   "metadata": {},
   "outputs": [],
   "source": []
  },
  {
   "cell_type": "code",
   "execution_count": null,
   "metadata": {},
   "outputs": [],
   "source": []
  },
  {
   "cell_type": "code",
   "execution_count": null,
   "metadata": {},
   "outputs": [],
   "source": []
  },
  {
   "cell_type": "code",
   "execution_count": null,
   "metadata": {},
   "outputs": [],
   "source": []
  },
  {
   "cell_type": "code",
   "execution_count": null,
   "metadata": {},
   "outputs": [],
   "source": []
  },
  {
   "cell_type": "code",
   "execution_count": null,
   "metadata": {},
   "outputs": [],
   "source": []
  },
  {
   "cell_type": "code",
   "execution_count": null,
   "metadata": {},
   "outputs": [],
   "source": []
  },
  {
   "cell_type": "code",
   "execution_count": null,
   "metadata": {},
   "outputs": [],
   "source": []
  },
  {
   "cell_type": "code",
   "execution_count": null,
   "metadata": {},
   "outputs": [],
   "source": []
  },
  {
   "cell_type": "code",
   "execution_count": null,
   "metadata": {},
   "outputs": [],
   "source": []
  },
  {
   "cell_type": "code",
   "execution_count": null,
   "metadata": {},
   "outputs": [],
   "source": []
  },
  {
   "cell_type": "code",
   "execution_count": null,
   "metadata": {},
   "outputs": [],
   "source": []
  },
  {
   "cell_type": "code",
   "execution_count": null,
   "metadata": {},
   "outputs": [],
   "source": []
  },
  {
   "cell_type": "code",
   "execution_count": null,
   "metadata": {},
   "outputs": [],
   "source": []
  }
 ],
 "metadata": {
  "kernelspec": {
   "display_name": "Python 3",
   "language": "python",
   "name": "python3"
  },
  "language_info": {
   "codemirror_mode": {
    "name": "ipython",
    "version": 3
   },
   "file_extension": ".py",
   "mimetype": "text/x-python",
   "name": "python",
   "nbconvert_exporter": "python",
   "pygments_lexer": "ipython3",
   "version": "3.8.3"
  }
 },
 "nbformat": 4,
 "nbformat_minor": 4
}
